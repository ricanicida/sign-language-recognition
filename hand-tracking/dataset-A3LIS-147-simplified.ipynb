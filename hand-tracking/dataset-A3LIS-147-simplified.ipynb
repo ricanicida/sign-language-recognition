{
 "cells": [
  {
   "cell_type": "code",
   "execution_count": 1,
   "metadata": {},
   "outputs": [],
   "source": [
    "import cv2\n",
    "from pathlib import Path\n",
    "\n",
    "import handtracker3"
   ]
  },
  {
   "cell_type": "code",
   "execution_count": 2,
   "metadata": {},
   "outputs": [],
   "source": [
    "LABELS = ['abbonamento', 'abitare', 'acqua', 'affitto', 'allegare',\n",
    "          'allergia', 'ambulanza', 'amministrazione', 'ancona', 'andata']\n",
    "\n",
    "source_folder_path = Path('D:/Documentos/Polito/Thesis/Datasets/A3LIS-147_italian/trimmed-10/train/')\n",
    "file_name = 'fal_abbonamento (online-video-cutter.com).mp4'\n",
    "\n",
    "output_video_path = Path('D:/Documentos/Polito/Thesis/Datasets/A3LIS-147_italian/trimmed-10/simplified-representation')\n",
    "\n",
    "for label in LABELS:\n",
    "    (output_video_path / label).mkdir(parents=True, exist_ok=True)"
   ]
  },
  {
   "cell_type": "code",
   "execution_count": 6,
   "metadata": {},
   "outputs": [
    {
     "name": "stdout",
     "output_type": "stream",
     "text": [
      "D:\\Documentos\\Polito\\Thesis\\Datasets\\A3LIS-147_italian\\trimmed-10\\train\\fal_abbonamento (online-video-cutter.com).mp4\n",
      "D:\\Documentos\\Polito\\Thesis\\Datasets\\A3LIS-147_italian\\trimmed-10\\simplified-representation\\abbonamento\\video_1_.avi\n"
     ]
    }
   ],
   "source": [
    "initial = 0\n",
    "videos = list(source_folder_path.glob('*.mp4'))\n",
    "end = len(videos)\n",
    "\n",
    "for i in range(initial, 1):\n",
    "    print(videos[i])\n",
    "    video_name = videos[i].name.split(' ')[0]\n",
    "    label = video_name.split('_')[1]\n",
    "    tracker = handtracker3.HandTracker3(max_frames=40, frame_step=1)\n",
    "    cap = cv2.VideoCapture(str(videos[i]))\n",
    "    success = True\n",
    "\n",
    "    while success:\n",
    "        success, image = cap.read()\n",
    "        if success:\n",
    "            tracker.tracking(image, subpixel_layout='BGR')\n",
    "            tracker.make_video(label=label, folder_path=output_video_path)\n",
    "        \n",
    "    tracker.make_video(label=label, video_name=video_name, folder_path=output_video_path)"
   ]
  },
  {
   "cell_type": "code",
   "execution_count": null,
   "metadata": {},
   "outputs": [],
   "source": []
  }
 ],
 "metadata": {
  "kernelspec": {
   "display_name": "thesis-venv",
   "language": "python",
   "name": "python3"
  },
  "language_info": {
   "codemirror_mode": {
    "name": "ipython",
    "version": 3
   },
   "file_extension": ".py",
   "mimetype": "text/x-python",
   "name": "python",
   "nbconvert_exporter": "python",
   "pygments_lexer": "ipython3",
   "version": "3.10.7"
  }
 },
 "nbformat": 4,
 "nbformat_minor": 2
}
