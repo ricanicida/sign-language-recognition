{
 "cells": [
  {
   "cell_type": "code",
   "execution_count": 2,
   "metadata": {},
   "outputs": [],
   "source": [
    "import handtracker2\n",
    "import cv2\n",
    "import mediapipe as mp\n",
    "from pathlib import Path\n",
    "import pandas as pd\n",
    "import numpy as np\n",
    "import tsfresh as tsf"
   ]
  },
  {
   "cell_type": "code",
   "execution_count": 1,
   "metadata": {},
   "outputs": [
    {
     "name": "stdout",
     "output_type": "stream",
     "text": [
      "The scikit-learn version is 1.3.2.\n"
     ]
    }
   ],
   "source": [
    "import sklearn\n",
    "\n",
    "print('The scikit-learn version is {}.'.format(sklearn.__version__))"
   ]
  },
  {
   "cell_type": "code",
   "execution_count": 3,
   "metadata": {},
   "outputs": [],
   "source": [
    "LABELS = ['abbonamento', 'abitare', 'acqua', 'affitto', 'allegare',\n",
    "          'allergia', 'ambulanza', 'amministrazione', 'ancona', 'andata']"
   ]
  },
  {
   "cell_type": "code",
   "execution_count": 2,
   "metadata": {},
   "outputs": [],
   "source": [
    "video = \"D:/Documentos/Polito/Thesis/Datasets/A3LIS-147_italian/trimmed-10/test/fal_allegare (online-video-cutter.com).mp4\""
   ]
  },
  {
   "cell_type": "code",
   "execution_count": 4,
   "metadata": {},
   "outputs": [],
   "source": [
    "def extract_features(video, id, LABELS):\n",
    "    video_name = video.name\n",
    "    print(video_name)\n",
    "    cap = cv2.VideoCapture(str(video))\n",
    "    tracker = handtracker2.HandTracker2(max_frames=75)\n",
    "\n",
    "    success = True\n",
    "\n",
    "    while success:\n",
    "\n",
    "        success,image = cap.read()\n",
    "\n",
    "        if success:\n",
    "            tracker.tracking(image)\n",
    "\n",
    "        else:\n",
    "            cap.release()\n",
    "            break\n",
    "\n",
    "    coordinates = tracker.return_time_series(last_time_series_flag=True)\n",
    "\n",
    "    l = len(coordinates['0x'])\n",
    "    \n",
    "    coordinates['id'] = l*[id]\n",
    "\n",
    "    df_coordinates = pd.DataFrame(coordinates)\n",
    "\n",
    "    label = video_name.split(' ')[0].split('_')[-1]\n",
    "\n",
    "    df_label = pd.DataFrame({'id': [id], 'y': [LABELS.index(label)]})\n",
    "    \n",
    "\n",
    "\n",
    "    return df_coordinates, df_label\n"
   ]
  },
  {
   "cell_type": "code",
   "execution_count": 50,
   "metadata": {},
   "outputs": [
    {
     "name": "stdout",
     "output_type": "stream",
     "text": [
      "fal_allegare (online-video-cutter.com).mp4\n"
     ]
    },
    {
     "name": "stderr",
     "output_type": "stream",
     "text": [
      "d:\\Documentos\\Polito\\Thesis\\Code\\sign-language-recognition\\hand-tracking\\handtracker2.py:116: VisibleDeprecationWarning: Creating an ndarray from ragged nested sequences (which is a list-or-tuple of lists-or-tuples-or ndarrays with different lengths or shapes) is deprecated. If you meant to do this, you must specify 'dtype=object' when creating the ndarray.\n",
      "  buffer = np.array(self.left_hand_coordinates)\n"
     ]
    }
   ],
   "source": [
    "df_coordinates, df_label = extract_features(Path(video), 0, LABELS)"
   ]
  },
  {
   "cell_type": "code",
   "execution_count": 43,
   "metadata": {},
   "outputs": [
    {
     "data": {
      "text/html": [
       "<div>\n",
       "<style scoped>\n",
       "    .dataframe tbody tr th:only-of-type {\n",
       "        vertical-align: middle;\n",
       "    }\n",
       "\n",
       "    .dataframe tbody tr th {\n",
       "        vertical-align: top;\n",
       "    }\n",
       "\n",
       "    .dataframe thead th {\n",
       "        text-align: right;\n",
       "    }\n",
       "</style>\n",
       "<table border=\"1\" class=\"dataframe\">\n",
       "  <thead>\n",
       "    <tr style=\"text-align: right;\">\n",
       "      <th></th>\n",
       "      <th>0x</th>\n",
       "      <th>0y</th>\n",
       "      <th>1x</th>\n",
       "      <th>1y</th>\n",
       "      <th>2x</th>\n",
       "      <th>2y</th>\n",
       "      <th>3x</th>\n",
       "      <th>3y</th>\n",
       "      <th>4x</th>\n",
       "      <th>4y</th>\n",
       "      <th>...</th>\n",
       "      <th>16y</th>\n",
       "      <th>17x</th>\n",
       "      <th>17y</th>\n",
       "      <th>18x</th>\n",
       "      <th>18y</th>\n",
       "      <th>19x</th>\n",
       "      <th>19y</th>\n",
       "      <th>20x</th>\n",
       "      <th>20y</th>\n",
       "      <th>id</th>\n",
       "    </tr>\n",
       "  </thead>\n",
       "  <tbody>\n",
       "    <tr>\n",
       "      <th>0</th>\n",
       "      <td>0</td>\n",
       "      <td>0</td>\n",
       "      <td>0</td>\n",
       "      <td>0</td>\n",
       "      <td>0</td>\n",
       "      <td>0</td>\n",
       "      <td>0</td>\n",
       "      <td>0</td>\n",
       "      <td>0</td>\n",
       "      <td>0</td>\n",
       "      <td>...</td>\n",
       "      <td>0</td>\n",
       "      <td>0</td>\n",
       "      <td>0</td>\n",
       "      <td>0</td>\n",
       "      <td>0</td>\n",
       "      <td>0</td>\n",
       "      <td>0</td>\n",
       "      <td>0</td>\n",
       "      <td>0</td>\n",
       "      <td>0</td>\n",
       "    </tr>\n",
       "    <tr>\n",
       "      <th>1</th>\n",
       "      <td>15</td>\n",
       "      <td>-34</td>\n",
       "      <td>9</td>\n",
       "      <td>-27</td>\n",
       "      <td>7</td>\n",
       "      <td>-16</td>\n",
       "      <td>2</td>\n",
       "      <td>-5</td>\n",
       "      <td>-4</td>\n",
       "      <td>0</td>\n",
       "      <td>...</td>\n",
       "      <td>0</td>\n",
       "      <td>3</td>\n",
       "      <td>-14</td>\n",
       "      <td>0</td>\n",
       "      <td>-13</td>\n",
       "      <td>2</td>\n",
       "      <td>-9</td>\n",
       "      <td>5</td>\n",
       "      <td>-4</td>\n",
       "      <td>0</td>\n",
       "    </tr>\n",
       "    <tr>\n",
       "      <th>2</th>\n",
       "      <td>0</td>\n",
       "      <td>-26</td>\n",
       "      <td>-5</td>\n",
       "      <td>-15</td>\n",
       "      <td>-8</td>\n",
       "      <td>-5</td>\n",
       "      <td>-12</td>\n",
       "      <td>5</td>\n",
       "      <td>-19</td>\n",
       "      <td>11</td>\n",
       "      <td>...</td>\n",
       "      <td>-1</td>\n",
       "      <td>6</td>\n",
       "      <td>-12</td>\n",
       "      <td>3</td>\n",
       "      <td>-11</td>\n",
       "      <td>3</td>\n",
       "      <td>-8</td>\n",
       "      <td>5</td>\n",
       "      <td>-3</td>\n",
       "      <td>0</td>\n",
       "    </tr>\n",
       "    <tr>\n",
       "      <th>3</th>\n",
       "      <td>10</td>\n",
       "      <td>-28</td>\n",
       "      <td>8</td>\n",
       "      <td>-19</td>\n",
       "      <td>6</td>\n",
       "      <td>-12</td>\n",
       "      <td>3</td>\n",
       "      <td>-6</td>\n",
       "      <td>-2</td>\n",
       "      <td>-1</td>\n",
       "      <td>...</td>\n",
       "      <td>-2</td>\n",
       "      <td>9</td>\n",
       "      <td>-16</td>\n",
       "      <td>7</td>\n",
       "      <td>-13</td>\n",
       "      <td>6</td>\n",
       "      <td>-10</td>\n",
       "      <td>8</td>\n",
       "      <td>-5</td>\n",
       "      <td>0</td>\n",
       "    </tr>\n",
       "    <tr>\n",
       "      <th>4</th>\n",
       "      <td>21</td>\n",
       "      <td>-28</td>\n",
       "      <td>14</td>\n",
       "      <td>-21</td>\n",
       "      <td>9</td>\n",
       "      <td>-12</td>\n",
       "      <td>4</td>\n",
       "      <td>-4</td>\n",
       "      <td>-3</td>\n",
       "      <td>1</td>\n",
       "      <td>...</td>\n",
       "      <td>-4</td>\n",
       "      <td>0</td>\n",
       "      <td>-15</td>\n",
       "      <td>-1</td>\n",
       "      <td>-14</td>\n",
       "      <td>0</td>\n",
       "      <td>-11</td>\n",
       "      <td>2</td>\n",
       "      <td>-7</td>\n",
       "      <td>0</td>\n",
       "    </tr>\n",
       "  </tbody>\n",
       "</table>\n",
       "<p>5 rows × 43 columns</p>\n",
       "</div>"
      ],
      "text/plain": [
       "   0x  0y  1x  1y  2x  2y  3x  3y  4x  4y  ...  16y  17x  17y  18x  18y  19x  \\\n",
       "0   0   0   0   0   0   0   0   0   0   0  ...    0    0    0    0    0    0   \n",
       "1  15 -34   9 -27   7 -16   2  -5  -4   0  ...    0    3  -14    0  -13    2   \n",
       "2   0 -26  -5 -15  -8  -5 -12   5 -19  11  ...   -1    6  -12    3  -11    3   \n",
       "3  10 -28   8 -19   6 -12   3  -6  -2  -1  ...   -2    9  -16    7  -13    6   \n",
       "4  21 -28  14 -21   9 -12   4  -4  -3   1  ...   -4    0  -15   -1  -14    0   \n",
       "\n",
       "   19y  20x  20y  id  \n",
       "0    0    0    0   0  \n",
       "1   -9    5   -4   0  \n",
       "2   -8    5   -3   0  \n",
       "3  -10    8   -5   0  \n",
       "4  -11    2   -7   0  \n",
       "\n",
       "[5 rows x 43 columns]"
      ]
     },
     "execution_count": 43,
     "metadata": {},
     "output_type": "execute_result"
    }
   ],
   "source": [
    "df_coordinates.head()"
   ]
  },
  {
   "cell_type": "code",
   "execution_count": 44,
   "metadata": {},
   "outputs": [
    {
     "data": {
      "text/html": [
       "<div>\n",
       "<style scoped>\n",
       "    .dataframe tbody tr th:only-of-type {\n",
       "        vertical-align: middle;\n",
       "    }\n",
       "\n",
       "    .dataframe tbody tr th {\n",
       "        vertical-align: top;\n",
       "    }\n",
       "\n",
       "    .dataframe thead th {\n",
       "        text-align: right;\n",
       "    }\n",
       "</style>\n",
       "<table border=\"1\" class=\"dataframe\">\n",
       "  <thead>\n",
       "    <tr style=\"text-align: right;\">\n",
       "      <th></th>\n",
       "      <th>id</th>\n",
       "      <th>y</th>\n",
       "    </tr>\n",
       "  </thead>\n",
       "  <tbody>\n",
       "    <tr>\n",
       "      <th>0</th>\n",
       "      <td>0</td>\n",
       "      <td>4</td>\n",
       "    </tr>\n",
       "  </tbody>\n",
       "</table>\n",
       "</div>"
      ],
      "text/plain": [
       "   id  y\n",
       "0   0  4"
      ]
     },
     "execution_count": 44,
     "metadata": {},
     "output_type": "execute_result"
    }
   ],
   "source": [
    "df_label"
   ]
  },
  {
   "cell_type": "code",
   "execution_count": 10,
   "metadata": {},
   "outputs": [],
   "source": [
    "video_folder_path = Path(\"D:/Documentos/Polito/Thesis/Datasets/A3LIS-147_italian/trimmed-10/train/\")"
   ]
  },
  {
   "cell_type": "code",
   "execution_count": 11,
   "metadata": {},
   "outputs": [],
   "source": [
    "df = pd.DataFrame()\n",
    "df_y = pd.DataFrame()"
   ]
  },
  {
   "cell_type": "code",
   "execution_count": 12,
   "metadata": {},
   "outputs": [
    {
     "name": "stdout",
     "output_type": "stream",
     "text": [
      "fal_abbonamento (online-video-cutter.com).mp4\n"
     ]
    },
    {
     "name": "stderr",
     "output_type": "stream",
     "text": [
      "d:\\Documentos\\Polito\\Thesis\\Code\\sign-language-recognition\\hand-tracking\\handtracker2.py:116: VisibleDeprecationWarning: Creating an ndarray from ragged nested sequences (which is a list-or-tuple of lists-or-tuples-or ndarrays with different lengths or shapes) is deprecated. If you meant to do this, you must specify 'dtype=object' when creating the ndarray.\n",
      "  buffer = np.array(self.left_hand_coordinates)\n"
     ]
    },
    {
     "name": "stdout",
     "output_type": "stream",
     "text": [
      "fal_abitare (online-video-cutter.com).mp4\n",
      "fal_acqua (online-video-cutter.com).mp4\n",
      "fal_affitto (online-video-cutter.com).mp4\n"
     ]
    },
    {
     "name": "stderr",
     "output_type": "stream",
     "text": [
      "d:\\Documentos\\Polito\\Thesis\\Code\\sign-language-recognition\\hand-tracking\\handtracker2.py:116: VisibleDeprecationWarning: Creating an ndarray from ragged nested sequences (which is a list-or-tuple of lists-or-tuples-or ndarrays with different lengths or shapes) is deprecated. If you meant to do this, you must specify 'dtype=object' when creating the ndarray.\n",
      "  buffer = np.array(self.left_hand_coordinates)\n"
     ]
    },
    {
     "name": "stdout",
     "output_type": "stream",
     "text": [
      "fal_allergia (online-video-cutter.com).mp4\n"
     ]
    },
    {
     "name": "stderr",
     "output_type": "stream",
     "text": [
      "d:\\Documentos\\Polito\\Thesis\\Code\\sign-language-recognition\\hand-tracking\\handtracker2.py:116: VisibleDeprecationWarning: Creating an ndarray from ragged nested sequences (which is a list-or-tuple of lists-or-tuples-or ndarrays with different lengths or shapes) is deprecated. If you meant to do this, you must specify 'dtype=object' when creating the ndarray.\n",
      "  buffer = np.array(self.left_hand_coordinates)\n"
     ]
    },
    {
     "name": "stdout",
     "output_type": "stream",
     "text": [
      "fal_ambulanza (online-video-cutter.com).mp4\n"
     ]
    },
    {
     "name": "stderr",
     "output_type": "stream",
     "text": [
      "d:\\Documentos\\Polito\\Thesis\\Code\\sign-language-recognition\\hand-tracking\\handtracker2.py:116: VisibleDeprecationWarning: Creating an ndarray from ragged nested sequences (which is a list-or-tuple of lists-or-tuples-or ndarrays with different lengths or shapes) is deprecated. If you meant to do this, you must specify 'dtype=object' when creating the ndarray.\n",
      "  buffer = np.array(self.left_hand_coordinates)\n"
     ]
    },
    {
     "name": "stdout",
     "output_type": "stream",
     "text": [
      "fal_amministrazione (online-video-cutter.com).mp4\n"
     ]
    },
    {
     "name": "stderr",
     "output_type": "stream",
     "text": [
      "d:\\Documentos\\Polito\\Thesis\\Code\\sign-language-recognition\\hand-tracking\\handtracker2.py:116: VisibleDeprecationWarning: Creating an ndarray from ragged nested sequences (which is a list-or-tuple of lists-or-tuples-or ndarrays with different lengths or shapes) is deprecated. If you meant to do this, you must specify 'dtype=object' when creating the ndarray.\n",
      "  buffer = np.array(self.left_hand_coordinates)\n"
     ]
    },
    {
     "name": "stdout",
     "output_type": "stream",
     "text": [
      "fal_ancona (online-video-cutter.com).mp4\n"
     ]
    },
    {
     "name": "stderr",
     "output_type": "stream",
     "text": [
      "d:\\Documentos\\Polito\\Thesis\\Code\\sign-language-recognition\\hand-tracking\\handtracker2.py:116: VisibleDeprecationWarning: Creating an ndarray from ragged nested sequences (which is a list-or-tuple of lists-or-tuples-or ndarrays with different lengths or shapes) is deprecated. If you meant to do this, you must specify 'dtype=object' when creating the ndarray.\n",
      "  buffer = np.array(self.left_hand_coordinates)\n"
     ]
    },
    {
     "name": "stdout",
     "output_type": "stream",
     "text": [
      "fef_abitare (online-video-cutter.com).mp4\n"
     ]
    },
    {
     "name": "stderr",
     "output_type": "stream",
     "text": [
      "d:\\Documentos\\Polito\\Thesis\\Code\\sign-language-recognition\\hand-tracking\\handtracker2.py:116: VisibleDeprecationWarning: Creating an ndarray from ragged nested sequences (which is a list-or-tuple of lists-or-tuples-or ndarrays with different lengths or shapes) is deprecated. If you meant to do this, you must specify 'dtype=object' when creating the ndarray.\n",
      "  buffer = np.array(self.left_hand_coordinates)\n"
     ]
    },
    {
     "name": "stdout",
     "output_type": "stream",
     "text": [
      "fef_acqua (online-video-cutter.com).mp4\n"
     ]
    },
    {
     "name": "stderr",
     "output_type": "stream",
     "text": [
      "d:\\Documentos\\Polito\\Thesis\\Code\\sign-language-recognition\\hand-tracking\\handtracker2.py:116: VisibleDeprecationWarning: Creating an ndarray from ragged nested sequences (which is a list-or-tuple of lists-or-tuples-or ndarrays with different lengths or shapes) is deprecated. If you meant to do this, you must specify 'dtype=object' when creating the ndarray.\n",
      "  buffer = np.array(self.left_hand_coordinates)\n"
     ]
    },
    {
     "name": "stdout",
     "output_type": "stream",
     "text": [
      "fef_affitto (online-video-cutter.com).mp4\n"
     ]
    },
    {
     "name": "stderr",
     "output_type": "stream",
     "text": [
      "d:\\Documentos\\Polito\\Thesis\\Code\\sign-language-recognition\\hand-tracking\\handtracker2.py:116: VisibleDeprecationWarning: Creating an ndarray from ragged nested sequences (which is a list-or-tuple of lists-or-tuples-or ndarrays with different lengths or shapes) is deprecated. If you meant to do this, you must specify 'dtype=object' when creating the ndarray.\n",
      "  buffer = np.array(self.left_hand_coordinates)\n"
     ]
    },
    {
     "name": "stdout",
     "output_type": "stream",
     "text": [
      "fef_allegare (online-video-cutter.com).mp4\n"
     ]
    },
    {
     "name": "stderr",
     "output_type": "stream",
     "text": [
      "d:\\Documentos\\Polito\\Thesis\\Code\\sign-language-recognition\\hand-tracking\\handtracker2.py:116: VisibleDeprecationWarning: Creating an ndarray from ragged nested sequences (which is a list-or-tuple of lists-or-tuples-or ndarrays with different lengths or shapes) is deprecated. If you meant to do this, you must specify 'dtype=object' when creating the ndarray.\n",
      "  buffer = np.array(self.left_hand_coordinates)\n"
     ]
    },
    {
     "name": "stdout",
     "output_type": "stream",
     "text": [
      "fef_allergia (online-video-cutter.com).mp4\n"
     ]
    },
    {
     "name": "stderr",
     "output_type": "stream",
     "text": [
      "d:\\Documentos\\Polito\\Thesis\\Code\\sign-language-recognition\\hand-tracking\\handtracker2.py:116: VisibleDeprecationWarning: Creating an ndarray from ragged nested sequences (which is a list-or-tuple of lists-or-tuples-or ndarrays with different lengths or shapes) is deprecated. If you meant to do this, you must specify 'dtype=object' when creating the ndarray.\n",
      "  buffer = np.array(self.left_hand_coordinates)\n"
     ]
    },
    {
     "name": "stdout",
     "output_type": "stream",
     "text": [
      "fef_ambulanza (online-video-cutter.com).mp4\n"
     ]
    },
    {
     "name": "stderr",
     "output_type": "stream",
     "text": [
      "d:\\Documentos\\Polito\\Thesis\\Code\\sign-language-recognition\\hand-tracking\\handtracker2.py:116: VisibleDeprecationWarning: Creating an ndarray from ragged nested sequences (which is a list-or-tuple of lists-or-tuples-or ndarrays with different lengths or shapes) is deprecated. If you meant to do this, you must specify 'dtype=object' when creating the ndarray.\n",
      "  buffer = np.array(self.left_hand_coordinates)\n"
     ]
    },
    {
     "name": "stdout",
     "output_type": "stream",
     "text": [
      "fef_amministrazione (online-video-cutter.com).mp4\n"
     ]
    },
    {
     "name": "stderr",
     "output_type": "stream",
     "text": [
      "d:\\Documentos\\Polito\\Thesis\\Code\\sign-language-recognition\\hand-tracking\\handtracker2.py:116: VisibleDeprecationWarning: Creating an ndarray from ragged nested sequences (which is a list-or-tuple of lists-or-tuples-or ndarrays with different lengths or shapes) is deprecated. If you meant to do this, you must specify 'dtype=object' when creating the ndarray.\n",
      "  buffer = np.array(self.left_hand_coordinates)\n"
     ]
    },
    {
     "name": "stdout",
     "output_type": "stream",
     "text": [
      "fef_andata (online-video-cutter.com).mp4\n"
     ]
    },
    {
     "name": "stderr",
     "output_type": "stream",
     "text": [
      "d:\\Documentos\\Polito\\Thesis\\Code\\sign-language-recognition\\hand-tracking\\handtracker2.py:116: VisibleDeprecationWarning: Creating an ndarray from ragged nested sequences (which is a list-or-tuple of lists-or-tuples-or ndarrays with different lengths or shapes) is deprecated. If you meant to do this, you must specify 'dtype=object' when creating the ndarray.\n",
      "  buffer = np.array(self.left_hand_coordinates)\n"
     ]
    },
    {
     "name": "stdout",
     "output_type": "stream",
     "text": [
      "fsf_abitare (online-video-cutter.com).mp4\n"
     ]
    },
    {
     "name": "stderr",
     "output_type": "stream",
     "text": [
      "d:\\Documentos\\Polito\\Thesis\\Code\\sign-language-recognition\\hand-tracking\\handtracker2.py:116: VisibleDeprecationWarning: Creating an ndarray from ragged nested sequences (which is a list-or-tuple of lists-or-tuples-or ndarrays with different lengths or shapes) is deprecated. If you meant to do this, you must specify 'dtype=object' when creating the ndarray.\n",
      "  buffer = np.array(self.left_hand_coordinates)\n"
     ]
    },
    {
     "name": "stdout",
     "output_type": "stream",
     "text": [
      "fsf_acqua (online-video-cutter.com).mp4\n"
     ]
    },
    {
     "name": "stderr",
     "output_type": "stream",
     "text": [
      "d:\\Documentos\\Polito\\Thesis\\Code\\sign-language-recognition\\hand-tracking\\handtracker2.py:116: VisibleDeprecationWarning: Creating an ndarray from ragged nested sequences (which is a list-or-tuple of lists-or-tuples-or ndarrays with different lengths or shapes) is deprecated. If you meant to do this, you must specify 'dtype=object' when creating the ndarray.\n",
      "  buffer = np.array(self.left_hand_coordinates)\n"
     ]
    },
    {
     "name": "stdout",
     "output_type": "stream",
     "text": [
      "fsf_affitto (online-video-cutter.com).mp4\n"
     ]
    },
    {
     "name": "stderr",
     "output_type": "stream",
     "text": [
      "d:\\Documentos\\Polito\\Thesis\\Code\\sign-language-recognition\\hand-tracking\\handtracker2.py:116: VisibleDeprecationWarning: Creating an ndarray from ragged nested sequences (which is a list-or-tuple of lists-or-tuples-or ndarrays with different lengths or shapes) is deprecated. If you meant to do this, you must specify 'dtype=object' when creating the ndarray.\n",
      "  buffer = np.array(self.left_hand_coordinates)\n"
     ]
    },
    {
     "name": "stdout",
     "output_type": "stream",
     "text": [
      "fsf_allegare (online-video-cutter.com).mp4\n"
     ]
    },
    {
     "name": "stderr",
     "output_type": "stream",
     "text": [
      "d:\\Documentos\\Polito\\Thesis\\Code\\sign-language-recognition\\hand-tracking\\handtracker2.py:116: VisibleDeprecationWarning: Creating an ndarray from ragged nested sequences (which is a list-or-tuple of lists-or-tuples-or ndarrays with different lengths or shapes) is deprecated. If you meant to do this, you must specify 'dtype=object' when creating the ndarray.\n",
      "  buffer = np.array(self.left_hand_coordinates)\n"
     ]
    },
    {
     "name": "stdout",
     "output_type": "stream",
     "text": [
      "fsf_allergia (online-video-cutter.com).mp4\n"
     ]
    },
    {
     "name": "stderr",
     "output_type": "stream",
     "text": [
      "d:\\Documentos\\Polito\\Thesis\\Code\\sign-language-recognition\\hand-tracking\\handtracker2.py:116: VisibleDeprecationWarning: Creating an ndarray from ragged nested sequences (which is a list-or-tuple of lists-or-tuples-or ndarrays with different lengths or shapes) is deprecated. If you meant to do this, you must specify 'dtype=object' when creating the ndarray.\n",
      "  buffer = np.array(self.left_hand_coordinates)\n"
     ]
    },
    {
     "name": "stdout",
     "output_type": "stream",
     "text": [
      "fsf_ambulanza (online-video-cutter.com).mp4\n"
     ]
    },
    {
     "name": "stderr",
     "output_type": "stream",
     "text": [
      "d:\\Documentos\\Polito\\Thesis\\Code\\sign-language-recognition\\hand-tracking\\handtracker2.py:116: VisibleDeprecationWarning: Creating an ndarray from ragged nested sequences (which is a list-or-tuple of lists-or-tuples-or ndarrays with different lengths or shapes) is deprecated. If you meant to do this, you must specify 'dtype=object' when creating the ndarray.\n",
      "  buffer = np.array(self.left_hand_coordinates)\n"
     ]
    },
    {
     "name": "stdout",
     "output_type": "stream",
     "text": [
      "fsf_ancona (online-video-cutter.com).mp4\n"
     ]
    },
    {
     "name": "stderr",
     "output_type": "stream",
     "text": [
      "d:\\Documentos\\Polito\\Thesis\\Code\\sign-language-recognition\\hand-tracking\\handtracker2.py:116: VisibleDeprecationWarning: Creating an ndarray from ragged nested sequences (which is a list-or-tuple of lists-or-tuples-or ndarrays with different lengths or shapes) is deprecated. If you meant to do this, you must specify 'dtype=object' when creating the ndarray.\n",
      "  buffer = np.array(self.left_hand_coordinates)\n"
     ]
    },
    {
     "name": "stdout",
     "output_type": "stream",
     "text": [
      "fsf_andata (online-video-cutter.com).mp4\n"
     ]
    },
    {
     "name": "stderr",
     "output_type": "stream",
     "text": [
      "d:\\Documentos\\Polito\\Thesis\\Code\\sign-language-recognition\\hand-tracking\\handtracker2.py:116: VisibleDeprecationWarning: Creating an ndarray from ragged nested sequences (which is a list-or-tuple of lists-or-tuples-or ndarrays with different lengths or shapes) is deprecated. If you meant to do this, you must specify 'dtype=object' when creating the ndarray.\n",
      "  buffer = np.array(self.left_hand_coordinates)\n"
     ]
    },
    {
     "name": "stdout",
     "output_type": "stream",
     "text": [
      "mdp_abbonamento (online-video-cutter.com).mp4\n"
     ]
    },
    {
     "name": "stderr",
     "output_type": "stream",
     "text": [
      "d:\\Documentos\\Polito\\Thesis\\Code\\sign-language-recognition\\hand-tracking\\handtracker2.py:116: VisibleDeprecationWarning: Creating an ndarray from ragged nested sequences (which is a list-or-tuple of lists-or-tuples-or ndarrays with different lengths or shapes) is deprecated. If you meant to do this, you must specify 'dtype=object' when creating the ndarray.\n",
      "  buffer = np.array(self.left_hand_coordinates)\n"
     ]
    },
    {
     "name": "stdout",
     "output_type": "stream",
     "text": [
      "mdp_acqua (online-video-cutter.com).mp4\n"
     ]
    },
    {
     "name": "stderr",
     "output_type": "stream",
     "text": [
      "d:\\Documentos\\Polito\\Thesis\\Code\\sign-language-recognition\\hand-tracking\\handtracker2.py:116: VisibleDeprecationWarning: Creating an ndarray from ragged nested sequences (which is a list-or-tuple of lists-or-tuples-or ndarrays with different lengths or shapes) is deprecated. If you meant to do this, you must specify 'dtype=object' when creating the ndarray.\n",
      "  buffer = np.array(self.left_hand_coordinates)\n"
     ]
    },
    {
     "name": "stdout",
     "output_type": "stream",
     "text": [
      "mdp_affitto (online-video-cutter.com).mp4\n"
     ]
    },
    {
     "name": "stderr",
     "output_type": "stream",
     "text": [
      "d:\\Documentos\\Polito\\Thesis\\Code\\sign-language-recognition\\hand-tracking\\handtracker2.py:116: VisibleDeprecationWarning: Creating an ndarray from ragged nested sequences (which is a list-or-tuple of lists-or-tuples-or ndarrays with different lengths or shapes) is deprecated. If you meant to do this, you must specify 'dtype=object' when creating the ndarray.\n",
      "  buffer = np.array(self.left_hand_coordinates)\n"
     ]
    },
    {
     "name": "stdout",
     "output_type": "stream",
     "text": [
      "mdp_allegare (online-video-cutter.com).mp4\n"
     ]
    },
    {
     "name": "stderr",
     "output_type": "stream",
     "text": [
      "d:\\Documentos\\Polito\\Thesis\\Code\\sign-language-recognition\\hand-tracking\\handtracker2.py:116: VisibleDeprecationWarning: Creating an ndarray from ragged nested sequences (which is a list-or-tuple of lists-or-tuples-or ndarrays with different lengths or shapes) is deprecated. If you meant to do this, you must specify 'dtype=object' when creating the ndarray.\n",
      "  buffer = np.array(self.left_hand_coordinates)\n"
     ]
    },
    {
     "name": "stdout",
     "output_type": "stream",
     "text": [
      "mdp_allergia (online-video-cutter.com).mp4\n"
     ]
    },
    {
     "name": "stderr",
     "output_type": "stream",
     "text": [
      "d:\\Documentos\\Polito\\Thesis\\Code\\sign-language-recognition\\hand-tracking\\handtracker2.py:116: VisibleDeprecationWarning: Creating an ndarray from ragged nested sequences (which is a list-or-tuple of lists-or-tuples-or ndarrays with different lengths or shapes) is deprecated. If you meant to do this, you must specify 'dtype=object' when creating the ndarray.\n",
      "  buffer = np.array(self.left_hand_coordinates)\n"
     ]
    },
    {
     "name": "stdout",
     "output_type": "stream",
     "text": [
      "mdp_amministrazione (online-video-cutter.com).mp4\n"
     ]
    },
    {
     "name": "stderr",
     "output_type": "stream",
     "text": [
      "d:\\Documentos\\Polito\\Thesis\\Code\\sign-language-recognition\\hand-tracking\\handtracker2.py:116: VisibleDeprecationWarning: Creating an ndarray from ragged nested sequences (which is a list-or-tuple of lists-or-tuples-or ndarrays with different lengths or shapes) is deprecated. If you meant to do this, you must specify 'dtype=object' when creating the ndarray.\n",
      "  buffer = np.array(self.left_hand_coordinates)\n"
     ]
    },
    {
     "name": "stdout",
     "output_type": "stream",
     "text": [
      "mdp_ancona (online-video-cutter.com).mp4\n"
     ]
    },
    {
     "name": "stderr",
     "output_type": "stream",
     "text": [
      "d:\\Documentos\\Polito\\Thesis\\Code\\sign-language-recognition\\hand-tracking\\handtracker2.py:116: VisibleDeprecationWarning: Creating an ndarray from ragged nested sequences (which is a list-or-tuple of lists-or-tuples-or ndarrays with different lengths or shapes) is deprecated. If you meant to do this, you must specify 'dtype=object' when creating the ndarray.\n",
      "  buffer = np.array(self.left_hand_coordinates)\n"
     ]
    },
    {
     "name": "stdout",
     "output_type": "stream",
     "text": [
      "mdp_andata (online-video-cutter.com).mp4\n"
     ]
    },
    {
     "name": "stderr",
     "output_type": "stream",
     "text": [
      "d:\\Documentos\\Polito\\Thesis\\Code\\sign-language-recognition\\hand-tracking\\handtracker2.py:116: VisibleDeprecationWarning: Creating an ndarray from ragged nested sequences (which is a list-or-tuple of lists-or-tuples-or ndarrays with different lengths or shapes) is deprecated. If you meant to do this, you must specify 'dtype=object' when creating the ndarray.\n",
      "  buffer = np.array(self.left_hand_coordinates)\n"
     ]
    },
    {
     "name": "stdout",
     "output_type": "stream",
     "text": [
      "mdq_abbonamento (online-video-cutter.com).mp4\n"
     ]
    },
    {
     "name": "stderr",
     "output_type": "stream",
     "text": [
      "d:\\Documentos\\Polito\\Thesis\\Code\\sign-language-recognition\\hand-tracking\\handtracker2.py:116: VisibleDeprecationWarning: Creating an ndarray from ragged nested sequences (which is a list-or-tuple of lists-or-tuples-or ndarrays with different lengths or shapes) is deprecated. If you meant to do this, you must specify 'dtype=object' when creating the ndarray.\n",
      "  buffer = np.array(self.left_hand_coordinates)\n"
     ]
    },
    {
     "name": "stdout",
     "output_type": "stream",
     "text": [
      "mdq_acqua (online-video-cutter.com).mp4\n"
     ]
    },
    {
     "name": "stderr",
     "output_type": "stream",
     "text": [
      "d:\\Documentos\\Polito\\Thesis\\Code\\sign-language-recognition\\hand-tracking\\handtracker2.py:116: VisibleDeprecationWarning: Creating an ndarray from ragged nested sequences (which is a list-or-tuple of lists-or-tuples-or ndarrays with different lengths or shapes) is deprecated. If you meant to do this, you must specify 'dtype=object' when creating the ndarray.\n",
      "  buffer = np.array(self.left_hand_coordinates)\n"
     ]
    },
    {
     "name": "stdout",
     "output_type": "stream",
     "text": [
      "mdq_affitto (online-video-cutter.com).mp4\n"
     ]
    },
    {
     "name": "stderr",
     "output_type": "stream",
     "text": [
      "d:\\Documentos\\Polito\\Thesis\\Code\\sign-language-recognition\\hand-tracking\\handtracker2.py:116: VisibleDeprecationWarning: Creating an ndarray from ragged nested sequences (which is a list-or-tuple of lists-or-tuples-or ndarrays with different lengths or shapes) is deprecated. If you meant to do this, you must specify 'dtype=object' when creating the ndarray.\n",
      "  buffer = np.array(self.left_hand_coordinates)\n"
     ]
    },
    {
     "name": "stdout",
     "output_type": "stream",
     "text": [
      "mdq_allegare (online-video-cutter.com).mp4\n"
     ]
    },
    {
     "name": "stderr",
     "output_type": "stream",
     "text": [
      "d:\\Documentos\\Polito\\Thesis\\Code\\sign-language-recognition\\hand-tracking\\handtracker2.py:116: VisibleDeprecationWarning: Creating an ndarray from ragged nested sequences (which is a list-or-tuple of lists-or-tuples-or ndarrays with different lengths or shapes) is deprecated. If you meant to do this, you must specify 'dtype=object' when creating the ndarray.\n",
      "  buffer = np.array(self.left_hand_coordinates)\n"
     ]
    },
    {
     "name": "stdout",
     "output_type": "stream",
     "text": [
      "mdq_ambulanza (online-video-cutter.com).mp4\n"
     ]
    },
    {
     "name": "stderr",
     "output_type": "stream",
     "text": [
      "d:\\Documentos\\Polito\\Thesis\\Code\\sign-language-recognition\\hand-tracking\\handtracker2.py:116: VisibleDeprecationWarning: Creating an ndarray from ragged nested sequences (which is a list-or-tuple of lists-or-tuples-or ndarrays with different lengths or shapes) is deprecated. If you meant to do this, you must specify 'dtype=object' when creating the ndarray.\n",
      "  buffer = np.array(self.left_hand_coordinates)\n"
     ]
    },
    {
     "name": "stdout",
     "output_type": "stream",
     "text": [
      "mdq_amministrazione (online-video-cutter.com).mp4\n"
     ]
    },
    {
     "name": "stderr",
     "output_type": "stream",
     "text": [
      "d:\\Documentos\\Polito\\Thesis\\Code\\sign-language-recognition\\hand-tracking\\handtracker2.py:116: VisibleDeprecationWarning: Creating an ndarray from ragged nested sequences (which is a list-or-tuple of lists-or-tuples-or ndarrays with different lengths or shapes) is deprecated. If you meant to do this, you must specify 'dtype=object' when creating the ndarray.\n",
      "  buffer = np.array(self.left_hand_coordinates)\n"
     ]
    },
    {
     "name": "stdout",
     "output_type": "stream",
     "text": [
      "mdq_ancona (online-video-cutter.com).mp4\n"
     ]
    },
    {
     "name": "stderr",
     "output_type": "stream",
     "text": [
      "d:\\Documentos\\Polito\\Thesis\\Code\\sign-language-recognition\\hand-tracking\\handtracker2.py:116: VisibleDeprecationWarning: Creating an ndarray from ragged nested sequences (which is a list-or-tuple of lists-or-tuples-or ndarrays with different lengths or shapes) is deprecated. If you meant to do this, you must specify 'dtype=object' when creating the ndarray.\n",
      "  buffer = np.array(self.left_hand_coordinates)\n"
     ]
    },
    {
     "name": "stdout",
     "output_type": "stream",
     "text": [
      "mdq_andata (online-video-cutter.com).mp4\n"
     ]
    },
    {
     "name": "stderr",
     "output_type": "stream",
     "text": [
      "d:\\Documentos\\Polito\\Thesis\\Code\\sign-language-recognition\\hand-tracking\\handtracker2.py:116: VisibleDeprecationWarning: Creating an ndarray from ragged nested sequences (which is a list-or-tuple of lists-or-tuples-or ndarrays with different lengths or shapes) is deprecated. If you meant to do this, you must specify 'dtype=object' when creating the ndarray.\n",
      "  buffer = np.array(self.left_hand_coordinates)\n"
     ]
    },
    {
     "name": "stdout",
     "output_type": "stream",
     "text": [
      "mic_abbonamento (online-video-cutter.com).mp4\n"
     ]
    },
    {
     "name": "stderr",
     "output_type": "stream",
     "text": [
      "d:\\Documentos\\Polito\\Thesis\\Code\\sign-language-recognition\\hand-tracking\\handtracker2.py:116: VisibleDeprecationWarning: Creating an ndarray from ragged nested sequences (which is a list-or-tuple of lists-or-tuples-or ndarrays with different lengths or shapes) is deprecated. If you meant to do this, you must specify 'dtype=object' when creating the ndarray.\n",
      "  buffer = np.array(self.left_hand_coordinates)\n"
     ]
    },
    {
     "name": "stdout",
     "output_type": "stream",
     "text": [
      "mic_abitare (online-video-cutter.com).mp4\n"
     ]
    },
    {
     "name": "stderr",
     "output_type": "stream",
     "text": [
      "d:\\Documentos\\Polito\\Thesis\\Code\\sign-language-recognition\\hand-tracking\\handtracker2.py:116: VisibleDeprecationWarning: Creating an ndarray from ragged nested sequences (which is a list-or-tuple of lists-or-tuples-or ndarrays with different lengths or shapes) is deprecated. If you meant to do this, you must specify 'dtype=object' when creating the ndarray.\n",
      "  buffer = np.array(self.left_hand_coordinates)\n"
     ]
    },
    {
     "name": "stdout",
     "output_type": "stream",
     "text": [
      "mic_affitto (online-video-cutter.com).mp4\n"
     ]
    },
    {
     "name": "stderr",
     "output_type": "stream",
     "text": [
      "d:\\Documentos\\Polito\\Thesis\\Code\\sign-language-recognition\\hand-tracking\\handtracker2.py:116: VisibleDeprecationWarning: Creating an ndarray from ragged nested sequences (which is a list-or-tuple of lists-or-tuples-or ndarrays with different lengths or shapes) is deprecated. If you meant to do this, you must specify 'dtype=object' when creating the ndarray.\n",
      "  buffer = np.array(self.left_hand_coordinates)\n"
     ]
    },
    {
     "name": "stdout",
     "output_type": "stream",
     "text": [
      "mic_allegare (online-video-cutter.com).mp4\n"
     ]
    },
    {
     "name": "stderr",
     "output_type": "stream",
     "text": [
      "d:\\Documentos\\Polito\\Thesis\\Code\\sign-language-recognition\\hand-tracking\\handtracker2.py:116: VisibleDeprecationWarning: Creating an ndarray from ragged nested sequences (which is a list-or-tuple of lists-or-tuples-or ndarrays with different lengths or shapes) is deprecated. If you meant to do this, you must specify 'dtype=object' when creating the ndarray.\n",
      "  buffer = np.array(self.left_hand_coordinates)\n"
     ]
    },
    {
     "name": "stdout",
     "output_type": "stream",
     "text": [
      "mic_ambulanza (online-video-cutter.com).mp4\n"
     ]
    },
    {
     "name": "stderr",
     "output_type": "stream",
     "text": [
      "d:\\Documentos\\Polito\\Thesis\\Code\\sign-language-recognition\\hand-tracking\\handtracker2.py:116: VisibleDeprecationWarning: Creating an ndarray from ragged nested sequences (which is a list-or-tuple of lists-or-tuples-or ndarrays with different lengths or shapes) is deprecated. If you meant to do this, you must specify 'dtype=object' when creating the ndarray.\n",
      "  buffer = np.array(self.left_hand_coordinates)\n"
     ]
    },
    {
     "name": "stdout",
     "output_type": "stream",
     "text": [
      "mic_amministrazione (online-video-cutter.com).mp4\n"
     ]
    },
    {
     "name": "stderr",
     "output_type": "stream",
     "text": [
      "d:\\Documentos\\Polito\\Thesis\\Code\\sign-language-recognition\\hand-tracking\\handtracker2.py:116: VisibleDeprecationWarning: Creating an ndarray from ragged nested sequences (which is a list-or-tuple of lists-or-tuples-or ndarrays with different lengths or shapes) is deprecated. If you meant to do this, you must specify 'dtype=object' when creating the ndarray.\n",
      "  buffer = np.array(self.left_hand_coordinates)\n"
     ]
    },
    {
     "name": "stdout",
     "output_type": "stream",
     "text": [
      "mic_ancona (online-video-cutter.com).mp4\n"
     ]
    },
    {
     "name": "stderr",
     "output_type": "stream",
     "text": [
      "d:\\Documentos\\Polito\\Thesis\\Code\\sign-language-recognition\\hand-tracking\\handtracker2.py:116: VisibleDeprecationWarning: Creating an ndarray from ragged nested sequences (which is a list-or-tuple of lists-or-tuples-or ndarrays with different lengths or shapes) is deprecated. If you meant to do this, you must specify 'dtype=object' when creating the ndarray.\n",
      "  buffer = np.array(self.left_hand_coordinates)\n"
     ]
    },
    {
     "name": "stdout",
     "output_type": "stream",
     "text": [
      "mic_andata (online-video-cutter.com).mp4\n"
     ]
    },
    {
     "name": "stderr",
     "output_type": "stream",
     "text": [
      "d:\\Documentos\\Polito\\Thesis\\Code\\sign-language-recognition\\hand-tracking\\handtracker2.py:116: VisibleDeprecationWarning: Creating an ndarray from ragged nested sequences (which is a list-or-tuple of lists-or-tuples-or ndarrays with different lengths or shapes) is deprecated. If you meant to do this, you must specify 'dtype=object' when creating the ndarray.\n",
      "  buffer = np.array(self.left_hand_coordinates)\n"
     ]
    },
    {
     "name": "stdout",
     "output_type": "stream",
     "text": [
      "mmr_abbonamento (online-video-cutter.com).mp4\n"
     ]
    },
    {
     "name": "stderr",
     "output_type": "stream",
     "text": [
      "d:\\Documentos\\Polito\\Thesis\\Code\\sign-language-recognition\\hand-tracking\\handtracker2.py:116: VisibleDeprecationWarning: Creating an ndarray from ragged nested sequences (which is a list-or-tuple of lists-or-tuples-or ndarrays with different lengths or shapes) is deprecated. If you meant to do this, you must specify 'dtype=object' when creating the ndarray.\n",
      "  buffer = np.array(self.left_hand_coordinates)\n"
     ]
    },
    {
     "name": "stdout",
     "output_type": "stream",
     "text": [
      "mmr_abitare (online-video-cutter.com).mp4\n"
     ]
    },
    {
     "name": "stderr",
     "output_type": "stream",
     "text": [
      "d:\\Documentos\\Polito\\Thesis\\Code\\sign-language-recognition\\hand-tracking\\handtracker2.py:116: VisibleDeprecationWarning: Creating an ndarray from ragged nested sequences (which is a list-or-tuple of lists-or-tuples-or ndarrays with different lengths or shapes) is deprecated. If you meant to do this, you must specify 'dtype=object' when creating the ndarray.\n",
      "  buffer = np.array(self.left_hand_coordinates)\n"
     ]
    },
    {
     "name": "stdout",
     "output_type": "stream",
     "text": [
      "mmr_affitto (online-video-cutter.com).mp4\n"
     ]
    },
    {
     "name": "stderr",
     "output_type": "stream",
     "text": [
      "d:\\Documentos\\Polito\\Thesis\\Code\\sign-language-recognition\\hand-tracking\\handtracker2.py:116: VisibleDeprecationWarning: Creating an ndarray from ragged nested sequences (which is a list-or-tuple of lists-or-tuples-or ndarrays with different lengths or shapes) is deprecated. If you meant to do this, you must specify 'dtype=object' when creating the ndarray.\n",
      "  buffer = np.array(self.left_hand_coordinates)\n"
     ]
    },
    {
     "name": "stdout",
     "output_type": "stream",
     "text": [
      "mmr_allegare (online-video-cutter.com).mp4\n"
     ]
    },
    {
     "name": "stderr",
     "output_type": "stream",
     "text": [
      "d:\\Documentos\\Polito\\Thesis\\Code\\sign-language-recognition\\hand-tracking\\handtracker2.py:116: VisibleDeprecationWarning: Creating an ndarray from ragged nested sequences (which is a list-or-tuple of lists-or-tuples-or ndarrays with different lengths or shapes) is deprecated. If you meant to do this, you must specify 'dtype=object' when creating the ndarray.\n",
      "  buffer = np.array(self.left_hand_coordinates)\n"
     ]
    },
    {
     "name": "stdout",
     "output_type": "stream",
     "text": [
      "mmr_allergia (online-video-cutter.com).mp4\n"
     ]
    },
    {
     "name": "stderr",
     "output_type": "stream",
     "text": [
      "d:\\Documentos\\Polito\\Thesis\\Code\\sign-language-recognition\\hand-tracking\\handtracker2.py:116: VisibleDeprecationWarning: Creating an ndarray from ragged nested sequences (which is a list-or-tuple of lists-or-tuples-or ndarrays with different lengths or shapes) is deprecated. If you meant to do this, you must specify 'dtype=object' when creating the ndarray.\n",
      "  buffer = np.array(self.left_hand_coordinates)\n"
     ]
    },
    {
     "name": "stdout",
     "output_type": "stream",
     "text": [
      "mmr_amministrazione (online-video-cutter.com).mp4\n"
     ]
    },
    {
     "name": "stderr",
     "output_type": "stream",
     "text": [
      "d:\\Documentos\\Polito\\Thesis\\Code\\sign-language-recognition\\hand-tracking\\handtracker2.py:116: VisibleDeprecationWarning: Creating an ndarray from ragged nested sequences (which is a list-or-tuple of lists-or-tuples-or ndarrays with different lengths or shapes) is deprecated. If you meant to do this, you must specify 'dtype=object' when creating the ndarray.\n",
      "  buffer = np.array(self.left_hand_coordinates)\n"
     ]
    },
    {
     "name": "stdout",
     "output_type": "stream",
     "text": [
      "mmr_ancona (online-video-cutter.com).mp4\n"
     ]
    },
    {
     "name": "stderr",
     "output_type": "stream",
     "text": [
      "d:\\Documentos\\Polito\\Thesis\\Code\\sign-language-recognition\\hand-tracking\\handtracker2.py:116: VisibleDeprecationWarning: Creating an ndarray from ragged nested sequences (which is a list-or-tuple of lists-or-tuples-or ndarrays with different lengths or shapes) is deprecated. If you meant to do this, you must specify 'dtype=object' when creating the ndarray.\n",
      "  buffer = np.array(self.left_hand_coordinates)\n"
     ]
    },
    {
     "name": "stdout",
     "output_type": "stream",
     "text": [
      "mmr_andata (online-video-cutter.com).mp4\n"
     ]
    },
    {
     "name": "stderr",
     "output_type": "stream",
     "text": [
      "d:\\Documentos\\Polito\\Thesis\\Code\\sign-language-recognition\\hand-tracking\\handtracker2.py:116: VisibleDeprecationWarning: Creating an ndarray from ragged nested sequences (which is a list-or-tuple of lists-or-tuples-or ndarrays with different lengths or shapes) is deprecated. If you meant to do this, you must specify 'dtype=object' when creating the ndarray.\n",
      "  buffer = np.array(self.left_hand_coordinates)\n"
     ]
    },
    {
     "name": "stdout",
     "output_type": "stream",
     "text": [
      "mrla_abbonamento (online-video-cutter.com).mp4\n"
     ]
    },
    {
     "name": "stderr",
     "output_type": "stream",
     "text": [
      "d:\\Documentos\\Polito\\Thesis\\Code\\sign-language-recognition\\hand-tracking\\handtracker2.py:116: VisibleDeprecationWarning: Creating an ndarray from ragged nested sequences (which is a list-or-tuple of lists-or-tuples-or ndarrays with different lengths or shapes) is deprecated. If you meant to do this, you must specify 'dtype=object' when creating the ndarray.\n",
      "  buffer = np.array(self.left_hand_coordinates)\n"
     ]
    },
    {
     "name": "stdout",
     "output_type": "stream",
     "text": [
      "mrla_abitare (online-video-cutter.com).mp4\n"
     ]
    },
    {
     "name": "stderr",
     "output_type": "stream",
     "text": [
      "d:\\Documentos\\Polito\\Thesis\\Code\\sign-language-recognition\\hand-tracking\\handtracker2.py:116: VisibleDeprecationWarning: Creating an ndarray from ragged nested sequences (which is a list-or-tuple of lists-or-tuples-or ndarrays with different lengths or shapes) is deprecated. If you meant to do this, you must specify 'dtype=object' when creating the ndarray.\n",
      "  buffer = np.array(self.left_hand_coordinates)\n"
     ]
    },
    {
     "name": "stdout",
     "output_type": "stream",
     "text": [
      "mrla_acqua (online-video-cutter.com).mp4\n"
     ]
    },
    {
     "name": "stderr",
     "output_type": "stream",
     "text": [
      "d:\\Documentos\\Polito\\Thesis\\Code\\sign-language-recognition\\hand-tracking\\handtracker2.py:116: VisibleDeprecationWarning: Creating an ndarray from ragged nested sequences (which is a list-or-tuple of lists-or-tuples-or ndarrays with different lengths or shapes) is deprecated. If you meant to do this, you must specify 'dtype=object' when creating the ndarray.\n",
      "  buffer = np.array(self.left_hand_coordinates)\n"
     ]
    },
    {
     "name": "stdout",
     "output_type": "stream",
     "text": [
      "mrla_allegare (online-video-cutter.com).mp4\n"
     ]
    },
    {
     "name": "stderr",
     "output_type": "stream",
     "text": [
      "d:\\Documentos\\Polito\\Thesis\\Code\\sign-language-recognition\\hand-tracking\\handtracker2.py:116: VisibleDeprecationWarning: Creating an ndarray from ragged nested sequences (which is a list-or-tuple of lists-or-tuples-or ndarrays with different lengths or shapes) is deprecated. If you meant to do this, you must specify 'dtype=object' when creating the ndarray.\n",
      "  buffer = np.array(self.left_hand_coordinates)\n"
     ]
    },
    {
     "name": "stdout",
     "output_type": "stream",
     "text": [
      "mrla_allergia (online-video-cutter.com).mp4\n"
     ]
    },
    {
     "name": "stderr",
     "output_type": "stream",
     "text": [
      "d:\\Documentos\\Polito\\Thesis\\Code\\sign-language-recognition\\hand-tracking\\handtracker2.py:116: VisibleDeprecationWarning: Creating an ndarray from ragged nested sequences (which is a list-or-tuple of lists-or-tuples-or ndarrays with different lengths or shapes) is deprecated. If you meant to do this, you must specify 'dtype=object' when creating the ndarray.\n",
      "  buffer = np.array(self.left_hand_coordinates)\n"
     ]
    },
    {
     "name": "stdout",
     "output_type": "stream",
     "text": [
      "mrla_ambulanza (online-video-cutter.com).mp4\n"
     ]
    },
    {
     "name": "stderr",
     "output_type": "stream",
     "text": [
      "d:\\Documentos\\Polito\\Thesis\\Code\\sign-language-recognition\\hand-tracking\\handtracker2.py:116: VisibleDeprecationWarning: Creating an ndarray from ragged nested sequences (which is a list-or-tuple of lists-or-tuples-or ndarrays with different lengths or shapes) is deprecated. If you meant to do this, you must specify 'dtype=object' when creating the ndarray.\n",
      "  buffer = np.array(self.left_hand_coordinates)\n"
     ]
    },
    {
     "name": "stdout",
     "output_type": "stream",
     "text": [
      "mrla_ancona (online-video-cutter.com).mp4\n"
     ]
    },
    {
     "name": "stderr",
     "output_type": "stream",
     "text": [
      "d:\\Documentos\\Polito\\Thesis\\Code\\sign-language-recognition\\hand-tracking\\handtracker2.py:116: VisibleDeprecationWarning: Creating an ndarray from ragged nested sequences (which is a list-or-tuple of lists-or-tuples-or ndarrays with different lengths or shapes) is deprecated. If you meant to do this, you must specify 'dtype=object' when creating the ndarray.\n",
      "  buffer = np.array(self.left_hand_coordinates)\n"
     ]
    },
    {
     "name": "stdout",
     "output_type": "stream",
     "text": [
      "mrla_andata (online-video-cutter.com).mp4\n",
      "error\n",
      "mrlb_abbonamento (online-video-cutter.com).mp4\n"
     ]
    },
    {
     "name": "stderr",
     "output_type": "stream",
     "text": [
      "d:\\Documentos\\Polito\\Thesis\\Code\\sign-language-recognition\\hand-tracking\\handtracker2.py:116: VisibleDeprecationWarning: Creating an ndarray from ragged nested sequences (which is a list-or-tuple of lists-or-tuples-or ndarrays with different lengths or shapes) is deprecated. If you meant to do this, you must specify 'dtype=object' when creating the ndarray.\n",
      "  buffer = np.array(self.left_hand_coordinates)\n"
     ]
    },
    {
     "name": "stdout",
     "output_type": "stream",
     "text": [
      "mrlb_abitare (online-video-cutter.com).mp4\n"
     ]
    },
    {
     "name": "stderr",
     "output_type": "stream",
     "text": [
      "d:\\Documentos\\Polito\\Thesis\\Code\\sign-language-recognition\\hand-tracking\\handtracker2.py:116: VisibleDeprecationWarning: Creating an ndarray from ragged nested sequences (which is a list-or-tuple of lists-or-tuples-or ndarrays with different lengths or shapes) is deprecated. If you meant to do this, you must specify 'dtype=object' when creating the ndarray.\n",
      "  buffer = np.array(self.left_hand_coordinates)\n"
     ]
    },
    {
     "name": "stdout",
     "output_type": "stream",
     "text": [
      "mrlb_acqua (online-video-cutter.com).mp4\n"
     ]
    },
    {
     "name": "stderr",
     "output_type": "stream",
     "text": [
      "d:\\Documentos\\Polito\\Thesis\\Code\\sign-language-recognition\\hand-tracking\\handtracker2.py:116: VisibleDeprecationWarning: Creating an ndarray from ragged nested sequences (which is a list-or-tuple of lists-or-tuples-or ndarrays with different lengths or shapes) is deprecated. If you meant to do this, you must specify 'dtype=object' when creating the ndarray.\n",
      "  buffer = np.array(self.left_hand_coordinates)\n"
     ]
    },
    {
     "name": "stdout",
     "output_type": "stream",
     "text": [
      "mrlb_allegare (online-video-cutter.com).mp4\n"
     ]
    },
    {
     "name": "stderr",
     "output_type": "stream",
     "text": [
      "d:\\Documentos\\Polito\\Thesis\\Code\\sign-language-recognition\\hand-tracking\\handtracker2.py:116: VisibleDeprecationWarning: Creating an ndarray from ragged nested sequences (which is a list-or-tuple of lists-or-tuples-or ndarrays with different lengths or shapes) is deprecated. If you meant to do this, you must specify 'dtype=object' when creating the ndarray.\n",
      "  buffer = np.array(self.left_hand_coordinates)\n"
     ]
    },
    {
     "name": "stdout",
     "output_type": "stream",
     "text": [
      "mrlb_allergia (online-video-cutter.com).mp4\n"
     ]
    },
    {
     "name": "stderr",
     "output_type": "stream",
     "text": [
      "d:\\Documentos\\Polito\\Thesis\\Code\\sign-language-recognition\\hand-tracking\\handtracker2.py:116: VisibleDeprecationWarning: Creating an ndarray from ragged nested sequences (which is a list-or-tuple of lists-or-tuples-or ndarrays with different lengths or shapes) is deprecated. If you meant to do this, you must specify 'dtype=object' when creating the ndarray.\n",
      "  buffer = np.array(self.left_hand_coordinates)\n"
     ]
    },
    {
     "name": "stdout",
     "output_type": "stream",
     "text": [
      "mrlb_ambulanza (online-video-cutter.com).mp4\n"
     ]
    },
    {
     "name": "stderr",
     "output_type": "stream",
     "text": [
      "d:\\Documentos\\Polito\\Thesis\\Code\\sign-language-recognition\\hand-tracking\\handtracker2.py:116: VisibleDeprecationWarning: Creating an ndarray from ragged nested sequences (which is a list-or-tuple of lists-or-tuples-or ndarrays with different lengths or shapes) is deprecated. If you meant to do this, you must specify 'dtype=object' when creating the ndarray.\n",
      "  buffer = np.array(self.left_hand_coordinates)\n"
     ]
    },
    {
     "name": "stdout",
     "output_type": "stream",
     "text": [
      "mrlb_amministrazione (online-video-cutter.com).mp4\n"
     ]
    },
    {
     "name": "stderr",
     "output_type": "stream",
     "text": [
      "d:\\Documentos\\Polito\\Thesis\\Code\\sign-language-recognition\\hand-tracking\\handtracker2.py:116: VisibleDeprecationWarning: Creating an ndarray from ragged nested sequences (which is a list-or-tuple of lists-or-tuples-or ndarrays with different lengths or shapes) is deprecated. If you meant to do this, you must specify 'dtype=object' when creating the ndarray.\n",
      "  buffer = np.array(self.left_hand_coordinates)\n"
     ]
    },
    {
     "name": "stdout",
     "output_type": "stream",
     "text": [
      "mrlb_andata (online-video-cutter.com).mp4\n"
     ]
    },
    {
     "name": "stderr",
     "output_type": "stream",
     "text": [
      "d:\\Documentos\\Polito\\Thesis\\Code\\sign-language-recognition\\hand-tracking\\handtracker2.py:116: VisibleDeprecationWarning: Creating an ndarray from ragged nested sequences (which is a list-or-tuple of lists-or-tuples-or ndarrays with different lengths or shapes) is deprecated. If you meant to do this, you must specify 'dtype=object' when creating the ndarray.\n",
      "  buffer = np.array(self.left_hand_coordinates)\n"
     ]
    },
    {
     "name": "stdout",
     "output_type": "stream",
     "text": [
      "msf_abbonamento (online-video-cutter.com).mp4\n"
     ]
    },
    {
     "name": "stderr",
     "output_type": "stream",
     "text": [
      "d:\\Documentos\\Polito\\Thesis\\Code\\sign-language-recognition\\hand-tracking\\handtracker2.py:116: VisibleDeprecationWarning: Creating an ndarray from ragged nested sequences (which is a list-or-tuple of lists-or-tuples-or ndarrays with different lengths or shapes) is deprecated. If you meant to do this, you must specify 'dtype=object' when creating the ndarray.\n",
      "  buffer = np.array(self.left_hand_coordinates)\n"
     ]
    },
    {
     "name": "stdout",
     "output_type": "stream",
     "text": [
      "msf_abitare (online-video-cutter.com).mp4\n"
     ]
    },
    {
     "name": "stderr",
     "output_type": "stream",
     "text": [
      "d:\\Documentos\\Polito\\Thesis\\Code\\sign-language-recognition\\hand-tracking\\handtracker2.py:116: VisibleDeprecationWarning: Creating an ndarray from ragged nested sequences (which is a list-or-tuple of lists-or-tuples-or ndarrays with different lengths or shapes) is deprecated. If you meant to do this, you must specify 'dtype=object' when creating the ndarray.\n",
      "  buffer = np.array(self.left_hand_coordinates)\n"
     ]
    },
    {
     "name": "stdout",
     "output_type": "stream",
     "text": [
      "msf_acqua (online-video-cutter.com).mp4\n"
     ]
    },
    {
     "name": "stderr",
     "output_type": "stream",
     "text": [
      "d:\\Documentos\\Polito\\Thesis\\Code\\sign-language-recognition\\hand-tracking\\handtracker2.py:116: VisibleDeprecationWarning: Creating an ndarray from ragged nested sequences (which is a list-or-tuple of lists-or-tuples-or ndarrays with different lengths or shapes) is deprecated. If you meant to do this, you must specify 'dtype=object' when creating the ndarray.\n",
      "  buffer = np.array(self.left_hand_coordinates)\n"
     ]
    },
    {
     "name": "stdout",
     "output_type": "stream",
     "text": [
      "msf_affitto (online-video-cutter.com).mp4\n"
     ]
    },
    {
     "name": "stderr",
     "output_type": "stream",
     "text": [
      "d:\\Documentos\\Polito\\Thesis\\Code\\sign-language-recognition\\hand-tracking\\handtracker2.py:116: VisibleDeprecationWarning: Creating an ndarray from ragged nested sequences (which is a list-or-tuple of lists-or-tuples-or ndarrays with different lengths or shapes) is deprecated. If you meant to do this, you must specify 'dtype=object' when creating the ndarray.\n",
      "  buffer = np.array(self.left_hand_coordinates)\n"
     ]
    },
    {
     "name": "stdout",
     "output_type": "stream",
     "text": [
      "msf_allergia (online-video-cutter.com).mp4\n"
     ]
    },
    {
     "name": "stderr",
     "output_type": "stream",
     "text": [
      "d:\\Documentos\\Polito\\Thesis\\Code\\sign-language-recognition\\hand-tracking\\handtracker2.py:116: VisibleDeprecationWarning: Creating an ndarray from ragged nested sequences (which is a list-or-tuple of lists-or-tuples-or ndarrays with different lengths or shapes) is deprecated. If you meant to do this, you must specify 'dtype=object' when creating the ndarray.\n",
      "  buffer = np.array(self.left_hand_coordinates)\n"
     ]
    },
    {
     "name": "stdout",
     "output_type": "stream",
     "text": [
      "msf_ambulanza (online-video-cutter.com).mp4\n"
     ]
    },
    {
     "name": "stderr",
     "output_type": "stream",
     "text": [
      "d:\\Documentos\\Polito\\Thesis\\Code\\sign-language-recognition\\hand-tracking\\handtracker2.py:116: VisibleDeprecationWarning: Creating an ndarray from ragged nested sequences (which is a list-or-tuple of lists-or-tuples-or ndarrays with different lengths or shapes) is deprecated. If you meant to do this, you must specify 'dtype=object' when creating the ndarray.\n",
      "  buffer = np.array(self.left_hand_coordinates)\n"
     ]
    },
    {
     "name": "stdout",
     "output_type": "stream",
     "text": [
      "msf_amministrazione (online-video-cutter.com).mp4\n"
     ]
    },
    {
     "name": "stderr",
     "output_type": "stream",
     "text": [
      "d:\\Documentos\\Polito\\Thesis\\Code\\sign-language-recognition\\hand-tracking\\handtracker2.py:116: VisibleDeprecationWarning: Creating an ndarray from ragged nested sequences (which is a list-or-tuple of lists-or-tuples-or ndarrays with different lengths or shapes) is deprecated. If you meant to do this, you must specify 'dtype=object' when creating the ndarray.\n",
      "  buffer = np.array(self.left_hand_coordinates)\n"
     ]
    },
    {
     "name": "stdout",
     "output_type": "stream",
     "text": [
      "msf_ancona (online-video-cutter.com).mp4\n"
     ]
    },
    {
     "name": "stderr",
     "output_type": "stream",
     "text": [
      "d:\\Documentos\\Polito\\Thesis\\Code\\sign-language-recognition\\hand-tracking\\handtracker2.py:116: VisibleDeprecationWarning: Creating an ndarray from ragged nested sequences (which is a list-or-tuple of lists-or-tuples-or ndarrays with different lengths or shapes) is deprecated. If you meant to do this, you must specify 'dtype=object' when creating the ndarray.\n",
      "  buffer = np.array(self.left_hand_coordinates)\n"
     ]
    }
   ],
   "source": [
    "id = 0\n",
    "error_count = 0\n",
    "for video_file in video_folder_path.glob('*.mp4'):\n",
    "    try:\n",
    "        df_coordinates, df_label = extract_features(video_file, id, LABELS)\n",
    "        df = pd.concat([df, df_coordinates])\n",
    "        df_y = pd.concat([df_y, df_label])\n",
    "        id += 1\n",
    "    except:\n",
    "        print('error')\n",
    "        error_count += 1"
   ]
  },
  {
   "cell_type": "code",
   "execution_count": 13,
   "metadata": {},
   "outputs": [
    {
     "data": {
      "text/plain": [
       "1"
      ]
     },
     "execution_count": 13,
     "metadata": {},
     "output_type": "execute_result"
    }
   ],
   "source": [
    "error_count"
   ]
  },
  {
   "cell_type": "code",
   "execution_count": 14,
   "metadata": {},
   "outputs": [
    {
     "data": {
      "text/plain": [
       "(1101, 43)"
      ]
     },
     "execution_count": 14,
     "metadata": {},
     "output_type": "execute_result"
    }
   ],
   "source": [
    "df.shape"
   ]
  },
  {
   "cell_type": "code",
   "execution_count": 15,
   "metadata": {},
   "outputs": [
    {
     "data": {
      "text/plain": [
       "(79, 2)"
      ]
     },
     "execution_count": 15,
     "metadata": {},
     "output_type": "execute_result"
    }
   ],
   "source": [
    "df_y.shape"
   ]
  },
  {
   "cell_type": "code",
   "execution_count": 19,
   "metadata": {},
   "outputs": [],
   "source": [
    "df['frame'] = df.index"
   ]
  },
  {
   "cell_type": "code",
   "execution_count": 20,
   "metadata": {},
   "outputs": [],
   "source": [
    "df.reset_index(drop=True, inplace=True)\n",
    "df_y.reset_index(drop=True, inplace=True)"
   ]
  },
  {
   "cell_type": "code",
   "execution_count": 21,
   "metadata": {},
   "outputs": [],
   "source": [
    "df.to_csv('D:/Documentos/Polito/Thesis/Datasets/A3LIS-147_italian/trimmed-10/coordinates/train/coordinates.csv')"
   ]
  },
  {
   "cell_type": "code",
   "execution_count": 22,
   "metadata": {},
   "outputs": [],
   "source": [
    "df_y.to_csv('D:/Documentos/Polito/Thesis/Datasets/A3LIS-147_italian/trimmed-10/coordinates/train/labels.csv')"
   ]
  },
  {
   "cell_type": "code",
   "execution_count": 5,
   "metadata": {},
   "outputs": [],
   "source": [
    "df = pd.read_csv('D:/Documentos/Polito/Thesis/Datasets/A3LIS-147_italian/trimmed-10/coordinates/train/coordinates.csv')"
   ]
  },
  {
   "cell_type": "code",
   "execution_count": 6,
   "metadata": {},
   "outputs": [],
   "source": [
    "df.drop(columns=['Unnamed: 0'], inplace=True)"
   ]
  },
  {
   "cell_type": "code",
   "execution_count": 7,
   "metadata": {},
   "outputs": [],
   "source": [
    "df_y = pd.read_csv('D:/Documentos/Polito/Thesis/Datasets/A3LIS-147_italian/trimmed-10/coordinates/train/labels.csv')"
   ]
  },
  {
   "cell_type": "code",
   "execution_count": 8,
   "metadata": {},
   "outputs": [],
   "source": [
    "df_y.drop(columns=['Unnamed: 0'], inplace=True)"
   ]
  },
  {
   "cell_type": "code",
   "execution_count": 14,
   "metadata": {},
   "outputs": [],
   "source": [
    "df_y = pd.Series(df_y['y'], index=df_y.id)"
   ]
  },
  {
   "cell_type": "code",
   "execution_count": 21,
   "metadata": {},
   "outputs": [],
   "source": [
    "extraction_settings = tsf.feature_extraction.ComprehensiveFCParameters()"
   ]
  },
  {
   "cell_type": "code",
   "execution_count": 22,
   "metadata": {},
   "outputs": [
    {
     "name": "stderr",
     "output_type": "stream",
     "text": [
      "Feature Extraction: 100%|██████████| 20/20 [01:04<00:00,  3.22s/it]\n"
     ]
    }
   ],
   "source": [
    "features = tsf.extract_features(df, column_id='id', column_sort='frame',\n",
    "                                default_fc_parameters=extraction_settings,\n",
    "                                impute_function=tsf.utilities.dataframe_functions.impute)"
   ]
  },
  {
   "cell_type": "code",
   "execution_count": 23,
   "metadata": {},
   "outputs": [
    {
     "data": {
      "text/plain": [
       "(79, 32886)"
      ]
     },
     "execution_count": 23,
     "metadata": {},
     "output_type": "execute_result"
    }
   ],
   "source": [
    "features.shape"
   ]
  },
  {
   "cell_type": "code",
   "execution_count": 34,
   "metadata": {},
   "outputs": [],
   "source": [
    "from sklearn.tree import DecisionTreeClassifier\n",
    "from sklearn.model_selection import train_test_split\n",
    "from sklearn.metrics import classification_report"
   ]
  },
  {
   "cell_type": "code",
   "execution_count": 35,
   "metadata": {},
   "outputs": [],
   "source": [
    "X_full_train, X_full_test, y_train, y_test = train_test_split(features, df_y, test_size=.2)"
   ]
  },
  {
   "cell_type": "code",
   "execution_count": 36,
   "metadata": {},
   "outputs": [
    {
     "name": "stdout",
     "output_type": "stream",
     "text": [
      "              precision    recall  f1-score   support\n",
      "\n",
      "           0       0.50      1.00      0.67         1\n",
      "           1       0.00      0.00      0.00         3\n",
      "           2       0.50      0.50      0.50         2\n",
      "           3       0.50      0.50      0.50         2\n",
      "           4       0.00      0.00      0.00         0\n",
      "           5       0.00      0.00      0.00         2\n",
      "           7       0.00      0.00      0.00         4\n",
      "           8       0.50      1.00      0.67         1\n",
      "           9       0.00      0.00      0.00         1\n",
      "\n",
      "    accuracy                           0.25        16\n",
      "   macro avg       0.22      0.33      0.26        16\n",
      "weighted avg       0.19      0.25      0.21        16\n",
      "\n"
     ]
    },
    {
     "name": "stderr",
     "output_type": "stream",
     "text": [
      "d:\\Documentos\\Polito\\Thesis\\Code\\sign-language-recognition\\thesis-venv\\lib\\site-packages\\sklearn\\metrics\\_classification.py:1471: UndefinedMetricWarning: Recall and F-score are ill-defined and being set to 0.0 in labels with no true samples. Use `zero_division` parameter to control this behavior.\n",
      "  _warn_prf(average, modifier, msg_start, len(result))\n",
      "d:\\Documentos\\Polito\\Thesis\\Code\\sign-language-recognition\\thesis-venv\\lib\\site-packages\\sklearn\\metrics\\_classification.py:1471: UndefinedMetricWarning: Recall and F-score are ill-defined and being set to 0.0 in labels with no true samples. Use `zero_division` parameter to control this behavior.\n",
      "  _warn_prf(average, modifier, msg_start, len(result))\n",
      "d:\\Documentos\\Polito\\Thesis\\Code\\sign-language-recognition\\thesis-venv\\lib\\site-packages\\sklearn\\metrics\\_classification.py:1471: UndefinedMetricWarning: Recall and F-score are ill-defined and being set to 0.0 in labels with no true samples. Use `zero_division` parameter to control this behavior.\n",
      "  _warn_prf(average, modifier, msg_start, len(result))\n"
     ]
    }
   ],
   "source": [
    "classifier_full = DecisionTreeClassifier()\n",
    "classifier_full.fit(X_full_train, y_train)\n",
    "print(classification_report(y_test, classifier_full.predict(X_full_test)))"
   ]
  },
  {
   "cell_type": "code",
   "execution_count": 39,
   "metadata": {},
   "outputs": [
    {
     "name": "stderr",
     "output_type": "stream",
     "text": [
      "[Parallel(n_jobs=1)]: Done  40 tasks      | elapsed:    0.0s\n",
      "[Parallel(n_jobs=1)]: Done 161 tasks      | elapsed:    0.2s\n",
      "[Parallel(n_jobs=1)]: Done 364 tasks      | elapsed:    0.5s\n",
      "[Parallel(n_jobs=1)]: Done 647 tasks      | elapsed:    0.8s\n",
      "[Parallel(n_jobs=1)]: Done 1012 tasks      | elapsed:    1.3s\n",
      "[Parallel(n_jobs=1)]: Done 1457 tasks      | elapsed:    1.9s\n",
      "[Parallel(n_jobs=1)]: Done 1984 tasks      | elapsed:    2.5s\n",
      "[Parallel(n_jobs=1)]: Done 2591 tasks      | elapsed:    3.2s\n",
      "[Parallel(n_jobs=1)]: Done 3280 tasks      | elapsed:    4.0s\n",
      "[Parallel(n_jobs=1)]: Done 4049 tasks      | elapsed:    4.8s\n",
      "[Parallel(n_jobs=1)]: Done 4900 tasks      | elapsed:    5.8s\n",
      "[Parallel(n_jobs=1)]: Done 5831 tasks      | elapsed:    6.9s\n",
      "[Parallel(n_jobs=1)]: Done 6844 tasks      | elapsed:    8.0s\n",
      "[Parallel(n_jobs=1)]: Done 7937 tasks      | elapsed:    9.3s\n",
      "[Parallel(n_jobs=1)]: Done 9112 tasks      | elapsed:   10.7s\n",
      "[Parallel(n_jobs=1)]: Done 10367 tasks      | elapsed:   12.1s\n",
      "[Parallel(n_jobs=1)]: Done 11704 tasks      | elapsed:   13.6s\n",
      "[Parallel(n_jobs=1)]: Done 13121 tasks      | elapsed:   15.3s\n",
      "[Parallel(n_jobs=1)]: Done 14620 tasks      | elapsed:   17.1s\n",
      "[Parallel(n_jobs=1)]: Done 16199 tasks      | elapsed:   18.9s\n",
      "[Parallel(n_jobs=1)]: Done 17860 tasks      | elapsed:   20.8s\n",
      "[Parallel(n_jobs=1)]: Done 19601 tasks      | elapsed:   23.1s\n",
      "[Parallel(n_jobs=1)]: Done 21424 tasks      | elapsed:   25.4s\n",
      "[Parallel(n_jobs=1)]: Done 23327 tasks      | elapsed:   27.5s\n",
      "[Parallel(n_jobs=1)]: Done 25312 tasks      | elapsed:   29.8s\n",
      "[Parallel(n_jobs=1)]: Done 27377 tasks      | elapsed:   32.2s\n",
      "[Parallel(n_jobs=1)]: Done 29524 tasks      | elapsed:   34.9s\n",
      "[Parallel(n_jobs=1)]: Done 31751 tasks      | elapsed:   37.5s\n",
      "\n",
      "[2023-11-15 00:13:28] Features: 1/10 -- score: 0.9746835443037974[Parallel(n_jobs=1)]: Done  40 tasks      | elapsed:    0.0s\n",
      "[Parallel(n_jobs=1)]: Done 161 tasks      | elapsed:    0.1s\n",
      "[Parallel(n_jobs=1)]: Done 364 tasks      | elapsed:    0.5s\n",
      "[Parallel(n_jobs=1)]: Done 647 tasks      | elapsed:    0.9s\n",
      "[Parallel(n_jobs=1)]: Done 1012 tasks      | elapsed:    1.4s\n",
      "[Parallel(n_jobs=1)]: Done 1457 tasks      | elapsed:    2.1s\n",
      "[Parallel(n_jobs=1)]: Done 1984 tasks      | elapsed:    2.8s\n",
      "[Parallel(n_jobs=1)]: Done 2591 tasks      | elapsed:    3.8s\n",
      "[Parallel(n_jobs=1)]: Done 3280 tasks      | elapsed:    4.8s\n",
      "[Parallel(n_jobs=1)]: Done 4049 tasks      | elapsed:    6.0s\n",
      "[Parallel(n_jobs=1)]: Done 4900 tasks      | elapsed:    7.2s\n",
      "[Parallel(n_jobs=1)]: Done 5831 tasks      | elapsed:    8.6s\n",
      "[Parallel(n_jobs=1)]: Done 6844 tasks      | elapsed:   10.0s\n",
      "[Parallel(n_jobs=1)]: Done 7937 tasks      | elapsed:   11.5s\n",
      "[Parallel(n_jobs=1)]: Done 9112 tasks      | elapsed:   13.2s\n",
      "[Parallel(n_jobs=1)]: Done 10367 tasks      | elapsed:   15.0s\n",
      "[Parallel(n_jobs=1)]: Done 11704 tasks      | elapsed:   16.8s\n",
      "[Parallel(n_jobs=1)]: Done 13121 tasks      | elapsed:   18.7s\n",
      "[Parallel(n_jobs=1)]: Done 14620 tasks      | elapsed:   20.8s\n",
      "[Parallel(n_jobs=1)]: Done 16199 tasks      | elapsed:   22.9s\n",
      "[Parallel(n_jobs=1)]: Done 17860 tasks      | elapsed:   25.2s\n",
      "[Parallel(n_jobs=1)]: Done 19601 tasks      | elapsed:   27.6s\n",
      "[Parallel(n_jobs=1)]: Done 21424 tasks      | elapsed:   30.1s\n",
      "[Parallel(n_jobs=1)]: Done 23327 tasks      | elapsed:   32.8s\n",
      "[Parallel(n_jobs=1)]: Done 25312 tasks      | elapsed:   35.6s\n",
      "[Parallel(n_jobs=1)]: Done 27377 tasks      | elapsed:   38.4s\n",
      "[Parallel(n_jobs=1)]: Done 29524 tasks      | elapsed:   41.5s\n",
      "[Parallel(n_jobs=1)]: Done 31751 tasks      | elapsed:   44.7s\n",
      "\n",
      "[2023-11-15 00:14:15] Features: 2/10 -- score: 0.9746835443037974[Parallel(n_jobs=1)]: Done  40 tasks      | elapsed:    0.0s\n",
      "[Parallel(n_jobs=1)]: Done 161 tasks      | elapsed:    0.1s\n",
      "[Parallel(n_jobs=1)]: Done 364 tasks      | elapsed:    0.5s\n",
      "[Parallel(n_jobs=1)]: Done 647 tasks      | elapsed:    0.9s\n",
      "[Parallel(n_jobs=1)]: Done 1012 tasks      | elapsed:    1.4s\n",
      "[Parallel(n_jobs=1)]: Done 1457 tasks      | elapsed:    2.1s\n",
      "[Parallel(n_jobs=1)]: Done 1984 tasks      | elapsed:    2.8s\n",
      "[Parallel(n_jobs=1)]: Done 2591 tasks      | elapsed:    3.6s\n",
      "[Parallel(n_jobs=1)]: Done 3280 tasks      | elapsed:    4.5s\n",
      "[Parallel(n_jobs=1)]: Done 4049 tasks      | elapsed:    5.6s\n",
      "[Parallel(n_jobs=1)]: Done 4900 tasks      | elapsed:    6.9s\n",
      "[Parallel(n_jobs=1)]: Done 5831 tasks      | elapsed:    8.1s\n",
      "[Parallel(n_jobs=1)]: Done 6844 tasks      | elapsed:    9.6s\n",
      "[Parallel(n_jobs=1)]: Done 7937 tasks      | elapsed:   11.2s\n",
      "[Parallel(n_jobs=1)]: Done 9112 tasks      | elapsed:   13.1s\n",
      "[Parallel(n_jobs=1)]: Done 10367 tasks      | elapsed:   15.0s\n",
      "[Parallel(n_jobs=1)]: Done 11704 tasks      | elapsed:   16.9s\n",
      "[Parallel(n_jobs=1)]: Done 13121 tasks      | elapsed:   19.1s\n",
      "[Parallel(n_jobs=1)]: Done 14620 tasks      | elapsed:   21.2s\n",
      "[Parallel(n_jobs=1)]: Done 16199 tasks      | elapsed:   23.4s\n",
      "[Parallel(n_jobs=1)]: Done 17860 tasks      | elapsed:   25.6s\n",
      "[Parallel(n_jobs=1)]: Done 19601 tasks      | elapsed:   28.0s\n",
      "[Parallel(n_jobs=1)]: Done 21424 tasks      | elapsed:   30.5s\n",
      "[Parallel(n_jobs=1)]: Done 23327 tasks      | elapsed:   33.2s\n",
      "[Parallel(n_jobs=1)]: Done 25312 tasks      | elapsed:   35.9s\n",
      "[Parallel(n_jobs=1)]: Done 27377 tasks      | elapsed:   38.9s\n",
      "[Parallel(n_jobs=1)]: Done 29524 tasks      | elapsed:   41.9s\n",
      "[Parallel(n_jobs=1)]: Done 31751 tasks      | elapsed:   45.0s\n",
      "\n",
      "[2023-11-15 00:15:03] Features: 3/10 -- score: 0.9746835443037974[Parallel(n_jobs=1)]: Done  40 tasks      | elapsed:    0.0s\n",
      "[Parallel(n_jobs=1)]: Done 161 tasks      | elapsed:    0.1s\n",
      "[Parallel(n_jobs=1)]: Done 364 tasks      | elapsed:    0.4s\n",
      "[Parallel(n_jobs=1)]: Done 647 tasks      | elapsed:    0.8s\n",
      "[Parallel(n_jobs=1)]: Done 1012 tasks      | elapsed:    1.3s\n",
      "[Parallel(n_jobs=1)]: Done 1457 tasks      | elapsed:    2.0s\n",
      "[Parallel(n_jobs=1)]: Done 1984 tasks      | elapsed:    2.7s\n",
      "[Parallel(n_jobs=1)]: Done 2591 tasks      | elapsed:    3.6s\n",
      "[Parallel(n_jobs=1)]: Done 3280 tasks      | elapsed:    4.5s\n",
      "[Parallel(n_jobs=1)]: Done 4049 tasks      | elapsed:    5.6s\n",
      "[Parallel(n_jobs=1)]: Done 4900 tasks      | elapsed:    6.8s\n",
      "[Parallel(n_jobs=1)]: Done 5831 tasks      | elapsed:    8.1s\n",
      "[Parallel(n_jobs=1)]: Done 6844 tasks      | elapsed:    9.6s\n",
      "[Parallel(n_jobs=1)]: Done 7937 tasks      | elapsed:   11.1s\n",
      "[Parallel(n_jobs=1)]: Done 9112 tasks      | elapsed:   12.7s\n",
      "[Parallel(n_jobs=1)]: Done 10367 tasks      | elapsed:   14.4s\n",
      "[Parallel(n_jobs=1)]: Done 11704 tasks      | elapsed:   16.2s\n",
      "[Parallel(n_jobs=1)]: Done 13121 tasks      | elapsed:   18.2s\n",
      "[Parallel(n_jobs=1)]: Done 14620 tasks      | elapsed:   20.3s\n",
      "[Parallel(n_jobs=1)]: Done 16199 tasks      | elapsed:   22.5s\n",
      "[Parallel(n_jobs=1)]: Done 17860 tasks      | elapsed:   24.8s\n",
      "[Parallel(n_jobs=1)]: Done 19601 tasks      | elapsed:   27.2s\n",
      "[Parallel(n_jobs=1)]: Done 21424 tasks      | elapsed:   29.7s\n",
      "[Parallel(n_jobs=1)]: Done 23327 tasks      | elapsed:   32.4s\n",
      "[Parallel(n_jobs=1)]: Done 25312 tasks      | elapsed:   35.1s\n",
      "[Parallel(n_jobs=1)]: Done 27377 tasks      | elapsed:   37.9s\n",
      "[Parallel(n_jobs=1)]: Done 29524 tasks      | elapsed:   41.0s\n",
      "[Parallel(n_jobs=1)]: Done 31751 tasks      | elapsed:   44.3s\n",
      "\n",
      "[2023-11-15 00:15:50] Features: 4/10 -- score: 0.9746835443037974[Parallel(n_jobs=1)]: Done  40 tasks      | elapsed:    0.0s\n",
      "[Parallel(n_jobs=1)]: Done 161 tasks      | elapsed:    0.2s\n",
      "[Parallel(n_jobs=1)]: Done 364 tasks      | elapsed:    0.5s\n",
      "[Parallel(n_jobs=1)]: Done 647 tasks      | elapsed:    0.9s\n",
      "[Parallel(n_jobs=1)]: Done 1012 tasks      | elapsed:    1.5s\n",
      "[Parallel(n_jobs=1)]: Done 1457 tasks      | elapsed:    2.1s\n",
      "[Parallel(n_jobs=1)]: Done 1984 tasks      | elapsed:    2.9s\n",
      "[Parallel(n_jobs=1)]: Done 2591 tasks      | elapsed:    3.7s\n",
      "[Parallel(n_jobs=1)]: Done 3280 tasks      | elapsed:    4.7s\n",
      "[Parallel(n_jobs=1)]: Done 4049 tasks      | elapsed:    5.8s\n",
      "[Parallel(n_jobs=1)]: Done 4900 tasks      | elapsed:    7.1s\n",
      "[Parallel(n_jobs=1)]: Done 5831 tasks      | elapsed:    8.5s\n",
      "[Parallel(n_jobs=1)]: Done 6844 tasks      | elapsed:    9.9s\n",
      "[Parallel(n_jobs=1)]: Done 7937 tasks      | elapsed:   11.6s\n",
      "[Parallel(n_jobs=1)]: Done 9112 tasks      | elapsed:   13.3s\n",
      "[Parallel(n_jobs=1)]: Done 10367 tasks      | elapsed:   15.5s\n",
      "[Parallel(n_jobs=1)]: Done 11704 tasks      | elapsed:   17.4s\n",
      "[Parallel(n_jobs=1)]: Done 13121 tasks      | elapsed:   19.6s\n",
      "[Parallel(n_jobs=1)]: Done 14620 tasks      | elapsed:   22.0s\n",
      "[Parallel(n_jobs=1)]: Done 16199 tasks      | elapsed:   24.2s\n",
      "[Parallel(n_jobs=1)]: Done 17860 tasks      | elapsed:   26.5s\n",
      "[Parallel(n_jobs=1)]: Done 19601 tasks      | elapsed:   28.9s\n",
      "[Parallel(n_jobs=1)]: Done 21424 tasks      | elapsed:   31.5s\n",
      "[Parallel(n_jobs=1)]: Done 23327 tasks      | elapsed:   34.2s\n",
      "[Parallel(n_jobs=1)]: Done 25312 tasks      | elapsed:   37.2s\n",
      "[Parallel(n_jobs=1)]: Done 27377 tasks      | elapsed:   40.3s\n",
      "[Parallel(n_jobs=1)]: Done 29524 tasks      | elapsed:   43.3s\n",
      "[Parallel(n_jobs=1)]: Done 31751 tasks      | elapsed:   46.6s\n",
      "\n",
      "[2023-11-15 00:16:39] Features: 5/10 -- score: 0.9746835443037974[Parallel(n_jobs=1)]: Done  40 tasks      | elapsed:    0.0s\n",
      "[Parallel(n_jobs=1)]: Done 161 tasks      | elapsed:    0.1s\n",
      "[Parallel(n_jobs=1)]: Done 364 tasks      | elapsed:    0.4s\n",
      "[Parallel(n_jobs=1)]: Done 647 tasks      | elapsed:    0.8s\n",
      "[Parallel(n_jobs=1)]: Done 1012 tasks      | elapsed:    1.4s\n",
      "[Parallel(n_jobs=1)]: Done 1457 tasks      | elapsed:    2.0s\n",
      "[Parallel(n_jobs=1)]: Done 1984 tasks      | elapsed:    2.8s\n",
      "[Parallel(n_jobs=1)]: Done 2591 tasks      | elapsed:    3.7s\n",
      "[Parallel(n_jobs=1)]: Done 3280 tasks      | elapsed:    4.6s\n",
      "[Parallel(n_jobs=1)]: Done 4049 tasks      | elapsed:    5.7s\n",
      "[Parallel(n_jobs=1)]: Done 4900 tasks      | elapsed:    6.9s\n",
      "[Parallel(n_jobs=1)]: Done 5831 tasks      | elapsed:    8.2s\n",
      "[Parallel(n_jobs=1)]: Done 6844 tasks      | elapsed:    9.7s\n",
      "[Parallel(n_jobs=1)]: Done 7937 tasks      | elapsed:   11.3s\n",
      "[Parallel(n_jobs=1)]: Done 9112 tasks      | elapsed:   13.0s\n",
      "[Parallel(n_jobs=1)]: Done 10367 tasks      | elapsed:   15.0s\n",
      "[Parallel(n_jobs=1)]: Done 11704 tasks      | elapsed:   17.0s\n",
      "[Parallel(n_jobs=1)]: Done 13121 tasks      | elapsed:   19.1s\n",
      "[Parallel(n_jobs=1)]: Done 14620 tasks      | elapsed:   21.2s\n",
      "[Parallel(n_jobs=1)]: Done 16199 tasks      | elapsed:   23.6s\n",
      "[Parallel(n_jobs=1)]: Done 17860 tasks      | elapsed:   26.1s\n",
      "[Parallel(n_jobs=1)]: Done 19601 tasks      | elapsed:   28.6s\n",
      "[Parallel(n_jobs=1)]: Done 21424 tasks      | elapsed:   31.1s\n",
      "[Parallel(n_jobs=1)]: Done 23327 tasks      | elapsed:   34.0s\n",
      "[Parallel(n_jobs=1)]: Done 25312 tasks      | elapsed:   36.9s\n",
      "[Parallel(n_jobs=1)]: Done 27377 tasks      | elapsed:   39.7s\n",
      "[Parallel(n_jobs=1)]: Done 29524 tasks      | elapsed:   42.8s\n",
      "[Parallel(n_jobs=1)]: Done 31751 tasks      | elapsed:   45.9s\n",
      "\n",
      "[2023-11-15 00:17:28] Features: 6/10 -- score: 0.9746835443037974[Parallel(n_jobs=1)]: Done  40 tasks      | elapsed:    0.0s\n",
      "[Parallel(n_jobs=1)]: Done 161 tasks      | elapsed:    0.2s\n",
      "[Parallel(n_jobs=1)]: Done 364 tasks      | elapsed:    0.5s\n",
      "[Parallel(n_jobs=1)]: Done 647 tasks      | elapsed:    0.9s\n",
      "[Parallel(n_jobs=1)]: Done 1012 tasks      | elapsed:    1.5s\n",
      "[Parallel(n_jobs=1)]: Done 1457 tasks      | elapsed:    2.1s\n",
      "[Parallel(n_jobs=1)]: Done 1984 tasks      | elapsed:    3.0s\n",
      "[Parallel(n_jobs=1)]: Done 2591 tasks      | elapsed:    3.9s\n",
      "[Parallel(n_jobs=1)]: Done 3280 tasks      | elapsed:    4.9s\n",
      "[Parallel(n_jobs=1)]: Done 4049 tasks      | elapsed:    6.1s\n",
      "[Parallel(n_jobs=1)]: Done 4900 tasks      | elapsed:    7.4s\n",
      "[Parallel(n_jobs=1)]: Done 5831 tasks      | elapsed:    8.9s\n",
      "[Parallel(n_jobs=1)]: Done 6844 tasks      | elapsed:   10.4s\n",
      "[Parallel(n_jobs=1)]: Done 7937 tasks      | elapsed:   12.1s\n",
      "[Parallel(n_jobs=1)]: Done 9112 tasks      | elapsed:   13.9s\n",
      "[Parallel(n_jobs=1)]: Done 10367 tasks      | elapsed:   15.8s\n",
      "[Parallel(n_jobs=1)]: Done 11704 tasks      | elapsed:   17.9s\n",
      "[Parallel(n_jobs=1)]: Done 13121 tasks      | elapsed:   20.0s\n",
      "[Parallel(n_jobs=1)]: Done 14620 tasks      | elapsed:   22.3s\n",
      "[Parallel(n_jobs=1)]: Done 16199 tasks      | elapsed:   24.7s\n",
      "[Parallel(n_jobs=1)]: Done 17860 tasks      | elapsed:   27.4s\n",
      "[Parallel(n_jobs=1)]: Done 19601 tasks      | elapsed:   30.0s\n",
      "[Parallel(n_jobs=1)]: Done 21424 tasks      | elapsed:   32.8s\n",
      "[Parallel(n_jobs=1)]: Done 23327 tasks      | elapsed:   35.8s\n",
      "[Parallel(n_jobs=1)]: Done 25312 tasks      | elapsed:   38.8s\n",
      "[Parallel(n_jobs=1)]: Done 27377 tasks      | elapsed:   42.0s\n",
      "[Parallel(n_jobs=1)]: Done 29524 tasks      | elapsed:   45.3s\n",
      "[Parallel(n_jobs=1)]: Done 31751 tasks      | elapsed:   48.9s\n",
      "\n",
      "[2023-11-15 00:18:19] Features: 7/10 -- score: 0.9746835443037974[Parallel(n_jobs=1)]: Done  40 tasks      | elapsed:    0.0s\n",
      "[Parallel(n_jobs=1)]: Done 161 tasks      | elapsed:    0.2s\n",
      "[Parallel(n_jobs=1)]: Done 364 tasks      | elapsed:    0.5s\n",
      "[Parallel(n_jobs=1)]: Done 647 tasks      | elapsed:    1.0s\n",
      "[Parallel(n_jobs=1)]: Done 1012 tasks      | elapsed:    1.5s\n",
      "[Parallel(n_jobs=1)]: Done 1457 tasks      | elapsed:    2.2s\n",
      "[Parallel(n_jobs=1)]: Done 1984 tasks      | elapsed:    3.1s\n",
      "[Parallel(n_jobs=1)]: Done 2591 tasks      | elapsed:    4.1s\n",
      "[Parallel(n_jobs=1)]: Done 3280 tasks      | elapsed:    5.2s\n",
      "[Parallel(n_jobs=1)]: Done 4049 tasks      | elapsed:    6.4s\n",
      "[Parallel(n_jobs=1)]: Done 4900 tasks      | elapsed:    7.8s\n",
      "[Parallel(n_jobs=1)]: Done 5831 tasks      | elapsed:    9.3s\n",
      "[Parallel(n_jobs=1)]: Done 6844 tasks      | elapsed:   10.9s\n",
      "[Parallel(n_jobs=1)]: Done 7937 tasks      | elapsed:   12.7s\n",
      "[Parallel(n_jobs=1)]: Done 9112 tasks      | elapsed:   14.5s\n",
      "[Parallel(n_jobs=1)]: Done 10367 tasks      | elapsed:   16.5s\n",
      "[Parallel(n_jobs=1)]: Done 11704 tasks      | elapsed:   18.7s\n",
      "[Parallel(n_jobs=1)]: Done 13121 tasks      | elapsed:   20.9s\n",
      "[Parallel(n_jobs=1)]: Done 14620 tasks      | elapsed:   23.3s\n",
      "[Parallel(n_jobs=1)]: Done 16199 tasks      | elapsed:   25.8s\n",
      "[Parallel(n_jobs=1)]: Done 17860 tasks      | elapsed:   28.5s\n",
      "[Parallel(n_jobs=1)]: Done 19601 tasks      | elapsed:   31.3s\n",
      "[Parallel(n_jobs=1)]: Done 21424 tasks      | elapsed:   34.3s\n",
      "[Parallel(n_jobs=1)]: Done 23327 tasks      | elapsed:   37.5s\n",
      "[Parallel(n_jobs=1)]: Done 25312 tasks      | elapsed:   41.0s\n",
      "[Parallel(n_jobs=1)]: Done 27377 tasks      | elapsed:   44.4s\n",
      "[Parallel(n_jobs=1)]: Done 29524 tasks      | elapsed:   47.9s\n",
      "[Parallel(n_jobs=1)]: Done 31751 tasks      | elapsed:   51.4s\n",
      "\n",
      "[2023-11-15 00:19:13] Features: 8/10 -- score: 0.9746835443037974[Parallel(n_jobs=1)]: Done  40 tasks      | elapsed:    0.0s\n",
      "[Parallel(n_jobs=1)]: Done 161 tasks      | elapsed:    0.2s\n",
      "[Parallel(n_jobs=1)]: Done 364 tasks      | elapsed:    0.5s\n",
      "[Parallel(n_jobs=1)]: Done 647 tasks      | elapsed:    1.0s\n",
      "[Parallel(n_jobs=1)]: Done 1012 tasks      | elapsed:    1.6s\n",
      "[Parallel(n_jobs=1)]: Done 1457 tasks      | elapsed:    2.3s\n",
      "[Parallel(n_jobs=1)]: Done 1984 tasks      | elapsed:    3.2s\n",
      "[Parallel(n_jobs=1)]: Done 2591 tasks      | elapsed:    4.3s\n",
      "[Parallel(n_jobs=1)]: Done 3280 tasks      | elapsed:    5.4s\n",
      "[Parallel(n_jobs=1)]: Done 4049 tasks      | elapsed:    6.7s\n",
      "[Parallel(n_jobs=1)]: Done 4900 tasks      | elapsed:    8.2s\n",
      "[Parallel(n_jobs=1)]: Done 5831 tasks      | elapsed:    9.8s\n",
      "[Parallel(n_jobs=1)]: Done 6844 tasks      | elapsed:   11.5s\n",
      "[Parallel(n_jobs=1)]: Done 7937 tasks      | elapsed:   13.4s\n",
      "[Parallel(n_jobs=1)]: Done 9112 tasks      | elapsed:   15.5s\n",
      "[Parallel(n_jobs=1)]: Done 10367 tasks      | elapsed:   17.6s\n",
      "[Parallel(n_jobs=1)]: Done 11704 tasks      | elapsed:   19.9s\n",
      "[Parallel(n_jobs=1)]: Done 13121 tasks      | elapsed:   22.3s\n",
      "[Parallel(n_jobs=1)]: Done 14620 tasks      | elapsed:   24.9s\n",
      "[Parallel(n_jobs=1)]: Done 16199 tasks      | elapsed:   27.6s\n",
      "[Parallel(n_jobs=1)]: Done 17860 tasks      | elapsed:   30.5s\n",
      "[Parallel(n_jobs=1)]: Done 19601 tasks      | elapsed:   33.5s\n",
      "[Parallel(n_jobs=1)]: Done 21424 tasks      | elapsed:   36.6s\n",
      "[Parallel(n_jobs=1)]: Done 23327 tasks      | elapsed:   39.8s\n",
      "[Parallel(n_jobs=1)]: Done 25312 tasks      | elapsed:   43.2s\n",
      "[Parallel(n_jobs=1)]: Done 27377 tasks      | elapsed:   46.8s\n",
      "[Parallel(n_jobs=1)]: Done 29524 tasks      | elapsed:   50.9s\n",
      "[Parallel(n_jobs=1)]: Done 31751 tasks      | elapsed:   55.0s\n",
      "\n",
      "[2023-11-15 00:20:11] Features: 9/10 -- score: 0.9746835443037974[Parallel(n_jobs=1)]: Done  40 tasks      | elapsed:    0.0s\n",
      "[Parallel(n_jobs=1)]: Done 161 tasks      | elapsed:    0.2s\n",
      "[Parallel(n_jobs=1)]: Done 364 tasks      | elapsed:    0.6s\n",
      "[Parallel(n_jobs=1)]: Done 647 tasks      | elapsed:    1.1s\n",
      "[Parallel(n_jobs=1)]: Done 1012 tasks      | elapsed:    1.7s\n",
      "[Parallel(n_jobs=1)]: Done 1457 tasks      | elapsed:    2.5s\n",
      "[Parallel(n_jobs=1)]: Done 1984 tasks      | elapsed:    3.5s\n",
      "[Parallel(n_jobs=1)]: Done 2591 tasks      | elapsed:    4.6s\n",
      "[Parallel(n_jobs=1)]: Done 3280 tasks      | elapsed:    5.8s\n",
      "[Parallel(n_jobs=1)]: Done 4049 tasks      | elapsed:    7.2s\n",
      "[Parallel(n_jobs=1)]: Done 4900 tasks      | elapsed:    8.8s\n",
      "[Parallel(n_jobs=1)]: Done 5831 tasks      | elapsed:   10.5s\n",
      "[Parallel(n_jobs=1)]: Done 6844 tasks      | elapsed:   12.4s\n",
      "[Parallel(n_jobs=1)]: Done 7937 tasks      | elapsed:   14.4s\n",
      "[Parallel(n_jobs=1)]: Done 9112 tasks      | elapsed:   16.7s\n",
      "[Parallel(n_jobs=1)]: Done 10367 tasks      | elapsed:   18.9s\n",
      "[Parallel(n_jobs=1)]: Done 11704 tasks      | elapsed:   21.5s\n",
      "[Parallel(n_jobs=1)]: Done 13121 tasks      | elapsed:   24.3s\n",
      "[Parallel(n_jobs=1)]: Done 14620 tasks      | elapsed:   27.4s\n",
      "[Parallel(n_jobs=1)]: Done 16199 tasks      | elapsed:   30.2s\n",
      "[Parallel(n_jobs=1)]: Done 17860 tasks      | elapsed:   33.1s\n",
      "[Parallel(n_jobs=1)]: Done 19601 tasks      | elapsed:   36.2s\n",
      "[Parallel(n_jobs=1)]: Done 21424 tasks      | elapsed:   39.5s\n",
      "[Parallel(n_jobs=1)]: Done 23327 tasks      | elapsed:   42.9s\n",
      "[Parallel(n_jobs=1)]: Done 25312 tasks      | elapsed:   46.4s\n",
      "[Parallel(n_jobs=1)]: Done 27377 tasks      | elapsed:   50.1s\n",
      "[Parallel(n_jobs=1)]: Done 29524 tasks      | elapsed:   53.9s\n",
      "[Parallel(n_jobs=1)]: Done 31751 tasks      | elapsed:   57.9s\n",
      "\n",
      "[2023-11-15 00:21:12] Features: 10/10 -- score: 0.9746835443037974"
     ]
    }
   ],
   "source": [
    "from mlxtend.feature_selection import SequentialFeatureSelector as SFS\n",
    "classifier_full = DecisionTreeClassifier()\n",
    "sfs1 = SFS(classifier_full, \n",
    "           k_features=(1, 10), \n",
    "           forward=True, \n",
    "           floating=False, \n",
    "           verbose=2,\n",
    "           scoring='accuracy',\n",
    "           cv=0)\n",
    "\n",
    "sfs1 = sfs1.fit(features, df_y)"
   ]
  },
  {
   "cell_type": "code",
   "execution_count": 43,
   "metadata": {},
   "outputs": [
    {
     "data": {
      "text/plain": [
       "{'feature_idx': (0, 1, 2, 3, 4, 5, 6, 7, 8, 9),\n",
       " 'cv_scores': array([0.97468354]),\n",
       " 'avg_score': 0.9746835443037974,\n",
       " 'feature_names': ('19x__variance_larger_than_standard_deviation',\n",
       "  '19x__has_duplicate_max',\n",
       "  '19x__has_duplicate_min',\n",
       "  '19x__has_duplicate',\n",
       "  '19x__sum_values',\n",
       "  '19x__abs_energy',\n",
       "  '19x__mean_abs_change',\n",
       "  '19x__mean_change',\n",
       "  '19x__mean_second_derivative_central',\n",
       "  '19x__median')}"
      ]
     },
     "execution_count": 43,
     "metadata": {},
     "output_type": "execute_result"
    }
   ],
   "source": [
    "sfs1.subsets_[10]"
   ]
  },
  {
   "cell_type": "code",
   "execution_count": 48,
   "metadata": {},
   "outputs": [],
   "source": [
    "selected_features = features[list(sfs1.subsets_[10]['feature_names'])]"
   ]
  },
  {
   "cell_type": "code",
   "execution_count": 49,
   "metadata": {},
   "outputs": [],
   "source": [
    "X_full_train, X_full_test, y_train, y_test = train_test_split(selected_features, df_y, test_size=.2)"
   ]
  },
  {
   "cell_type": "code",
   "execution_count": 50,
   "metadata": {},
   "outputs": [
    {
     "name": "stdout",
     "output_type": "stream",
     "text": [
      "              precision    recall  f1-score   support\n",
      "\n",
      "           0       0.00      0.00      0.00         1\n",
      "           1       0.67      1.00      0.80         2\n",
      "           2       0.00      0.00      0.00         2\n",
      "           3       0.33      1.00      0.50         1\n",
      "           4       0.50      0.67      0.57         3\n",
      "           5       0.00      0.00      0.00         2\n",
      "           6       0.50      0.50      0.50         2\n",
      "           7       0.00      0.00      0.00         2\n",
      "           9       0.00      0.00      0.00         1\n",
      "\n",
      "    accuracy                           0.38        16\n",
      "   macro avg       0.22      0.35      0.26        16\n",
      "weighted avg       0.26      0.38      0.30        16\n",
      "\n"
     ]
    },
    {
     "name": "stderr",
     "output_type": "stream",
     "text": [
      "d:\\Documentos\\Polito\\Thesis\\Code\\sign-language-recognition\\thesis-venv\\lib\\site-packages\\sklearn\\metrics\\_classification.py:1471: UndefinedMetricWarning: Precision and F-score are ill-defined and being set to 0.0 in labels with no predicted samples. Use `zero_division` parameter to control this behavior.\n",
      "  _warn_prf(average, modifier, msg_start, len(result))\n",
      "d:\\Documentos\\Polito\\Thesis\\Code\\sign-language-recognition\\thesis-venv\\lib\\site-packages\\sklearn\\metrics\\_classification.py:1471: UndefinedMetricWarning: Precision and F-score are ill-defined and being set to 0.0 in labels with no predicted samples. Use `zero_division` parameter to control this behavior.\n",
      "  _warn_prf(average, modifier, msg_start, len(result))\n",
      "d:\\Documentos\\Polito\\Thesis\\Code\\sign-language-recognition\\thesis-venv\\lib\\site-packages\\sklearn\\metrics\\_classification.py:1471: UndefinedMetricWarning: Precision and F-score are ill-defined and being set to 0.0 in labels with no predicted samples. Use `zero_division` parameter to control this behavior.\n",
      "  _warn_prf(average, modifier, msg_start, len(result))\n"
     ]
    }
   ],
   "source": [
    "classifier_full = DecisionTreeClassifier()\n",
    "classifier_full.fit(X_full_train, y_train)\n",
    "print(classification_report(y_test, classifier_full.predict(X_full_test)))"
   ]
  },
  {
   "cell_type": "code",
   "execution_count": null,
   "metadata": {},
   "outputs": [],
   "source": []
  }
 ],
 "metadata": {
  "kernelspec": {
   "display_name": "thesis-venv",
   "language": "python",
   "name": "python3"
  },
  "language_info": {
   "codemirror_mode": {
    "name": "ipython",
    "version": 3
   },
   "file_extension": ".py",
   "mimetype": "text/x-python",
   "name": "python",
   "nbconvert_exporter": "python",
   "pygments_lexer": "ipython3",
   "version": "3.10.7"
  }
 },
 "nbformat": 4,
 "nbformat_minor": 2
}
