{
 "cells": [
  {
   "cell_type": "markdown",
   "metadata": {},
   "source": [
    "# Data augmentation"
   ]
  },
  {
   "cell_type": "markdown",
   "metadata": {},
   "source": [
    "## Ideas\n",
    "- Change background color\n",
    "- Image normalization\n",
    "- zoom range (1.0, 1.2)\n",
    "- width shift range (10%), height shift range (10%)\n",
    "- rotation range (±10°)\n",
    "- brightness range (0.4 1.2)\n",
    "- blurring images using averaging, median, and gaussian for the dynamic sign.\n",
    "- morphological operations erosion and dilation, adding noise salt and paper, and sharpening the dataset's images."
   ]
  },
  {
   "cell_type": "markdown",
   "metadata": {},
   "source": [
    "## Imports"
   ]
  },
  {
   "cell_type": "code",
   "execution_count": 7,
   "metadata": {},
   "outputs": [],
   "source": [
    "import cv2\n",
    "import os\n",
    "import cvzone\n",
    "from cvzone.SelfiSegmentationModule import SelfiSegmentation"
   ]
  },
  {
   "cell_type": "code",
   "execution_count": 19,
   "metadata": {},
   "outputs": [],
   "source": [
    "from pathlib import Path"
   ]
  },
  {
   "cell_type": "markdown",
   "metadata": {},
   "source": [
    "## Change background color"
   ]
  },
  {
   "cell_type": "code",
   "execution_count": 59,
   "metadata": {},
   "outputs": [],
   "source": [
    "# BGR background colors\n",
    "\n",
    "# usual background colors\n",
    "light_beige = (201,227,234)\n",
    "beige = (150,189,210)\n",
    "dark_beige = (126,174,200)\n",
    "white_ish = (230,231,233)\n",
    "white_to_gray = (194,195,197)\n",
    "blue_gray = (193,189,178)\n",
    "naturalwhite = (238,240,240)\n",
    "\n",
    "# unsual\n",
    "white = (255,255,255)\n",
    "orange = (33,102,243)\n",
    "blue = (188,87,35)\n",
    "yellow = (35,237,252)\n",
    "red = (39,33,213)"
   ]
  },
  {
   "cell_type": "code",
   "execution_count": 37,
   "metadata": {},
   "outputs": [],
   "source": [
    "train_or_test = 'train'\n",
    "color = 'usual_colors'\n",
    "\n",
    "video_source_path = Path(f\"D:/Documentos/Polito/Thesis/Datasets/A3LIS-147_italian/trimmed-10/{train_or_test}/\")\n",
    "video_destination_path = Path(f\"D:/Documentos/Polito/Thesis/Datasets/A3LIS-147_italian/trimmed-10/augmented/{color}/{train_or_test}/\")\n",
    "\n",
    "video_destination_path.mkdir(parents=True, exist_ok=True)"
   ]
  },
  {
   "cell_type": "code",
   "execution_count": 63,
   "metadata": {},
   "outputs": [],
   "source": [
    "usual_colors = {'beige':beige, 'lightbeige':light_beige, 'darkbeige':dark_beige, 'naturalwhite':naturalwhite, 'whiteish':white_ish, 'whitetogray':white_to_gray, 'bluegray': blue_gray}\n",
    "unusual_colors = {'white':white, 'orange':orange, 'blue':blue, 'yellow':yellow, 'red':red}"
   ]
  },
  {
   "cell_type": "markdown",
   "metadata": {},
   "source": [
    "### Test"
   ]
  },
  {
   "cell_type": "code",
   "execution_count": 71,
   "metadata": {},
   "outputs": [],
   "source": [
    "video_folder_path = \"D:/Documentos/Polito/Thesis/Datasets/A3LIS-147_italian/trimmed-10/train/\"\n",
    "# video_file_name = \"fal_acqua (online-video-cutter.com).mp4\"\n",
    "video_file_name = \"mmr_allegare (online-video-cutter.com).mp4\"\n",
    "\n",
    "size = (720, 576) # (width, height)\n",
    "fps = 25\n",
    "color_key = 'beige'\n",
    "\n",
    "cap = cv2.VideoCapture(os.path.join(video_folder_path, video_file_name))\n",
    "segmentor = SelfiSegmentation()\n",
    "img_array = list()\n",
    "success = True\n",
    "while success == True:\n",
    "    success, image = cap.read()\n",
    "    if success:\n",
    "        img_out = segmentor.removeBG(image, usual_colors[color_key], cutThreshold=0.8)\n",
    "        cv2.imshow(\"image out\", img_out)\n",
    "        cv2.waitKey(200)\n",
    "        img_array.append(img_out)\n",
    "\n",
    "out = cv2.VideoWriter('test.mp4',cv2.VideoWriter_fourcc(*'DIVX'), fps, size)\n",
    "\n",
    "for i in range(len(img_array)):\n",
    "    out.write(img_array[i])\n",
    "out.release()\n",
    "cv2.destroyAllWindows()\n",
    "cap.release()"
   ]
  },
  {
   "cell_type": "markdown",
   "metadata": {},
   "source": [
    "### Dataset augmentation"
   ]
  },
  {
   "cell_type": "code",
   "execution_count": 72,
   "metadata": {},
   "outputs": [
    {
     "name": "stdout",
     "output_type": "stream",
     "text": [
      "Successfully created fal_abbonamento_beige.mp4 \n",
      "\n",
      "Successfully created fal_abitare_beige.mp4 \n",
      "\n",
      "Successfully created fal_acqua_beige.mp4 \n",
      "\n",
      "Successfully created fal_affitto_beige.mp4 \n",
      "\n",
      "Successfully created fal_allergia_beige.mp4 \n",
      "\n",
      "Successfully created fal_ambulanza_beige.mp4 \n",
      "\n",
      "Successfully created fal_amministrazione_beige.mp4 \n",
      "\n",
      "Successfully created fal_ancona_beige.mp4 \n",
      "\n",
      "Successfully created fef_abitare_beige.mp4 \n",
      "\n",
      "Successfully created fef_acqua_beige.mp4 \n",
      "\n",
      "Successfully created fef_affitto_beige.mp4 \n",
      "\n",
      "Successfully created fef_allegare_beige.mp4 \n",
      "\n",
      "Successfully created fef_allergia_beige.mp4 \n",
      "\n",
      "Successfully created fef_ambulanza_beige.mp4 \n",
      "\n",
      "Successfully created fef_amministrazione_beige.mp4 \n",
      "\n",
      "Successfully created fef_andata_beige.mp4 \n",
      "\n",
      "Successfully created fsf_abitare_beige.mp4 \n",
      "\n",
      "Successfully created fsf_acqua_beige.mp4 \n",
      "\n",
      "Successfully created fsf_affitto_beige.mp4 \n",
      "\n",
      "Successfully created fsf_allegare_beige.mp4 \n",
      "\n",
      "Successfully created fsf_allergia_beige.mp4 \n",
      "\n",
      "Successfully created fsf_ambulanza_beige.mp4 \n",
      "\n",
      "Successfully created fsf_ancona_beige.mp4 \n",
      "\n",
      "Successfully created fsf_andata_beige.mp4 \n",
      "\n",
      "Successfully created mdp_abbonamento_beige.mp4 \n",
      "\n",
      "Successfully created mdp_acqua_beige.mp4 \n",
      "\n",
      "Successfully created mdp_affitto_beige.mp4 \n",
      "\n",
      "Successfully created mdp_allegare_beige.mp4 \n",
      "\n",
      "Successfully created mdp_allergia_beige.mp4 \n",
      "\n",
      "Successfully created mdp_amministrazione_beige.mp4 \n",
      "\n",
      "Successfully created mdp_ancona_beige.mp4 \n",
      "\n",
      "Successfully created mdp_andata_beige.mp4 \n",
      "\n",
      "Successfully created mdq_abbonamento_beige.mp4 \n",
      "\n",
      "Successfully created mdq_acqua_beige.mp4 \n",
      "\n",
      "Successfully created mdq_affitto_beige.mp4 \n",
      "\n",
      "Successfully created mdq_allegare_beige.mp4 \n",
      "\n",
      "Successfully created mdq_ambulanza_beige.mp4 \n",
      "\n",
      "Successfully created mdq_amministrazione_beige.mp4 \n",
      "\n",
      "Successfully created mdq_ancona_beige.mp4 \n",
      "\n",
      "Successfully created mdq_andata_beige.mp4 \n",
      "\n",
      "Successfully created mic_abbonamento_beige.mp4 \n",
      "\n",
      "Successfully created mic_abitare_beige.mp4 \n",
      "\n",
      "Successfully created mic_affitto_beige.mp4 \n",
      "\n",
      "Successfully created mic_allegare_beige.mp4 \n",
      "\n",
      "Successfully created mic_ambulanza_beige.mp4 \n",
      "\n",
      "Successfully created mic_amministrazione_beige.mp4 \n",
      "\n",
      "Successfully created mic_ancona_beige.mp4 \n",
      "\n",
      "Successfully created mic_andata_beige.mp4 \n",
      "\n",
      "Successfully created mmr_abbonamento_beige.mp4 \n",
      "\n",
      "Successfully created mmr_abitare_beige.mp4 \n",
      "\n",
      "Successfully created mmr_affitto_beige.mp4 \n",
      "\n",
      "Successfully created mmr_allegare_beige.mp4 \n",
      "\n",
      "Successfully created mmr_allergia_beige.mp4 \n",
      "\n",
      "Successfully created mmr_amministrazione_beige.mp4 \n",
      "\n",
      "Successfully created mmr_ancona_beige.mp4 \n",
      "\n",
      "Successfully created mmr_andata_beige.mp4 \n",
      "\n",
      "Successfully created mrla_abbonamento_beige.mp4 \n",
      "\n",
      "Successfully created mrla_abitare_beige.mp4 \n",
      "\n",
      "Successfully created mrla_acqua_beige.mp4 \n",
      "\n",
      "Successfully created mrla_allegare_beige.mp4 \n",
      "\n",
      "Successfully created mrla_allergia_beige.mp4 \n",
      "\n",
      "Successfully created mrla_ambulanza_beige.mp4 \n",
      "\n",
      "Successfully created mrla_ancona_beige.mp4 \n",
      "\n",
      "Successfully created mrla_andata_beige.mp4 \n",
      "\n",
      "Successfully created mrlb_abbonamento_beige.mp4 \n",
      "\n",
      "Successfully created mrlb_abitare_beige.mp4 \n",
      "\n",
      "Successfully created mrlb_acqua_beige.mp4 \n",
      "\n",
      "Successfully created mrlb_allegare_beige.mp4 \n",
      "\n",
      "Successfully created mrlb_allergia_beige.mp4 \n",
      "\n",
      "Successfully created mrlb_ambulanza_beige.mp4 \n",
      "\n",
      "Successfully created mrlb_amministrazione_beige.mp4 \n",
      "\n",
      "Successfully created mrlb_andata_beige.mp4 \n",
      "\n",
      "Successfully created msf_abbonamento_beige.mp4 \n",
      "\n",
      "Successfully created msf_abitare_beige.mp4 \n",
      "\n",
      "Successfully created msf_acqua_beige.mp4 \n",
      "\n",
      "Successfully created msf_affitto_beige.mp4 \n",
      "\n",
      "Successfully created msf_allergia_beige.mp4 \n",
      "\n",
      "Successfully created msf_ambulanza_beige.mp4 \n",
      "\n",
      "Successfully created msf_amministrazione_beige.mp4 \n",
      "\n",
      "Successfully created msf_ancona_beige.mp4 \n",
      "\n"
     ]
    }
   ],
   "source": [
    "size = (720, 576) # (width, height)\n",
    "fps = 25\n",
    "\n",
    "color_key = 'beige'\n",
    "color = usual_colors[color_key]\n",
    "\n",
    "for video_file_name in video_source_path.glob('*.mp4'):\n",
    "    label = str(video_file_name.name).split(' ')[0]\n",
    "    new_video_file_name = f\"{label}_{color_key}.mp4\"\n",
    "    cap = cv2.VideoCapture(str(video_file_name))\n",
    "    segmentor = SelfiSegmentation()\n",
    "    img_array = list()\n",
    "    success = True\n",
    "    while success == True:\n",
    "        success, image = cap.read()\n",
    "        if success:\n",
    "            img_out = segmentor.removeBG(image, color, cutThreshold=0.8)\n",
    "            img_array.append(img_out)\n",
    "\n",
    "    out = cv2.VideoWriter(str(video_destination_path/new_video_file_name),cv2.VideoWriter_fourcc(*'DIVX'), fps, size)\n",
    "\n",
    "    for i in range(len(img_array)):\n",
    "        out.write(img_array[i])\n",
    "    out.release()\n",
    "    cv2.destroyAllWindows()\n",
    "    cap.release()\n",
    "\n",
    "    print(f\"Successfully created {new_video_file_name} \\n\")"
   ]
  },
  {
   "cell_type": "code",
   "execution_count": null,
   "metadata": {},
   "outputs": [],
   "source": []
  },
  {
   "cell_type": "code",
   "execution_count": null,
   "metadata": {},
   "outputs": [],
   "source": [
    "img_array = []\n",
    "for filename in video_path.glob('*.jpg'):\n",
    "    img = cv2.imread(str(filename))\n",
    "    height, width, layers = img.shape\n",
    "    size = (width,height)\n",
    "    img_array.append(img)\n",
    "\n",
    "print(size)\n",
    "\n",
    "out = cv2.VideoWriter('test.mp4',cv2.VideoWriter_fourcc(*'DIVX'), 12, size)\n",
    " \n",
    "for i in range(len(img_array)):\n",
    "    out.write(img_array[i])\n",
    "out.release()"
   ]
  },
  {
   "cell_type": "code",
   "execution_count": null,
   "metadata": {},
   "outputs": [],
   "source": []
  },
  {
   "cell_type": "code",
   "execution_count": null,
   "metadata": {},
   "outputs": [],
   "source": []
  },
  {
   "cell_type": "code",
   "execution_count": null,
   "metadata": {},
   "outputs": [],
   "source": []
  },
  {
   "cell_type": "markdown",
   "metadata": {},
   "source": [
    "## Tilt (rotation)"
   ]
  },
  {
   "cell_type": "markdown",
   "metadata": {},
   "source": []
  }
 ],
 "metadata": {
  "kernelspec": {
   "display_name": "thesis-venv",
   "language": "python",
   "name": "python3"
  },
  "language_info": {
   "codemirror_mode": {
    "name": "ipython",
    "version": 3
   },
   "file_extension": ".py",
   "mimetype": "text/x-python",
   "name": "python",
   "nbconvert_exporter": "python",
   "pygments_lexer": "ipython3",
   "version": "3.10.7"
  }
 },
 "nbformat": 4,
 "nbformat_minor": 2
}
