{
 "cells": [
  {
   "cell_type": "markdown",
   "metadata": {},
   "source": [
    "# Imports"
   ]
  },
  {
   "cell_type": "code",
   "execution_count": 2,
   "metadata": {},
   "outputs": [],
   "source": [
    "import tensorflow as tf\n",
    "from tensorflow.keras.callbacks import ModelCheckpoint, Callback\n",
    "import numpy as np\n",
    "import os\n",
    "import PIL\n",
    "import PIL.Image\n",
    "import pathlib\n",
    "from sklearn.model_selection import train_test_split\n",
    "\n",
    "import matplotlib.pyplot as plt"
   ]
  },
  {
   "cell_type": "code",
   "execution_count": 8,
   "metadata": {},
   "outputs": [],
   "source": [
    "import tensorflow_model_optimization as tfmot"
   ]
  },
  {
   "cell_type": "markdown",
   "metadata": {},
   "source": [
    "# Utils"
   ]
  },
  {
   "cell_type": "code",
   "execution_count": 3,
   "metadata": {},
   "outputs": [],
   "source": [
    "class BestEpochTracker(Callback):\n",
    "    def __init__(self):\n",
    "        super().__init__()\n",
    "        self.best_epoch = None\n",
    "        self.best_val_loss = float(\"inf\")\n",
    "\n",
    "    def on_epoch_end(self, epoch, logs=None):\n",
    "        if logs and \"val_loss\" in logs:\n",
    "            current_val_loss = logs[\"val_loss\"]\n",
    "            if current_val_loss < self.best_val_loss:\n",
    "                self.best_val_loss = current_val_loss\n",
    "                self.best_epoch = epoch + 1"
   ]
  },
  {
   "cell_type": "markdown",
   "metadata": {},
   "source": [
    "# Test"
   ]
  },
  {
   "cell_type": "code",
   "execution_count": 1,
   "metadata": {},
   "outputs": [],
   "source": [
    "from model.models import NeuralNetworkModel\n",
    "from dataset.dataset import Dataset"
   ]
  },
  {
   "cell_type": "code",
   "execution_count": 2,
   "metadata": {},
   "outputs": [
    {
     "name": "stdout",
     "output_type": "stream",
     "text": [
      "==== Loading train and validation data ====\n",
      "Found 112 files belonging to 14 classes.\n",
      "Using 92 files for training.\n",
      "Using 20 files for validation.\n",
      "==== Loading test data ====\n",
      "Found 30 files belonging to 14 classes.\n",
      "==== Preparing datasets ====\n"
     ]
    }
   ],
   "source": [
    "train_folder_path = 'D:/Documentos/Polito/Thesis/Datasets/A3LIS-147_italian/trimmed-life/hei-videos-train-seed59-v1/reduced/left/'\n",
    "test_folder_path = 'D:/Documentos/Polito/Thesis/Datasets/A3LIS-147_italian/trimmed-life/hei-videos-test-seed59-v1/reduced/left/'\n",
    "\n",
    "left_ds = Dataset(train_folder_path, test_folder_path, 16, 100)"
   ]
  },
  {
   "cell_type": "code",
   "execution_count": 7,
   "metadata": {},
   "outputs": [
    {
     "name": "stdout",
     "output_type": "stream",
     "text": [
      "==== Building model ====\n"
     ]
    }
   ],
   "source": [
    "left_model = NeuralNetworkModel(left_ds.num_classes)"
   ]
  },
  {
   "cell_type": "code",
   "execution_count": 8,
   "metadata": {},
   "outputs": [
    {
     "name": "stdout",
     "output_type": "stream",
     "text": [
      "==== Compiling model ====\n",
      "==== Training and validating model ====\n",
      "Epoch 1/15\n",
      "6/6 [==============================] - 4s 208ms/step - loss: 2.6658 - accuracy: 0.1413 - val_loss: 2.6965 - val_accuracy: 0.1000\n",
      "Epoch 2/15\n",
      "6/6 [==============================] - 0s 82ms/step - loss: 2.5187 - accuracy: 0.2609 - val_loss: 2.7626 - val_accuracy: 0.1000\n",
      "Epoch 3/15\n",
      "6/6 [==============================] - 1s 112ms/step - loss: 2.2630 - accuracy: 0.3261 - val_loss: 2.5006 - val_accuracy: 0.1500\n",
      "Epoch 4/15\n",
      "6/6 [==============================] - 1s 86ms/step - loss: 1.7332 - accuracy: 0.5217 - val_loss: 2.0699 - val_accuracy: 0.1500\n",
      "Epoch 5/15\n",
      "6/6 [==============================] - 1s 105ms/step - loss: 1.2337 - accuracy: 0.6087 - val_loss: 1.6125 - val_accuracy: 0.4500\n",
      "Epoch 6/15\n",
      "6/6 [==============================] - 0s 82ms/step - loss: 0.9426 - accuracy: 0.6848 - val_loss: 1.6666 - val_accuracy: 0.4000\n",
      "Epoch 7/15\n",
      "6/6 [==============================] - 0s 81ms/step - loss: 0.8171 - accuracy: 0.6957 - val_loss: 1.6606 - val_accuracy: 0.4000\n",
      "Epoch 8/15\n",
      "6/6 [==============================] - 1s 122ms/step - loss: 0.5158 - accuracy: 0.8043 - val_loss: 1.0879 - val_accuracy: 0.7500\n",
      "Epoch 9/15\n",
      "6/6 [==============================] - 0s 80ms/step - loss: 0.3061 - accuracy: 0.9239 - val_loss: 1.5385 - val_accuracy: 0.4000\n",
      "Epoch 10/15\n",
      "6/6 [==============================] - 0s 82ms/step - loss: 0.2160 - accuracy: 0.9239 - val_loss: 1.1720 - val_accuracy: 0.6500\n",
      "Epoch 11/15\n",
      "6/6 [==============================] - 0s 83ms/step - loss: 0.0917 - accuracy: 0.9891 - val_loss: 1.6692 - val_accuracy: 0.5000\n",
      "Epoch 12/15\n",
      "6/6 [==============================] - 0s 83ms/step - loss: 0.0644 - accuracy: 1.0000 - val_loss: 1.2317 - val_accuracy: 0.6500\n",
      "Epoch 13/15\n",
      "6/6 [==============================] - 1s 85ms/step - loss: 0.0269 - accuracy: 1.0000 - val_loss: 1.7407 - val_accuracy: 0.6000\n",
      "Epoch 14/15\n",
      "6/6 [==============================] - 1s 91ms/step - loss: 0.0369 - accuracy: 0.9891 - val_loss: 1.6551 - val_accuracy: 0.6000\n",
      "Epoch 15/15\n",
      "6/6 [==============================] - 1s 102ms/step - loss: 0.0156 - accuracy: 1.0000 - val_loss: 1.5659 - val_accuracy: 0.6000\n"
     ]
    },
    {
     "data": {
      "text/plain": [
       "<keras.callbacks.History at 0x27be05de140>"
      ]
     },
     "execution_count": 8,
     "metadata": {},
     "output_type": "execute_result"
    }
   ],
   "source": [
    "left_model.compile_model()\n",
    "left_model.train(left_ds.train_ds, 15, left_ds.val_ds)"
   ]
  },
  {
   "cell_type": "code",
   "execution_count": 9,
   "metadata": {},
   "outputs": [],
   "source": [
    "left_model.load_weights()"
   ]
  },
  {
   "cell_type": "code",
   "execution_count": 6,
   "metadata": {},
   "outputs": [
    {
     "name": "stdout",
     "output_type": "stream",
     "text": [
      "1/1 [==============================] - 0s 111ms/step\n"
     ]
    },
    {
     "data": {
      "text/plain": [
       "0.6666667"
      ]
     },
     "execution_count": 6,
     "metadata": {},
     "output_type": "execute_result"
    }
   ],
   "source": [
    "left_model.evaluate(left_ds.test_ds)"
   ]
  },
  {
   "cell_type": "code",
   "execution_count": 7,
   "metadata": {},
   "outputs": [
    {
     "name": "stdout",
     "output_type": "stream",
     "text": [
      "==== Building model ====\n",
      "==== Compiling model ====\n",
      "==== Training model ====\n",
      "Epoch 1/8\n",
      "8/8 [==============================] - 1s 68ms/step - loss: 2.6504 - accuracy: 0.0714\n",
      "Epoch 2/8\n",
      "8/8 [==============================] - 1s 68ms/step - loss: 2.5271 - accuracy: 0.1071\n",
      "Epoch 3/8\n",
      "8/8 [==============================] - 1s 68ms/step - loss: 2.2245 - accuracy: 0.2679\n",
      "Epoch 4/8\n",
      "8/8 [==============================] - 1s 69ms/step - loss: 1.6926 - accuracy: 0.4286\n",
      "Epoch 5/8\n",
      "8/8 [==============================] - 1s 71ms/step - loss: 1.2613 - accuracy: 0.6071\n",
      "Epoch 6/8\n",
      "8/8 [==============================] - 1s 69ms/step - loss: 0.9156 - accuracy: 0.7411\n",
      "Epoch 7/8\n",
      "8/8 [==============================] - 1s 69ms/step - loss: 0.7045 - accuracy: 0.7679\n",
      "Epoch 8/8\n",
      "8/8 [==============================] - 1s 71ms/step - loss: 0.4642 - accuracy: 0.8304\n"
     ]
    },
    {
     "data": {
      "text/plain": [
       "<keras.callbacks.History at 0x231a888c3a0>"
      ]
     },
     "execution_count": 7,
     "metadata": {},
     "output_type": "execute_result"
    }
   ],
   "source": [
    "left_model.build_model()\n",
    "left_model.compile_model()\n",
    "left_model.train(left_ds.train_val_ds, left_model.best_epoch)"
   ]
  },
  {
   "cell_type": "code",
   "execution_count": 8,
   "metadata": {},
   "outputs": [
    {
     "name": "stdout",
     "output_type": "stream",
     "text": [
      "1/1 [==============================] - 0s 111ms/step\n"
     ]
    },
    {
     "data": {
      "text/plain": [
       "0.6666667"
      ]
     },
     "execution_count": 8,
     "metadata": {},
     "output_type": "execute_result"
    }
   ],
   "source": [
    "left_model.evaluate(left_ds.test_ds)"
   ]
  },
  {
   "cell_type": "code",
   "execution_count": 32,
   "metadata": {},
   "outputs": [
    {
     "name": "stdout",
     "output_type": "stream",
     "text": [
      "==== Building model ====\n"
     ]
    }
   ],
   "source": [
    "left_model = NeuralNetworkModel(left_ds.num_classes)\n",
    "left_model.load_saved_weights(model_path = \"./model_checkpoint/left_model_reduced\")"
   ]
  },
  {
   "cell_type": "code",
   "execution_count": 33,
   "metadata": {},
   "outputs": [
    {
     "name": "stdout",
     "output_type": "stream",
     "text": [
      "1/1 [==============================] - 0s 333ms/step\n"
     ]
    },
    {
     "data": {
      "text/plain": [
       "0.76666665"
      ]
     },
     "execution_count": 33,
     "metadata": {},
     "output_type": "execute_result"
    }
   ],
   "source": [
    "left_model.evaluate(left_ds.test_ds)"
   ]
  },
  {
   "cell_type": "code",
   "execution_count": null,
   "metadata": {},
   "outputs": [],
   "source": []
  },
  {
   "cell_type": "code",
   "execution_count": null,
   "metadata": {},
   "outputs": [],
   "source": []
  },
  {
   "cell_type": "code",
   "execution_count": 3,
   "metadata": {},
   "outputs": [
    {
     "name": "stdout",
     "output_type": "stream",
     "text": [
      "==== Building model ====\n"
     ]
    }
   ],
   "source": [
    "pruned_left_model = NeuralNetworkModel(left_ds.num_classes, 0.3)"
   ]
  },
  {
   "cell_type": "code",
   "execution_count": 4,
   "metadata": {},
   "outputs": [
    {
     "name": "stdout",
     "output_type": "stream",
     "text": [
      "==== Compiling model ====\n",
      "==== Training and validating model ====\n",
      "Epoch 1/15\n",
      "6/6 [==============================] - 2s 132ms/step - loss: 2.6610 - accuracy: 0.1087 - val_loss: 2.6180 - val_accuracy: 0.1000\n",
      "Epoch 2/15\n",
      "6/6 [==============================] - 1s 113ms/step - loss: 2.5418 - accuracy: 0.2391 - val_loss: 2.5667 - val_accuracy: 0.1000\n",
      "Epoch 3/15\n",
      "6/6 [==============================] - 1s 91ms/step - loss: 2.3540 - accuracy: 0.2065 - val_loss: 2.5310 - val_accuracy: 0.1000\n",
      "Epoch 4/15\n",
      "6/6 [==============================] - 1s 117ms/step - loss: 2.1036 - accuracy: 0.3261 - val_loss: 2.2276 - val_accuracy: 0.2000\n",
      "Epoch 5/15\n",
      "6/6 [==============================] - 1s 122ms/step - loss: 1.9597 - accuracy: 0.3043 - val_loss: 1.8966 - val_accuracy: 0.4000\n",
      "Epoch 6/15\n",
      "6/6 [==============================] - 1s 93ms/step - loss: 1.6084 - accuracy: 0.4457 - val_loss: 1.7502 - val_accuracy: 0.3000\n",
      "Epoch 7/15\n",
      "6/6 [==============================] - 1s 86ms/step - loss: 1.4339 - accuracy: 0.5109 - val_loss: 1.5760 - val_accuracy: 0.4000\n",
      "Epoch 8/15\n",
      "6/6 [==============================] - 1s 121ms/step - loss: 1.2104 - accuracy: 0.6196 - val_loss: 1.3445 - val_accuracy: 0.5500\n",
      "Epoch 9/15\n",
      "6/6 [==============================] - 1s 91ms/step - loss: 1.2236 - accuracy: 0.5652 - val_loss: 1.3155 - val_accuracy: 0.6500\n",
      "Epoch 10/15\n",
      "6/6 [==============================] - 0s 82ms/step - loss: 0.9705 - accuracy: 0.6304 - val_loss: 1.4910 - val_accuracy: 0.4000\n",
      "Epoch 11/15\n",
      "6/6 [==============================] - 0s 82ms/step - loss: 0.7072 - accuracy: 0.7500 - val_loss: 1.3261 - val_accuracy: 0.6500\n",
      "Epoch 12/15\n",
      "6/6 [==============================] - 0s 81ms/step - loss: 0.6163 - accuracy: 0.7826 - val_loss: 1.6611 - val_accuracy: 0.4500\n",
      "Epoch 13/15\n",
      "6/6 [==============================] - 1s 86ms/step - loss: 0.5433 - accuracy: 0.8478 - val_loss: 1.8084 - val_accuracy: 0.4500\n",
      "Epoch 14/15\n",
      "6/6 [==============================] - 1s 99ms/step - loss: 0.4984 - accuracy: 0.8370 - val_loss: 1.3065 - val_accuracy: 0.6500\n",
      "Epoch 15/15\n",
      "6/6 [==============================] - 1s 96ms/step - loss: 0.4548 - accuracy: 0.8152 - val_loss: 1.5422 - val_accuracy: 0.4000\n"
     ]
    },
    {
     "data": {
      "text/plain": [
       "<keras.callbacks.History at 0x1fe7af92d70>"
      ]
     },
     "execution_count": 4,
     "metadata": {},
     "output_type": "execute_result"
    }
   ],
   "source": [
    "pruned_left_model.compile_model()\n",
    "pruned_left_model.train(left_ds.train_ds, 15, left_ds.val_ds)"
   ]
  },
  {
   "cell_type": "code",
   "execution_count": 5,
   "metadata": {},
   "outputs": [
    {
     "name": "stdout",
     "output_type": "stream",
     "text": [
      "1/1 [==============================] - 0s 147ms/step\n"
     ]
    },
    {
     "data": {
      "text/plain": [
       "0.6"
      ]
     },
     "execution_count": 5,
     "metadata": {},
     "output_type": "execute_result"
    }
   ],
   "source": [
    "pruned_left_model.load_weights()\n",
    "pruned_left_model.evaluate(left_ds.test_ds)"
   ]
  },
  {
   "cell_type": "code",
   "execution_count": 6,
   "metadata": {},
   "outputs": [
    {
     "name": "stdout",
     "output_type": "stream",
     "text": [
      "==== Building model ====\n",
      "==== Compiling model ====\n",
      "==== Training model ====\n",
      "Epoch 1/9\n",
      "8/8 [==============================] - 1s 68ms/step - loss: 2.6699 - accuracy: 0.0804\n",
      "Epoch 2/9\n",
      "8/8 [==============================] - 1s 67ms/step - loss: 2.5992 - accuracy: 0.2143\n",
      "Epoch 3/9\n",
      "8/8 [==============================] - 1s 68ms/step - loss: 2.4794 - accuracy: 0.1964\n",
      "Epoch 4/9\n",
      "8/8 [==============================] - 1s 68ms/step - loss: 2.1335 - accuracy: 0.2946\n",
      "Epoch 5/9\n",
      "8/8 [==============================] - 1s 68ms/step - loss: 1.8612 - accuracy: 0.3929\n",
      "Epoch 6/9\n",
      "8/8 [==============================] - 1s 75ms/step - loss: 1.7224 - accuracy: 0.4732\n",
      "Epoch 7/9\n",
      "8/8 [==============================] - 1s 82ms/step - loss: 1.5056 - accuracy: 0.5000\n",
      "Epoch 8/9\n",
      "8/8 [==============================] - 1s 73ms/step - loss: 1.1260 - accuracy: 0.6786\n",
      "Epoch 9/9\n",
      "8/8 [==============================] - 1s 73ms/step - loss: 1.0225 - accuracy: 0.6607\n"
     ]
    },
    {
     "data": {
      "text/plain": [
       "<keras.callbacks.History at 0x1fe0095ad10>"
      ]
     },
     "execution_count": 6,
     "metadata": {},
     "output_type": "execute_result"
    }
   ],
   "source": [
    "pruned_left_model.build_model()\n",
    "pruned_left_model.compile_model()\n",
    "pruned_left_model.train(left_ds.train_val_ds, pruned_left_model.best_epoch)"
   ]
  },
  {
   "cell_type": "code",
   "execution_count": 7,
   "metadata": {},
   "outputs": [
    {
     "name": "stdout",
     "output_type": "stream",
     "text": [
      "1/1 [==============================] - 0s 119ms/step\n"
     ]
    },
    {
     "data": {
      "text/plain": [
       "0.6666667"
      ]
     },
     "execution_count": 7,
     "metadata": {},
     "output_type": "execute_result"
    }
   ],
   "source": [
    "pruned_left_model.evaluate(left_ds.test_ds)"
   ]
  },
  {
   "cell_type": "code",
   "execution_count": null,
   "metadata": {},
   "outputs": [],
   "source": []
  },
  {
   "cell_type": "code",
   "execution_count": 8,
   "metadata": {},
   "outputs": [
    {
     "name": "stdout",
     "output_type": "stream",
     "text": [
      "==== Loading train and validation data ====\n",
      "Found 126 files belonging to 10 classes.\n",
      "Using 104 files for training.\n",
      "Using 22 files for validation.\n",
      "==== Loading test data ====\n",
      "Found 31 files belonging to 10 classes.\n",
      "==== Preparing datasets ====\n"
     ]
    }
   ],
   "source": [
    "train_folder_path = 'D:/Documentos/Polito/Thesis/Datasets/A3LIS-147_italian/trimmed-life/hei-videos-train-seed59-v1/reduced/right modified/'\n",
    "test_folder_path = 'D:/Documentos/Polito/Thesis/Datasets/A3LIS-147_italian/trimmed-life/hei-videos-test-seed59-v1/reduced/right modified/'\n",
    "\n",
    "right_ds = Dataset(train_folder_path, test_folder_path, 16, 100)"
   ]
  },
  {
   "cell_type": "code",
   "execution_count": 9,
   "metadata": {},
   "outputs": [
    {
     "name": "stdout",
     "output_type": "stream",
     "text": [
      "==== Building model ====\n"
     ]
    }
   ],
   "source": [
    "pruned_right_model = NeuralNetworkModel(right_ds.num_classes, 0.3)"
   ]
  },
  {
   "cell_type": "code",
   "execution_count": 10,
   "metadata": {},
   "outputs": [
    {
     "name": "stdout",
     "output_type": "stream",
     "text": [
      "==== Compiling model ====\n",
      "==== Training and validating model ====\n",
      "Epoch 1/20\n"
     ]
    },
    {
     "name": "stdout",
     "output_type": "stream",
     "text": [
      "7/7 [==============================] - 2s 137ms/step - loss: 1.9469 - accuracy: 0.4231 - val_loss: 1.5643 - val_accuracy: 0.5455\n",
      "Epoch 2/20\n",
      "7/7 [==============================] - 1s 78ms/step - loss: 1.6912 - accuracy: 0.4904 - val_loss: 1.4229 - val_accuracy: 0.5455\n",
      "Epoch 3/20\n",
      "7/7 [==============================] - 1s 115ms/step - loss: 1.3424 - accuracy: 0.5481 - val_loss: 1.2359 - val_accuracy: 0.6364\n",
      "Epoch 4/20\n",
      "7/7 [==============================] - 1s 97ms/step - loss: 1.1208 - accuracy: 0.6442 - val_loss: 1.1350 - val_accuracy: 0.6818\n",
      "Epoch 5/20\n",
      "7/7 [==============================] - 1s 82ms/step - loss: 0.8415 - accuracy: 0.7019 - val_loss: 1.0635 - val_accuracy: 0.6818\n",
      "Epoch 6/20\n",
      "7/7 [==============================] - 1s 80ms/step - loss: 0.7486 - accuracy: 0.7308 - val_loss: 1.0211 - val_accuracy: 0.6818\n",
      "Epoch 7/20\n",
      "7/7 [==============================] - 1s 115ms/step - loss: 0.5598 - accuracy: 0.8365 - val_loss: 0.9665 - val_accuracy: 0.8182\n",
      "Epoch 8/20\n",
      "7/7 [==============================] - 1s 77ms/step - loss: 0.5146 - accuracy: 0.8654 - val_loss: 0.9935 - val_accuracy: 0.7273\n",
      "Epoch 9/20\n",
      "7/7 [==============================] - 1s 83ms/step - loss: 0.4394 - accuracy: 0.8846 - val_loss: 0.9401 - val_accuracy: 0.8182\n",
      "Epoch 10/20\n",
      "7/7 [==============================] - 1s 79ms/step - loss: 0.3121 - accuracy: 0.9135 - val_loss: 0.9534 - val_accuracy: 0.8182\n",
      "Epoch 11/20\n",
      "7/7 [==============================] - 1s 85ms/step - loss: 0.2033 - accuracy: 0.9327 - val_loss: 1.2873 - val_accuracy: 0.8182\n",
      "Epoch 12/20\n",
      "7/7 [==============================] - 1s 84ms/step - loss: 0.2075 - accuracy: 0.9327 - val_loss: 1.1722 - val_accuracy: 0.7727\n",
      "Epoch 13/20\n",
      "7/7 [==============================] - 1s 84ms/step - loss: 0.1302 - accuracy: 0.9519 - val_loss: 1.4006 - val_accuracy: 0.8182\n",
      "Epoch 14/20\n",
      "7/7 [==============================] - 1s 82ms/step - loss: 0.1165 - accuracy: 0.9615 - val_loss: 1.2503 - val_accuracy: 0.7727\n",
      "Epoch 15/20\n",
      "7/7 [==============================] - 1s 80ms/step - loss: 0.0850 - accuracy: 0.9808 - val_loss: 2.2048 - val_accuracy: 0.7727\n",
      "Epoch 16/20\n",
      "7/7 [==============================] - 1s 93ms/step - loss: 0.0774 - accuracy: 0.9808 - val_loss: 1.3614 - val_accuracy: 0.7273\n",
      "Epoch 17/20\n",
      "7/7 [==============================] - 1s 81ms/step - loss: 0.0974 - accuracy: 0.9712 - val_loss: 1.9475 - val_accuracy: 0.7273\n",
      "Epoch 18/20\n",
      "7/7 [==============================] - 1s 82ms/step - loss: 0.0949 - accuracy: 0.9712 - val_loss: 1.3290 - val_accuracy: 0.8182\n",
      "Epoch 19/20\n",
      "7/7 [==============================] - 1s 80ms/step - loss: 0.0764 - accuracy: 0.9615 - val_loss: 1.6969 - val_accuracy: 0.7727\n",
      "Epoch 20/20\n",
      "7/7 [==============================] - 1s 86ms/step - loss: 0.0755 - accuracy: 0.9712 - val_loss: 1.3850 - val_accuracy: 0.7273\n"
     ]
    },
    {
     "data": {
      "text/plain": [
       "<keras.callbacks.History at 0x1fe012ec940>"
      ]
     },
     "execution_count": 10,
     "metadata": {},
     "output_type": "execute_result"
    }
   ],
   "source": [
    "pruned_right_model.compile_model()\n",
    "pruned_right_model.train(right_ds.train_ds, 20, right_ds.val_ds)"
   ]
  },
  {
   "cell_type": "code",
   "execution_count": 11,
   "metadata": {},
   "outputs": [
    {
     "name": "stdout",
     "output_type": "stream",
     "text": [
      "1/1 [==============================] - 0s 95ms/step\n"
     ]
    },
    {
     "data": {
      "text/plain": [
       "0.87096775"
      ]
     },
     "execution_count": 11,
     "metadata": {},
     "output_type": "execute_result"
    }
   ],
   "source": [
    "pruned_right_model.load_weights()\n",
    "pruned_right_model.evaluate(right_ds.test_ds)"
   ]
  },
  {
   "cell_type": "code",
   "execution_count": 12,
   "metadata": {},
   "outputs": [
    {
     "name": "stdout",
     "output_type": "stream",
     "text": [
      "==== Building model ====\n",
      "==== Compiling model ====\n",
      "==== Training model ====\n",
      "Epoch 1/7\n",
      "9/9 [==============================] - 2s 68ms/step - loss: 1.8282 - accuracy: 0.4444\n",
      "Epoch 2/7\n",
      "9/9 [==============================] - 1s 69ms/step - loss: 1.5100 - accuracy: 0.4921\n",
      "Epoch 3/7\n",
      "9/9 [==============================] - 1s 105ms/step - loss: 1.4002 - accuracy: 0.5476\n",
      "Epoch 4/7\n",
      "9/9 [==============================] - 1s 72ms/step - loss: 1.1730 - accuracy: 0.5714\n",
      "Epoch 5/7\n",
      "9/9 [==============================] - 1s 73ms/step - loss: 0.9728 - accuracy: 0.6667\n",
      "Epoch 6/7\n",
      "9/9 [==============================] - 1s 69ms/step - loss: 0.8059 - accuracy: 0.7698\n",
      "Epoch 7/7\n",
      "9/9 [==============================] - 1s 76ms/step - loss: 0.6025 - accuracy: 0.8254\n"
     ]
    },
    {
     "data": {
      "text/plain": [
       "<keras.callbacks.History at 0x1fe03e397e0>"
      ]
     },
     "execution_count": 12,
     "metadata": {},
     "output_type": "execute_result"
    }
   ],
   "source": [
    "pruned_right_model.build_model()\n",
    "pruned_right_model.compile_model()\n",
    "pruned_right_model.train(right_ds.train_val_ds, pruned_right_model.best_epoch)"
   ]
  },
  {
   "cell_type": "code",
   "execution_count": 13,
   "metadata": {},
   "outputs": [
    {
     "name": "stdout",
     "output_type": "stream",
     "text": [
      "1/1 [==============================] - 0s 111ms/step\n"
     ]
    },
    {
     "data": {
      "text/plain": [
       "0.8064516"
      ]
     },
     "execution_count": 13,
     "metadata": {},
     "output_type": "execute_result"
    }
   ],
   "source": [
    "pruned_right_model.evaluate(right_ds.test_ds)"
   ]
  },
  {
   "cell_type": "code",
   "execution_count": 42,
   "metadata": {},
   "outputs": [
    {
     "name": "stdout",
     "output_type": "stream",
     "text": [
      "==== Building model ====\n"
     ]
    }
   ],
   "source": [
    "right_model = NeuralNetworkModel(right_ds.num_classes)\n",
    "right_model.load_saved_weights(model_path = \"./model_checkpoint/right_model_reduced\")"
   ]
  },
  {
   "cell_type": "code",
   "execution_count": 44,
   "metadata": {},
   "outputs": [
    {
     "name": "stdout",
     "output_type": "stream",
     "text": [
      "1/1 [==============================] - 1s 916ms/step\n"
     ]
    },
    {
     "data": {
      "text/plain": [
       "0.8064516"
      ]
     },
     "execution_count": 44,
     "metadata": {},
     "output_type": "execute_result"
    }
   ],
   "source": [
    "right_model.evaluate(right_ds.test_ds)"
   ]
  },
  {
   "cell_type": "code",
   "execution_count": 14,
   "metadata": {},
   "outputs": [],
   "source": [
    "from dataset.dataset import CombinedTestDataset\n",
    "from model.models import CombinedModel"
   ]
  },
  {
   "cell_type": "code",
   "execution_count": 15,
   "metadata": {},
   "outputs": [],
   "source": [
    "left_hand_folder = 'D:/Documentos/Polito/Thesis/Datasets/A3LIS-147_italian/trimmed-life/hei-videos-test-seed59-v1/reduced/left/'\n",
    "right_hand_folder = 'D:/Documentos/Polito/Thesis/Datasets/A3LIS-147_italian/trimmed-life/hei-videos-test-seed59-v1/reduced/right/'"
   ]
  },
  {
   "cell_type": "code",
   "execution_count": 16,
   "metadata": {},
   "outputs": [],
   "source": [
    "combined_ds = CombinedTestDataset(\n",
    "    left_hand_folder,\n",
    "    right_hand_folder,\n",
    "    100,\n",
    "    100,\n",
    "    2\n",
    ")"
   ]
  },
  {
   "cell_type": "code",
   "execution_count": 49,
   "metadata": {},
   "outputs": [],
   "source": [
    "combined_model = CombinedModel(\n",
    "    pruned_left_model,\n",
    "    pruned_right_model,\n",
    "    left_ds.class_names,\n",
    "    right_ds.class_names,\n",
    "    weight1=1,\n",
    "    weight2=1,\n",
    "    extra_weight2=4,\n",
    "    top_for_extra=3\n",
    "    )"
   ]
  },
  {
   "cell_type": "code",
   "execution_count": 50,
   "metadata": {},
   "outputs": [
    {
     "name": "stdout",
     "output_type": "stream",
     "text": [
      "Inference Accuracy: 0.7\n"
     ]
    }
   ],
   "source": [
    "combined_model.evaluate(combined_ds.test_ds)"
   ]
  },
  {
   "cell_type": "code",
   "execution_count": 51,
   "metadata": {},
   "outputs": [
    {
     "name": "stdout",
     "output_type": "stream",
     "text": [
      "Sample 1:\n",
      "  True Label: freddo\n",
      "  Prediction: freddo\n",
      "  Model 1 (left) Predictions:\n",
      "    freddo: 93.7%\n",
      "    affitto: 2.6%\n",
      "    abitare: 1.1%\n",
      "  Model 2 (right) Predictions:\n",
      "    freddo: 79.6%\n",
      "    banca: 5.0%\n",
      "    caldo: 5.0%\n",
      "  Averaged Predictions:\n",
      "    freddo: 82.4%\n",
      "    caldo: 4.1%\n",
      "    banca: 4.0%\n",
      "\n",
      "--------------------------------------------------\n",
      "\n",
      "Sample 2:\n",
      "  True Label: cibo\n",
      "  Prediction: caldo\n",
      "  Model 1 (left) Predictions:\n",
      "    caldo: 23.8%\n",
      "    cibo: 22.2%\n",
      "    acqua: 16.9%\n",
      "  Model 2 (right) Predictions:\n",
      "    idle: 99.6%\n",
      "    banca: 0.3%\n",
      "    interprete: 0.1%\n",
      "  Averaged Predictions:\n",
      "    caldo: 23.8%\n",
      "    cibo: 22.2%\n",
      "    acqua: 16.9%\n",
      "\n",
      "--------------------------------------------------\n",
      "\n",
      "Sample 3:\n",
      "  True Label: idle\n",
      "  Prediction: idle\n",
      "  Model 1 (left) Predictions:\n",
      "    idle: 98.5%\n",
      "    banca: 1.0%\n",
      "    interprete: 0.2%\n",
      "  Model 2 (right) Predictions:\n",
      "    idle: 26.7%\n",
      "    freddo: 15.0%\n",
      "    casa: 11.7%\n",
      "  Averaged Predictions:\n",
      "    idle: 98.5%\n",
      "    banca: 1.0%\n",
      "    interprete: 0.2%\n",
      "\n",
      "--------------------------------------------------\n",
      "\n",
      "Sample 4:\n",
      "  True Label: lingua\n",
      "  Prediction: lingua\n",
      "  Model 1 (left) Predictions:\n",
      "    lingua: 88.6%\n",
      "    caldo: 3.9%\n",
      "    affitto: 1.8%\n",
      "  Model 2 (right) Predictions:\n",
      "    idle: 98.7%\n",
      "    interprete: 1.0%\n",
      "    banca: 0.2%\n",
      "  Averaged Predictions:\n",
      "    lingua: 88.6%\n",
      "    caldo: 3.9%\n",
      "    affitto: 1.8%\n",
      "\n",
      "--------------------------------------------------\n",
      "\n",
      "Sample 5:\n",
      "  True Label: interprete\n",
      "  Prediction: interprete\n",
      "  Model 1 (left) Predictions:\n",
      "    interprete: 43.1%\n",
      "    idle: 23.9%\n",
      "    inviare: 12.4%\n",
      "  Model 2 (right) Predictions:\n",
      "    interprete: 93.1%\n",
      "    idle: 5.0%\n",
      "    banca: 0.5%\n",
      "  Averaged Predictions:\n",
      "    interprete: 83.1%\n",
      "    idle: 8.8%\n",
      "    inviare: 2.9%\n",
      "\n",
      "--------------------------------------------------\n",
      "\n",
      "Sample 6:\n",
      "  True Label: data\n",
      "  Prediction: data\n",
      "  Model 1 (left) Predictions:\n",
      "    data: 17.5%\n",
      "    inviare: 14.6%\n",
      "    litro: 12.7%\n",
      "  Model 2 (right) Predictions:\n",
      "    data: 64.4%\n",
      "    casa: 18.6%\n",
      "    caldo: 4.3%\n",
      "  Averaged Predictions:\n",
      "    data: 55.0%\n",
      "    casa: 16.6%\n",
      "    caldo: 5.9%\n",
      "\n",
      "--------------------------------------------------\n",
      "\n",
      "Sample 7:\n",
      "  True Label: affitto\n",
      "  Prediction: affitto\n",
      "  Model 1 (left) Predictions:\n",
      "    affitto: 48.9%\n",
      "    lingua: 47.4%\n",
      "    freddo: 2.1%\n",
      "  Model 2 (right) Predictions:\n",
      "    idle: 100.0%\n",
      "    banca: 0.0%\n",
      "    inviare: 0.0%\n",
      "  Averaged Predictions:\n",
      "    affitto: 48.9%\n",
      "    lingua: 47.4%\n",
      "    freddo: 2.1%\n",
      "\n",
      "--------------------------------------------------\n",
      "\n",
      "Sample 8:\n",
      "  True Label: lingua\n",
      "  Prediction: lingua\n",
      "  Model 1 (left) Predictions:\n",
      "    lingua: 96.8%\n",
      "    banca: 1.5%\n",
      "    affitto: 0.5%\n",
      "  Model 2 (right) Predictions:\n",
      "    idle: 100.0%\n",
      "    interprete: 0.0%\n",
      "    banca: 0.0%\n",
      "  Averaged Predictions:\n",
      "    lingua: 96.8%\n",
      "    banca: 1.5%\n",
      "    affitto: 0.5%\n",
      "\n",
      "--------------------------------------------------\n",
      "\n",
      "Sample 9:\n",
      "  True Label: idle\n",
      "  Prediction: idle\n",
      "  Model 1 (left) Predictions:\n",
      "    idle: 99.3%\n",
      "    banca: 0.4%\n",
      "    cibo: 0.1%\n",
      "  Model 2 (right) Predictions:\n",
      "    idle: 95.2%\n",
      "    interprete: 3.9%\n",
      "    data: 0.4%\n",
      "  Averaged Predictions:\n",
      "    idle: 99.3%\n",
      "    banca: 0.4%\n",
      "    cibo: 0.1%\n",
      "\n",
      "--------------------------------------------------\n",
      "\n",
      "Sample 10:\n",
      "  True Label: idle\n",
      "  Prediction: idle\n",
      "  Model 1 (left) Predictions:\n",
      "    idle: 99.1%\n",
      "    banca: 0.7%\n",
      "    interprete: 0.1%\n",
      "  Model 2 (right) Predictions:\n",
      "    idle: 26.7%\n",
      "    freddo: 15.0%\n",
      "    casa: 11.7%\n",
      "  Averaged Predictions:\n",
      "    idle: 99.1%\n",
      "    banca: 0.7%\n",
      "    interprete: 0.1%\n",
      "\n",
      "--------------------------------------------------\n",
      "\n",
      "Sample 11:\n",
      "  True Label: interprete\n",
      "  Prediction: interprete\n",
      "  Model 1 (left) Predictions:\n",
      "    interprete: 26.7%\n",
      "    abitare: 22.9%\n",
      "    inviare: 12.0%\n",
      "  Model 2 (right) Predictions:\n",
      "    interprete: 85.5%\n",
      "    idle: 13.0%\n",
      "    banca: 0.4%\n",
      "  Averaged Predictions:\n",
      "    interprete: 73.8%\n",
      "    idle: 10.5%\n",
      "    abitare: 4.8%\n",
      "\n",
      "--------------------------------------------------\n",
      "\n",
      "Sample 12:\n",
      "  True Label: acqua\n",
      "  Prediction: cibo\n",
      "  Model 1 (left) Predictions:\n",
      "    cibo: 38.8%\n",
      "    banca: 21.6%\n",
      "    acqua: 14.6%\n",
      "  Model 2 (right) Predictions:\n",
      "    idle: 95.8%\n",
      "    banca: 3.6%\n",
      "    inviare: 0.4%\n",
      "  Averaged Predictions:\n",
      "    cibo: 38.8%\n",
      "    banca: 21.6%\n",
      "    acqua: 14.6%\n",
      "\n",
      "--------------------------------------------------\n",
      "\n",
      "Sample 13:\n",
      "  True Label: litro\n",
      "  Prediction: inviare\n",
      "  Model 1 (left) Predictions:\n",
      "    inviare: 39.1%\n",
      "    interprete: 28.8%\n",
      "    banca: 16.0%\n",
      "  Model 2 (right) Predictions:\n",
      "    inviare: 28.7%\n",
      "    banca: 25.4%\n",
      "    litro: 24.6%\n",
      "  Averaged Predictions:\n",
      "    inviare: 30.8%\n",
      "    banca: 23.5%\n",
      "    litro: 20.9%\n",
      "\n",
      "--------------------------------------------------\n",
      "\n",
      "Sample 14:\n",
      "  True Label: cibo\n",
      "  Prediction: cibo\n",
      "  Model 1 (left) Predictions:\n",
      "    cibo: 37.6%\n",
      "    caldo: 24.6%\n",
      "    acqua: 16.8%\n",
      "  Model 2 (right) Predictions:\n",
      "    idle: 92.4%\n",
      "    banca: 4.7%\n",
      "    data: 0.7%\n",
      "  Averaged Predictions:\n",
      "    cibo: 37.6%\n",
      "    caldo: 24.6%\n",
      "    acqua: 16.8%\n",
      "\n",
      "--------------------------------------------------\n",
      "\n",
      "Sample 15:\n",
      "  True Label: acqua\n",
      "  Prediction: caldo\n",
      "  Model 1 (left) Predictions:\n",
      "    caldo: 23.9%\n",
      "    data: 21.7%\n",
      "    cibo: 18.6%\n",
      "  Model 2 (right) Predictions:\n",
      "    idle: 100.0%\n",
      "    interprete: 0.0%\n",
      "    banca: 0.0%\n",
      "  Averaged Predictions:\n",
      "    caldo: 23.9%\n",
      "    data: 21.7%\n",
      "    cibo: 18.6%\n",
      "\n",
      "--------------------------------------------------\n",
      "\n",
      "Sample 16:\n",
      "  True Label: inviare\n",
      "  Prediction: banca\n",
      "  Model 1 (left) Predictions:\n",
      "    banca: 47.1%\n",
      "    inviare: 31.4%\n",
      "    idle: 6.4%\n",
      "  Model 2 (right) Predictions:\n",
      "    banca: 32.1%\n",
      "    inviare: 27.5%\n",
      "    idle: 17.2%\n",
      "  Averaged Predictions:\n",
      "    banca: 35.1%\n",
      "    inviare: 28.3%\n",
      "    idle: 15.1%\n",
      "\n",
      "--------------------------------------------------\n",
      "\n",
      "Sample 17:\n",
      "  True Label: caldo\n",
      "  Prediction: caldo\n",
      "  Model 1 (left) Predictions:\n",
      "    cibo: 38.4%\n",
      "    caldo: 34.9%\n",
      "    data: 11.0%\n",
      "  Model 2 (right) Predictions:\n",
      "    caldo: 39.2%\n",
      "    freddo: 19.4%\n",
      "    data: 15.1%\n",
      "  Averaged Predictions:\n",
      "    caldo: 38.4%\n",
      "    freddo: 15.5%\n",
      "    data: 14.2%\n",
      "\n",
      "--------------------------------------------------\n",
      "\n",
      "Sample 18:\n",
      "  True Label: freddo\n",
      "  Prediction: freddo\n",
      "  Model 1 (left) Predictions:\n",
      "    freddo: 50.9%\n",
      "    casa: 13.4%\n",
      "    lingua: 7.4%\n",
      "  Model 2 (right) Predictions:\n",
      "    idle: 31.2%\n",
      "    banca: 18.7%\n",
      "    caldo: 15.5%\n",
      "  Averaged Predictions:\n",
      "    freddo: 50.9%\n",
      "    casa: 13.4%\n",
      "    lingua: 7.4%\n",
      "\n",
      "--------------------------------------------------\n",
      "\n",
      "Sample 19:\n",
      "  True Label: banca\n",
      "  Prediction: lingua\n",
      "  Model 1 (left) Predictions:\n",
      "    lingua: 54.8%\n",
      "    banca: 32.1%\n",
      "    idle: 3.8%\n",
      "  Model 2 (right) Predictions:\n",
      "    casa: 37.5%\n",
      "    idle: 15.3%\n",
      "    freddo: 13.6%\n",
      "  Averaged Predictions:\n",
      "    lingua: 27.4%\n",
      "    casa: 19.4%\n",
      "    banca: 19.4%\n",
      "\n",
      "--------------------------------------------------\n",
      "\n",
      "Sample 20:\n",
      "  True Label: abitare\n",
      "  Prediction: abitare\n",
      "  Model 1 (left) Predictions:\n",
      "    abitare: 41.9%\n",
      "    lingua: 24.8%\n",
      "    affitto: 9.0%\n",
      "  Model 2 (right) Predictions:\n",
      "    abitare: 82.0%\n",
      "    litro: 5.1%\n",
      "    interprete: 3.8%\n",
      "  Averaged Predictions:\n",
      "    abitare: 74.0%\n",
      "    lingua: 5.0%\n",
      "    litro: 4.8%\n",
      "\n",
      "--------------------------------------------------\n",
      "\n",
      "Sample 21:\n",
      "  True Label: caldo\n",
      "  Prediction: caldo\n",
      "  Model 1 (left) Predictions:\n",
      "    caldo: 45.2%\n",
      "    cibo: 19.9%\n",
      "    data: 10.8%\n",
      "  Model 2 (right) Predictions:\n",
      "    idle: 100.0%\n",
      "    banca: 0.0%\n",
      "    interprete: 0.0%\n",
      "  Averaged Predictions:\n",
      "    caldo: 45.2%\n",
      "    cibo: 19.9%\n",
      "    data: 10.8%\n",
      "\n",
      "--------------------------------------------------\n",
      "\n",
      "Sample 22:\n",
      "  True Label: casa\n",
      "  Prediction: casa\n",
      "  Model 1 (left) Predictions:\n",
      "    casa: 84.1%\n",
      "    lingua: 6.7%\n",
      "    acqua: 4.2%\n",
      "  Model 2 (right) Predictions:\n",
      "    casa: 51.5%\n",
      "    data: 14.3%\n",
      "    caldo: 9.6%\n",
      "  Averaged Predictions:\n",
      "    casa: 58.0%\n",
      "    data: 11.7%\n",
      "    caldo: 8.0%\n",
      "\n",
      "--------------------------------------------------\n",
      "\n",
      "Sample 23:\n",
      "  True Label: litro\n",
      "  Prediction: affitto\n",
      "  Model 1 (left) Predictions:\n",
      "    affitto: 42.7%\n",
      "    litro: 22.3%\n",
      "    lingua: 13.4%\n",
      "  Model 2 (right) Predictions:\n",
      "    banca: 28.6%\n",
      "    inviare: 23.3%\n",
      "    litro: 15.7%\n",
      "  Averaged Predictions:\n",
      "    affitto: 21.3%\n",
      "    litro: 19.0%\n",
      "    banca: 15.0%\n",
      "\n",
      "--------------------------------------------------\n",
      "\n",
      "Sample 24:\n",
      "  True Label: affitto\n",
      "  Prediction: inviare\n",
      "  Model 1 (left) Predictions:\n",
      "    inviare: 45.1%\n",
      "    affitto: 12.3%\n",
      "    litro: 9.9%\n",
      "  Model 2 (right) Predictions:\n",
      "    idle: 99.7%\n",
      "    interprete: 0.2%\n",
      "    banca: 0.1%\n",
      "  Averaged Predictions:\n",
      "    inviare: 45.1%\n",
      "    affitto: 12.3%\n",
      "    litro: 9.9%\n",
      "\n",
      "--------------------------------------------------\n",
      "\n",
      "Sample 25:\n",
      "  True Label: abitare\n",
      "  Prediction: abitare\n",
      "  Model 1 (left) Predictions:\n",
      "    abitare: 78.6%\n",
      "    affitto: 16.1%\n",
      "    freddo: 4.5%\n",
      "  Model 2 (right) Predictions:\n",
      "    abitare: 88.7%\n",
      "    interprete: 2.4%\n",
      "    idle: 2.3%\n",
      "  Averaged Predictions:\n",
      "    abitare: 86.7%\n",
      "    affitto: 3.2%\n",
      "    interprete: 2.0%\n",
      "\n",
      "--------------------------------------------------\n",
      "\n",
      "Sample 26:\n",
      "  True Label: inviare\n",
      "  Prediction: lingua\n",
      "  Model 1 (left) Predictions:\n",
      "    lingua: 88.2%\n",
      "    banca: 5.3%\n",
      "    affitto: 3.4%\n",
      "  Model 2 (right) Predictions:\n",
      "    litro: 49.9%\n",
      "    banca: 19.8%\n",
      "    inviare: 18.4%\n",
      "  Averaged Predictions:\n",
      "    lingua: 44.1%\n",
      "    litro: 25.7%\n",
      "    banca: 12.6%\n",
      "\n",
      "--------------------------------------------------\n",
      "\n",
      "Sample 27:\n",
      "  True Label: banca\n",
      "  Prediction: banca\n",
      "  Model 1 (left) Predictions:\n",
      "    banca: 33.9%\n",
      "    caldo: 15.5%\n",
      "    litro: 11.2%\n",
      "  Model 2 (right) Predictions:\n",
      "    banca: 30.8%\n",
      "    inviare: 26.3%\n",
      "    litro: 21.0%\n",
      "  Averaged Predictions:\n",
      "    banca: 31.4%\n",
      "    inviare: 21.7%\n",
      "    litro: 19.1%\n",
      "\n",
      "--------------------------------------------------\n",
      "\n",
      "Sample 28:\n",
      "  True Label: idle\n",
      "  Prediction: idle\n",
      "  Model 1 (left) Predictions:\n",
      "    idle: 77.4%\n",
      "    cibo: 10.8%\n",
      "    banca: 8.0%\n",
      "  Model 2 (right) Predictions:\n",
      "    idle: 99.3%\n",
      "    interprete: 0.5%\n",
      "    banca: 0.2%\n",
      "  Averaged Predictions:\n",
      "    idle: 77.4%\n",
      "    cibo: 10.8%\n",
      "    banca: 8.0%\n",
      "\n",
      "--------------------------------------------------\n",
      "\n",
      "Sample 29:\n",
      "  True Label: data\n",
      "  Prediction: data\n",
      "  Model 1 (left) Predictions:\n",
      "    data: 44.6%\n",
      "    cibo: 14.9%\n",
      "    caldo: 12.8%\n",
      "  Model 2 (right) Predictions:\n",
      "    data: 69.9%\n",
      "    casa: 11.9%\n",
      "    idle: 4.3%\n",
      "  Averaged Predictions:\n",
      "    data: 64.8%\n",
      "    casa: 10.8%\n",
      "    caldo: 5.8%\n",
      "\n",
      "--------------------------------------------------\n",
      "\n",
      "Sample 30:\n",
      "  True Label: casa\n",
      "  Prediction: casa\n",
      "  Model 1 (left) Predictions:\n",
      "    casa: 85.2%\n",
      "    caldo: 4.9%\n",
      "    data: 2.4%\n",
      "  Model 2 (right) Predictions:\n",
      "    casa: 69.8%\n",
      "    freddo: 5.8%\n",
      "    caldo: 5.7%\n",
      "  Averaged Predictions:\n",
      "    casa: 72.9%\n",
      "    caldo: 5.5%\n",
      "    data: 4.8%\n",
      "\n",
      "--------------------------------------------------\n",
      "\n"
     ]
    }
   ],
   "source": [
    "combined_model.show_predictions()"
   ]
  },
  {
   "cell_type": "code",
   "execution_count": 47,
   "metadata": {},
   "outputs": [],
   "source": [
    "combined_model2 = CombinedModel(\n",
    "    left_model,\n",
    "    right_model,\n",
    "    left_ds.class_names,\n",
    "    right_ds.class_names,\n",
    "    weight1=1,\n",
    "    weight2=1,\n",
    "    extra_weight2=4,\n",
    "    top_for_extra=3\n",
    "    )"
   ]
  },
  {
   "cell_type": "code",
   "execution_count": 48,
   "metadata": {},
   "outputs": [
    {
     "name": "stdout",
     "output_type": "stream",
     "text": [
      "Inference Accuracy: 0.9\n"
     ]
    }
   ],
   "source": [
    "combined_model2.evaluate(combined_ds.test_ds)"
   ]
  },
  {
   "cell_type": "markdown",
   "metadata": {},
   "source": [
    "### Testing"
   ]
  },
  {
   "cell_type": "code",
   "execution_count": null,
   "metadata": {},
   "outputs": [],
   "source": []
  }
 ],
 "metadata": {
  "kernelspec": {
   "display_name": "thesis-venv",
   "language": "python",
   "name": "python3"
  },
  "language_info": {
   "codemirror_mode": {
    "name": "ipython",
    "version": 3
   },
   "file_extension": ".py",
   "mimetype": "text/x-python",
   "name": "python",
   "nbconvert_exporter": "python",
   "pygments_lexer": "ipython3",
   "version": "3.10.7"
  },
  "orig_nbformat": 4
 },
 "nbformat": 4,
 "nbformat_minor": 2
}
