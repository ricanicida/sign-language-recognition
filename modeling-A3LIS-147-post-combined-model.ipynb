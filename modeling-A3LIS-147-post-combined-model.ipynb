{
 "cells": [
  {
   "cell_type": "markdown",
   "metadata": {},
   "source": [
    "# Imports"
   ]
  },
  {
   "cell_type": "code",
   "execution_count": 1,
   "metadata": {},
   "outputs": [],
   "source": [
    "import tensorflow as tf\n",
    "from tensorflow.keras.callbacks import ModelCheckpoint, Callback\n",
    "import numpy as np\n",
    "import os\n",
    "import PIL\n",
    "import PIL.Image\n",
    "import pathlib\n",
    "from sklearn.model_selection import train_test_split\n",
    "\n",
    "import matplotlib.pyplot as plt"
   ]
  },
  {
   "cell_type": "code",
   "execution_count": 2,
   "metadata": {},
   "outputs": [],
   "source": [
    "import tensorflow_model_optimization as tfmot"
   ]
  },
  {
   "cell_type": "markdown",
   "metadata": {},
   "source": [
    "# Utils"
   ]
  },
  {
   "cell_type": "code",
   "execution_count": 3,
   "metadata": {},
   "outputs": [],
   "source": [
    "class BestEpochTracker(Callback):\n",
    "    def __init__(self):\n",
    "        super().__init__()\n",
    "        self.best_epoch = None\n",
    "        self.best_val_loss = float(\"inf\")\n",
    "\n",
    "    def on_epoch_end(self, epoch, logs=None):\n",
    "        if logs and \"val_loss\" in logs:\n",
    "            current_val_loss = logs[\"val_loss\"]\n",
    "            if current_val_loss < self.best_val_loss:\n",
    "                self.best_val_loss = current_val_loss\n",
    "                self.best_epoch = epoch + 1"
   ]
  },
  {
   "cell_type": "markdown",
   "metadata": {},
   "source": [
    "# Test"
   ]
  },
  {
   "cell_type": "markdown",
   "metadata": {},
   "source": [
    "## left dataset"
   ]
  },
  {
   "cell_type": "code",
   "execution_count": 5,
   "metadata": {},
   "outputs": [],
   "source": [
    "from model.models import NeuralNetworkModel\n",
    "from dataset.dataset import Dataset"
   ]
  },
  {
   "cell_type": "code",
   "execution_count": 6,
   "metadata": {},
   "outputs": [
    {
     "name": "stdout",
     "output_type": "stream",
     "text": [
      "==== Loading train and validation data ====\n",
      "Found 112 files belonging to 14 classes.\n",
      "Using 92 files for training.\n",
      "Using 20 files for validation.\n",
      "==== Loading test data ====\n",
      "Found 30 files belonging to 14 classes.\n",
      "==== Preparing datasets ====\n"
     ]
    }
   ],
   "source": [
    "train_folder_path = 'D:/Documentos/Polito/Thesis/Datasets/A3LIS-147_italian/trimmed-life/hei-videos-train-seed59-v1/reduced/left/'\n",
    "test_folder_path = 'D:/Documentos/Polito/Thesis/Datasets/A3LIS-147_italian/trimmed-life/hei-videos-test-seed59-v1/reduced/left/'\n",
    "\n",
    "left_ds = Dataset(train_folder_path, test_folder_path, 16, 100)"
   ]
  },
  {
   "cell_type": "markdown",
   "metadata": {},
   "source": [
    "## left model"
   ]
  },
  {
   "cell_type": "code",
   "execution_count": 471,
   "metadata": {},
   "outputs": [
    {
     "name": "stdout",
     "output_type": "stream",
     "text": [
      "==== Building model ====\n"
     ]
    }
   ],
   "source": [
    "left_model = NeuralNetworkModel(left_ds.num_classes, dropout_rate=0.3, model_version=1)"
   ]
  },
  {
   "cell_type": "code",
   "execution_count": 472,
   "metadata": {},
   "outputs": [
    {
     "name": "stdout",
     "output_type": "stream",
     "text": [
      "==== Compiling model ====\n",
      "==== Training and validating model ====\n",
      "Epoch 1/50\n",
      "6/6 [==============================] - 5s 278ms/step - loss: 2.6479 - accuracy: 0.0326 - val_loss: 2.6395 - val_accuracy: 0.1500\n",
      "Epoch 2/50\n",
      "6/6 [==============================] - 1s 104ms/step - loss: 2.6369 - accuracy: 0.1087 - val_loss: 2.6446 - val_accuracy: 0.1000\n",
      "Epoch 3/50\n",
      "6/6 [==============================] - 1s 125ms/step - loss: 2.6349 - accuracy: 0.0761 - val_loss: 2.6577 - val_accuracy: 0.1000\n",
      "Epoch 4/50\n",
      "6/6 [==============================] - 1s 120ms/step - loss: 2.6386 - accuracy: 0.0870 - val_loss: 2.6692 - val_accuracy: 0.1000\n",
      "Epoch 5/50\n",
      "6/6 [==============================] - 1s 117ms/step - loss: 2.6315 - accuracy: 0.0761 - val_loss: 2.6845 - val_accuracy: 0.1000\n",
      "Epoch 6/50\n",
      "6/6 [==============================] - 1s 145ms/step - loss: 2.6229 - accuracy: 0.0978 - val_loss: 2.7190 - val_accuracy: 0.1000\n",
      "Epoch 7/50\n",
      "6/6 [==============================] - 1s 123ms/step - loss: 2.6243 - accuracy: 0.1848 - val_loss: 2.7371 - val_accuracy: 0.1000\n",
      "Epoch 8/50\n",
      "6/6 [==============================] - 1s 114ms/step - loss: 2.6149 - accuracy: 0.0978 - val_loss: 2.7555 - val_accuracy: 0.1000\n",
      "Epoch 9/50\n",
      "6/6 [==============================] - 1s 117ms/step - loss: 2.6107 - accuracy: 0.1087 - val_loss: 2.7578 - val_accuracy: 0.1000\n",
      "Epoch 10/50\n",
      "6/6 [==============================] - 1s 107ms/step - loss: 2.6168 - accuracy: 0.1087 - val_loss: 2.7604 - val_accuracy: 0.1000\n",
      "Epoch 11/50\n",
      "6/6 [==============================] - 1s 113ms/step - loss: 2.6213 - accuracy: 0.0761 - val_loss: 2.7228 - val_accuracy: 0.1000\n",
      "Epoch 12/50\n",
      "6/6 [==============================] - 1s 111ms/step - loss: 2.6038 - accuracy: 0.1304 - val_loss: 2.7523 - val_accuracy: 0.1000\n",
      "Epoch 13/50\n",
      "6/6 [==============================] - 1s 111ms/step - loss: 2.6124 - accuracy: 0.0870 - val_loss: 2.7663 - val_accuracy: 0.1000\n",
      "Epoch 14/50\n",
      "6/6 [==============================] - 1s 128ms/step - loss: 2.5974 - accuracy: 0.0978 - val_loss: 2.7624 - val_accuracy: 0.1000\n",
      "Epoch 15/50\n",
      "6/6 [==============================] - 1s 111ms/step - loss: 2.6002 - accuracy: 0.1087 - val_loss: 2.7408 - val_accuracy: 0.1000\n",
      "Epoch 16/50\n",
      "6/6 [==============================] - 1s 108ms/step - loss: 2.5743 - accuracy: 0.1739 - val_loss: 2.7469 - val_accuracy: 0.1000\n",
      "Epoch 17/50\n",
      "6/6 [==============================] - 1s 119ms/step - loss: 2.5531 - accuracy: 0.1413 - val_loss: 2.7317 - val_accuracy: 0.1000\n",
      "Epoch 18/50\n",
      "6/6 [==============================] - 1s 108ms/step - loss: 2.5100 - accuracy: 0.2391 - val_loss: 2.7118 - val_accuracy: 0.1000\n",
      "Epoch 19/50\n",
      "6/6 [==============================] - 1s 129ms/step - loss: 2.4287 - accuracy: 0.2065 - val_loss: 2.6495 - val_accuracy: 0.1000\n",
      "Epoch 20/50\n",
      "6/6 [==============================] - 1s 138ms/step - loss: 2.2718 - accuracy: 0.3261 - val_loss: 2.5963 - val_accuracy: 0.2000\n",
      "Epoch 21/50\n",
      "6/6 [==============================] - 1s 111ms/step - loss: 2.0801 - accuracy: 0.3587 - val_loss: 2.5148 - val_accuracy: 0.2000\n",
      "Epoch 22/50\n",
      "6/6 [==============================] - 1s 155ms/step - loss: 1.9070 - accuracy: 0.4674 - val_loss: 2.4593 - val_accuracy: 0.2500\n",
      "Epoch 23/50\n",
      "6/6 [==============================] - 1s 107ms/step - loss: 1.5709 - accuracy: 0.5761 - val_loss: 2.4319 - val_accuracy: 0.1500\n",
      "Epoch 24/50\n",
      "6/6 [==============================] - 1s 164ms/step - loss: 1.5056 - accuracy: 0.5217 - val_loss: 2.0753 - val_accuracy: 0.3500\n",
      "Epoch 25/50\n",
      "6/6 [==============================] - 1s 108ms/step - loss: 1.1185 - accuracy: 0.6304 - val_loss: 2.2628 - val_accuracy: 0.3000\n",
      "Epoch 26/50\n",
      "6/6 [==============================] - 1s 105ms/step - loss: 0.8471 - accuracy: 0.7065 - val_loss: 2.1679 - val_accuracy: 0.3500\n",
      "Epoch 27/50\n",
      "6/6 [==============================] - 1s 116ms/step - loss: 0.7374 - accuracy: 0.7174 - val_loss: 2.0963 - val_accuracy: 0.3000\n",
      "Epoch 28/50\n",
      "6/6 [==============================] - 1s 150ms/step - loss: 0.5339 - accuracy: 0.8696 - val_loss: 1.8841 - val_accuracy: 0.4500\n",
      "Epoch 29/50\n",
      "6/6 [==============================] - 1s 119ms/step - loss: 0.5477 - accuracy: 0.7826 - val_loss: 2.2542 - val_accuracy: 0.3500\n",
      "Epoch 30/50\n",
      "6/6 [==============================] - 1s 110ms/step - loss: 0.3339 - accuracy: 0.8913 - val_loss: 1.9692 - val_accuracy: 0.4500\n",
      "Epoch 31/50\n",
      "6/6 [==============================] - 1s 113ms/step - loss: 0.3298 - accuracy: 0.9130 - val_loss: 1.8704 - val_accuracy: 0.4500\n",
      "Epoch 32/50\n",
      "6/6 [==============================] - 1s 119ms/step - loss: 0.3422 - accuracy: 0.8804 - val_loss: 2.1491 - val_accuracy: 0.4000\n",
      "Epoch 33/50\n",
      "6/6 [==============================] - 1s 119ms/step - loss: 0.2483 - accuracy: 0.9239 - val_loss: 2.3812 - val_accuracy: 0.4500\n",
      "Epoch 34/50\n",
      "6/6 [==============================] - 1s 149ms/step - loss: 0.1919 - accuracy: 0.9457 - val_loss: 2.2805 - val_accuracy: 0.5000\n",
      "Epoch 35/50\n",
      "6/6 [==============================] - 1s 116ms/step - loss: 0.1285 - accuracy: 0.9674 - val_loss: 2.5586 - val_accuracy: 0.5000\n",
      "Epoch 36/50\n",
      "6/6 [==============================] - 1s 121ms/step - loss: 0.1436 - accuracy: 0.9674 - val_loss: 3.1382 - val_accuracy: 0.5000\n",
      "Epoch 37/50\n",
      "6/6 [==============================] - 1s 111ms/step - loss: 0.0983 - accuracy: 0.9783 - val_loss: 3.3100 - val_accuracy: 0.4500\n",
      "Epoch 38/50\n",
      "6/6 [==============================] - 1s 132ms/step - loss: 0.0689 - accuracy: 0.9783 - val_loss: 2.6675 - val_accuracy: 0.5000\n",
      "Epoch 39/50\n",
      "6/6 [==============================] - 1s 146ms/step - loss: 0.1124 - accuracy: 0.9348 - val_loss: 2.7507 - val_accuracy: 0.6000\n",
      "Epoch 40/50\n",
      "6/6 [==============================] - 1s 112ms/step - loss: 0.0640 - accuracy: 0.9891 - val_loss: 2.7043 - val_accuracy: 0.4500\n",
      "Epoch 41/50\n",
      "6/6 [==============================] - 1s 106ms/step - loss: 0.0637 - accuracy: 0.9891 - val_loss: 2.8156 - val_accuracy: 0.5500\n",
      "Epoch 42/50\n",
      "6/6 [==============================] - 1s 103ms/step - loss: 0.0555 - accuracy: 0.9891 - val_loss: 2.6713 - val_accuracy: 0.5500\n",
      "Epoch 43/50\n",
      "6/6 [==============================] - 1s 106ms/step - loss: 0.0953 - accuracy: 0.9565 - val_loss: 3.0976 - val_accuracy: 0.5000\n",
      "Epoch 44/50\n",
      "6/6 [==============================] - 1s 111ms/step - loss: 0.0911 - accuracy: 0.9674 - val_loss: 3.1149 - val_accuracy: 0.4000\n",
      "Epoch 45/50\n",
      "6/6 [==============================] - 1s 111ms/step - loss: 0.0736 - accuracy: 0.9783 - val_loss: 2.7580 - val_accuracy: 0.5000\n",
      "Epoch 46/50\n",
      "6/6 [==============================] - 1s 124ms/step - loss: 0.0631 - accuracy: 0.9891 - val_loss: 2.8663 - val_accuracy: 0.5000\n",
      "Epoch 47/50\n",
      "6/6 [==============================] - 1s 108ms/step - loss: 0.0218 - accuracy: 1.0000 - val_loss: 3.0601 - val_accuracy: 0.5000\n",
      "Epoch 48/50\n",
      "6/6 [==============================] - 1s 108ms/step - loss: 0.0573 - accuracy: 0.9783 - val_loss: 3.0087 - val_accuracy: 0.5500\n",
      "Epoch 49/50\n",
      "6/6 [==============================] - 1s 113ms/step - loss: 0.0517 - accuracy: 0.9891 - val_loss: 2.9649 - val_accuracy: 0.6000\n",
      "Epoch 50/50\n",
      "6/6 [==============================] - 1s 113ms/step - loss: 0.0585 - accuracy: 0.9783 - val_loss: 2.6362 - val_accuracy: 0.5000\n"
     ]
    },
    {
     "data": {
      "text/plain": [
       "<keras.callbacks.History at 0x1e642889870>"
      ]
     },
     "execution_count": 472,
     "metadata": {},
     "output_type": "execute_result"
    }
   ],
   "source": [
    "left_model.compile_model()\n",
    "left_model.train(left_ds.train_ds, 50, left_ds.val_ds)"
   ]
  },
  {
   "cell_type": "code",
   "execution_count": 473,
   "metadata": {},
   "outputs": [
    {
     "name": "stdout",
     "output_type": "stream",
     "text": [
      "==== Building model ====\n",
      "==== Compiling model ====\n",
      "==== Training model ====\n",
      "Epoch 1/39\n",
      "8/8 [==============================] - 2s 89ms/step - loss: 2.6425 - accuracy: 0.0446\n",
      "Epoch 2/39\n",
      "8/8 [==============================] - 1s 90ms/step - loss: 2.6379 - accuracy: 0.0625\n",
      "Epoch 3/39\n",
      "8/8 [==============================] - 1s 86ms/step - loss: 2.6391 - accuracy: 0.0893\n",
      "Epoch 4/39\n",
      "8/8 [==============================] - 1s 89ms/step - loss: 2.6343 - accuracy: 0.0714\n",
      "Epoch 5/39\n",
      "8/8 [==============================] - 1s 102ms/step - loss: 2.6335 - accuracy: 0.1071\n",
      "Epoch 6/39\n",
      "8/8 [==============================] - 1s 91ms/step - loss: 2.6388 - accuracy: 0.1429\n",
      "Epoch 7/39\n",
      "8/8 [==============================] - 1s 100ms/step - loss: 2.6194 - accuracy: 0.1518\n",
      "Epoch 8/39\n",
      "8/8 [==============================] - 1s 88ms/step - loss: 2.6238 - accuracy: 0.1250\n",
      "Epoch 9/39\n",
      "8/8 [==============================] - 1s 89ms/step - loss: 2.6023 - accuracy: 0.1429\n",
      "Epoch 10/39\n",
      "8/8 [==============================] - 1s 90ms/step - loss: 2.5751 - accuracy: 0.1161\n",
      "Epoch 11/39\n",
      "8/8 [==============================] - 1s 93ms/step - loss: 2.4861 - accuracy: 0.1696\n",
      "Epoch 12/39\n",
      "8/8 [==============================] - 1s 96ms/step - loss: 2.3313 - accuracy: 0.2143\n",
      "Epoch 13/39\n",
      "8/8 [==============================] - 1s 93ms/step - loss: 2.1283 - accuracy: 0.3750\n",
      "Epoch 14/39\n",
      "8/8 [==============================] - 1s 88ms/step - loss: 1.8590 - accuracy: 0.4107\n",
      "Epoch 15/39\n",
      "8/8 [==============================] - 1s 88ms/step - loss: 1.4772 - accuracy: 0.5625\n",
      "Epoch 16/39\n",
      "8/8 [==============================] - 1s 99ms/step - loss: 1.3342 - accuracy: 0.5893\n",
      "Epoch 17/39\n",
      "8/8 [==============================] - 1s 96ms/step - loss: 1.1330 - accuracy: 0.5893\n",
      "Epoch 18/39\n",
      "8/8 [==============================] - 1s 87ms/step - loss: 0.9588 - accuracy: 0.6518\n",
      "Epoch 19/39\n",
      "8/8 [==============================] - 1s 90ms/step - loss: 0.8423 - accuracy: 0.7411\n",
      "Epoch 20/39\n",
      "8/8 [==============================] - 1s 97ms/step - loss: 0.6380 - accuracy: 0.7946\n",
      "Epoch 21/39\n",
      "8/8 [==============================] - 1s 96ms/step - loss: 0.6330 - accuracy: 0.7768\n",
      "Epoch 22/39\n",
      "8/8 [==============================] - 1s 100ms/step - loss: 0.6315 - accuracy: 0.8036\n",
      "Epoch 23/39\n",
      "8/8 [==============================] - 1s 92ms/step - loss: 0.3493 - accuracy: 0.9375\n",
      "Epoch 24/39\n",
      "8/8 [==============================] - 1s 98ms/step - loss: 0.4064 - accuracy: 0.8393\n",
      "Epoch 25/39\n",
      "8/8 [==============================] - 1s 90ms/step - loss: 0.2695 - accuracy: 0.9286\n",
      "Epoch 26/39\n",
      "8/8 [==============================] - 1s 92ms/step - loss: 0.2343 - accuracy: 0.9464\n",
      "Epoch 27/39\n",
      "8/8 [==============================] - 1s 92ms/step - loss: 0.2200 - accuracy: 0.9196\n",
      "Epoch 28/39\n",
      "8/8 [==============================] - 1s 90ms/step - loss: 0.2723 - accuracy: 0.9196\n",
      "Epoch 29/39\n",
      "8/8 [==============================] - 1s 91ms/step - loss: 0.2414 - accuracy: 0.9554\n",
      "Epoch 30/39\n",
      "8/8 [==============================] - 1s 86ms/step - loss: 0.2108 - accuracy: 0.9643\n",
      "Epoch 31/39\n",
      "8/8 [==============================] - 1s 96ms/step - loss: 0.2189 - accuracy: 0.9196\n",
      "Epoch 32/39\n",
      "8/8 [==============================] - 1s 91ms/step - loss: 0.2084 - accuracy: 0.9286\n",
      "Epoch 33/39\n",
      "8/8 [==============================] - 1s 94ms/step - loss: 0.0807 - accuracy: 0.9911\n",
      "Epoch 34/39\n",
      "8/8 [==============================] - 1s 93ms/step - loss: 0.0860 - accuracy: 0.9732\n",
      "Epoch 35/39\n",
      "8/8 [==============================] - 1s 88ms/step - loss: 0.0920 - accuracy: 0.9732\n",
      "Epoch 36/39\n",
      "8/8 [==============================] - 1s 89ms/step - loss: 0.0789 - accuracy: 0.9821\n",
      "Epoch 37/39\n",
      "8/8 [==============================] - 1s 99ms/step - loss: 0.1590 - accuracy: 0.9464\n",
      "Epoch 38/39\n",
      "8/8 [==============================] - 1s 91ms/step - loss: 0.1007 - accuracy: 0.9643\n",
      "Epoch 39/39\n",
      "8/8 [==============================] - 1s 87ms/step - loss: 0.0712 - accuracy: 0.9911\n"
     ]
    },
    {
     "data": {
      "text/plain": [
       "<keras.callbacks.History at 0x1e6385a19f0>"
      ]
     },
     "execution_count": 473,
     "metadata": {},
     "output_type": "execute_result"
    }
   ],
   "source": [
    "left_model.build_model()\n",
    "left_model.compile_model()\n",
    "left_model.train(left_ds.train_val_ds, left_model.best_epoch)"
   ]
  },
  {
   "cell_type": "code",
   "execution_count": 474,
   "metadata": {},
   "outputs": [
    {
     "name": "stdout",
     "output_type": "stream",
     "text": [
      "1/1 [==============================] - 0s 435ms/step\n"
     ]
    },
    {
     "data": {
      "text/plain": [
       "0.7"
      ]
     },
     "execution_count": 474,
     "metadata": {},
     "output_type": "execute_result"
    }
   ],
   "source": [
    "left_model.evaluate(left_ds.test_ds)"
   ]
  },
  {
   "cell_type": "code",
   "execution_count": 475,
   "metadata": {},
   "outputs": [],
   "source": [
    "left_model.save_weights(model_path = \"./model_checkpoint/left_pruned_model_1_reduced_filtered_adaptive\")"
   ]
  },
  {
   "cell_type": "code",
   "execution_count": null,
   "metadata": {},
   "outputs": [
    {
     "name": "stdout",
     "output_type": "stream",
     "text": [
      "==== Building model ====\n"
     ]
    },
    {
     "ename": "NotFoundError",
     "evalue": "Unsuccessful TensorSliceReader constructor: Failed to find any matching files for ./model_checkpoint/left_model_1_reduced",
     "output_type": "error",
     "traceback": [
      "\u001b[1;31m---------------------------------------------------------------------------\u001b[0m",
      "\u001b[1;31mNotFoundError\u001b[0m                             Traceback (most recent call last)",
      "Cell \u001b[1;32mIn [124], line 2\u001b[0m\n\u001b[0;32m      1\u001b[0m left_model \u001b[38;5;241m=\u001b[39m NeuralNetworkModel(left_ds\u001b[38;5;241m.\u001b[39mnum_classes, dropout_rate\u001b[38;5;241m=\u001b[39m\u001b[38;5;241m0.3\u001b[39m, model_version\u001b[38;5;241m=\u001b[39m\u001b[38;5;241m1\u001b[39m)\n\u001b[1;32m----> 2\u001b[0m \u001b[43mleft_model\u001b[49m\u001b[38;5;241;43m.\u001b[39;49m\u001b[43mload_saved_weights\u001b[49m\u001b[43m(\u001b[49m\u001b[43mmodel_path\u001b[49m\u001b[43m \u001b[49m\u001b[38;5;241;43m=\u001b[39;49m\u001b[43m \u001b[49m\u001b[38;5;124;43m\"\u001b[39;49m\u001b[38;5;124;43m./model_checkpoint/left_model_1_reduced\u001b[39;49m\u001b[38;5;124;43m\"\u001b[39;49m\u001b[43m)\u001b[49m\n",
      "File \u001b[1;32md:\\Documentos\\Polito\\Thesis\\Code\\sign-language-recognition\\model\\models.py:151\u001b[0m, in \u001b[0;36mNeuralNetworkModel.load_saved_weights\u001b[1;34m(self, model_path)\u001b[0m\n\u001b[0;32m    150\u001b[0m \u001b[38;5;28;01mdef\u001b[39;00m \u001b[38;5;21mload_saved_weights\u001b[39m(\u001b[38;5;28mself\u001b[39m, model_path):\n\u001b[1;32m--> 151\u001b[0m     \u001b[38;5;28;43mself\u001b[39;49m\u001b[38;5;241;43m.\u001b[39;49m\u001b[43mmodel\u001b[49m\u001b[38;5;241;43m.\u001b[39;49m\u001b[43mload_weights\u001b[49m\u001b[43m(\u001b[49m\u001b[43mmodel_path\u001b[49m\u001b[43m)\u001b[49m\n",
      "File \u001b[1;32md:\\Documentos\\Polito\\Thesis\\Code\\sign-language-recognition\\thesis-venv\\lib\\site-packages\\keras\\utils\\traceback_utils.py:70\u001b[0m, in \u001b[0;36mfilter_traceback.<locals>.error_handler\u001b[1;34m(*args, **kwargs)\u001b[0m\n\u001b[0;32m     67\u001b[0m     filtered_tb \u001b[38;5;241m=\u001b[39m _process_traceback_frames(e\u001b[38;5;241m.\u001b[39m__traceback__)\n\u001b[0;32m     68\u001b[0m     \u001b[38;5;66;03m# To get the full stack trace, call:\u001b[39;00m\n\u001b[0;32m     69\u001b[0m     \u001b[38;5;66;03m# `tf.debugging.disable_traceback_filtering()`\u001b[39;00m\n\u001b[1;32m---> 70\u001b[0m     \u001b[38;5;28;01mraise\u001b[39;00m e\u001b[38;5;241m.\u001b[39mwith_traceback(filtered_tb) \u001b[38;5;28;01mfrom\u001b[39;00m \u001b[38;5;28;01mNone\u001b[39;00m\n\u001b[0;32m     71\u001b[0m \u001b[38;5;28;01mfinally\u001b[39;00m:\n\u001b[0;32m     72\u001b[0m     \u001b[38;5;28;01mdel\u001b[39;00m filtered_tb\n",
      "File \u001b[1;32md:\\Documentos\\Polito\\Thesis\\Code\\sign-language-recognition\\thesis-venv\\lib\\site-packages\\tensorflow\\python\\training\\py_checkpoint_reader.py:31\u001b[0m, in \u001b[0;36merror_translator\u001b[1;34m(e)\u001b[0m\n\u001b[0;32m     27\u001b[0m error_message \u001b[38;5;241m=\u001b[39m \u001b[38;5;28mstr\u001b[39m(e)\n\u001b[0;32m     28\u001b[0m \u001b[38;5;28;01mif\u001b[39;00m \u001b[38;5;124m'\u001b[39m\u001b[38;5;124mnot found in checkpoint\u001b[39m\u001b[38;5;124m'\u001b[39m \u001b[38;5;129;01min\u001b[39;00m error_message \u001b[38;5;129;01mor\u001b[39;00m (\n\u001b[0;32m     29\u001b[0m     \u001b[38;5;124m'\u001b[39m\u001b[38;5;124mFailed to find any \u001b[39m\u001b[38;5;124m'\u001b[39m\n\u001b[0;32m     30\u001b[0m     \u001b[38;5;124m'\u001b[39m\u001b[38;5;124mmatching files for\u001b[39m\u001b[38;5;124m'\u001b[39m) \u001b[38;5;129;01min\u001b[39;00m error_message:\n\u001b[1;32m---> 31\u001b[0m   \u001b[38;5;28;01mraise\u001b[39;00m errors_impl\u001b[38;5;241m.\u001b[39mNotFoundError(\u001b[38;5;28;01mNone\u001b[39;00m, \u001b[38;5;28;01mNone\u001b[39;00m, error_message)\n\u001b[0;32m     32\u001b[0m \u001b[38;5;28;01melif\u001b[39;00m \u001b[38;5;124m'\u001b[39m\u001b[38;5;124mSliced checkpoints are not supported\u001b[39m\u001b[38;5;124m'\u001b[39m \u001b[38;5;129;01min\u001b[39;00m error_message \u001b[38;5;129;01mor\u001b[39;00m (\n\u001b[0;32m     33\u001b[0m     \u001b[38;5;124m'\u001b[39m\u001b[38;5;124mData type \u001b[39m\u001b[38;5;124m'\u001b[39m\n\u001b[0;32m     34\u001b[0m     \u001b[38;5;124m'\u001b[39m\u001b[38;5;124mnot \u001b[39m\u001b[38;5;124m'\u001b[39m\n\u001b[0;32m     35\u001b[0m     \u001b[38;5;124m'\u001b[39m\u001b[38;5;124msupported\u001b[39m\u001b[38;5;124m'\u001b[39m) \u001b[38;5;129;01min\u001b[39;00m error_message:\n\u001b[0;32m     36\u001b[0m   \u001b[38;5;28;01mraise\u001b[39;00m errors_impl\u001b[38;5;241m.\u001b[39mUnimplementedError(\u001b[38;5;28;01mNone\u001b[39;00m, \u001b[38;5;28;01mNone\u001b[39;00m, error_message)\n",
      "\u001b[1;31mNotFoundError\u001b[0m: Unsuccessful TensorSliceReader constructor: Failed to find any matching files for ./model_checkpoint/left_model_1_reduced"
     ]
    }
   ],
   "source": [
    "left_model = NeuralNetworkModel(left_ds.num_classes, dropout_rate=0.3, model_version=1)\n",
    "left_model.load_saved_weights(model_path = \"./model_checkpoint/left_pruned_model_1_reduced_filtered\")"
   ]
  },
  {
   "cell_type": "code",
   "execution_count": 75,
   "metadata": {},
   "outputs": [
    {
     "name": "stdout",
     "output_type": "stream",
     "text": [
      "1/1 [==============================] - 0s 422ms/step\n"
     ]
    },
    {
     "data": {
      "text/plain": [
       "0.76666665"
      ]
     },
     "execution_count": 75,
     "metadata": {},
     "output_type": "execute_result"
    }
   ],
   "source": [
    "left_model.evaluate(left_ds.test_ds)"
   ]
  },
  {
   "cell_type": "code",
   "execution_count": null,
   "metadata": {},
   "outputs": [],
   "source": []
  },
  {
   "cell_type": "markdown",
   "metadata": {},
   "source": [
    "## left pruned model"
   ]
  },
  {
   "cell_type": "code",
   "execution_count": 31,
   "metadata": {},
   "outputs": [
    {
     "name": "stdout",
     "output_type": "stream",
     "text": [
      "==== Building model ====\n"
     ]
    }
   ],
   "source": [
    "pruned_left_model = NeuralNetworkModel(left_ds.num_classes, dropout_rate=0.3, model_version=1)"
   ]
  },
  {
   "cell_type": "code",
   "execution_count": 32,
   "metadata": {},
   "outputs": [
    {
     "name": "stdout",
     "output_type": "stream",
     "text": [
      "==== Compiling model ====\n",
      "==== Training and validating model ====\n",
      "Epoch 1/50\n"
     ]
    },
    {
     "name": "stdout",
     "output_type": "stream",
     "text": [
      "6/6 [==============================] - 2s 198ms/step - loss: 2.6380 - accuracy: 0.0870 - val_loss: 2.6453 - val_accuracy: 0.1000\n",
      "Epoch 2/50\n",
      "6/6 [==============================] - 1s 89ms/step - loss: 2.6284 - accuracy: 0.1087 - val_loss: 2.6657 - val_accuracy: 0.1000\n",
      "Epoch 3/50\n",
      "6/6 [==============================] - 1s 89ms/step - loss: 2.5972 - accuracy: 0.0978 - val_loss: 2.6681 - val_accuracy: 0.1000\n",
      "Epoch 4/50\n",
      "6/6 [==============================] - 1s 101ms/step - loss: 2.5370 - accuracy: 0.1087 - val_loss: 2.6696 - val_accuracy: 0.1000\n",
      "Epoch 5/50\n",
      "6/6 [==============================] - 1s 123ms/step - loss: 2.4038 - accuracy: 0.1957 - val_loss: 2.6142 - val_accuracy: 0.1500\n",
      "Epoch 6/50\n",
      "6/6 [==============================] - 1s 90ms/step - loss: 2.2773 - accuracy: 0.2391 - val_loss: 2.4062 - val_accuracy: 0.1500\n",
      "Epoch 7/50\n",
      "6/6 [==============================] - 1s 121ms/step - loss: 2.0821 - accuracy: 0.3370 - val_loss: 2.1337 - val_accuracy: 0.2500\n",
      "Epoch 8/50\n",
      "6/6 [==============================] - 1s 90ms/step - loss: 1.8813 - accuracy: 0.3478 - val_loss: 1.9947 - val_accuracy: 0.2500\n",
      "Epoch 9/50\n",
      "6/6 [==============================] - 1s 126ms/step - loss: 1.7242 - accuracy: 0.3804 - val_loss: 1.7735 - val_accuracy: 0.4000\n",
      "Epoch 10/50\n",
      "6/6 [==============================] - 1s 138ms/step - loss: 1.4997 - accuracy: 0.5000 - val_loss: 1.5968 - val_accuracy: 0.6000\n",
      "Epoch 11/50\n",
      "6/6 [==============================] - 1s 100ms/step - loss: 1.3925 - accuracy: 0.5652 - val_loss: 1.5944 - val_accuracy: 0.4500\n",
      "Epoch 12/50\n",
      "6/6 [==============================] - 1s 98ms/step - loss: 1.3490 - accuracy: 0.5435 - val_loss: 1.4786 - val_accuracy: 0.5000\n",
      "Epoch 13/50\n",
      "6/6 [==============================] - 1s 100ms/step - loss: 1.3326 - accuracy: 0.5109 - val_loss: 1.4125 - val_accuracy: 0.4500\n",
      "Epoch 14/50\n",
      "6/6 [==============================] - 1s 136ms/step - loss: 1.1158 - accuracy: 0.6848 - val_loss: 1.3733 - val_accuracy: 0.6500\n",
      "Epoch 15/50\n",
      "6/6 [==============================] - 1s 92ms/step - loss: 0.9334 - accuracy: 0.6522 - val_loss: 1.2855 - val_accuracy: 0.6500\n",
      "Epoch 16/50\n",
      "6/6 [==============================] - 1s 114ms/step - loss: 0.8506 - accuracy: 0.6957 - val_loss: 1.3048 - val_accuracy: 0.7000\n",
      "Epoch 17/50\n",
      "6/6 [==============================] - 1s 94ms/step - loss: 0.7790 - accuracy: 0.7500 - val_loss: 1.2156 - val_accuracy: 0.6500\n",
      "Epoch 18/50\n",
      "6/6 [==============================] - 1s 97ms/step - loss: 0.6488 - accuracy: 0.7935 - val_loss: 1.1425 - val_accuracy: 0.7000\n",
      "Epoch 19/50\n",
      "6/6 [==============================] - 1s 140ms/step - loss: 0.6751 - accuracy: 0.8043 - val_loss: 1.0135 - val_accuracy: 0.7500\n",
      "Epoch 20/50\n",
      "6/6 [==============================] - 1s 92ms/step - loss: 0.6136 - accuracy: 0.7717 - val_loss: 1.1522 - val_accuracy: 0.7500\n",
      "Epoch 21/50\n",
      "6/6 [==============================] - 1s 93ms/step - loss: 0.4894 - accuracy: 0.8587 - val_loss: 0.9477 - val_accuracy: 0.7000\n",
      "Epoch 22/50\n",
      "6/6 [==============================] - 1s 91ms/step - loss: 0.5211 - accuracy: 0.8370 - val_loss: 1.0512 - val_accuracy: 0.7000\n",
      "Epoch 23/50\n",
      "6/6 [==============================] - 1s 100ms/step - loss: 0.4296 - accuracy: 0.8261 - val_loss: 1.1719 - val_accuracy: 0.6500\n",
      "Epoch 24/50\n",
      "6/6 [==============================] - 1s 91ms/step - loss: 0.3929 - accuracy: 0.8696 - val_loss: 0.8905 - val_accuracy: 0.6500\n",
      "Epoch 25/50\n",
      "6/6 [==============================] - 1s 91ms/step - loss: 0.3991 - accuracy: 0.8370 - val_loss: 0.8984 - val_accuracy: 0.7500\n",
      "Epoch 26/50\n",
      "6/6 [==============================] - 1s 92ms/step - loss: 0.3067 - accuracy: 0.9130 - val_loss: 1.4475 - val_accuracy: 0.7500\n",
      "Epoch 27/50\n",
      "6/6 [==============================] - 1s 90ms/step - loss: 0.3356 - accuracy: 0.8804 - val_loss: 1.3839 - val_accuracy: 0.6500\n",
      "Epoch 28/50\n",
      "6/6 [==============================] - 1s 92ms/step - loss: 0.1777 - accuracy: 0.9348 - val_loss: 1.3094 - val_accuracy: 0.6000\n",
      "Epoch 29/50\n",
      "6/6 [==============================] - 1s 91ms/step - loss: 0.1691 - accuracy: 0.9457 - val_loss: 1.7535 - val_accuracy: 0.7000\n",
      "Epoch 30/50\n",
      "6/6 [==============================] - 1s 92ms/step - loss: 0.3854 - accuracy: 0.8804 - val_loss: 1.0359 - val_accuracy: 0.6500\n",
      "Epoch 31/50\n",
      "6/6 [==============================] - 1s 115ms/step - loss: 0.2200 - accuracy: 0.9130 - val_loss: 0.7635 - val_accuracy: 0.8000\n",
      "Epoch 32/50\n",
      "6/6 [==============================] - 1s 92ms/step - loss: 0.2156 - accuracy: 0.9348 - val_loss: 1.0264 - val_accuracy: 0.7000\n",
      "Epoch 33/50\n",
      "6/6 [==============================] - 1s 91ms/step - loss: 0.1169 - accuracy: 0.9891 - val_loss: 1.1995 - val_accuracy: 0.6500\n",
      "Epoch 34/50\n",
      "6/6 [==============================] - 1s 90ms/step - loss: 0.0935 - accuracy: 0.9783 - val_loss: 1.3230 - val_accuracy: 0.6500\n",
      "Epoch 35/50\n",
      "6/6 [==============================] - 1s 91ms/step - loss: 0.2657 - accuracy: 0.8478 - val_loss: 1.3258 - val_accuracy: 0.7000\n",
      "Epoch 36/50\n",
      "6/6 [==============================] - 1s 91ms/step - loss: 0.1428 - accuracy: 0.9239 - val_loss: 0.9816 - val_accuracy: 0.8000\n",
      "Epoch 37/50\n",
      "6/6 [==============================] - 1s 109ms/step - loss: 0.1561 - accuracy: 0.9674 - val_loss: 0.9247 - val_accuracy: 0.8500\n",
      "Epoch 38/50\n",
      "6/6 [==============================] - 1s 92ms/step - loss: 0.1044 - accuracy: 0.9674 - val_loss: 1.3153 - val_accuracy: 0.6500\n",
      "Epoch 39/50\n",
      "6/6 [==============================] - 1s 90ms/step - loss: 0.0873 - accuracy: 0.9674 - val_loss: 1.3107 - val_accuracy: 0.6500\n",
      "Epoch 40/50\n",
      "6/6 [==============================] - 1s 90ms/step - loss: 0.1117 - accuracy: 0.9457 - val_loss: 0.9201 - val_accuracy: 0.6500\n",
      "Epoch 41/50\n",
      "6/6 [==============================] - 1s 92ms/step - loss: 0.0522 - accuracy: 0.9891 - val_loss: 1.1635 - val_accuracy: 0.7500\n",
      "Epoch 42/50\n",
      "6/6 [==============================] - 1s 92ms/step - loss: 0.1085 - accuracy: 0.9674 - val_loss: 1.1369 - val_accuracy: 0.7500\n",
      "Epoch 43/50\n",
      "6/6 [==============================] - 1s 91ms/step - loss: 0.0727 - accuracy: 0.9783 - val_loss: 1.2715 - val_accuracy: 0.5000\n",
      "Epoch 44/50\n",
      "6/6 [==============================] - 1s 92ms/step - loss: 0.1375 - accuracy: 0.9457 - val_loss: 1.4402 - val_accuracy: 0.6000\n",
      "Epoch 45/50\n",
      "6/6 [==============================] - 1s 91ms/step - loss: 0.1197 - accuracy: 0.9674 - val_loss: 1.2520 - val_accuracy: 0.6500\n",
      "Epoch 46/50\n",
      "6/6 [==============================] - 1s 96ms/step - loss: 0.0850 - accuracy: 0.9674 - val_loss: 1.0869 - val_accuracy: 0.7500\n",
      "Epoch 47/50\n",
      "6/6 [==============================] - 1s 91ms/step - loss: 0.0836 - accuracy: 0.9783 - val_loss: 1.3156 - val_accuracy: 0.7500\n",
      "Epoch 48/50\n",
      "6/6 [==============================] - 1s 91ms/step - loss: 0.0663 - accuracy: 0.9674 - val_loss: 1.3614 - val_accuracy: 0.6500\n",
      "Epoch 49/50\n",
      "6/6 [==============================] - 1s 91ms/step - loss: 0.0590 - accuracy: 0.9891 - val_loss: 1.2551 - val_accuracy: 0.7500\n",
      "Epoch 50/50\n",
      "6/6 [==============================] - 1s 95ms/step - loss: 0.0462 - accuracy: 0.9891 - val_loss: 1.5023 - val_accuracy: 0.8500\n"
     ]
    },
    {
     "data": {
      "text/plain": [
       "<keras.callbacks.History at 0x2194ac7efe0>"
      ]
     },
     "execution_count": 32,
     "metadata": {},
     "output_type": "execute_result"
    }
   ],
   "source": [
    "pruned_left_model.compile_model()\n",
    "pruned_left_model.train(left_ds.train_ds, 50, left_ds.val_ds)"
   ]
  },
  {
   "cell_type": "code",
   "execution_count": 35,
   "metadata": {},
   "outputs": [
    {
     "name": "stdout",
     "output_type": "stream",
     "text": [
      "==== Building model ====\n",
      "==== Compiling model ====\n",
      "==== Training model ====\n",
      "Epoch 1/37\n"
     ]
    },
    {
     "name": "stdout",
     "output_type": "stream",
     "text": [
      "8/8 [==============================] - 2s 77ms/step - loss: 2.6427 - accuracy: 0.0893\n",
      "Epoch 2/37\n",
      "8/8 [==============================] - 1s 77ms/step - loss: 2.6267 - accuracy: 0.0982\n",
      "Epoch 3/37\n",
      "8/8 [==============================] - 1s 77ms/step - loss: 2.6109 - accuracy: 0.0982\n",
      "Epoch 4/37\n",
      "8/8 [==============================] - 1s 78ms/step - loss: 2.5478 - accuracy: 0.1518\n",
      "Epoch 5/37\n",
      "8/8 [==============================] - 1s 76ms/step - loss: 2.4346 - accuracy: 0.1875\n",
      "Epoch 6/37\n",
      "8/8 [==============================] - 1s 77ms/step - loss: 2.1732 - accuracy: 0.3214\n",
      "Epoch 7/37\n",
      "8/8 [==============================] - 1s 78ms/step - loss: 1.8170 - accuracy: 0.3839\n",
      "Epoch 8/37\n",
      "8/8 [==============================] - 1s 77ms/step - loss: 1.6360 - accuracy: 0.4554\n",
      "Epoch 9/37\n",
      "8/8 [==============================] - 1s 77ms/step - loss: 1.4315 - accuracy: 0.5357\n",
      "Epoch 10/37\n",
      "8/8 [==============================] - 1s 77ms/step - loss: 1.1442 - accuracy: 0.6518\n",
      "Epoch 11/37\n",
      "8/8 [==============================] - 1s 77ms/step - loss: 0.8445 - accuracy: 0.6964\n",
      "Epoch 12/37\n",
      "8/8 [==============================] - 1s 80ms/step - loss: 0.8779 - accuracy: 0.7143\n",
      "Epoch 13/37\n",
      "8/8 [==============================] - 1s 77ms/step - loss: 0.6080 - accuracy: 0.8482\n",
      "Epoch 14/37\n",
      "8/8 [==============================] - 1s 78ms/step - loss: 0.6037 - accuracy: 0.8393\n",
      "Epoch 15/37\n",
      "8/8 [==============================] - 1s 77ms/step - loss: 0.4106 - accuracy: 0.8929\n",
      "Epoch 16/37\n",
      "8/8 [==============================] - 1s 77ms/step - loss: 0.4706 - accuracy: 0.8304\n",
      "Epoch 17/37\n",
      "8/8 [==============================] - 1s 86ms/step - loss: 0.3571 - accuracy: 0.8929\n",
      "Epoch 18/37\n",
      "8/8 [==============================] - 1s 78ms/step - loss: 0.2900 - accuracy: 0.8929\n",
      "Epoch 19/37\n",
      "8/8 [==============================] - 1s 80ms/step - loss: 0.3193 - accuracy: 0.8929\n",
      "Epoch 20/37\n",
      "8/8 [==============================] - 1s 80ms/step - loss: 0.2474 - accuracy: 0.8929\n",
      "Epoch 21/37\n",
      "8/8 [==============================] - 1s 79ms/step - loss: 0.2550 - accuracy: 0.9464\n",
      "Epoch 22/37\n",
      "8/8 [==============================] - 1s 78ms/step - loss: 0.1641 - accuracy: 0.9375\n",
      "Epoch 23/37\n",
      "8/8 [==============================] - 1s 77ms/step - loss: 0.1307 - accuracy: 0.9643\n",
      "Epoch 24/37\n",
      "8/8 [==============================] - 1s 77ms/step - loss: 0.1173 - accuracy: 0.9732\n",
      "Epoch 25/37\n",
      "8/8 [==============================] - 1s 78ms/step - loss: 0.1407 - accuracy: 0.9643\n",
      "Epoch 26/37\n",
      "8/8 [==============================] - 1s 78ms/step - loss: 0.1033 - accuracy: 0.9821\n",
      "Epoch 27/37\n",
      "8/8 [==============================] - 1s 77ms/step - loss: 0.1366 - accuracy: 0.9554\n",
      "Epoch 28/37\n",
      "8/8 [==============================] - 1s 80ms/step - loss: 0.0820 - accuracy: 0.9732\n",
      "Epoch 29/37\n",
      "8/8 [==============================] - 1s 79ms/step - loss: 0.1098 - accuracy: 0.9643\n",
      "Epoch 30/37\n",
      "8/8 [==============================] - 1s 77ms/step - loss: 0.1610 - accuracy: 0.9464\n",
      "Epoch 31/37\n",
      "8/8 [==============================] - 1s 77ms/step - loss: 0.0788 - accuracy: 0.9643\n",
      "Epoch 32/37\n",
      "8/8 [==============================] - 1s 84ms/step - loss: 0.0604 - accuracy: 0.9732\n",
      "Epoch 33/37\n",
      "8/8 [==============================] - 1s 77ms/step - loss: 0.0649 - accuracy: 0.9821\n",
      "Epoch 34/37\n",
      "8/8 [==============================] - 1s 77ms/step - loss: 0.1570 - accuracy: 0.9554\n",
      "Epoch 35/37\n",
      "8/8 [==============================] - 1s 78ms/step - loss: 0.1213 - accuracy: 0.9375\n",
      "Epoch 36/37\n",
      "8/8 [==============================] - 1s 77ms/step - loss: 0.1737 - accuracy: 0.9464\n",
      "Epoch 37/37\n",
      "8/8 [==============================] - 1s 78ms/step - loss: 0.1638 - accuracy: 0.9554\n"
     ]
    },
    {
     "data": {
      "text/plain": [
       "<keras.callbacks.History at 0x219519d5bd0>"
      ]
     },
     "execution_count": 35,
     "metadata": {},
     "output_type": "execute_result"
    }
   ],
   "source": [
    "pruned_left_model.build_model()\n",
    "pruned_left_model.compile_model()\n",
    "pruned_left_model.train(left_ds.train_val_ds, pruned_left_model.best_epoch)"
   ]
  },
  {
   "cell_type": "code",
   "execution_count": 36,
   "metadata": {},
   "outputs": [
    {
     "name": "stdout",
     "output_type": "stream",
     "text": [
      "1/1 [==============================] - 0s 131ms/step\n"
     ]
    },
    {
     "data": {
      "text/plain": [
       "0.76666665"
      ]
     },
     "execution_count": 36,
     "metadata": {},
     "output_type": "execute_result"
    }
   ],
   "source": [
    "pruned_left_model.evaluate(left_ds.test_ds)"
   ]
  },
  {
   "cell_type": "code",
   "execution_count": 57,
   "metadata": {},
   "outputs": [],
   "source": [
    "pruned_left_model.save_weights(\"./model_checkpoint/left_pruned_model_reduced\")"
   ]
  },
  {
   "cell_type": "markdown",
   "metadata": {},
   "source": [
    "## right dataset"
   ]
  },
  {
   "cell_type": "code",
   "execution_count": 7,
   "metadata": {},
   "outputs": [
    {
     "name": "stdout",
     "output_type": "stream",
     "text": [
      "==== Loading train and validation data ====\n",
      "Found 126 files belonging to 10 classes.\n",
      "Using 104 files for training.\n",
      "Using 22 files for validation.\n",
      "==== Loading test data ====\n",
      "Found 31 files belonging to 10 classes.\n",
      "==== Preparing datasets ====\n"
     ]
    }
   ],
   "source": [
    "train_folder_path = 'D:/Documentos/Polito/Thesis/Datasets/A3LIS-147_italian/trimmed-life/hei-videos-train-seed59-v1/reduced/right modified/'\n",
    "test_folder_path = 'D:/Documentos/Polito/Thesis/Datasets/A3LIS-147_italian/trimmed-life/hei-videos-test-seed59-v1/reduced/right modified/'\n",
    "\n",
    "right_ds = Dataset(train_folder_path, test_folder_path, 16, 100)"
   ]
  },
  {
   "cell_type": "markdown",
   "metadata": {},
   "source": [
    "## right model"
   ]
  },
  {
   "cell_type": "code",
   "execution_count": 476,
   "metadata": {},
   "outputs": [
    {
     "name": "stdout",
     "output_type": "stream",
     "text": [
      "==== Building model ====\n"
     ]
    }
   ],
   "source": [
    "right_model = NeuralNetworkModel(right_ds.num_classes, dropout_rate=0.3, model_version=1)"
   ]
  },
  {
   "cell_type": "code",
   "execution_count": 477,
   "metadata": {},
   "outputs": [
    {
     "name": "stdout",
     "output_type": "stream",
     "text": [
      "==== Compiling model ====\n",
      "==== Training and validating model ====\n",
      "Epoch 1/40\n",
      "7/7 [==============================] - 3s 190ms/step - loss: 2.1089 - accuracy: 0.4231 - val_loss: 1.7068 - val_accuracy: 0.5455\n",
      "Epoch 2/40\n",
      "7/7 [==============================] - 1s 132ms/step - loss: 1.9444 - accuracy: 0.4712 - val_loss: 1.7326 - val_accuracy: 0.5455\n",
      "Epoch 3/40\n",
      "7/7 [==============================] - 1s 112ms/step - loss: 1.8626 - accuracy: 0.4712 - val_loss: 1.7309 - val_accuracy: 0.5455\n",
      "Epoch 4/40\n",
      "7/7 [==============================] - 1s 118ms/step - loss: 1.8227 - accuracy: 0.4712 - val_loss: 1.7075 - val_accuracy: 0.5455\n",
      "Epoch 5/40\n",
      "7/7 [==============================] - 1s 110ms/step - loss: 1.8398 - accuracy: 0.4712 - val_loss: 1.7028 - val_accuracy: 0.5455\n",
      "Epoch 6/40\n",
      "7/7 [==============================] - 1s 121ms/step - loss: 1.8057 - accuracy: 0.4712 - val_loss: 1.6346 - val_accuracy: 0.5455\n",
      "Epoch 7/40\n",
      "7/7 [==============================] - 1s 132ms/step - loss: 1.7253 - accuracy: 0.4712 - val_loss: 1.5515 - val_accuracy: 0.5455\n",
      "Epoch 8/40\n",
      "7/7 [==============================] - 1s 170ms/step - loss: 1.6156 - accuracy: 0.4712 - val_loss: 1.4272 - val_accuracy: 0.5455\n",
      "Epoch 9/40\n",
      "7/7 [==============================] - 1s 145ms/step - loss: 1.5015 - accuracy: 0.4712 - val_loss: 1.2912 - val_accuracy: 0.5455\n",
      "Epoch 10/40\n",
      "7/7 [==============================] - 1s 126ms/step - loss: 1.3539 - accuracy: 0.4712 - val_loss: 1.1752 - val_accuracy: 0.5455\n",
      "Epoch 11/40\n",
      "7/7 [==============================] - 1s 122ms/step - loss: 1.2926 - accuracy: 0.4904 - val_loss: 1.1113 - val_accuracy: 0.5455\n",
      "Epoch 12/40\n",
      "7/7 [==============================] - 1s 135ms/step - loss: 1.1994 - accuracy: 0.5096 - val_loss: 1.0665 - val_accuracy: 0.5455\n",
      "Epoch 13/40\n",
      "7/7 [==============================] - 1s 189ms/step - loss: 1.1577 - accuracy: 0.5769 - val_loss: 1.0394 - val_accuracy: 0.6364\n",
      "Epoch 14/40\n",
      "7/7 [==============================] - 1s 137ms/step - loss: 1.0622 - accuracy: 0.6058 - val_loss: 1.0245 - val_accuracy: 0.6364\n",
      "Epoch 15/40\n",
      "7/7 [==============================] - 1s 127ms/step - loss: 0.9794 - accuracy: 0.7308 - val_loss: 1.0241 - val_accuracy: 0.6364\n",
      "Epoch 16/40\n",
      "7/7 [==============================] - 1s 130ms/step - loss: 0.8552 - accuracy: 0.7788 - val_loss: 1.0259 - val_accuracy: 0.6364\n",
      "Epoch 17/40\n",
      "7/7 [==============================] - 1s 113ms/step - loss: 0.7204 - accuracy: 0.7788 - val_loss: 1.0820 - val_accuracy: 0.6364\n",
      "Epoch 18/40\n",
      "7/7 [==============================] - 1s 118ms/step - loss: 0.5903 - accuracy: 0.8654 - val_loss: 1.1914 - val_accuracy: 0.5455\n",
      "Epoch 19/40\n",
      "7/7 [==============================] - 1s 103ms/step - loss: 0.4365 - accuracy: 0.8846 - val_loss: 1.2861 - val_accuracy: 0.6364\n",
      "Epoch 20/40\n",
      "7/7 [==============================] - 1s 110ms/step - loss: 0.3706 - accuracy: 0.9038 - val_loss: 1.2695 - val_accuracy: 0.6364\n",
      "Epoch 21/40\n",
      "7/7 [==============================] - 1s 106ms/step - loss: 0.2759 - accuracy: 0.9327 - val_loss: 1.3679 - val_accuracy: 0.6364\n",
      "Epoch 22/40\n",
      "7/7 [==============================] - 1s 105ms/step - loss: 0.1718 - accuracy: 0.9519 - val_loss: 1.6360 - val_accuracy: 0.5909\n",
      "Epoch 23/40\n",
      "7/7 [==============================] - 1s 119ms/step - loss: 0.1611 - accuracy: 0.9423 - val_loss: 1.8800 - val_accuracy: 0.6818\n",
      "Epoch 24/40\n",
      "7/7 [==============================] - 1s 104ms/step - loss: 0.1997 - accuracy: 0.9712 - val_loss: 1.5239 - val_accuracy: 0.5909\n",
      "Epoch 25/40\n",
      "7/7 [==============================] - 1s 105ms/step - loss: 0.0853 - accuracy: 0.9904 - val_loss: 1.7456 - val_accuracy: 0.6364\n",
      "Epoch 26/40\n",
      "7/7 [==============================] - 1s 109ms/step - loss: 0.0978 - accuracy: 0.9808 - val_loss: 1.7576 - val_accuracy: 0.6818\n",
      "Epoch 27/40\n",
      "7/7 [==============================] - 1s 110ms/step - loss: 0.0503 - accuracy: 0.9904 - val_loss: 1.8958 - val_accuracy: 0.6364\n",
      "Epoch 28/40\n",
      "7/7 [==============================] - 1s 102ms/step - loss: 0.0607 - accuracy: 0.9808 - val_loss: 1.9581 - val_accuracy: 0.6364\n",
      "Epoch 29/40\n",
      "7/7 [==============================] - 1s 107ms/step - loss: 0.0763 - accuracy: 0.9808 - val_loss: 2.0754 - val_accuracy: 0.6364\n",
      "Epoch 30/40\n",
      "7/7 [==============================] - 1s 107ms/step - loss: 0.0434 - accuracy: 1.0000 - val_loss: 2.1688 - val_accuracy: 0.6818\n",
      "Epoch 31/40\n",
      "7/7 [==============================] - 1s 103ms/step - loss: 0.0334 - accuracy: 1.0000 - val_loss: 2.2326 - val_accuracy: 0.6818\n",
      "Epoch 32/40\n",
      "7/7 [==============================] - 1s 109ms/step - loss: 0.0600 - accuracy: 0.9808 - val_loss: 2.5082 - val_accuracy: 0.6818\n",
      "Epoch 33/40\n",
      "7/7 [==============================] - 1s 105ms/step - loss: 0.0285 - accuracy: 1.0000 - val_loss: 2.4304 - val_accuracy: 0.6818\n",
      "Epoch 34/40\n",
      "7/7 [==============================] - 1s 101ms/step - loss: 0.0405 - accuracy: 0.9904 - val_loss: 2.2596 - val_accuracy: 0.6364\n",
      "Epoch 35/40\n",
      "7/7 [==============================] - 1s 104ms/step - loss: 0.0203 - accuracy: 1.0000 - val_loss: 2.2908 - val_accuracy: 0.5909\n",
      "Epoch 36/40\n",
      "7/7 [==============================] - 1s 109ms/step - loss: 0.0322 - accuracy: 0.9904 - val_loss: 2.2408 - val_accuracy: 0.6818\n",
      "Epoch 37/40\n",
      "7/7 [==============================] - 1s 110ms/step - loss: 0.0141 - accuracy: 1.0000 - val_loss: 2.3517 - val_accuracy: 0.6818\n",
      "Epoch 38/40\n",
      "7/7 [==============================] - 1s 100ms/step - loss: 0.0164 - accuracy: 1.0000 - val_loss: 2.5901 - val_accuracy: 0.6818\n",
      "Epoch 39/40\n",
      "7/7 [==============================] - 1s 112ms/step - loss: 0.0114 - accuracy: 1.0000 - val_loss: 2.8867 - val_accuracy: 0.6818\n",
      "Epoch 40/40\n",
      "7/7 [==============================] - 1s 110ms/step - loss: 0.0101 - accuracy: 1.0000 - val_loss: 2.7969 - val_accuracy: 0.6818\n"
     ]
    },
    {
     "data": {
      "text/plain": [
       "<keras.callbacks.History at 0x1e638602aa0>"
      ]
     },
     "execution_count": 477,
     "metadata": {},
     "output_type": "execute_result"
    }
   ],
   "source": [
    "right_model.compile_model()\n",
    "right_model.train(right_ds.train_ds, 40, right_ds.val_ds)"
   ]
  },
  {
   "cell_type": "code",
   "execution_count": 478,
   "metadata": {},
   "outputs": [
    {
     "name": "stdout",
     "output_type": "stream",
     "text": [
      "==== Building model ====\n",
      "==== Compiling model ====\n",
      "==== Training model ====\n",
      "Epoch 1/23\n",
      "9/9 [==============================] - 3s 101ms/step - loss: 2.0658 - accuracy: 0.4365\n",
      "Epoch 2/23\n",
      "9/9 [==============================] - 1s 91ms/step - loss: 1.9487 - accuracy: 0.4841\n",
      "Epoch 3/23\n",
      "9/9 [==============================] - 1s 88ms/step - loss: 1.8491 - accuracy: 0.4841\n",
      "Epoch 4/23\n",
      "9/9 [==============================] - 1s 87ms/step - loss: 1.8187 - accuracy: 0.4841\n",
      "Epoch 5/23\n",
      "9/9 [==============================] - 1s 88ms/step - loss: 1.7501 - accuracy: 0.4841\n",
      "Epoch 6/23\n",
      "9/9 [==============================] - 1s 87ms/step - loss: 1.6428 - accuracy: 0.4841\n",
      "Epoch 7/23\n",
      "9/9 [==============================] - 1s 88ms/step - loss: 1.4749 - accuracy: 0.4841\n",
      "Epoch 8/23\n",
      "9/9 [==============================] - 1s 88ms/step - loss: 1.3205 - accuracy: 0.4841\n",
      "Epoch 9/23\n",
      "9/9 [==============================] - 1s 97ms/step - loss: 1.2363 - accuracy: 0.4841\n",
      "Epoch 10/23\n",
      "9/9 [==============================] - 1s 88ms/step - loss: 1.1446 - accuracy: 0.5000\n",
      "Epoch 11/23\n",
      "9/9 [==============================] - 1s 100ms/step - loss: 1.0768 - accuracy: 0.5635\n",
      "Epoch 12/23\n",
      "9/9 [==============================] - 1s 90ms/step - loss: 0.9826 - accuracy: 0.6587\n",
      "Epoch 13/23\n",
      "9/9 [==============================] - 1s 89ms/step - loss: 0.8737 - accuracy: 0.7143\n",
      "Epoch 14/23\n",
      "9/9 [==============================] - 1s 98ms/step - loss: 0.7479 - accuracy: 0.7937\n",
      "Epoch 15/23\n",
      "9/9 [==============================] - 1s 87ms/step - loss: 0.6404 - accuracy: 0.8175\n",
      "Epoch 16/23\n",
      "9/9 [==============================] - 1s 90ms/step - loss: 0.4249 - accuracy: 0.9127\n",
      "Epoch 17/23\n",
      "9/9 [==============================] - 1s 88ms/step - loss: 0.3810 - accuracy: 0.9206\n",
      "Epoch 18/23\n",
      "9/9 [==============================] - 1s 101ms/step - loss: 0.2226 - accuracy: 0.9365\n",
      "Epoch 19/23\n",
      "9/9 [==============================] - 1s 112ms/step - loss: 0.1888 - accuracy: 0.9524\n",
      "Epoch 20/23\n",
      "9/9 [==============================] - 1s 97ms/step - loss: 0.1836 - accuracy: 0.9286\n",
      "Epoch 21/23\n",
      "9/9 [==============================] - 1s 91ms/step - loss: 0.1521 - accuracy: 0.9444\n",
      "Epoch 22/23\n",
      "9/9 [==============================] - 1s 92ms/step - loss: 0.1036 - accuracy: 0.9762\n",
      "Epoch 23/23\n",
      "9/9 [==============================] - 1s 92ms/step - loss: 0.0975 - accuracy: 0.9762\n"
     ]
    },
    {
     "data": {
      "text/plain": [
       "<keras.callbacks.History at 0x1e5bea97c10>"
      ]
     },
     "execution_count": 478,
     "metadata": {},
     "output_type": "execute_result"
    }
   ],
   "source": [
    "right_model.build_model()\n",
    "right_model.compile_model()\n",
    "right_model.train(right_ds.train_val_ds, right_model.best_epoch)"
   ]
  },
  {
   "cell_type": "code",
   "execution_count": 479,
   "metadata": {},
   "outputs": [
    {
     "name": "stdout",
     "output_type": "stream",
     "text": [
      "1/1 [==============================] - 0s 405ms/step\n"
     ]
    },
    {
     "data": {
      "text/plain": [
       "0.8064516"
      ]
     },
     "execution_count": 479,
     "metadata": {},
     "output_type": "execute_result"
    }
   ],
   "source": [
    "right_model.evaluate(right_ds.test_ds)"
   ]
  },
  {
   "cell_type": "code",
   "execution_count": 480,
   "metadata": {},
   "outputs": [],
   "source": [
    "right_model.save_weights(\"./model_checkpoint/right_pruned_model_1_reduced_filtered_adaptive\")"
   ]
  },
  {
   "cell_type": "code",
   "execution_count": null,
   "metadata": {},
   "outputs": [
    {
     "name": "stdout",
     "output_type": "stream",
     "text": [
      "==== Building model ====\n"
     ]
    }
   ],
   "source": [
    "right_model = NeuralNetworkModel(right_ds.num_classes, dropout_rate=None, model_version=0)\n",
    "right_model.load_saved_weights(model_path = \"./model_checkpoint/right_model_reduced\")"
   ]
  },
  {
   "cell_type": "code",
   "execution_count": null,
   "metadata": {},
   "outputs": [
    {
     "name": "stdout",
     "output_type": "stream",
     "text": [
      "1/1 [==============================] - 0s 438ms/step\n"
     ]
    },
    {
     "data": {
      "text/plain": [
       "0.83870965"
      ]
     },
     "metadata": {},
     "output_type": "display_data"
    }
   ],
   "source": [
    "right_model.evaluate(right_ds.test_ds)"
   ]
  },
  {
   "cell_type": "markdown",
   "metadata": {},
   "source": [
    "## right pruned model"
   ]
  },
  {
   "cell_type": "code",
   "execution_count": 41,
   "metadata": {},
   "outputs": [
    {
     "name": "stdout",
     "output_type": "stream",
     "text": [
      "==== Building model ====\n"
     ]
    }
   ],
   "source": [
    "pruned_right_model = NeuralNetworkModel(right_ds.num_classes, 0.3, model_version=1)"
   ]
  },
  {
   "cell_type": "code",
   "execution_count": 42,
   "metadata": {},
   "outputs": [
    {
     "name": "stdout",
     "output_type": "stream",
     "text": [
      "==== Compiling model ====\n",
      "==== Training and validating model ====\n",
      "Epoch 1/70\n",
      "7/7 [==============================] - 2s 147ms/step - loss: 2.0769 - accuracy: 0.4327 - val_loss: 1.7483 - val_accuracy: 0.5455\n",
      "Epoch 2/70\n",
      "7/7 [==============================] - 1s 96ms/step - loss: 1.9096 - accuracy: 0.4712 - val_loss: 1.6812 - val_accuracy: 0.5455\n",
      "Epoch 3/70\n",
      "7/7 [==============================] - 1s 100ms/step - loss: 1.7724 - accuracy: 0.4712 - val_loss: 1.5612 - val_accuracy: 0.5455\n",
      "Epoch 4/70\n",
      "7/7 [==============================] - 1s 111ms/step - loss: 1.6551 - accuracy: 0.4712 - val_loss: 1.4702 - val_accuracy: 0.5455\n",
      "Epoch 5/70\n",
      "7/7 [==============================] - 1s 91ms/step - loss: 1.4963 - accuracy: 0.4712 - val_loss: 1.3689 - val_accuracy: 0.5455\n",
      "Epoch 6/70\n",
      "7/7 [==============================] - 1s 91ms/step - loss: 1.3443 - accuracy: 0.4904 - val_loss: 1.2835 - val_accuracy: 0.5455\n",
      "Epoch 7/70\n",
      "7/7 [==============================] - 1s 104ms/step - loss: 1.1956 - accuracy: 0.5577 - val_loss: 1.2091 - val_accuracy: 0.5909\n",
      "Epoch 8/70\n",
      "7/7 [==============================] - 1s 117ms/step - loss: 1.0611 - accuracy: 0.6538 - val_loss: 1.1003 - val_accuracy: 0.7727\n",
      "Epoch 9/70\n",
      "7/7 [==============================] - 1s 88ms/step - loss: 0.8901 - accuracy: 0.7212 - val_loss: 1.0972 - val_accuracy: 0.7273\n",
      "Epoch 10/70\n",
      "7/7 [==============================] - 1s 89ms/step - loss: 0.7033 - accuracy: 0.7692 - val_loss: 1.0093 - val_accuracy: 0.7727\n",
      "Epoch 11/70\n",
      "7/7 [==============================] - 1s 119ms/step - loss: 0.5019 - accuracy: 0.8365 - val_loss: 1.0254 - val_accuracy: 0.8182\n",
      "Epoch 12/70\n",
      "7/7 [==============================] - 1s 87ms/step - loss: 0.4263 - accuracy: 0.8365 - val_loss: 1.1144 - val_accuracy: 0.7727\n",
      "Epoch 13/70\n",
      "7/7 [==============================] - 1s 89ms/step - loss: 0.3164 - accuracy: 0.9038 - val_loss: 1.1511 - val_accuracy: 0.7727\n",
      "Epoch 14/70\n",
      "7/7 [==============================] - 1s 89ms/step - loss: 0.2550 - accuracy: 0.9038 - val_loss: 1.1376 - val_accuracy: 0.8182\n",
      "Epoch 15/70\n",
      "7/7 [==============================] - 1s 89ms/step - loss: 0.1901 - accuracy: 0.9423 - val_loss: 1.4239 - val_accuracy: 0.7273\n",
      "Epoch 16/70\n",
      "7/7 [==============================] - 1s 89ms/step - loss: 0.1333 - accuracy: 0.9615 - val_loss: 1.4982 - val_accuracy: 0.7727\n",
      "Epoch 17/70\n",
      "7/7 [==============================] - 1s 88ms/step - loss: 0.1141 - accuracy: 0.9808 - val_loss: 1.5040 - val_accuracy: 0.7273\n",
      "Epoch 18/70\n",
      "7/7 [==============================] - 1s 88ms/step - loss: 0.0839 - accuracy: 0.9904 - val_loss: 2.0141 - val_accuracy: 0.7727\n",
      "Epoch 19/70\n",
      "7/7 [==============================] - 1s 88ms/step - loss: 0.0816 - accuracy: 0.9808 - val_loss: 1.7656 - val_accuracy: 0.6818\n",
      "Epoch 20/70\n",
      "7/7 [==============================] - 1s 88ms/step - loss: 0.0514 - accuracy: 0.9904 - val_loss: 2.0350 - val_accuracy: 0.7273\n",
      "Epoch 21/70\n",
      "7/7 [==============================] - 1s 99ms/step - loss: 0.0495 - accuracy: 0.9904 - val_loss: 2.2273 - val_accuracy: 0.7273\n",
      "Epoch 22/70\n",
      "7/7 [==============================] - 1s 88ms/step - loss: 0.0380 - accuracy: 0.9904 - val_loss: 2.0205 - val_accuracy: 0.6818\n",
      "Epoch 23/70\n",
      "7/7 [==============================] - 1s 91ms/step - loss: 0.0210 - accuracy: 1.0000 - val_loss: 2.2916 - val_accuracy: 0.7273\n",
      "Epoch 24/70\n",
      "7/7 [==============================] - 1s 92ms/step - loss: 0.0429 - accuracy: 0.9904 - val_loss: 2.3523 - val_accuracy: 0.6818\n",
      "Epoch 25/70\n",
      "7/7 [==============================] - 1s 92ms/step - loss: 0.0351 - accuracy: 0.9904 - val_loss: 2.1270 - val_accuracy: 0.6818\n",
      "Epoch 26/70\n",
      "7/7 [==============================] - 1s 104ms/step - loss: 0.0407 - accuracy: 0.9904 - val_loss: 1.7782 - val_accuracy: 0.7273\n",
      "Epoch 27/70\n",
      "7/7 [==============================] - 1s 99ms/step - loss: 0.0378 - accuracy: 0.9904 - val_loss: 2.1596 - val_accuracy: 0.6818\n",
      "Epoch 28/70\n",
      "7/7 [==============================] - 1s 98ms/step - loss: 0.0508 - accuracy: 0.9904 - val_loss: 2.6368 - val_accuracy: 0.7273\n",
      "Epoch 29/70\n",
      "7/7 [==============================] - 1s 93ms/step - loss: 0.0479 - accuracy: 0.9808 - val_loss: 2.6692 - val_accuracy: 0.7727\n",
      "Epoch 30/70\n",
      "7/7 [==============================] - 1s 90ms/step - loss: 0.0150 - accuracy: 1.0000 - val_loss: 2.6140 - val_accuracy: 0.7727\n",
      "Epoch 31/70\n",
      "7/7 [==============================] - 1s 89ms/step - loss: 0.0099 - accuracy: 1.0000 - val_loss: 2.7044 - val_accuracy: 0.7273\n",
      "Epoch 32/70\n",
      "7/7 [==============================] - 1s 97ms/step - loss: 0.0109 - accuracy: 1.0000 - val_loss: 2.9435 - val_accuracy: 0.7273\n",
      "Epoch 33/70\n",
      "7/7 [==============================] - 1s 90ms/step - loss: 0.0035 - accuracy: 1.0000 - val_loss: 2.8884 - val_accuracy: 0.6818\n",
      "Epoch 34/70\n",
      "7/7 [==============================] - 1s 95ms/step - loss: 0.0341 - accuracy: 0.9808 - val_loss: 2.4344 - val_accuracy: 0.6818\n",
      "Epoch 35/70\n",
      "7/7 [==============================] - 1s 98ms/step - loss: 0.0674 - accuracy: 0.9712 - val_loss: 2.6469 - val_accuracy: 0.6818\n",
      "Epoch 36/70\n",
      "7/7 [==============================] - 1s 95ms/step - loss: 0.0307 - accuracy: 0.9904 - val_loss: 2.0920 - val_accuracy: 0.7273\n",
      "Epoch 37/70\n",
      "7/7 [==============================] - 1s 93ms/step - loss: 0.0676 - accuracy: 0.9808 - val_loss: 2.1442 - val_accuracy: 0.7273\n",
      "Epoch 38/70\n",
      "7/7 [==============================] - 1s 89ms/step - loss: 0.0252 - accuracy: 0.9904 - val_loss: 2.6339 - val_accuracy: 0.6818\n",
      "Epoch 39/70\n",
      "7/7 [==============================] - 1s 89ms/step - loss: 0.0390 - accuracy: 0.9904 - val_loss: 2.2247 - val_accuracy: 0.7273\n",
      "Epoch 40/70\n",
      "7/7 [==============================] - 1s 90ms/step - loss: 0.0298 - accuracy: 1.0000 - val_loss: 2.1721 - val_accuracy: 0.7273\n",
      "Epoch 41/70\n",
      "7/7 [==============================] - 1s 90ms/step - loss: 0.0050 - accuracy: 1.0000 - val_loss: 2.9891 - val_accuracy: 0.7727\n",
      "Epoch 42/70\n",
      "7/7 [==============================] - 1s 89ms/step - loss: 0.0259 - accuracy: 0.9904 - val_loss: 2.4093 - val_accuracy: 0.7273\n",
      "Epoch 43/70\n",
      "7/7 [==============================] - 1s 89ms/step - loss: 0.0206 - accuracy: 0.9904 - val_loss: 1.9709 - val_accuracy: 0.7273\n",
      "Epoch 44/70\n",
      "7/7 [==============================] - 1s 89ms/step - loss: 0.0111 - accuracy: 1.0000 - val_loss: 1.9110 - val_accuracy: 0.7727\n",
      "Epoch 45/70\n",
      "7/7 [==============================] - 1s 89ms/step - loss: 0.0037 - accuracy: 1.0000 - val_loss: 1.9570 - val_accuracy: 0.7727\n",
      "Epoch 46/70\n",
      "7/7 [==============================] - 1s 98ms/step - loss: 0.0066 - accuracy: 1.0000 - val_loss: 2.0246 - val_accuracy: 0.7727\n",
      "Epoch 47/70\n",
      "7/7 [==============================] - 1s 89ms/step - loss: 0.0042 - accuracy: 1.0000 - val_loss: 2.1572 - val_accuracy: 0.7727\n",
      "Epoch 48/70\n",
      "7/7 [==============================] - 1s 89ms/step - loss: 0.0040 - accuracy: 1.0000 - val_loss: 2.1576 - val_accuracy: 0.7727\n",
      "Epoch 49/70\n",
      "7/7 [==============================] - 1s 89ms/step - loss: 0.0079 - accuracy: 1.0000 - val_loss: 2.1989 - val_accuracy: 0.7727\n",
      "Epoch 50/70\n",
      "7/7 [==============================] - 1s 89ms/step - loss: 0.0104 - accuracy: 1.0000 - val_loss: 2.1591 - val_accuracy: 0.7273\n",
      "Epoch 51/70\n",
      "7/7 [==============================] - 1s 92ms/step - loss: 0.0684 - accuracy: 0.9712 - val_loss: 2.8618 - val_accuracy: 0.7727\n",
      "Epoch 52/70\n",
      "7/7 [==============================] - 1s 90ms/step - loss: 0.0085 - accuracy: 1.0000 - val_loss: 2.3675 - val_accuracy: 0.7273\n",
      "Epoch 53/70\n",
      "7/7 [==============================] - 1s 89ms/step - loss: 0.0106 - accuracy: 1.0000 - val_loss: 2.2839 - val_accuracy: 0.7273\n",
      "Epoch 54/70\n",
      "7/7 [==============================] - 1s 91ms/step - loss: 0.0046 - accuracy: 1.0000 - val_loss: 2.4776 - val_accuracy: 0.7273\n",
      "Epoch 55/70\n",
      "7/7 [==============================] - 1s 91ms/step - loss: 0.0206 - accuracy: 0.9904 - val_loss: 2.4935 - val_accuracy: 0.7273\n",
      "Epoch 56/70\n",
      "7/7 [==============================] - 1s 88ms/step - loss: 0.0091 - accuracy: 1.0000 - val_loss: 2.5037 - val_accuracy: 0.7273\n",
      "Epoch 57/70\n",
      "7/7 [==============================] - 1s 91ms/step - loss: 0.0166 - accuracy: 0.9904 - val_loss: 3.3277 - val_accuracy: 0.7273\n",
      "Epoch 58/70\n",
      "7/7 [==============================] - 1s 89ms/step - loss: 0.0197 - accuracy: 1.0000 - val_loss: 3.5143 - val_accuracy: 0.7273\n",
      "Epoch 59/70\n",
      "7/7 [==============================] - 1s 89ms/step - loss: 0.0031 - accuracy: 1.0000 - val_loss: 3.5249 - val_accuracy: 0.7273\n",
      "Epoch 60/70\n",
      "7/7 [==============================] - 1s 88ms/step - loss: 0.0058 - accuracy: 1.0000 - val_loss: 3.5001 - val_accuracy: 0.7273\n",
      "Epoch 61/70\n",
      "7/7 [==============================] - 1s 90ms/step - loss: 0.0076 - accuracy: 1.0000 - val_loss: 3.4789 - val_accuracy: 0.7273\n",
      "Epoch 62/70\n",
      "7/7 [==============================] - 1s 88ms/step - loss: 0.0030 - accuracy: 1.0000 - val_loss: 3.5013 - val_accuracy: 0.7273\n",
      "Epoch 63/70\n",
      "7/7 [==============================] - 1s 90ms/step - loss: 0.0073 - accuracy: 1.0000 - val_loss: 3.3634 - val_accuracy: 0.7273\n",
      "Epoch 64/70\n",
      "7/7 [==============================] - 1s 88ms/step - loss: 0.0051 - accuracy: 1.0000 - val_loss: 3.2953 - val_accuracy: 0.7273\n",
      "Epoch 65/70\n",
      "7/7 [==============================] - 1s 90ms/step - loss: 0.0212 - accuracy: 0.9904 - val_loss: 3.1373 - val_accuracy: 0.7273\n",
      "Epoch 66/70\n",
      "7/7 [==============================] - 1s 90ms/step - loss: 0.0043 - accuracy: 1.0000 - val_loss: 3.1284 - val_accuracy: 0.7273\n",
      "Epoch 67/70\n",
      "7/7 [==============================] - 1s 89ms/step - loss: 0.0084 - accuracy: 1.0000 - val_loss: 3.2181 - val_accuracy: 0.7273\n",
      "Epoch 68/70\n",
      "7/7 [==============================] - 1s 89ms/step - loss: 7.6138e-04 - accuracy: 1.0000 - val_loss: 3.3725 - val_accuracy: 0.7273\n",
      "Epoch 69/70\n",
      "7/7 [==============================] - 1s 89ms/step - loss: 0.0041 - accuracy: 1.0000 - val_loss: 3.1096 - val_accuracy: 0.7273\n",
      "Epoch 70/70\n",
      "7/7 [==============================] - 1s 88ms/step - loss: 0.0015 - accuracy: 1.0000 - val_loss: 3.0126 - val_accuracy: 0.7273\n"
     ]
    },
    {
     "data": {
      "text/plain": [
       "<keras.callbacks.History at 0x2195987d930>"
      ]
     },
     "execution_count": 42,
     "metadata": {},
     "output_type": "execute_result"
    }
   ],
   "source": [
    "pruned_right_model.compile_model()\n",
    "pruned_right_model.train(right_ds.train_ds, 70, right_ds.val_ds)"
   ]
  },
  {
   "cell_type": "code",
   "execution_count": 43,
   "metadata": {},
   "outputs": [
    {
     "name": "stdout",
     "output_type": "stream",
     "text": [
      "==== Building model ====\n",
      "==== Compiling model ====\n",
      "==== Training model ====\n",
      "Epoch 1/11\n"
     ]
    },
    {
     "name": "stdout",
     "output_type": "stream",
     "text": [
      "9/9 [==============================] - 2s 77ms/step - loss: 1.9948 - accuracy: 0.4444\n",
      "Epoch 2/11\n",
      "9/9 [==============================] - 1s 76ms/step - loss: 1.9276 - accuracy: 0.4841\n",
      "Epoch 3/11\n",
      "9/9 [==============================] - 1s 79ms/step - loss: 1.7509 - accuracy: 0.4841\n",
      "Epoch 4/11\n",
      "9/9 [==============================] - 1s 75ms/step - loss: 1.7282 - accuracy: 0.4841\n",
      "Epoch 5/11\n",
      "9/9 [==============================] - 1s 78ms/step - loss: 1.5834 - accuracy: 0.4841\n",
      "Epoch 6/11\n",
      "9/9 [==============================] - 1s 77ms/step - loss: 1.4970 - accuracy: 0.4841\n",
      "Epoch 7/11\n",
      "9/9 [==============================] - 1s 78ms/step - loss: 1.3592 - accuracy: 0.4921\n",
      "Epoch 8/11\n",
      "9/9 [==============================] - 1s 80ms/step - loss: 1.1894 - accuracy: 0.5238\n",
      "Epoch 9/11\n",
      "9/9 [==============================] - 1s 77ms/step - loss: 1.0936 - accuracy: 0.5635\n",
      "Epoch 10/11\n",
      "9/9 [==============================] - 1s 78ms/step - loss: 0.9914 - accuracy: 0.6508\n",
      "Epoch 11/11\n",
      "9/9 [==============================] - 1s 79ms/step - loss: 0.8496 - accuracy: 0.7619\n"
     ]
    },
    {
     "data": {
      "text/plain": [
       "<keras.callbacks.History at 0x2195be34040>"
      ]
     },
     "execution_count": 43,
     "metadata": {},
     "output_type": "execute_result"
    }
   ],
   "source": [
    "pruned_right_model.build_model()\n",
    "pruned_right_model.compile_model()\n",
    "pruned_right_model.train(right_ds.train_val_ds, pruned_right_model.best_epoch)"
   ]
  },
  {
   "cell_type": "code",
   "execution_count": 44,
   "metadata": {},
   "outputs": [
    {
     "name": "stdout",
     "output_type": "stream",
     "text": [
      "1/1 [==============================] - 0s 101ms/step\n"
     ]
    },
    {
     "data": {
      "text/plain": [
       "0.8064516"
      ]
     },
     "execution_count": 44,
     "metadata": {},
     "output_type": "execute_result"
    }
   ],
   "source": [
    "pruned_right_model.evaluate(right_ds.test_ds)"
   ]
  },
  {
   "cell_type": "code",
   "execution_count": 56,
   "metadata": {},
   "outputs": [],
   "source": [
    "pruned_right_model.save_weights(\"./model_checkpoint/right_pruned_model_reduced\")"
   ]
  },
  {
   "cell_type": "markdown",
   "metadata": {},
   "source": [
    "## combined dataset"
   ]
  },
  {
   "cell_type": "code",
   "execution_count": 8,
   "metadata": {},
   "outputs": [],
   "source": [
    "from dataset.dataset import CombinedTestDataset\n",
    "from model.models import CombinedModel"
   ]
  },
  {
   "cell_type": "code",
   "execution_count": 180,
   "metadata": {},
   "outputs": [],
   "source": [
    "left_hand_folder = 'D:/Documentos/Polito/Thesis/Datasets/A3LIS-147_italian/trimmed-life/hei-videos-test-seed59-adaptive-v2/reduced/left/'\n",
    "right_hand_folder = 'D:/Documentos/Polito/Thesis/Datasets/A3LIS-147_italian/trimmed-life/hei-videos-test-seed59-adaptive-v2/reduced/right/'"
   ]
  },
  {
   "cell_type": "code",
   "execution_count": 181,
   "metadata": {},
   "outputs": [],
   "source": [
    "combined_ds = CombinedTestDataset(\n",
    "    left_hand_folder,\n",
    "    right_hand_folder,\n",
    "    100,\n",
    "    100,\n",
    "    2\n",
    ")"
   ]
  },
  {
   "cell_type": "code",
   "execution_count": 182,
   "metadata": {},
   "outputs": [],
   "source": [
    "reality_left_hand_folder = 'D:/Documentos/Polito/Thesis/Datasets/A3LIS-147_italian/trimmed-life/my-videos/hei-test-adaptive-v2/left/'\n",
    "reality_right_hand_folder = 'D:/Documentos/Polito/Thesis/Datasets/A3LIS-147_italian/trimmed-life/my-videos/hei-test-adaptive-v2/right/'"
   ]
  },
  {
   "cell_type": "code",
   "execution_count": 183,
   "metadata": {},
   "outputs": [],
   "source": [
    "combined_ds_reality = CombinedTestDataset(\n",
    "    reality_left_hand_folder,\n",
    "    reality_right_hand_folder,\n",
    "    100,\n",
    "    100,\n",
    "    2\n",
    ")"
   ]
  },
  {
   "cell_type": "markdown",
   "metadata": {},
   "source": [
    "## combined model"
   ]
  },
  {
   "cell_type": "code",
   "execution_count": 204,
   "metadata": {},
   "outputs": [
    {
     "name": "stdout",
     "output_type": "stream",
     "text": [
      "==== Building model ====\n"
     ]
    }
   ],
   "source": [
    "dropout_rate = 0.3\n",
    "model_version = 1\n",
    "left_model = NeuralNetworkModel(left_ds.num_classes, dropout_rate=dropout_rate, model_version=model_version)\n",
    "left_model.load_saved_weights(model_path = \"./model_checkpoint/left_pruned_model_1_reduced_filtered_adaptive\")"
   ]
  },
  {
   "cell_type": "code",
   "execution_count": 77,
   "metadata": {},
   "outputs": [
    {
     "name": "stdout",
     "output_type": "stream",
     "text": [
      "1/1 [==============================] - 0s 213ms/step\n"
     ]
    },
    {
     "data": {
      "text/plain": [
       "0.73333335"
      ]
     },
     "execution_count": 77,
     "metadata": {},
     "output_type": "execute_result"
    }
   ],
   "source": [
    "left_model.evaluate(left_ds.test_ds)"
   ]
  },
  {
   "cell_type": "code",
   "execution_count": 205,
   "metadata": {},
   "outputs": [
    {
     "name": "stdout",
     "output_type": "stream",
     "text": [
      "==== Building model ====\n"
     ]
    }
   ],
   "source": [
    "dropout_rate = 0.3\n",
    "model_version = 1\n",
    "right_model = NeuralNetworkModel(right_ds.num_classes, dropout_rate=dropout_rate, model_version=model_version)\n",
    "right_model.load_saved_weights(model_path = \"./model_checkpoint/right_pruned_model_1_reduced_filtered_adaptive\")"
   ]
  },
  {
   "cell_type": "code",
   "execution_count": 158,
   "metadata": {},
   "outputs": [
    {
     "name": "stdout",
     "output_type": "stream",
     "text": [
      "1/1 [==============================] - 0s 352ms/step\n"
     ]
    },
    {
     "data": {
      "text/plain": [
       "0.7419355"
      ]
     },
     "execution_count": 158,
     "metadata": {},
     "output_type": "execute_result"
    }
   ],
   "source": [
    "right_model.evaluate(right_ds.test_ds)"
   ]
  },
  {
   "cell_type": "code",
   "execution_count": 206,
   "metadata": {},
   "outputs": [],
   "source": [
    "combined_model = CombinedModel(\n",
    "    left_model,\n",
    "    right_model,\n",
    "    left_ds.class_names,\n",
    "    right_ds.class_names,\n",
    "    weight1=1,\n",
    "    weight2=1,\n",
    "    extra_weight2=2,\n",
    "    top_for_extra=3\n",
    "    )"
   ]
  },
  {
   "cell_type": "code",
   "execution_count": 207,
   "metadata": {},
   "outputs": [
    {
     "name": "stdout",
     "output_type": "stream",
     "text": [
      "Inference Accuracy: 0.7\n",
      "Top 2 Accuracy: 0.9\n",
      "Top 3 Accuracy: 0.9333333333333333\n",
      "Average probability of true label: 0.5992592\n"
     ]
    }
   ],
   "source": [
    "combined_model.evaluate(combined_ds.test_ds)"
   ]
  },
  {
   "cell_type": "code",
   "execution_count": 200,
   "metadata": {},
   "outputs": [],
   "source": [
    "# combined_model.generate_confusion_matrix(\"./confusion_matrix/confusion_matrix_v3_adaptive_filtered.png\")"
   ]
  },
  {
   "cell_type": "code",
   "execution_count": 208,
   "metadata": {},
   "outputs": [
    {
     "name": "stdout",
     "output_type": "stream",
     "text": [
      "Inference Accuracy: 0.39655172413793105\n",
      "Top 2 Accuracy: 0.5689655172413793\n",
      "Top 3 Accuracy: 0.6896551724137931\n",
      "Average probability of true label: 0.2972597\n"
     ]
    }
   ],
   "source": [
    "combined_model.evaluate(combined_ds_reality.test_ds)"
   ]
  },
  {
   "cell_type": "code",
   "execution_count": 209,
   "metadata": {},
   "outputs": [],
   "source": [
    "file_name = \"confusion_matrix_v3_adaptive_filtered\"\n",
    "combined_model.generate_confusion_matrix(f\"./confusion_matrix/{file_name}_reality.png\")"
   ]
  },
  {
   "cell_type": "code",
   "execution_count": 163,
   "metadata": {},
   "outputs": [
    {
     "name": "stdout",
     "output_type": "stream",
     "text": [
      "Sample 1:\n",
      "  True Label: interprete\n",
      "  Prediction: interprete\n",
      "  Model 1 (left) Predictions:\n",
      "    interprete: 51.1%\n",
      "    idle: 25.2%\n",
      "    acqua: 23.0%\n",
      "  Model 2 (right) Predictions:\n",
      "    interprete: 100.0%\n",
      "    inviare: 0.0%\n",
      "    banca: 0.0%\n",
      "  Averaged Predictions:\n",
      "    interprete: 75.5%\n",
      "    idle: 12.6%\n",
      "    acqua: 11.5%\n",
      "\n",
      "--------------------------------------------------\n",
      "\n",
      "Sample 2:\n",
      "  True Label: freddo\n",
      "  Prediction: freddo\n",
      "  Model 1 (left) Predictions:\n",
      "    freddo: 87.0%\n",
      "    litro: 7.6%\n",
      "    data: 1.7%\n",
      "  Model 2 (right) Predictions:\n",
      "    litro: 56.2%\n",
      "    inviare: 35.2%\n",
      "    banca: 5.0%\n",
      "  Averaged Predictions:\n",
      "    freddo: 43.8%\n",
      "    litro: 31.9%\n",
      "    inviare: 17.8%\n",
      "\n",
      "--------------------------------------------------\n",
      "\n",
      "Sample 3:\n",
      "  True Label: cibo\n",
      "  Prediction: cibo\n",
      "  Model 1 (left) Predictions:\n",
      "    cibo: 92.2%\n",
      "    acqua: 4.0%\n",
      "    caldo: 3.7%\n",
      "  Model 2 (right) Predictions:\n",
      "    idle: 98.2%\n",
      "    banca: 1.7%\n",
      "    data: 0.1%\n",
      "  Averaged Predictions:\n",
      "    cibo: 92.2%\n",
      "    acqua: 4.0%\n",
      "    caldo: 3.7%\n",
      "\n",
      "--------------------------------------------------\n",
      "\n",
      "Sample 4:\n",
      "  True Label: abitare\n",
      "  Prediction: abitare\n",
      "  Model 1 (left) Predictions:\n",
      "    abitare: 69.0%\n",
      "    affitto: 29.1%\n",
      "    interprete: 1.0%\n",
      "  Model 2 (right) Predictions:\n",
      "    abitare: 100.0%\n",
      "    banca: 0.0%\n",
      "    inviare: 0.0%\n",
      "  Averaged Predictions:\n",
      "    abitare: 84.5%\n",
      "    affitto: 14.6%\n",
      "    interprete: 0.5%\n",
      "\n",
      "--------------------------------------------------\n",
      "\n",
      "Sample 5:\n",
      "  True Label: litro\n",
      "  Prediction: interprete\n",
      "  Model 1 (left) Predictions:\n",
      "    interprete: 70.3%\n",
      "    litro: 16.7%\n",
      "    inviare: 8.7%\n",
      "  Model 2 (right) Predictions:\n",
      "    litro: 47.6%\n",
      "    inviare: 45.8%\n",
      "    banca: 4.7%\n",
      "  Averaged Predictions:\n",
      "    interprete: 36.1%\n",
      "    litro: 32.1%\n",
      "    inviare: 27.3%\n",
      "\n",
      "--------------------------------------------------\n",
      "\n",
      "Sample 6:\n",
      "  True Label: abitare\n",
      "  Prediction: abitare\n",
      "  Model 1 (left) Predictions:\n",
      "    abitare: 48.7%\n",
      "    inviare: 42.1%\n",
      "    affitto: 6.7%\n",
      "  Model 2 (right) Predictions:\n",
      "    abitare: 99.9%\n",
      "    litro: 0.1%\n",
      "    interprete: 0.0%\n",
      "  Averaged Predictions:\n",
      "    abitare: 74.3%\n",
      "    inviare: 21.1%\n",
      "    affitto: 3.3%\n",
      "\n",
      "--------------------------------------------------\n",
      "\n",
      "Sample 7:\n",
      "  True Label: idle\n",
      "  Prediction: idle\n",
      "  Model 1 (left) Predictions:\n",
      "    idle: 99.9%\n",
      "    acqua: 0.1%\n",
      "    interprete: 0.0%\n",
      "  Model 2 (right) Predictions:\n",
      "    idle: 36.1%\n",
      "    interprete: 33.8%\n",
      "    casa: 9.7%\n",
      "  Averaged Predictions:\n",
      "    idle: 99.9%\n",
      "    acqua: 0.1%\n",
      "    interprete: 0.0%\n",
      "\n",
      "--------------------------------------------------\n",
      "\n",
      "Sample 8:\n",
      "  True Label: cibo\n",
      "  Prediction: cibo\n",
      "  Model 1 (left) Predictions:\n",
      "    cibo: 95.2%\n",
      "    caldo: 3.9%\n",
      "    acqua: 0.8%\n",
      "  Model 2 (right) Predictions:\n",
      "    idle: 100.0%\n",
      "    inviare: 0.0%\n",
      "    banca: 0.0%\n",
      "  Averaged Predictions:\n",
      "    cibo: 95.2%\n",
      "    caldo: 3.9%\n",
      "    acqua: 0.8%\n",
      "\n",
      "--------------------------------------------------\n",
      "\n",
      "Sample 9:\n",
      "  True Label: idle\n",
      "  Prediction: idle\n",
      "  Model 1 (left) Predictions:\n",
      "    idle: 80.0%\n",
      "    acqua: 17.1%\n",
      "    cibo: 2.1%\n",
      "  Model 2 (right) Predictions:\n",
      "    idle: 100.0%\n",
      "    banca: 0.0%\n",
      "    interprete: 0.0%\n",
      "  Averaged Predictions:\n",
      "    idle: 80.0%\n",
      "    acqua: 17.1%\n",
      "    cibo: 2.1%\n",
      "\n",
      "--------------------------------------------------\n",
      "\n",
      "Sample 10:\n",
      "  True Label: interprete\n",
      "  Prediction: interprete\n",
      "  Model 1 (left) Predictions:\n",
      "    interprete: 61.5%\n",
      "    inviare: 16.9%\n",
      "    abitare: 15.5%\n",
      "  Model 2 (right) Predictions:\n",
      "    interprete: 100.0%\n",
      "    idle: 0.0%\n",
      "    banca: 0.0%\n",
      "  Averaged Predictions:\n",
      "    interprete: 80.7%\n",
      "    inviare: 8.5%\n",
      "    abitare: 7.8%\n",
      "\n",
      "--------------------------------------------------\n",
      "\n",
      "Sample 11:\n",
      "  True Label: data\n",
      "  Prediction: data\n",
      "  Model 1 (left) Predictions:\n",
      "    data: 69.1%\n",
      "    cibo: 16.8%\n",
      "    acqua: 6.8%\n",
      "  Model 2 (right) Predictions:\n",
      "    data: 99.9%\n",
      "    casa: 0.1%\n",
      "    banca: 0.0%\n",
      "  Averaged Predictions:\n",
      "    data: 84.5%\n",
      "    cibo: 8.4%\n",
      "    acqua: 3.4%\n",
      "\n",
      "--------------------------------------------------\n",
      "\n",
      "Sample 12:\n",
      "  True Label: casa\n",
      "  Prediction: casa\n",
      "  Model 1 (left) Predictions:\n",
      "    casa: 94.9%\n",
      "    caldo: 2.9%\n",
      "    acqua: 2.0%\n",
      "  Model 2 (right) Predictions:\n",
      "    casa: 63.4%\n",
      "    caldo: 20.1%\n",
      "    inviare: 16.3%\n",
      "  Averaged Predictions:\n",
      "    casa: 79.1%\n",
      "    caldo: 11.5%\n",
      "    inviare: 8.1%\n",
      "\n",
      "--------------------------------------------------\n",
      "\n",
      "Sample 13:\n",
      "  True Label: inviare\n",
      "  Prediction: litro\n",
      "  Model 1 (left) Predictions:\n",
      "    lingua: 73.2%\n",
      "    banca: 19.9%\n",
      "    inviare: 4.3%\n",
      "  Model 2 (right) Predictions:\n",
      "    litro: 99.2%\n",
      "    banca: 0.5%\n",
      "    inviare: 0.3%\n",
      "  Averaged Predictions:\n",
      "    litro: 50.0%\n",
      "    lingua: 36.6%\n",
      "    banca: 10.2%\n",
      "\n",
      "--------------------------------------------------\n",
      "\n",
      "Sample 14:\n",
      "  True Label: banca\n",
      "  Prediction: banca\n",
      "  Model 1 (left) Predictions:\n",
      "    banca: 84.3%\n",
      "    caldo: 12.6%\n",
      "    acqua: 2.0%\n",
      "  Model 2 (right) Predictions:\n",
      "    banca: 97.9%\n",
      "    inviare: 2.0%\n",
      "    interprete: 0.0%\n",
      "  Averaged Predictions:\n",
      "    banca: 91.1%\n",
      "    caldo: 6.3%\n",
      "    inviare: 1.1%\n",
      "\n",
      "--------------------------------------------------\n",
      "\n",
      "Sample 15:\n",
      "  True Label: lingua\n",
      "  Prediction: lingua\n",
      "  Model 1 (left) Predictions:\n",
      "    lingua: 93.9%\n",
      "    caldo: 3.7%\n",
      "    freddo: 1.0%\n",
      "  Model 2 (right) Predictions:\n",
      "    idle: 100.0%\n",
      "    inviare: 0.0%\n",
      "    interprete: 0.0%\n",
      "  Averaged Predictions:\n",
      "    lingua: 93.9%\n",
      "    caldo: 3.7%\n",
      "    freddo: 1.0%\n",
      "\n",
      "--------------------------------------------------\n",
      "\n",
      "Sample 16:\n",
      "  True Label: lingua\n",
      "  Prediction: lingua\n",
      "  Model 1 (left) Predictions:\n",
      "    lingua: 83.4%\n",
      "    banca: 16.0%\n",
      "    litro: 0.3%\n",
      "  Model 2 (right) Predictions:\n",
      "    idle: 100.0%\n",
      "    casa: 0.0%\n",
      "    banca: 0.0%\n",
      "  Averaged Predictions:\n",
      "    lingua: 83.4%\n",
      "    banca: 16.0%\n",
      "    litro: 0.3%\n",
      "\n",
      "--------------------------------------------------\n",
      "\n",
      "Sample 17:\n",
      "  True Label: caldo\n",
      "  Prediction: caldo\n",
      "  Model 1 (left) Predictions:\n",
      "    cibo: 84.3%\n",
      "    caldo: 15.7%\n",
      "    acqua: 0.0%\n",
      "  Model 2 (right) Predictions:\n",
      "    caldo: 99.1%\n",
      "    data: 0.7%\n",
      "    casa: 0.2%\n",
      "  Averaged Predictions:\n",
      "    caldo: 57.4%\n",
      "    cibo: 42.1%\n",
      "    data: 0.4%\n",
      "\n",
      "--------------------------------------------------\n",
      "\n",
      "Sample 18:\n",
      "  True Label: casa\n",
      "  Prediction: casa\n",
      "  Model 1 (left) Predictions:\n",
      "    casa: 92.3%\n",
      "    acqua: 7.4%\n",
      "    cibo: 0.2%\n",
      "  Model 2 (right) Predictions:\n",
      "    casa: 95.2%\n",
      "    banca: 4.6%\n",
      "    inviare: 0.1%\n",
      "  Averaged Predictions:\n",
      "    casa: 93.8%\n",
      "    acqua: 3.7%\n",
      "    banca: 2.3%\n",
      "\n",
      "--------------------------------------------------\n",
      "\n",
      "Sample 19:\n",
      "  True Label: idle\n",
      "  Prediction: idle\n",
      "  Model 1 (left) Predictions:\n",
      "    idle: 99.9%\n",
      "    acqua: 0.0%\n",
      "    interprete: 0.0%\n",
      "  Model 2 (right) Predictions:\n",
      "    idle: 36.1%\n",
      "    interprete: 33.8%\n",
      "    casa: 9.7%\n",
      "  Averaged Predictions:\n",
      "    idle: 99.9%\n",
      "    acqua: 0.0%\n",
      "    interprete: 0.0%\n",
      "\n",
      "--------------------------------------------------\n",
      "\n",
      "Sample 20:\n",
      "  True Label: freddo\n",
      "  Prediction: freddo\n",
      "  Model 1 (left) Predictions:\n",
      "    freddo: 100.0%\n",
      "    data: 0.0%\n",
      "    affitto: 0.0%\n",
      "  Model 2 (right) Predictions:\n",
      "    freddo: 100.0%\n",
      "    casa: 0.0%\n",
      "    abitare: 0.0%\n",
      "  Averaged Predictions:\n",
      "    freddo: 100.0%\n",
      "    data: 0.0%\n",
      "    affitto: 0.0%\n",
      "\n",
      "--------------------------------------------------\n",
      "\n",
      "Sample 21:\n",
      "  True Label: litro\n",
      "  Prediction: inviare\n",
      "  Model 1 (left) Predictions:\n",
      "    litro: 64.1%\n",
      "    affitto: 22.5%\n",
      "    inviare: 8.1%\n",
      "  Model 2 (right) Predictions:\n",
      "    inviare: 82.3%\n",
      "    banca: 16.7%\n",
      "    interprete: 0.5%\n",
      "  Averaged Predictions:\n",
      "    inviare: 45.2%\n",
      "    litro: 32.2%\n",
      "    affitto: 11.2%\n",
      "\n",
      "--------------------------------------------------\n",
      "\n",
      "Sample 22:\n",
      "  True Label: acqua\n",
      "  Prediction: acqua\n",
      "  Model 1 (left) Predictions:\n",
      "    acqua: 50.2%\n",
      "    caldo: 25.2%\n",
      "    cibo: 24.2%\n",
      "  Model 2 (right) Predictions:\n",
      "    idle: 100.0%\n",
      "    interprete: 0.0%\n",
      "    data: 0.0%\n",
      "  Averaged Predictions:\n",
      "    acqua: 50.2%\n",
      "    caldo: 25.2%\n",
      "    cibo: 24.2%\n",
      "\n",
      "--------------------------------------------------\n",
      "\n",
      "Sample 23:\n",
      "  True Label: idle\n",
      "  Prediction: idle\n",
      "  Model 1 (left) Predictions:\n",
      "    idle: 100.0%\n",
      "    acqua: 0.0%\n",
      "    cibo: 0.0%\n",
      "  Model 2 (right) Predictions:\n",
      "    idle: 100.0%\n",
      "    banca: 0.0%\n",
      "    interprete: 0.0%\n",
      "  Averaged Predictions:\n",
      "    idle: 100.0%\n",
      "    acqua: 0.0%\n",
      "    cibo: 0.0%\n",
      "\n",
      "--------------------------------------------------\n",
      "\n",
      "Sample 24:\n",
      "  True Label: data\n",
      "  Prediction: data\n",
      "  Model 1 (left) Predictions:\n",
      "    inviare: 50.0%\n",
      "    interprete: 18.9%\n",
      "    litro: 14.1%\n",
      "  Model 2 (right) Predictions:\n",
      "    data: 99.6%\n",
      "    casa: 0.3%\n",
      "    banca: 0.0%\n",
      "  Averaged Predictions:\n",
      "    data: 50.8%\n",
      "    inviare: 25.0%\n",
      "    interprete: 9.4%\n",
      "\n",
      "--------------------------------------------------\n",
      "\n",
      "Sample 25:\n",
      "  True Label: affitto\n",
      "  Prediction: inviare\n",
      "  Model 1 (left) Predictions:\n",
      "    inviare: 72.6%\n",
      "    litro: 12.0%\n",
      "    affitto: 8.0%\n",
      "  Model 2 (right) Predictions:\n",
      "    idle: 100.0%\n",
      "    inviare: 0.0%\n",
      "    interprete: 0.0%\n",
      "  Averaged Predictions:\n",
      "    inviare: 72.6%\n",
      "    litro: 12.0%\n",
      "    affitto: 8.0%\n",
      "\n",
      "--------------------------------------------------\n",
      "\n",
      "Sample 26:\n",
      "  True Label: acqua\n",
      "  Prediction: cibo\n",
      "  Model 1 (left) Predictions:\n",
      "    cibo: 94.5%\n",
      "    caldo: 3.7%\n",
      "    acqua: 1.5%\n",
      "  Model 2 (right) Predictions:\n",
      "    idle: 100.0%\n",
      "    banca: 0.0%\n",
      "    litro: 0.0%\n",
      "  Averaged Predictions:\n",
      "    cibo: 94.5%\n",
      "    caldo: 3.7%\n",
      "    acqua: 1.5%\n",
      "\n",
      "--------------------------------------------------\n",
      "\n",
      "Sample 27:\n",
      "  True Label: inviare\n",
      "  Prediction: inviare\n",
      "  Model 1 (left) Predictions:\n",
      "    banca: 67.6%\n",
      "    inviare: 22.1%\n",
      "    litro: 6.1%\n",
      "  Model 2 (right) Predictions:\n",
      "    inviare: 98.9%\n",
      "    banca: 1.0%\n",
      "    interprete: 0.0%\n",
      "  Averaged Predictions:\n",
      "    inviare: 60.5%\n",
      "    banca: 34.3%\n",
      "    litro: 3.0%\n",
      "\n",
      "--------------------------------------------------\n",
      "\n",
      "Sample 28:\n",
      "  True Label: affitto\n",
      "  Prediction: affitto\n",
      "  Model 1 (left) Predictions:\n",
      "    affitto: 94.9%\n",
      "    freddo: 3.4%\n",
      "    lingua: 1.2%\n",
      "  Model 2 (right) Predictions:\n",
      "    idle: 100.0%\n",
      "    banca: 0.0%\n",
      "    litro: 0.0%\n",
      "  Averaged Predictions:\n",
      "    affitto: 94.9%\n",
      "    freddo: 3.4%\n",
      "    lingua: 1.2%\n",
      "\n",
      "--------------------------------------------------\n",
      "\n",
      "Sample 29:\n",
      "  True Label: caldo\n",
      "  Prediction: caldo\n",
      "  Model 1 (left) Predictions:\n",
      "    caldo: 89.9%\n",
      "    cibo: 9.8%\n",
      "    acqua: 0.2%\n",
      "  Model 2 (right) Predictions:\n",
      "    idle: 100.0%\n",
      "    banca: 0.0%\n",
      "    casa: 0.0%\n",
      "  Averaged Predictions:\n",
      "    caldo: 89.9%\n",
      "    cibo: 9.8%\n",
      "    acqua: 0.2%\n",
      "\n",
      "--------------------------------------------------\n",
      "\n",
      "Sample 30:\n",
      "  True Label: banca\n",
      "  Prediction: banca\n",
      "  Model 1 (left) Predictions:\n",
      "    banca: 99.3%\n",
      "    caldo: 0.5%\n",
      "    acqua: 0.1%\n",
      "  Model 2 (right) Predictions:\n",
      "    banca: 63.9%\n",
      "    data: 26.9%\n",
      "    casa: 8.7%\n",
      "  Averaged Predictions:\n",
      "    banca: 81.6%\n",
      "    data: 13.5%\n",
      "    casa: 4.3%\n",
      "\n",
      "--------------------------------------------------\n",
      "\n"
     ]
    }
   ],
   "source": [
    "combined_model.show_predictions()"
   ]
  },
  {
   "cell_type": "code",
   "execution_count": 47,
   "metadata": {},
   "outputs": [],
   "source": [
    "combined_model2 = CombinedModel(\n",
    "    left_model,\n",
    "    right_model,\n",
    "    left_ds.class_names,\n",
    "    right_ds.class_names,\n",
    "    weight1=1,\n",
    "    weight2=1,\n",
    "    extra_weight2=4,\n",
    "    top_for_extra=3\n",
    "    )"
   ]
  },
  {
   "cell_type": "code",
   "execution_count": 48,
   "metadata": {},
   "outputs": [
    {
     "name": "stdout",
     "output_type": "stream",
     "text": [
      "Inference Accuracy: 0.9\n"
     ]
    }
   ],
   "source": [
    "combined_model2.evaluate(combined_ds.test_ds)"
   ]
  },
  {
   "cell_type": "markdown",
   "metadata": {},
   "source": [
    "### Testing"
   ]
  },
  {
   "cell_type": "code",
   "execution_count": null,
   "metadata": {},
   "outputs": [],
   "source": []
  }
 ],
 "metadata": {
  "kernelspec": {
   "display_name": "thesis-venv",
   "language": "python",
   "name": "python3"
  },
  "language_info": {
   "codemirror_mode": {
    "name": "ipython",
    "version": 3
   },
   "file_extension": ".py",
   "mimetype": "text/x-python",
   "name": "python",
   "nbconvert_exporter": "python",
   "pygments_lexer": "ipython3",
   "version": "3.10.7"
  },
  "orig_nbformat": 4
 },
 "nbformat": 4,
 "nbformat_minor": 2
}
