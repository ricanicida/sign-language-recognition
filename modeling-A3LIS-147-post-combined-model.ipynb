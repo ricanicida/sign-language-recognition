{
 "cells": [
  {
   "cell_type": "markdown",
   "metadata": {},
   "source": [
    "# Imports"
   ]
  },
  {
   "cell_type": "code",
   "execution_count": 2,
   "metadata": {},
   "outputs": [],
   "source": [
    "import tensorflow as tf\n",
    "from tensorflow.keras.callbacks import ModelCheckpoint, Callback\n",
    "import numpy as np\n",
    "import os\n",
    "import PIL\n",
    "import PIL.Image\n",
    "import pathlib\n",
    "from sklearn.model_selection import train_test_split\n",
    "\n",
    "import matplotlib.pyplot as plt"
   ]
  },
  {
   "cell_type": "code",
   "execution_count": 8,
   "metadata": {},
   "outputs": [],
   "source": [
    "import tensorflow_model_optimization as tfmot"
   ]
  },
  {
   "cell_type": "markdown",
   "metadata": {},
   "source": [
    "# Utils"
   ]
  },
  {
   "cell_type": "code",
   "execution_count": 3,
   "metadata": {},
   "outputs": [],
   "source": [
    "class BestEpochTracker(Callback):\n",
    "    def __init__(self):\n",
    "        super().__init__()\n",
    "        self.best_epoch = None\n",
    "        self.best_val_loss = float(\"inf\")\n",
    "\n",
    "    def on_epoch_end(self, epoch, logs=None):\n",
    "        if logs and \"val_loss\" in logs:\n",
    "            current_val_loss = logs[\"val_loss\"]\n",
    "            if current_val_loss < self.best_val_loss:\n",
    "                self.best_val_loss = current_val_loss\n",
    "                self.best_epoch = epoch + 1"
   ]
  },
  {
   "cell_type": "markdown",
   "metadata": {},
   "source": [
    "# Test"
   ]
  },
  {
   "cell_type": "code",
   "execution_count": 1,
   "metadata": {},
   "outputs": [],
   "source": [
    "from model.models import NeuralNetworkModel\n",
    "from dataset.dataset import Dataset"
   ]
  },
  {
   "cell_type": "code",
   "execution_count": 2,
   "metadata": {},
   "outputs": [
    {
     "name": "stdout",
     "output_type": "stream",
     "text": [
      "==== Loading train and validation data ====\n",
      "Found 112 files belonging to 14 classes.\n",
      "Using 92 files for training.\n",
      "Using 20 files for validation.\n",
      "==== Loading test data ====\n",
      "Found 30 files belonging to 14 classes.\n",
      "==== Preparing datasets ====\n"
     ]
    }
   ],
   "source": [
    "train_folder_path = 'D:/Documentos/Polito/Thesis/Datasets/A3LIS-147_italian/trimmed-life/hei-videos-train-seed59-v1/reduced/left/'\n",
    "test_folder_path = 'D:/Documentos/Polito/Thesis/Datasets/A3LIS-147_italian/trimmed-life/hei-videos-test-seed59-v1/reduced/left/'\n",
    "\n",
    "left_ds = Dataset(train_folder_path, test_folder_path, 16, 100)"
   ]
  },
  {
   "cell_type": "code",
   "execution_count": 7,
   "metadata": {},
   "outputs": [
    {
     "name": "stdout",
     "output_type": "stream",
     "text": [
      "==== Building model ====\n"
     ]
    }
   ],
   "source": [
    "left_model = NeuralNetworkModel(left_ds.num_classes)"
   ]
  },
  {
   "cell_type": "code",
   "execution_count": 8,
   "metadata": {},
   "outputs": [
    {
     "name": "stdout",
     "output_type": "stream",
     "text": [
      "==== Compiling model ====\n",
      "==== Training and validating model ====\n",
      "Epoch 1/15\n",
      "6/6 [==============================] - 4s 208ms/step - loss: 2.6658 - accuracy: 0.1413 - val_loss: 2.6965 - val_accuracy: 0.1000\n",
      "Epoch 2/15\n",
      "6/6 [==============================] - 0s 82ms/step - loss: 2.5187 - accuracy: 0.2609 - val_loss: 2.7626 - val_accuracy: 0.1000\n",
      "Epoch 3/15\n",
      "6/6 [==============================] - 1s 112ms/step - loss: 2.2630 - accuracy: 0.3261 - val_loss: 2.5006 - val_accuracy: 0.1500\n",
      "Epoch 4/15\n",
      "6/6 [==============================] - 1s 86ms/step - loss: 1.7332 - accuracy: 0.5217 - val_loss: 2.0699 - val_accuracy: 0.1500\n",
      "Epoch 5/15\n",
      "6/6 [==============================] - 1s 105ms/step - loss: 1.2337 - accuracy: 0.6087 - val_loss: 1.6125 - val_accuracy: 0.4500\n",
      "Epoch 6/15\n",
      "6/6 [==============================] - 0s 82ms/step - loss: 0.9426 - accuracy: 0.6848 - val_loss: 1.6666 - val_accuracy: 0.4000\n",
      "Epoch 7/15\n",
      "6/6 [==============================] - 0s 81ms/step - loss: 0.8171 - accuracy: 0.6957 - val_loss: 1.6606 - val_accuracy: 0.4000\n",
      "Epoch 8/15\n",
      "6/6 [==============================] - 1s 122ms/step - loss: 0.5158 - accuracy: 0.8043 - val_loss: 1.0879 - val_accuracy: 0.7500\n",
      "Epoch 9/15\n",
      "6/6 [==============================] - 0s 80ms/step - loss: 0.3061 - accuracy: 0.9239 - val_loss: 1.5385 - val_accuracy: 0.4000\n",
      "Epoch 10/15\n",
      "6/6 [==============================] - 0s 82ms/step - loss: 0.2160 - accuracy: 0.9239 - val_loss: 1.1720 - val_accuracy: 0.6500\n",
      "Epoch 11/15\n",
      "6/6 [==============================] - 0s 83ms/step - loss: 0.0917 - accuracy: 0.9891 - val_loss: 1.6692 - val_accuracy: 0.5000\n",
      "Epoch 12/15\n",
      "6/6 [==============================] - 0s 83ms/step - loss: 0.0644 - accuracy: 1.0000 - val_loss: 1.2317 - val_accuracy: 0.6500\n",
      "Epoch 13/15\n",
      "6/6 [==============================] - 1s 85ms/step - loss: 0.0269 - accuracy: 1.0000 - val_loss: 1.7407 - val_accuracy: 0.6000\n",
      "Epoch 14/15\n",
      "6/6 [==============================] - 1s 91ms/step - loss: 0.0369 - accuracy: 0.9891 - val_loss: 1.6551 - val_accuracy: 0.6000\n",
      "Epoch 15/15\n",
      "6/6 [==============================] - 1s 102ms/step - loss: 0.0156 - accuracy: 1.0000 - val_loss: 1.5659 - val_accuracy: 0.6000\n"
     ]
    },
    {
     "data": {
      "text/plain": [
       "<keras.callbacks.History at 0x27be05de140>"
      ]
     },
     "execution_count": 8,
     "metadata": {},
     "output_type": "execute_result"
    }
   ],
   "source": [
    "left_model.compile_model()\n",
    "left_model.train(left_ds.train_ds, 15, left_ds.val_ds)"
   ]
  },
  {
   "cell_type": "code",
   "execution_count": 9,
   "metadata": {},
   "outputs": [],
   "source": [
    "left_model.load_weights()"
   ]
  },
  {
   "cell_type": "code",
   "execution_count": 6,
   "metadata": {},
   "outputs": [
    {
     "name": "stdout",
     "output_type": "stream",
     "text": [
      "1/1 [==============================] - 0s 111ms/step\n"
     ]
    },
    {
     "data": {
      "text/plain": [
       "0.6666667"
      ]
     },
     "execution_count": 6,
     "metadata": {},
     "output_type": "execute_result"
    }
   ],
   "source": [
    "left_model.evaluate(left_ds.test_ds)"
   ]
  },
  {
   "cell_type": "code",
   "execution_count": 7,
   "metadata": {},
   "outputs": [
    {
     "name": "stdout",
     "output_type": "stream",
     "text": [
      "==== Building model ====\n",
      "==== Compiling model ====\n",
      "==== Training model ====\n",
      "Epoch 1/8\n",
      "8/8 [==============================] - 1s 68ms/step - loss: 2.6504 - accuracy: 0.0714\n",
      "Epoch 2/8\n",
      "8/8 [==============================] - 1s 68ms/step - loss: 2.5271 - accuracy: 0.1071\n",
      "Epoch 3/8\n",
      "8/8 [==============================] - 1s 68ms/step - loss: 2.2245 - accuracy: 0.2679\n",
      "Epoch 4/8\n",
      "8/8 [==============================] - 1s 69ms/step - loss: 1.6926 - accuracy: 0.4286\n",
      "Epoch 5/8\n",
      "8/8 [==============================] - 1s 71ms/step - loss: 1.2613 - accuracy: 0.6071\n",
      "Epoch 6/8\n",
      "8/8 [==============================] - 1s 69ms/step - loss: 0.9156 - accuracy: 0.7411\n",
      "Epoch 7/8\n",
      "8/8 [==============================] - 1s 69ms/step - loss: 0.7045 - accuracy: 0.7679\n",
      "Epoch 8/8\n",
      "8/8 [==============================] - 1s 71ms/step - loss: 0.4642 - accuracy: 0.8304\n"
     ]
    },
    {
     "data": {
      "text/plain": [
       "<keras.callbacks.History at 0x231a888c3a0>"
      ]
     },
     "execution_count": 7,
     "metadata": {},
     "output_type": "execute_result"
    }
   ],
   "source": [
    "left_model.build_model()\n",
    "left_model.compile_model()\n",
    "left_model.train(left_ds.train_val_ds, left_model.best_epoch)"
   ]
  },
  {
   "cell_type": "code",
   "execution_count": 8,
   "metadata": {},
   "outputs": [
    {
     "name": "stdout",
     "output_type": "stream",
     "text": [
      "1/1 [==============================] - 0s 111ms/step\n"
     ]
    },
    {
     "data": {
      "text/plain": [
       "0.6666667"
      ]
     },
     "execution_count": 8,
     "metadata": {},
     "output_type": "execute_result"
    }
   ],
   "source": [
    "left_model.evaluate(left_ds.test_ds)"
   ]
  },
  {
   "cell_type": "code",
   "execution_count": 32,
   "metadata": {},
   "outputs": [
    {
     "name": "stdout",
     "output_type": "stream",
     "text": [
      "==== Building model ====\n"
     ]
    }
   ],
   "source": [
    "left_model = NeuralNetworkModel(left_ds.num_classes)\n",
    "left_model.load_saved_weights(model_path = \"./model_checkpoint/left_model_reduced\")"
   ]
  },
  {
   "cell_type": "code",
   "execution_count": 33,
   "metadata": {},
   "outputs": [
    {
     "name": "stdout",
     "output_type": "stream",
     "text": [
      "1/1 [==============================] - 0s 333ms/step\n"
     ]
    },
    {
     "data": {
      "text/plain": [
       "0.76666665"
      ]
     },
     "execution_count": 33,
     "metadata": {},
     "output_type": "execute_result"
    }
   ],
   "source": [
    "left_model.evaluate(left_ds.test_ds)"
   ]
  },
  {
   "cell_type": "code",
   "execution_count": null,
   "metadata": {},
   "outputs": [],
   "source": []
  },
  {
   "cell_type": "code",
   "execution_count": null,
   "metadata": {},
   "outputs": [],
   "source": []
  },
  {
   "cell_type": "code",
   "execution_count": 3,
   "metadata": {},
   "outputs": [
    {
     "name": "stdout",
     "output_type": "stream",
     "text": [
      "==== Building model ====\n"
     ]
    }
   ],
   "source": [
    "pruned_left_model = NeuralNetworkModel(left_ds.num_classes, 0.3)"
   ]
  },
  {
   "cell_type": "code",
   "execution_count": 4,
   "metadata": {},
   "outputs": [
    {
     "name": "stdout",
     "output_type": "stream",
     "text": [
      "==== Compiling model ====\n",
      "==== Training and validating model ====\n",
      "Epoch 1/15\n",
      "6/6 [==============================] - 2s 132ms/step - loss: 2.6610 - accuracy: 0.1087 - val_loss: 2.6180 - val_accuracy: 0.1000\n",
      "Epoch 2/15\n",
      "6/6 [==============================] - 1s 113ms/step - loss: 2.5418 - accuracy: 0.2391 - val_loss: 2.5667 - val_accuracy: 0.1000\n",
      "Epoch 3/15\n",
      "6/6 [==============================] - 1s 91ms/step - loss: 2.3540 - accuracy: 0.2065 - val_loss: 2.5310 - val_accuracy: 0.1000\n",
      "Epoch 4/15\n",
      "6/6 [==============================] - 1s 117ms/step - loss: 2.1036 - accuracy: 0.3261 - val_loss: 2.2276 - val_accuracy: 0.2000\n",
      "Epoch 5/15\n",
      "6/6 [==============================] - 1s 122ms/step - loss: 1.9597 - accuracy: 0.3043 - val_loss: 1.8966 - val_accuracy: 0.4000\n",
      "Epoch 6/15\n",
      "6/6 [==============================] - 1s 93ms/step - loss: 1.6084 - accuracy: 0.4457 - val_loss: 1.7502 - val_accuracy: 0.3000\n",
      "Epoch 7/15\n",
      "6/6 [==============================] - 1s 86ms/step - loss: 1.4339 - accuracy: 0.5109 - val_loss: 1.5760 - val_accuracy: 0.4000\n",
      "Epoch 8/15\n",
      "6/6 [==============================] - 1s 121ms/step - loss: 1.2104 - accuracy: 0.6196 - val_loss: 1.3445 - val_accuracy: 0.5500\n",
      "Epoch 9/15\n",
      "6/6 [==============================] - 1s 91ms/step - loss: 1.2236 - accuracy: 0.5652 - val_loss: 1.3155 - val_accuracy: 0.6500\n",
      "Epoch 10/15\n",
      "6/6 [==============================] - 0s 82ms/step - loss: 0.9705 - accuracy: 0.6304 - val_loss: 1.4910 - val_accuracy: 0.4000\n",
      "Epoch 11/15\n",
      "6/6 [==============================] - 0s 82ms/step - loss: 0.7072 - accuracy: 0.7500 - val_loss: 1.3261 - val_accuracy: 0.6500\n",
      "Epoch 12/15\n",
      "6/6 [==============================] - 0s 81ms/step - loss: 0.6163 - accuracy: 0.7826 - val_loss: 1.6611 - val_accuracy: 0.4500\n",
      "Epoch 13/15\n",
      "6/6 [==============================] - 1s 86ms/step - loss: 0.5433 - accuracy: 0.8478 - val_loss: 1.8084 - val_accuracy: 0.4500\n",
      "Epoch 14/15\n",
      "6/6 [==============================] - 1s 99ms/step - loss: 0.4984 - accuracy: 0.8370 - val_loss: 1.3065 - val_accuracy: 0.6500\n",
      "Epoch 15/15\n",
      "6/6 [==============================] - 1s 96ms/step - loss: 0.4548 - accuracy: 0.8152 - val_loss: 1.5422 - val_accuracy: 0.4000\n"
     ]
    },
    {
     "data": {
      "text/plain": [
       "<keras.callbacks.History at 0x1fe7af92d70>"
      ]
     },
     "execution_count": 4,
     "metadata": {},
     "output_type": "execute_result"
    }
   ],
   "source": [
    "pruned_left_model.compile_model()\n",
    "pruned_left_model.train(left_ds.train_ds, 15, left_ds.val_ds)"
   ]
  },
  {
   "cell_type": "code",
   "execution_count": 5,
   "metadata": {},
   "outputs": [
    {
     "name": "stdout",
     "output_type": "stream",
     "text": [
      "1/1 [==============================] - 0s 147ms/step\n"
     ]
    },
    {
     "data": {
      "text/plain": [
       "0.6"
      ]
     },
     "execution_count": 5,
     "metadata": {},
     "output_type": "execute_result"
    }
   ],
   "source": [
    "pruned_left_model.load_weights()\n",
    "pruned_left_model.evaluate(left_ds.test_ds)"
   ]
  },
  {
   "cell_type": "code",
   "execution_count": 6,
   "metadata": {},
   "outputs": [
    {
     "name": "stdout",
     "output_type": "stream",
     "text": [
      "==== Building model ====\n",
      "==== Compiling model ====\n",
      "==== Training model ====\n",
      "Epoch 1/9\n",
      "8/8 [==============================] - 1s 68ms/step - loss: 2.6699 - accuracy: 0.0804\n",
      "Epoch 2/9\n",
      "8/8 [==============================] - 1s 67ms/step - loss: 2.5992 - accuracy: 0.2143\n",
      "Epoch 3/9\n",
      "8/8 [==============================] - 1s 68ms/step - loss: 2.4794 - accuracy: 0.1964\n",
      "Epoch 4/9\n",
      "8/8 [==============================] - 1s 68ms/step - loss: 2.1335 - accuracy: 0.2946\n",
      "Epoch 5/9\n",
      "8/8 [==============================] - 1s 68ms/step - loss: 1.8612 - accuracy: 0.3929\n",
      "Epoch 6/9\n",
      "8/8 [==============================] - 1s 75ms/step - loss: 1.7224 - accuracy: 0.4732\n",
      "Epoch 7/9\n",
      "8/8 [==============================] - 1s 82ms/step - loss: 1.5056 - accuracy: 0.5000\n",
      "Epoch 8/9\n",
      "8/8 [==============================] - 1s 73ms/step - loss: 1.1260 - accuracy: 0.6786\n",
      "Epoch 9/9\n",
      "8/8 [==============================] - 1s 73ms/step - loss: 1.0225 - accuracy: 0.6607\n"
     ]
    },
    {
     "data": {
      "text/plain": [
       "<keras.callbacks.History at 0x1fe0095ad10>"
      ]
     },
     "execution_count": 6,
     "metadata": {},
     "output_type": "execute_result"
    }
   ],
   "source": [
    "pruned_left_model.build_model()\n",
    "pruned_left_model.compile_model()\n",
    "pruned_left_model.train(left_ds.train_val_ds, pruned_left_model.best_epoch)"
   ]
  },
  {
   "cell_type": "code",
   "execution_count": 7,
   "metadata": {},
   "outputs": [
    {
     "name": "stdout",
     "output_type": "stream",
     "text": [
      "1/1 [==============================] - 0s 119ms/step\n"
     ]
    },
    {
     "data": {
      "text/plain": [
       "0.6666667"
      ]
     },
     "execution_count": 7,
     "metadata": {},
     "output_type": "execute_result"
    }
   ],
   "source": [
    "pruned_left_model.evaluate(left_ds.test_ds)"
   ]
  },
  {
   "cell_type": "code",
   "execution_count": null,
   "metadata": {},
   "outputs": [],
   "source": []
  },
  {
   "cell_type": "code",
   "execution_count": 8,
   "metadata": {},
   "outputs": [
    {
     "name": "stdout",
     "output_type": "stream",
     "text": [
      "==== Loading train and validation data ====\n",
      "Found 126 files belonging to 10 classes.\n",
      "Using 104 files for training.\n",
      "Using 22 files for validation.\n",
      "==== Loading test data ====\n",
      "Found 31 files belonging to 10 classes.\n",
      "==== Preparing datasets ====\n"
     ]
    }
   ],
   "source": [
    "train_folder_path = 'D:/Documentos/Polito/Thesis/Datasets/A3LIS-147_italian/trimmed-life/hei-videos-train-seed59-v1/reduced/right modified/'\n",
    "test_folder_path = 'D:/Documentos/Polito/Thesis/Datasets/A3LIS-147_italian/trimmed-life/hei-videos-test-seed59-v1/reduced/right modified/'\n",
    "\n",
    "right_ds = Dataset(train_folder_path, test_folder_path, 16, 100)"
   ]
  },
  {
   "cell_type": "code",
   "execution_count": 9,
   "metadata": {},
   "outputs": [
    {
     "name": "stdout",
     "output_type": "stream",
     "text": [
      "==== Building model ====\n"
     ]
    }
   ],
   "source": [
    "pruned_right_model = NeuralNetworkModel(right_ds.num_classes, 0.3)"
   ]
  },
  {
   "cell_type": "code",
   "execution_count": 10,
   "metadata": {},
   "outputs": [
    {
     "name": "stdout",
     "output_type": "stream",
     "text": [
      "==== Compiling model ====\n",
      "==== Training and validating model ====\n",
      "Epoch 1/20\n"
     ]
    },
    {
     "name": "stdout",
     "output_type": "stream",
     "text": [
      "7/7 [==============================] - 2s 137ms/step - loss: 1.9469 - accuracy: 0.4231 - val_loss: 1.5643 - val_accuracy: 0.5455\n",
      "Epoch 2/20\n",
      "7/7 [==============================] - 1s 78ms/step - loss: 1.6912 - accuracy: 0.4904 - val_loss: 1.4229 - val_accuracy: 0.5455\n",
      "Epoch 3/20\n",
      "7/7 [==============================] - 1s 115ms/step - loss: 1.3424 - accuracy: 0.5481 - val_loss: 1.2359 - val_accuracy: 0.6364\n",
      "Epoch 4/20\n",
      "7/7 [==============================] - 1s 97ms/step - loss: 1.1208 - accuracy: 0.6442 - val_loss: 1.1350 - val_accuracy: 0.6818\n",
      "Epoch 5/20\n",
      "7/7 [==============================] - 1s 82ms/step - loss: 0.8415 - accuracy: 0.7019 - val_loss: 1.0635 - val_accuracy: 0.6818\n",
      "Epoch 6/20\n",
      "7/7 [==============================] - 1s 80ms/step - loss: 0.7486 - accuracy: 0.7308 - val_loss: 1.0211 - val_accuracy: 0.6818\n",
      "Epoch 7/20\n",
      "7/7 [==============================] - 1s 115ms/step - loss: 0.5598 - accuracy: 0.8365 - val_loss: 0.9665 - val_accuracy: 0.8182\n",
      "Epoch 8/20\n",
      "7/7 [==============================] - 1s 77ms/step - loss: 0.5146 - accuracy: 0.8654 - val_loss: 0.9935 - val_accuracy: 0.7273\n",
      "Epoch 9/20\n",
      "7/7 [==============================] - 1s 83ms/step - loss: 0.4394 - accuracy: 0.8846 - val_loss: 0.9401 - val_accuracy: 0.8182\n",
      "Epoch 10/20\n",
      "7/7 [==============================] - 1s 79ms/step - loss: 0.3121 - accuracy: 0.9135 - val_loss: 0.9534 - val_accuracy: 0.8182\n",
      "Epoch 11/20\n",
      "7/7 [==============================] - 1s 85ms/step - loss: 0.2033 - accuracy: 0.9327 - val_loss: 1.2873 - val_accuracy: 0.8182\n",
      "Epoch 12/20\n",
      "7/7 [==============================] - 1s 84ms/step - loss: 0.2075 - accuracy: 0.9327 - val_loss: 1.1722 - val_accuracy: 0.7727\n",
      "Epoch 13/20\n",
      "7/7 [==============================] - 1s 84ms/step - loss: 0.1302 - accuracy: 0.9519 - val_loss: 1.4006 - val_accuracy: 0.8182\n",
      "Epoch 14/20\n",
      "7/7 [==============================] - 1s 82ms/step - loss: 0.1165 - accuracy: 0.9615 - val_loss: 1.2503 - val_accuracy: 0.7727\n",
      "Epoch 15/20\n",
      "7/7 [==============================] - 1s 80ms/step - loss: 0.0850 - accuracy: 0.9808 - val_loss: 2.2048 - val_accuracy: 0.7727\n",
      "Epoch 16/20\n",
      "7/7 [==============================] - 1s 93ms/step - loss: 0.0774 - accuracy: 0.9808 - val_loss: 1.3614 - val_accuracy: 0.7273\n",
      "Epoch 17/20\n",
      "7/7 [==============================] - 1s 81ms/step - loss: 0.0974 - accuracy: 0.9712 - val_loss: 1.9475 - val_accuracy: 0.7273\n",
      "Epoch 18/20\n",
      "7/7 [==============================] - 1s 82ms/step - loss: 0.0949 - accuracy: 0.9712 - val_loss: 1.3290 - val_accuracy: 0.8182\n",
      "Epoch 19/20\n",
      "7/7 [==============================] - 1s 80ms/step - loss: 0.0764 - accuracy: 0.9615 - val_loss: 1.6969 - val_accuracy: 0.7727\n",
      "Epoch 20/20\n",
      "7/7 [==============================] - 1s 86ms/step - loss: 0.0755 - accuracy: 0.9712 - val_loss: 1.3850 - val_accuracy: 0.7273\n"
     ]
    },
    {
     "data": {
      "text/plain": [
       "<keras.callbacks.History at 0x1fe012ec940>"
      ]
     },
     "execution_count": 10,
     "metadata": {},
     "output_type": "execute_result"
    }
   ],
   "source": [
    "pruned_right_model.compile_model()\n",
    "pruned_right_model.train(right_ds.train_ds, 20, right_ds.val_ds)"
   ]
  },
  {
   "cell_type": "code",
   "execution_count": 11,
   "metadata": {},
   "outputs": [
    {
     "name": "stdout",
     "output_type": "stream",
     "text": [
      "1/1 [==============================] - 0s 95ms/step\n"
     ]
    },
    {
     "data": {
      "text/plain": [
       "0.87096775"
      ]
     },
     "execution_count": 11,
     "metadata": {},
     "output_type": "execute_result"
    }
   ],
   "source": [
    "pruned_right_model.load_weights()\n",
    "pruned_right_model.evaluate(right_ds.test_ds)"
   ]
  },
  {
   "cell_type": "code",
   "execution_count": 12,
   "metadata": {},
   "outputs": [
    {
     "name": "stdout",
     "output_type": "stream",
     "text": [
      "==== Building model ====\n",
      "==== Compiling model ====\n",
      "==== Training model ====\n",
      "Epoch 1/7\n",
      "9/9 [==============================] - 2s 68ms/step - loss: 1.8282 - accuracy: 0.4444\n",
      "Epoch 2/7\n",
      "9/9 [==============================] - 1s 69ms/step - loss: 1.5100 - accuracy: 0.4921\n",
      "Epoch 3/7\n",
      "9/9 [==============================] - 1s 105ms/step - loss: 1.4002 - accuracy: 0.5476\n",
      "Epoch 4/7\n",
      "9/9 [==============================] - 1s 72ms/step - loss: 1.1730 - accuracy: 0.5714\n",
      "Epoch 5/7\n",
      "9/9 [==============================] - 1s 73ms/step - loss: 0.9728 - accuracy: 0.6667\n",
      "Epoch 6/7\n",
      "9/9 [==============================] - 1s 69ms/step - loss: 0.8059 - accuracy: 0.7698\n",
      "Epoch 7/7\n",
      "9/9 [==============================] - 1s 76ms/step - loss: 0.6025 - accuracy: 0.8254\n"
     ]
    },
    {
     "data": {
      "text/plain": [
       "<keras.callbacks.History at 0x1fe03e397e0>"
      ]
     },
     "execution_count": 12,
     "metadata": {},
     "output_type": "execute_result"
    }
   ],
   "source": [
    "pruned_right_model.build_model()\n",
    "pruned_right_model.compile_model()\n",
    "pruned_right_model.train(right_ds.train_val_ds, pruned_right_model.best_epoch)"
   ]
  },
  {
   "cell_type": "code",
   "execution_count": 13,
   "metadata": {},
   "outputs": [
    {
     "name": "stdout",
     "output_type": "stream",
     "text": [
      "1/1 [==============================] - 0s 111ms/step\n"
     ]
    },
    {
     "data": {
      "text/plain": [
       "0.8064516"
      ]
     },
     "execution_count": 13,
     "metadata": {},
     "output_type": "execute_result"
    }
   ],
   "source": [
    "pruned_right_model.evaluate(right_ds.test_ds)"
   ]
  },
  {
   "cell_type": "code",
   "execution_count": 42,
   "metadata": {},
   "outputs": [
    {
     "name": "stdout",
     "output_type": "stream",
     "text": [
      "==== Building model ====\n"
     ]
    }
   ],
   "source": [
    "right_model = NeuralNetworkModel(right_ds.num_classes)\n",
    "right_model.load_saved_weights(model_path = \"./model_checkpoint/right_model_reduced\")"
   ]
  },
  {
   "cell_type": "code",
   "execution_count": 44,
   "metadata": {},
   "outputs": [
    {
     "name": "stdout",
     "output_type": "stream",
     "text": [
      "1/1 [==============================] - 1s 916ms/step\n"
     ]
    },
    {
     "data": {
      "text/plain": [
       "0.8064516"
      ]
     },
     "execution_count": 44,
     "metadata": {},
     "output_type": "execute_result"
    }
   ],
   "source": [
    "right_model.evaluate(right_ds.test_ds)"
   ]
  },
  {
   "cell_type": "code",
   "execution_count": 14,
   "metadata": {},
   "outputs": [],
   "source": [
    "from dataset.dataset import CombinedTestDataset\n",
    "from model.models import CombinedModel"
   ]
  },
  {
   "cell_type": "code",
   "execution_count": 15,
   "metadata": {},
   "outputs": [],
   "source": [
    "left_hand_folder = 'D:/Documentos/Polito/Thesis/Datasets/A3LIS-147_italian/trimmed-life/hei-videos-test-seed59-v1/reduced/left/'\n",
    "right_hand_folder = 'D:/Documentos/Polito/Thesis/Datasets/A3LIS-147_italian/trimmed-life/hei-videos-test-seed59-v1/reduced/right/'"
   ]
  },
  {
   "cell_type": "code",
   "execution_count": 16,
   "metadata": {},
   "outputs": [],
   "source": [
    "combined_ds = CombinedTestDataset(\n",
    "    left_hand_folder,\n",
    "    right_hand_folder,\n",
    "    100,\n",
    "    100,\n",
    "    2\n",
    ")"
   ]
  },
  {
   "cell_type": "code",
   "execution_count": 29,
   "metadata": {},
   "outputs": [],
   "source": [
    "combined_model = CombinedModel(\n",
    "    pruned_left_model,\n",
    "    pruned_right_model,\n",
    "    left_ds.class_names,\n",
    "    right_ds.class_names,\n",
    "    weight1=1,\n",
    "    weight2=1,\n",
    "    extra_weight2=4,\n",
    "    top_for_extra=2\n",
    "    )"
   ]
  },
  {
   "cell_type": "code",
   "execution_count": 30,
   "metadata": {},
   "outputs": [
    {
     "name": "stdout",
     "output_type": "stream",
     "text": [
      "Inference Accuracy: 0.7\n"
     ]
    }
   ],
   "source": [
    "combined_model.evaluate(combined_ds.test_ds)"
   ]
  },
  {
   "cell_type": "code",
   "execution_count": 31,
   "metadata": {},
   "outputs": [
    {
     "name": "stdout",
     "output_type": "stream",
     "text": [
      "Sample 1:\n",
      "  True Label: freddo\n",
      "  Prediction: freddo\n",
      "  Model 1 (left) Predictions:\n",
      "    freddo: 93.7%\n",
      "    affitto: 2.6%\n",
      "    abitare: 1.1%\n",
      "  Model 2 (right) Predictions:\n",
      "    freddo: 79.6%\n",
      "    banca: 5.0%\n",
      "    caldo: 5.0%\n",
      "  Averaged Predictions:\n",
      "    freddo: 82.4%\n",
      "    caldo: 4.1%\n",
      "    banca: 4.0%\n",
      "\n",
      "--------------------------------------------------\n",
      "\n",
      "Sample 2:\n",
      "  True Label: cibo\n",
      "  Prediction: caldo\n",
      "  Model 1 (left) Predictions:\n",
      "    caldo: 23.8%\n",
      "    cibo: 22.2%\n",
      "    acqua: 16.9%\n",
      "  Model 2 (right) Predictions:\n",
      "    idle: 99.6%\n",
      "    banca: 0.3%\n",
      "    interprete: 0.1%\n",
      "  Averaged Predictions:\n",
      "    caldo: 23.8%\n",
      "    cibo: 22.2%\n",
      "    acqua: 16.9%\n",
      "\n",
      "--------------------------------------------------\n",
      "\n",
      "Sample 3:\n",
      "  True Label: idle\n",
      "  Prediction: idle\n",
      "  Model 1 (left) Predictions:\n",
      "    idle: 98.5%\n",
      "    banca: 1.0%\n",
      "    interprete: 0.2%\n",
      "  Model 2 (right) Predictions:\n",
      "    idle: 26.7%\n",
      "    freddo: 15.0%\n",
      "    casa: 11.7%\n",
      "  Averaged Predictions:\n",
      "    idle: 98.5%\n",
      "    banca: 1.0%\n",
      "    interprete: 0.2%\n",
      "\n",
      "--------------------------------------------------\n",
      "\n",
      "Sample 4:\n",
      "  True Label: lingua\n",
      "  Prediction: lingua\n",
      "  Model 1 (left) Predictions:\n",
      "    lingua: 88.6%\n",
      "    caldo: 3.9%\n",
      "    affitto: 1.8%\n",
      "  Model 2 (right) Predictions:\n",
      "    idle: 98.7%\n",
      "    interprete: 1.0%\n",
      "    banca: 0.2%\n",
      "  Averaged Predictions:\n",
      "    lingua: 88.6%\n",
      "    caldo: 3.9%\n",
      "    affitto: 1.8%\n",
      "\n",
      "--------------------------------------------------\n",
      "\n",
      "Sample 5:\n",
      "  True Label: interprete\n",
      "  Prediction: interprete\n",
      "  Model 1 (left) Predictions:\n",
      "    interprete: 43.1%\n",
      "    idle: 23.9%\n",
      "    inviare: 12.4%\n",
      "  Model 2 (right) Predictions:\n",
      "    interprete: 93.1%\n",
      "    idle: 5.0%\n",
      "    banca: 0.5%\n",
      "  Averaged Predictions:\n",
      "    interprete: 83.1%\n",
      "    idle: 8.8%\n",
      "    inviare: 2.9%\n",
      "\n",
      "--------------------------------------------------\n",
      "\n",
      "Sample 6:\n",
      "  True Label: data\n",
      "  Prediction: data\n",
      "  Model 1 (left) Predictions:\n",
      "    data: 17.5%\n",
      "    inviare: 14.6%\n",
      "    litro: 12.7%\n",
      "  Model 2 (right) Predictions:\n",
      "    data: 64.4%\n",
      "    casa: 18.6%\n",
      "    caldo: 4.3%\n",
      "  Averaged Predictions:\n",
      "    data: 55.0%\n",
      "    casa: 16.6%\n",
      "    caldo: 5.9%\n",
      "\n",
      "--------------------------------------------------\n",
      "\n",
      "Sample 7:\n",
      "  True Label: affitto\n",
      "  Prediction: affitto\n",
      "  Model 1 (left) Predictions:\n",
      "    affitto: 48.9%\n",
      "    lingua: 47.4%\n",
      "    freddo: 2.1%\n",
      "  Model 2 (right) Predictions:\n",
      "    idle: 100.0%\n",
      "    banca: 0.0%\n",
      "    inviare: 0.0%\n",
      "  Averaged Predictions:\n",
      "    affitto: 48.9%\n",
      "    lingua: 47.4%\n",
      "    freddo: 2.1%\n",
      "\n",
      "--------------------------------------------------\n",
      "\n",
      "Sample 8:\n",
      "  True Label: lingua\n",
      "  Prediction: lingua\n",
      "  Model 1 (left) Predictions:\n",
      "    lingua: 96.8%\n",
      "    banca: 1.5%\n",
      "    affitto: 0.5%\n",
      "  Model 2 (right) Predictions:\n",
      "    idle: 100.0%\n",
      "    interprete: 0.0%\n",
      "    banca: 0.0%\n",
      "  Averaged Predictions:\n",
      "    lingua: 96.8%\n",
      "    banca: 1.5%\n",
      "    affitto: 0.5%\n",
      "\n",
      "--------------------------------------------------\n",
      "\n",
      "Sample 9:\n",
      "  True Label: idle\n",
      "  Prediction: idle\n",
      "  Model 1 (left) Predictions:\n",
      "    idle: 99.3%\n",
      "    banca: 0.4%\n",
      "    cibo: 0.1%\n",
      "  Model 2 (right) Predictions:\n",
      "    idle: 95.2%\n",
      "    interprete: 3.9%\n",
      "    data: 0.4%\n",
      "  Averaged Predictions:\n",
      "    idle: 99.3%\n",
      "    banca: 0.4%\n",
      "    cibo: 0.1%\n",
      "\n",
      "--------------------------------------------------\n",
      "\n",
      "Sample 10:\n",
      "  True Label: idle\n",
      "  Prediction: idle\n",
      "  Model 1 (left) Predictions:\n",
      "    idle: 99.1%\n",
      "    banca: 0.7%\n",
      "    interprete: 0.1%\n",
      "  Model 2 (right) Predictions:\n",
      "    idle: 26.7%\n",
      "    freddo: 15.0%\n",
      "    casa: 11.7%\n",
      "  Averaged Predictions:\n",
      "    idle: 99.1%\n",
      "    banca: 0.7%\n",
      "    interprete: 0.1%\n",
      "\n",
      "--------------------------------------------------\n",
      "\n",
      "Sample 11:\n",
      "  True Label: interprete\n",
      "  Prediction: interprete\n",
      "  Model 1 (left) Predictions:\n",
      "    interprete: 26.7%\n",
      "    abitare: 22.9%\n",
      "    inviare: 12.0%\n",
      "  Model 2 (right) Predictions:\n",
      "    interprete: 85.5%\n",
      "    idle: 13.0%\n",
      "    banca: 0.4%\n",
      "  Averaged Predictions:\n",
      "    interprete: 73.8%\n",
      "    idle: 10.5%\n",
      "    abitare: 4.8%\n",
      "\n",
      "--------------------------------------------------\n",
      "\n",
      "Sample 12:\n",
      "  True Label: acqua\n",
      "  Prediction: cibo\n",
      "  Model 1 (left) Predictions:\n",
      "    cibo: 38.8%\n",
      "    banca: 21.6%\n",
      "    acqua: 14.6%\n",
      "  Model 2 (right) Predictions:\n",
      "    idle: 95.8%\n",
      "    banca: 3.6%\n",
      "    inviare: 0.4%\n",
      "  Averaged Predictions:\n",
      "    cibo: 38.8%\n",
      "    banca: 21.6%\n",
      "    acqua: 14.6%\n",
      "\n",
      "--------------------------------------------------\n",
      "\n",
      "Sample 13:\n",
      "  True Label: litro\n",
      "  Prediction: inviare\n",
      "  Model 1 (left) Predictions:\n",
      "    inviare: 39.1%\n",
      "    interprete: 28.8%\n",
      "    banca: 16.0%\n",
      "  Model 2 (right) Predictions:\n",
      "    inviare: 28.7%\n",
      "    banca: 25.4%\n",
      "    litro: 24.6%\n",
      "  Averaged Predictions:\n",
      "    inviare: 30.8%\n",
      "    banca: 23.5%\n",
      "    litro: 20.9%\n",
      "\n",
      "--------------------------------------------------\n",
      "\n",
      "Sample 14:\n",
      "  True Label: cibo\n",
      "  Prediction: cibo\n",
      "  Model 1 (left) Predictions:\n",
      "    cibo: 37.6%\n",
      "    caldo: 24.6%\n",
      "    acqua: 16.8%\n",
      "  Model 2 (right) Predictions:\n",
      "    idle: 92.4%\n",
      "    banca: 4.7%\n",
      "    data: 0.7%\n",
      "  Averaged Predictions:\n",
      "    cibo: 37.6%\n",
      "    caldo: 24.6%\n",
      "    acqua: 16.8%\n",
      "\n",
      "--------------------------------------------------\n",
      "\n",
      "Sample 15:\n",
      "  True Label: acqua\n",
      "  Prediction: caldo\n",
      "  Model 1 (left) Predictions:\n",
      "    caldo: 23.9%\n",
      "    data: 21.7%\n",
      "    cibo: 18.6%\n",
      "  Model 2 (right) Predictions:\n",
      "    idle: 100.0%\n",
      "    interprete: 0.0%\n",
      "    banca: 0.0%\n",
      "  Averaged Predictions:\n",
      "    caldo: 23.9%\n",
      "    data: 21.7%\n",
      "    cibo: 18.6%\n",
      "\n",
      "--------------------------------------------------\n",
      "\n",
      "Sample 16:\n",
      "  True Label: inviare\n",
      "  Prediction: banca\n",
      "  Model 1 (left) Predictions:\n",
      "    banca: 47.1%\n",
      "    inviare: 31.4%\n",
      "    idle: 6.4%\n",
      "  Model 2 (right) Predictions:\n",
      "    banca: 32.1%\n",
      "    inviare: 27.5%\n",
      "    idle: 17.2%\n",
      "  Averaged Predictions:\n",
      "    banca: 35.1%\n",
      "    inviare: 28.3%\n",
      "    idle: 15.1%\n",
      "\n",
      "--------------------------------------------------\n",
      "\n",
      "Sample 17:\n",
      "  True Label: caldo\n",
      "  Prediction: caldo\n",
      "  Model 1 (left) Predictions:\n",
      "    cibo: 38.4%\n",
      "    caldo: 34.9%\n",
      "    data: 11.0%\n",
      "  Model 2 (right) Predictions:\n",
      "    caldo: 39.2%\n",
      "    freddo: 19.4%\n",
      "    data: 15.1%\n",
      "  Averaged Predictions:\n",
      "    caldo: 38.4%\n",
      "    freddo: 15.5%\n",
      "    data: 14.2%\n",
      "\n",
      "--------------------------------------------------\n",
      "\n",
      "Sample 18:\n",
      "  True Label: freddo\n",
      "  Prediction: freddo\n",
      "  Model 1 (left) Predictions:\n",
      "    freddo: 50.9%\n",
      "    casa: 13.4%\n",
      "    lingua: 7.4%\n",
      "  Model 2 (right) Predictions:\n",
      "    idle: 31.2%\n",
      "    banca: 18.7%\n",
      "    caldo: 15.5%\n",
      "  Averaged Predictions:\n",
      "    freddo: 50.9%\n",
      "    casa: 13.4%\n",
      "    lingua: 7.4%\n",
      "\n",
      "--------------------------------------------------\n",
      "\n",
      "Sample 19:\n",
      "  True Label: banca\n",
      "  Prediction: lingua\n",
      "  Model 1 (left) Predictions:\n",
      "    lingua: 54.8%\n",
      "    banca: 32.1%\n",
      "    idle: 3.8%\n",
      "  Model 2 (right) Predictions:\n",
      "    casa: 37.5%\n",
      "    idle: 15.3%\n",
      "    freddo: 13.6%\n",
      "  Averaged Predictions:\n",
      "    lingua: 27.4%\n",
      "    casa: 19.4%\n",
      "    banca: 19.4%\n",
      "\n",
      "--------------------------------------------------\n",
      "\n",
      "Sample 20:\n",
      "  True Label: abitare\n",
      "  Prediction: abitare\n",
      "  Model 1 (left) Predictions:\n",
      "    abitare: 41.9%\n",
      "    lingua: 24.8%\n",
      "    affitto: 9.0%\n",
      "  Model 2 (right) Predictions:\n",
      "    abitare: 82.0%\n",
      "    litro: 5.1%\n",
      "    interprete: 3.8%\n",
      "  Averaged Predictions:\n",
      "    abitare: 74.0%\n",
      "    lingua: 5.0%\n",
      "    litro: 4.8%\n",
      "\n",
      "--------------------------------------------------\n",
      "\n",
      "Sample 21:\n",
      "  True Label: caldo\n",
      "  Prediction: caldo\n",
      "  Model 1 (left) Predictions:\n",
      "    caldo: 45.2%\n",
      "    cibo: 19.9%\n",
      "    data: 10.8%\n",
      "  Model 2 (right) Predictions:\n",
      "    idle: 100.0%\n",
      "    banca: 0.0%\n",
      "    interprete: 0.0%\n",
      "  Averaged Predictions:\n",
      "    caldo: 45.2%\n",
      "    cibo: 19.9%\n",
      "    data: 10.8%\n",
      "\n",
      "--------------------------------------------------\n",
      "\n",
      "Sample 22:\n",
      "  True Label: casa\n",
      "  Prediction: casa\n",
      "  Model 1 (left) Predictions:\n",
      "    casa: 84.1%\n",
      "    lingua: 6.7%\n",
      "    acqua: 4.2%\n",
      "  Model 2 (right) Predictions:\n",
      "    casa: 51.5%\n",
      "    data: 14.3%\n",
      "    caldo: 9.6%\n",
      "  Averaged Predictions:\n",
      "    casa: 58.0%\n",
      "    data: 11.7%\n",
      "    caldo: 8.0%\n",
      "\n",
      "--------------------------------------------------\n",
      "\n",
      "Sample 23:\n",
      "  True Label: litro\n",
      "  Prediction: affitto\n",
      "  Model 1 (left) Predictions:\n",
      "    affitto: 42.7%\n",
      "    litro: 22.3%\n",
      "    lingua: 13.4%\n",
      "  Model 2 (right) Predictions:\n",
      "    banca: 28.6%\n",
      "    inviare: 23.3%\n",
      "    litro: 15.7%\n",
      "  Averaged Predictions:\n",
      "    affitto: 21.3%\n",
      "    litro: 19.0%\n",
      "    banca: 15.0%\n",
      "\n",
      "--------------------------------------------------\n",
      "\n",
      "Sample 24:\n",
      "  True Label: affitto\n",
      "  Prediction: inviare\n",
      "  Model 1 (left) Predictions:\n",
      "    inviare: 45.1%\n",
      "    affitto: 12.3%\n",
      "    litro: 9.9%\n",
      "  Model 2 (right) Predictions:\n",
      "    idle: 99.7%\n",
      "    interprete: 0.2%\n",
      "    banca: 0.1%\n",
      "  Averaged Predictions:\n",
      "    inviare: 45.1%\n",
      "    affitto: 12.3%\n",
      "    litro: 9.9%\n",
      "\n",
      "--------------------------------------------------\n",
      "\n",
      "Sample 25:\n",
      "  True Label: abitare\n",
      "  Prediction: abitare\n",
      "  Model 1 (left) Predictions:\n",
      "    abitare: 78.6%\n",
      "    affitto: 16.1%\n",
      "    freddo: 4.5%\n",
      "  Model 2 (right) Predictions:\n",
      "    abitare: 88.7%\n",
      "    interprete: 2.4%\n",
      "    idle: 2.3%\n",
      "  Averaged Predictions:\n",
      "    abitare: 86.7%\n",
      "    affitto: 3.2%\n",
      "    interprete: 2.0%\n",
      "\n",
      "--------------------------------------------------\n",
      "\n",
      "Sample 26:\n",
      "  True Label: inviare\n",
      "  Prediction: lingua\n",
      "  Model 1 (left) Predictions:\n",
      "    lingua: 88.2%\n",
      "    banca: 5.3%\n",
      "    affitto: 3.4%\n",
      "  Model 2 (right) Predictions:\n",
      "    litro: 49.9%\n",
      "    banca: 19.8%\n",
      "    inviare: 18.4%\n",
      "  Averaged Predictions:\n",
      "    lingua: 44.1%\n",
      "    litro: 25.7%\n",
      "    banca: 12.6%\n",
      "\n",
      "--------------------------------------------------\n",
      "\n",
      "Sample 27:\n",
      "  True Label: banca\n",
      "  Prediction: banca\n",
      "  Model 1 (left) Predictions:\n",
      "    banca: 33.9%\n",
      "    caldo: 15.5%\n",
      "    litro: 11.2%\n",
      "  Model 2 (right) Predictions:\n",
      "    banca: 30.8%\n",
      "    inviare: 26.3%\n",
      "    litro: 21.0%\n",
      "  Averaged Predictions:\n",
      "    banca: 31.4%\n",
      "    inviare: 21.7%\n",
      "    litro: 19.1%\n",
      "\n",
      "--------------------------------------------------\n",
      "\n",
      "Sample 28:\n",
      "  True Label: idle\n",
      "  Prediction: idle\n",
      "  Model 1 (left) Predictions:\n",
      "    idle: 77.4%\n",
      "    cibo: 10.8%\n",
      "    banca: 8.0%\n",
      "  Model 2 (right) Predictions:\n",
      "    idle: 99.3%\n",
      "    interprete: 0.5%\n",
      "    banca: 0.2%\n",
      "  Averaged Predictions:\n",
      "    idle: 77.4%\n",
      "    cibo: 10.8%\n",
      "    banca: 8.0%\n",
      "\n",
      "--------------------------------------------------\n",
      "\n",
      "Sample 29:\n",
      "  True Label: data\n",
      "  Prediction: data\n",
      "  Model 1 (left) Predictions:\n",
      "    data: 44.6%\n",
      "    cibo: 14.9%\n",
      "    caldo: 12.8%\n",
      "  Model 2 (right) Predictions:\n",
      "    data: 69.9%\n",
      "    casa: 11.9%\n",
      "    idle: 4.3%\n",
      "  Averaged Predictions:\n",
      "    data: 64.8%\n",
      "    casa: 10.8%\n",
      "    caldo: 5.8%\n",
      "\n",
      "--------------------------------------------------\n",
      "\n",
      "Sample 30:\n",
      "  True Label: casa\n",
      "  Prediction: casa\n",
      "  Model 1 (left) Predictions:\n",
      "    casa: 85.2%\n",
      "    caldo: 4.9%\n",
      "    data: 2.4%\n",
      "  Model 2 (right) Predictions:\n",
      "    casa: 69.8%\n",
      "    freddo: 5.8%\n",
      "    caldo: 5.7%\n",
      "  Averaged Predictions:\n",
      "    casa: 72.9%\n",
      "    caldo: 5.5%\n",
      "    data: 4.8%\n",
      "\n",
      "--------------------------------------------------\n",
      "\n"
     ]
    }
   ],
   "source": [
    "combined_model.show_predictions()"
   ]
  },
  {
   "cell_type": "code",
   "execution_count": 47,
   "metadata": {},
   "outputs": [],
   "source": [
    "combined_model2 = CombinedModel(\n",
    "    left_model,\n",
    "    right_model,\n",
    "    left_ds.class_names,\n",
    "    right_ds.class_names,\n",
    "    weight1=1,\n",
    "    weight2=1,\n",
    "    extra_weight2=4,\n",
    "    top_for_extra=3\n",
    "    )"
   ]
  },
  {
   "cell_type": "code",
   "execution_count": 48,
   "metadata": {},
   "outputs": [
    {
     "name": "stdout",
     "output_type": "stream",
     "text": [
      "Inference Accuracy: 0.9\n"
     ]
    }
   ],
   "source": [
    "combined_model2.evaluate(combined_ds.test_ds)"
   ]
  },
  {
   "cell_type": "code",
   "execution_count": 41,
   "metadata": {},
   "outputs": [
    {
     "name": "stdout",
     "output_type": "stream",
     "text": [
      "Sample 1:\n",
      "  True Label: freddo\n",
      "  Prediction: freddo\n",
      "  Model 1 (left) Predictions:\n",
      "    freddo: 100.0%\n",
      "    data: 0.0%\n",
      "    affitto: 0.0%\n",
      "  Model 2 (right) Predictions:\n",
      "    freddo: 79.6%\n",
      "    banca: 5.0%\n",
      "    caldo: 5.0%\n",
      "  Averaged Predictions:\n",
      "    freddo: 83.7%\n",
      "    banca: 4.0%\n",
      "    caldo: 4.0%\n",
      "\n",
      "--------------------------------------------------\n",
      "\n",
      "Sample 2:\n",
      "  True Label: cibo\n",
      "  Prediction: cibo\n",
      "  Model 1 (left) Predictions:\n",
      "    cibo: 95.2%\n",
      "    caldo: 3.9%\n",
      "    acqua: 0.8%\n",
      "  Model 2 (right) Predictions:\n",
      "    idle: 99.6%\n",
      "    banca: 0.3%\n",
      "    interprete: 0.1%\n",
      "  Averaged Predictions:\n",
      "    cibo: 95.2%\n",
      "    caldo: 3.9%\n",
      "    acqua: 0.8%\n",
      "\n",
      "--------------------------------------------------\n",
      "\n",
      "Sample 3:\n",
      "  True Label: idle\n",
      "  Prediction: idle\n",
      "  Model 1 (left) Predictions:\n",
      "    idle: 99.9%\n",
      "    acqua: 0.0%\n",
      "    interprete: 0.0%\n",
      "  Model 2 (right) Predictions:\n",
      "    idle: 26.7%\n",
      "    freddo: 15.0%\n",
      "    casa: 11.7%\n",
      "  Averaged Predictions:\n",
      "    idle: 99.9%\n",
      "    acqua: 0.0%\n",
      "    interprete: 0.0%\n",
      "\n",
      "--------------------------------------------------\n",
      "\n",
      "Sample 4:\n",
      "  True Label: lingua\n",
      "  Prediction: lingua\n",
      "  Model 1 (left) Predictions:\n",
      "    lingua: 93.9%\n",
      "    caldo: 3.7%\n",
      "    freddo: 1.0%\n",
      "  Model 2 (right) Predictions:\n",
      "    idle: 98.7%\n",
      "    interprete: 1.0%\n",
      "    banca: 0.2%\n",
      "  Averaged Predictions:\n",
      "    lingua: 93.9%\n",
      "    caldo: 3.7%\n",
      "    freddo: 1.0%\n",
      "\n",
      "--------------------------------------------------\n",
      "\n",
      "Sample 5:\n",
      "  True Label: interprete\n",
      "  Prediction: interprete\n",
      "  Model 1 (left) Predictions:\n",
      "    interprete: 51.1%\n",
      "    idle: 25.2%\n",
      "    acqua: 23.0%\n",
      "  Model 2 (right) Predictions:\n",
      "    interprete: 93.1%\n",
      "    idle: 5.0%\n",
      "    banca: 0.5%\n",
      "  Averaged Predictions:\n",
      "    interprete: 84.7%\n",
      "    idle: 9.1%\n",
      "    acqua: 4.6%\n",
      "\n",
      "--------------------------------------------------\n",
      "\n",
      "Sample 6:\n",
      "  True Label: data\n",
      "  Prediction: data\n",
      "  Model 1 (left) Predictions:\n",
      "    inviare: 50.0%\n",
      "    interprete: 18.9%\n",
      "    litro: 14.1%\n",
      "  Model 2 (right) Predictions:\n",
      "    data: 64.4%\n",
      "    casa: 18.6%\n",
      "    caldo: 4.3%\n",
      "  Averaged Predictions:\n",
      "    data: 33.2%\n",
      "    inviare: 25.2%\n",
      "    interprete: 9.8%\n",
      "\n",
      "--------------------------------------------------\n",
      "\n",
      "Sample 7:\n",
      "  True Label: affitto\n",
      "  Prediction: affitto\n",
      "  Model 1 (left) Predictions:\n",
      "    affitto: 94.9%\n",
      "    freddo: 3.4%\n",
      "    lingua: 1.2%\n",
      "  Model 2 (right) Predictions:\n",
      "    idle: 100.0%\n",
      "    banca: 0.0%\n",
      "    inviare: 0.0%\n",
      "  Averaged Predictions:\n",
      "    affitto: 94.9%\n",
      "    freddo: 3.4%\n",
      "    lingua: 1.2%\n",
      "\n",
      "--------------------------------------------------\n",
      "\n",
      "Sample 8:\n",
      "  True Label: lingua\n",
      "  Prediction: lingua\n",
      "  Model 1 (left) Predictions:\n",
      "    lingua: 83.4%\n",
      "    banca: 16.0%\n",
      "    litro: 0.3%\n",
      "  Model 2 (right) Predictions:\n",
      "    idle: 100.0%\n",
      "    interprete: 0.0%\n",
      "    banca: 0.0%\n",
      "  Averaged Predictions:\n",
      "    lingua: 83.4%\n",
      "    banca: 16.0%\n",
      "    litro: 0.3%\n",
      "\n",
      "--------------------------------------------------\n",
      "\n",
      "Sample 9:\n",
      "  True Label: idle\n",
      "  Prediction: idle\n",
      "  Model 1 (left) Predictions:\n",
      "    idle: 100.0%\n",
      "    acqua: 0.0%\n",
      "    cibo: 0.0%\n",
      "  Model 2 (right) Predictions:\n",
      "    idle: 95.2%\n",
      "    interprete: 3.9%\n",
      "    data: 0.4%\n",
      "  Averaged Predictions:\n",
      "    idle: 100.0%\n",
      "    acqua: 0.0%\n",
      "    cibo: 0.0%\n",
      "\n",
      "--------------------------------------------------\n",
      "\n",
      "Sample 10:\n",
      "  True Label: idle\n",
      "  Prediction: idle\n",
      "  Model 1 (left) Predictions:\n",
      "    idle: 99.9%\n",
      "    acqua: 0.1%\n",
      "    interprete: 0.0%\n",
      "  Model 2 (right) Predictions:\n",
      "    idle: 26.7%\n",
      "    freddo: 15.0%\n",
      "    casa: 11.7%\n",
      "  Averaged Predictions:\n",
      "    idle: 99.9%\n",
      "    acqua: 0.1%\n",
      "    interprete: 0.0%\n",
      "\n",
      "--------------------------------------------------\n",
      "\n",
      "Sample 11:\n",
      "  True Label: interprete\n",
      "  Prediction: interprete\n",
      "  Model 1 (left) Predictions:\n",
      "    interprete: 61.5%\n",
      "    inviare: 16.9%\n",
      "    abitare: 15.5%\n",
      "  Model 2 (right) Predictions:\n",
      "    interprete: 85.5%\n",
      "    idle: 13.0%\n",
      "    banca: 0.4%\n",
      "  Averaged Predictions:\n",
      "    interprete: 80.7%\n",
      "    idle: 10.4%\n",
      "    inviare: 3.6%\n",
      "\n",
      "--------------------------------------------------\n",
      "\n",
      "Sample 12:\n",
      "  True Label: acqua\n",
      "  Prediction: cibo\n",
      "  Model 1 (left) Predictions:\n",
      "    cibo: 94.5%\n",
      "    caldo: 3.7%\n",
      "    acqua: 1.5%\n",
      "  Model 2 (right) Predictions:\n",
      "    idle: 95.8%\n",
      "    banca: 3.6%\n",
      "    inviare: 0.4%\n",
      "  Averaged Predictions:\n",
      "    cibo: 94.5%\n",
      "    caldo: 3.7%\n",
      "    acqua: 1.5%\n",
      "\n",
      "--------------------------------------------------\n",
      "\n",
      "Sample 13:\n",
      "  True Label: litro\n",
      "  Prediction: interprete\n",
      "  Model 1 (left) Predictions:\n",
      "    interprete: 70.3%\n",
      "    litro: 16.7%\n",
      "    inviare: 8.7%\n",
      "  Model 2 (right) Predictions:\n",
      "    inviare: 28.7%\n",
      "    banca: 25.4%\n",
      "    litro: 24.6%\n",
      "  Averaged Predictions:\n",
      "    interprete: 38.7%\n",
      "    litro: 20.7%\n",
      "    inviare: 18.7%\n",
      "\n",
      "--------------------------------------------------\n",
      "\n",
      "Sample 14:\n",
      "  True Label: cibo\n",
      "  Prediction: cibo\n",
      "  Model 1 (left) Predictions:\n",
      "    cibo: 92.2%\n",
      "    acqua: 4.0%\n",
      "    caldo: 3.7%\n",
      "  Model 2 (right) Predictions:\n",
      "    idle: 92.4%\n",
      "    banca: 4.7%\n",
      "    data: 0.7%\n",
      "  Averaged Predictions:\n",
      "    cibo: 92.2%\n",
      "    acqua: 4.0%\n",
      "    caldo: 3.7%\n",
      "\n",
      "--------------------------------------------------\n",
      "\n",
      "Sample 15:\n",
      "  True Label: acqua\n",
      "  Prediction: acqua\n",
      "  Model 1 (left) Predictions:\n",
      "    acqua: 50.2%\n",
      "    caldo: 25.2%\n",
      "    cibo: 24.2%\n",
      "  Model 2 (right) Predictions:\n",
      "    idle: 100.0%\n",
      "    interprete: 0.0%\n",
      "    banca: 0.0%\n",
      "  Averaged Predictions:\n",
      "    acqua: 50.2%\n",
      "    caldo: 25.2%\n",
      "    cibo: 24.2%\n",
      "\n",
      "--------------------------------------------------\n",
      "\n",
      "Sample 16:\n",
      "  True Label: inviare\n",
      "  Prediction: banca\n",
      "  Model 1 (left) Predictions:\n",
      "    banca: 67.6%\n",
      "    inviare: 22.1%\n",
      "    litro: 6.1%\n",
      "  Model 2 (right) Predictions:\n",
      "    banca: 32.1%\n",
      "    inviare: 27.5%\n",
      "    idle: 17.2%\n",
      "  Averaged Predictions:\n",
      "    banca: 39.2%\n",
      "    inviare: 26.4%\n",
      "    idle: 13.9%\n",
      "\n",
      "--------------------------------------------------\n",
      "\n",
      "Sample 17:\n",
      "  True Label: caldo\n",
      "  Prediction: caldo\n",
      "  Model 1 (left) Predictions:\n",
      "    cibo: 84.3%\n",
      "    caldo: 15.7%\n",
      "    acqua: 0.0%\n",
      "  Model 2 (right) Predictions:\n",
      "    caldo: 39.2%\n",
      "    freddo: 19.4%\n",
      "    data: 15.1%\n",
      "  Averaged Predictions:\n",
      "    caldo: 34.5%\n",
      "    cibo: 16.9%\n",
      "    freddo: 15.5%\n",
      "\n",
      "--------------------------------------------------\n",
      "\n",
      "Sample 18:\n",
      "  True Label: freddo\n",
      "  Prediction: freddo\n",
      "  Model 1 (left) Predictions:\n",
      "    freddo: 87.0%\n",
      "    litro: 7.6%\n",
      "    data: 1.7%\n",
      "  Model 2 (right) Predictions:\n",
      "    idle: 31.2%\n",
      "    banca: 18.7%\n",
      "    caldo: 15.5%\n",
      "  Averaged Predictions:\n",
      "    freddo: 87.0%\n",
      "    litro: 7.6%\n",
      "    data: 1.7%\n",
      "\n",
      "--------------------------------------------------\n",
      "\n",
      "Sample 19:\n",
      "  True Label: banca\n",
      "  Prediction: banca\n",
      "  Model 1 (left) Predictions:\n",
      "    banca: 99.3%\n",
      "    caldo: 0.5%\n",
      "    acqua: 0.1%\n",
      "  Model 2 (right) Predictions:\n",
      "    casa: 37.5%\n",
      "    idle: 15.3%\n",
      "    freddo: 13.6%\n",
      "  Averaged Predictions:\n",
      "    banca: 53.0%\n",
      "    casa: 18.8%\n",
      "    idle: 7.7%\n",
      "\n",
      "--------------------------------------------------\n",
      "\n",
      "Sample 20:\n",
      "  True Label: abitare\n",
      "  Prediction: abitare\n",
      "  Model 1 (left) Predictions:\n",
      "    abitare: 48.7%\n",
      "    inviare: 42.1%\n",
      "    affitto: 6.7%\n",
      "  Model 2 (right) Predictions:\n",
      "    abitare: 82.0%\n",
      "    litro: 5.1%\n",
      "    interprete: 3.8%\n",
      "  Averaged Predictions:\n",
      "    abitare: 75.4%\n",
      "    inviare: 10.4%\n",
      "    litro: 4.1%\n",
      "\n",
      "--------------------------------------------------\n",
      "\n",
      "Sample 21:\n",
      "  True Label: caldo\n",
      "  Prediction: caldo\n",
      "  Model 1 (left) Predictions:\n",
      "    caldo: 89.9%\n",
      "    cibo: 9.8%\n",
      "    acqua: 0.2%\n",
      "  Model 2 (right) Predictions:\n",
      "    idle: 100.0%\n",
      "    banca: 0.0%\n",
      "    interprete: 0.0%\n",
      "  Averaged Predictions:\n",
      "    caldo: 89.9%\n",
      "    cibo: 9.8%\n",
      "    acqua: 0.2%\n",
      "\n",
      "--------------------------------------------------\n",
      "\n",
      "Sample 22:\n",
      "  True Label: casa\n",
      "  Prediction: casa\n",
      "  Model 1 (left) Predictions:\n",
      "    casa: 92.3%\n",
      "    acqua: 7.4%\n",
      "    cibo: 0.2%\n",
      "  Model 2 (right) Predictions:\n",
      "    casa: 51.5%\n",
      "    data: 14.3%\n",
      "    caldo: 9.6%\n",
      "  Averaged Predictions:\n",
      "    casa: 59.7%\n",
      "    data: 11.5%\n",
      "    caldo: 7.7%\n",
      "\n",
      "--------------------------------------------------\n",
      "\n",
      "Sample 23:\n",
      "  True Label: litro\n",
      "  Prediction: litro\n",
      "  Model 1 (left) Predictions:\n",
      "    litro: 64.1%\n",
      "    affitto: 22.5%\n",
      "    inviare: 8.1%\n",
      "  Model 2 (right) Predictions:\n",
      "    banca: 28.6%\n",
      "    inviare: 23.3%\n",
      "    litro: 15.7%\n",
      "  Averaged Predictions:\n",
      "    litro: 39.9%\n",
      "    inviare: 15.7%\n",
      "    banca: 14.4%\n",
      "\n",
      "--------------------------------------------------\n",
      "\n",
      "Sample 24:\n",
      "  True Label: affitto\n",
      "  Prediction: inviare\n",
      "  Model 1 (left) Predictions:\n",
      "    inviare: 72.6%\n",
      "    litro: 12.0%\n",
      "    affitto: 8.0%\n",
      "  Model 2 (right) Predictions:\n",
      "    idle: 99.7%\n",
      "    interprete: 0.2%\n",
      "    banca: 0.1%\n",
      "  Averaged Predictions:\n",
      "    inviare: 72.6%\n",
      "    litro: 12.0%\n",
      "    affitto: 8.0%\n",
      "\n",
      "--------------------------------------------------\n",
      "\n",
      "Sample 25:\n",
      "  True Label: abitare\n",
      "  Prediction: abitare\n",
      "  Model 1 (left) Predictions:\n",
      "    abitare: 69.0%\n",
      "    affitto: 29.1%\n",
      "    interprete: 1.0%\n",
      "  Model 2 (right) Predictions:\n",
      "    abitare: 88.7%\n",
      "    interprete: 2.4%\n",
      "    idle: 2.3%\n",
      "  Averaged Predictions:\n",
      "    abitare: 84.8%\n",
      "    affitto: 5.8%\n",
      "    interprete: 2.1%\n",
      "\n",
      "--------------------------------------------------\n",
      "\n",
      "Sample 26:\n",
      "  True Label: inviare\n",
      "  Prediction: lingua\n",
      "  Model 1 (left) Predictions:\n",
      "    lingua: 73.2%\n",
      "    banca: 19.9%\n",
      "    inviare: 4.3%\n",
      "  Model 2 (right) Predictions:\n",
      "    litro: 49.9%\n",
      "    banca: 19.8%\n",
      "    inviare: 18.4%\n",
      "  Averaged Predictions:\n",
      "    lingua: 36.6%\n",
      "    litro: 25.3%\n",
      "    banca: 19.8%\n",
      "\n",
      "--------------------------------------------------\n",
      "\n",
      "Sample 27:\n",
      "  True Label: banca\n",
      "  Prediction: banca\n",
      "  Model 1 (left) Predictions:\n",
      "    banca: 84.3%\n",
      "    caldo: 12.6%\n",
      "    acqua: 2.0%\n",
      "  Model 2 (right) Predictions:\n",
      "    banca: 30.8%\n",
      "    inviare: 26.3%\n",
      "    litro: 21.0%\n",
      "  Averaged Predictions:\n",
      "    banca: 41.5%\n",
      "    inviare: 21.0%\n",
      "    litro: 17.0%\n",
      "\n",
      "--------------------------------------------------\n",
      "\n",
      "Sample 28:\n",
      "  True Label: idle\n",
      "  Prediction: idle\n",
      "  Model 1 (left) Predictions:\n",
      "    idle: 80.0%\n",
      "    acqua: 17.1%\n",
      "    cibo: 2.1%\n",
      "  Model 2 (right) Predictions:\n",
      "    idle: 99.3%\n",
      "    interprete: 0.5%\n",
      "    banca: 0.2%\n",
      "  Averaged Predictions:\n",
      "    idle: 80.0%\n",
      "    acqua: 17.1%\n",
      "    cibo: 2.1%\n",
      "\n",
      "--------------------------------------------------\n",
      "\n",
      "Sample 29:\n",
      "  True Label: data\n",
      "  Prediction: data\n",
      "  Model 1 (left) Predictions:\n",
      "    data: 69.1%\n",
      "    cibo: 16.8%\n",
      "    acqua: 6.8%\n",
      "  Model 2 (right) Predictions:\n",
      "    data: 69.9%\n",
      "    casa: 11.9%\n",
      "    idle: 4.3%\n",
      "  Averaged Predictions:\n",
      "    data: 69.8%\n",
      "    casa: 10.2%\n",
      "    caldo: 3.9%\n",
      "\n",
      "--------------------------------------------------\n",
      "\n",
      "Sample 30:\n",
      "  True Label: casa\n",
      "  Prediction: casa\n",
      "  Model 1 (left) Predictions:\n",
      "    casa: 94.9%\n",
      "    caldo: 2.9%\n",
      "    acqua: 2.0%\n",
      "  Model 2 (right) Predictions:\n",
      "    casa: 69.8%\n",
      "    freddo: 5.8%\n",
      "    caldo: 5.7%\n",
      "  Averaged Predictions:\n",
      "    casa: 74.8%\n",
      "    caldo: 5.1%\n",
      "    freddo: 4.6%\n",
      "\n",
      "--------------------------------------------------\n",
      "\n"
     ]
    }
   ],
   "source": [
    "combined_model2.show_predictions()"
   ]
  },
  {
   "cell_type": "code",
   "execution_count": null,
   "metadata": {},
   "outputs": [],
   "source": []
  },
  {
   "cell_type": "code",
   "execution_count": null,
   "metadata": {},
   "outputs": [],
   "source": []
  },
  {
   "cell_type": "code",
   "execution_count": null,
   "metadata": {},
   "outputs": [],
   "source": []
  },
  {
   "cell_type": "markdown",
   "metadata": {},
   "source": [
    "# Post combined model"
   ]
  },
  {
   "cell_type": "markdown",
   "metadata": {},
   "source": [
    "## Dataset creation"
   ]
  },
  {
   "cell_type": "markdown",
   "metadata": {},
   "source": [
    "### Video split into train and test"
   ]
  },
  {
   "cell_type": "code",
   "execution_count": 3,
   "metadata": {},
   "outputs": [],
   "source": [
    "import shutil\n",
    "from sklearn.model_selection import train_test_split\n",
    "\n",
    "def split_videos_into_to_train_test(source_folder, train_folder, test_folder, test_size=0.2, random_state=123):\n",
    "    source_path = pathlib.Path(source_folder)\n",
    "    train_path = pathlib.Path(train_folder)\n",
    "    test_path = pathlib.Path(test_folder)\n",
    "\n",
    "    # Ensure train and test folders exist\n",
    "    train_path.mkdir(parents=True, exist_ok=True)\n",
    "    test_path.mkdir(parents=True, exist_ok=True)\n",
    "\n",
    "    # Gather all videos and their labels\n",
    "    video_files = list(source_path.glob(\"*.mp4\"))\n",
    "    video_data = [\n",
    "        (video, video.name.split(\"_\")[1])  # Extract label from video name\n",
    "        for video in video_files\n",
    "    ]\n",
    "\n",
    "    # Split into train and test\n",
    "    videos, labels = zip(*video_data)\n",
    "    train_videos, test_videos = train_test_split(videos, test_size=test_size, stratify=labels, random_state=random_state)\n",
    "\n",
    "    # Copy videos to the respective folders\n",
    "    for video in train_videos:\n",
    "        shutil.copy(video, train_path / video.name)\n",
    "\n",
    "    for video in test_videos:\n",
    "        shutil.copy(video, test_path / video.name)\n",
    "\n",
    "    print(f\"Split completed: {len(train_videos)} train videos and {len(test_videos)} test videos.\")\n"
   ]
  },
  {
   "cell_type": "code",
   "execution_count": 5,
   "metadata": {},
   "outputs": [
    {
     "name": "stdout",
     "output_type": "stream",
     "text": [
      "Split completed: 142 train videos and 36 test videos.\n"
     ]
    }
   ],
   "source": [
    "# source_folder = r\"D:/Documentos/Polito/Thesis/Datasets/A3LIS-147_italian/trimmed-life/augmented/usual_colors/videos-naturalwhite/\"\n",
    "# train_folder = r\"D:/Documentos/Polito/Thesis/Datasets/A3LIS-147_italian/trimmed-life/augmented/usual_colors/videos-naturalwhite-train-seed42/\"\n",
    "# test_folder = r\"D:/Documentos/Polito/Thesis/Datasets/A3LIS-147_italian/trimmed-life/augmented/usual_colors/videos-naturalwhite-test-seed42/\"\n",
    "source_folder = r\"D:/Documentos/Polito/Thesis/Datasets/A3LIS-147_italian/trimmed-life/videos/\"\n",
    "train_folder = r\"D:/Documentos/Polito/Thesis/Datasets/A3LIS-147_italian/trimmed-life/videos-train-seed59/\"\n",
    "test_folder = r\"D:/Documentos/Polito/Thesis/Datasets/A3LIS-147_italian/trimmed-life/videos-test-seed59/\"\n",
    "\n",
    "split_videos_into_to_train_test(source_folder, train_folder, test_folder, test_size=0.2, random_state=59)"
   ]
  },
  {
   "cell_type": "markdown",
   "metadata": {},
   "source": [
    "## Left model"
   ]
  },
  {
   "cell_type": "markdown",
   "metadata": {},
   "source": [
    "### Dataset"
   ]
  },
  {
   "cell_type": "code",
   "execution_count": 4,
   "metadata": {},
   "outputs": [],
   "source": [
    "# train_folder_path = pathlib.Path('D:/Documentos/Polito/Thesis/Datasets/A3LIS-147_italian/trimmed-life/hei-videos-train-seed59-v1/left/')\n",
    "# test_folder_path = pathlib.Path('D:/Documentos/Polito/Thesis/Datasets/A3LIS-147_italian/trimmed-life/hei-videos-test-seed59-v1/left/')\n",
    "train_folder_path = pathlib.Path('D:/Documentos/Polito/Thesis/Datasets/A3LIS-147_italian/trimmed-life/hei-videos-train-seed59-v1/reduced/left/')\n",
    "test_folder_path = pathlib.Path('D:/Documentos/Polito/Thesis/Datasets/A3LIS-147_italian/trimmed-life/hei-videos-test-seed59-v1/reduced/left/')"
   ]
  },
  {
   "cell_type": "code",
   "execution_count": 5,
   "metadata": {},
   "outputs": [],
   "source": [
    "train_batch_size = 16\n",
    "img_height = 100\n",
    "img_width = 100"
   ]
  },
  {
   "cell_type": "code",
   "execution_count": 129,
   "metadata": {},
   "outputs": [
    {
     "name": "stdout",
     "output_type": "stream",
     "text": [
      "Found 112 files belonging to 14 classes.\n",
      "Using 92 files for training.\n",
      "Using 20 files for validation.\n"
     ]
    }
   ],
   "source": [
    "train_ds, val_ds = tf.keras.utils.image_dataset_from_directory(\n",
    "  train_folder_path,\n",
    "  validation_split=0.18,\n",
    "  subset=\"both\",\n",
    "  seed=42,\n",
    "  image_size=(img_height, img_width),\n",
    "  batch_size=train_batch_size,\n",
    "  shuffle=True)"
   ]
  },
  {
   "cell_type": "code",
   "execution_count": 130,
   "metadata": {},
   "outputs": [
    {
     "name": "stdout",
     "output_type": "stream",
     "text": [
      "Found 30 files belonging to 14 classes.\n"
     ]
    }
   ],
   "source": [
    "test_ds = tf.keras.utils.image_dataset_from_directory(\n",
    "  test_folder_path,\n",
    "  image_size=(img_height, img_width),\n",
    "  batch_size=100)"
   ]
  },
  {
   "cell_type": "code",
   "execution_count": 131,
   "metadata": {},
   "outputs": [],
   "source": [
    "left_class_names = train_ds.class_names"
   ]
  },
  {
   "cell_type": "code",
   "execution_count": 104,
   "metadata": {},
   "outputs": [
    {
     "data": {
      "image/png": "[encoded data removed]",
      "text/plain": [
       "<Figure size 600x600 with 4 Axes>"
      ]
     },
     "metadata": {},
     "output_type": "display_data"
    }
   ],
   "source": [
    "plt.figure(figsize=(6, 6))\n",
    "for images, labels in train_ds.take(1):\n",
    "  for i in range(4):\n",
    "    ax = plt.subplot(2, 2, i + 1)\n",
    "    plt.imshow(images[i].numpy().astype(\"uint8\"))\n",
    "    plt.title(left_class_names[labels[i]])\n",
    "    plt.axis(\"off\")"
   ]
  },
  {
   "cell_type": "code",
   "execution_count": 132,
   "metadata": {},
   "outputs": [],
   "source": [
    "AUTOTUNE = tf.data.AUTOTUNE\n",
    "\n",
    "train_ds = train_ds.cache().prefetch(buffer_size=AUTOTUNE)\n",
    "val_ds = val_ds.cache().prefetch(buffer_size=AUTOTUNE)"
   ]
  },
  {
   "cell_type": "markdown",
   "metadata": {},
   "source": [
    "### Model training"
   ]
  },
  {
   "cell_type": "code",
   "execution_count": 133,
   "metadata": {},
   "outputs": [],
   "source": [
    "num_classes = len(left_class_names)"
   ]
  },
  {
   "cell_type": "markdown",
   "metadata": {},
   "source": [
    "#### Normal model"
   ]
  },
  {
   "cell_type": "code",
   "execution_count": 74,
   "metadata": {},
   "outputs": [],
   "source": [
    "model = tf.keras.Sequential([\n",
    "  tf.keras.layers.Rescaling(1./255),\n",
    "  tf.keras.layers.Conv2D(32, 3, activation='relu'),\n",
    "  tf.keras.layers.MaxPooling2D(),\n",
    "  tf.keras.layers.Conv2D(32, 3, activation='relu'),\n",
    "  tf.keras.layers.MaxPooling2D(),\n",
    "  tf.keras.layers.Conv2D(32, 3, activation='relu'),\n",
    "  tf.keras.layers.MaxPooling2D(),\n",
    "  tf.keras.layers.Flatten(),\n",
    "  tf.keras.layers.Dense(128, activation='relu'),\n",
    "  tf.keras.layers.Dense(num_classes, activation='softmax')\n",
    "])"
   ]
  },
  {
   "cell_type": "code",
   "execution_count": 75,
   "metadata": {},
   "outputs": [],
   "source": [
    "checkpoint_filepath = '/temp/ckpt/checkpoint.model.keras'\n",
    "model_checkpoint_callback = ModelCheckpoint(\n",
    "    filepath=checkpoint_filepath,\n",
    "    monitor='val_accuracy',\n",
    "    mode='max',\n",
    "    save_best_only=True)\n",
    "\n",
    "epoch_tracker = BestEpochTracker()"
   ]
  },
  {
   "cell_type": "code",
   "execution_count": 76,
   "metadata": {},
   "outputs": [],
   "source": [
    "model.compile(\n",
    "  optimizer='adam',\n",
    "  loss=tf.losses.SparseCategoricalCrossentropy(from_logits=False),\n",
    "  metrics=['accuracy'])"
   ]
  },
  {
   "cell_type": "code",
   "execution_count": 77,
   "metadata": {},
   "outputs": [
    {
     "name": "stdout",
     "output_type": "stream",
     "text": [
      "Epoch 1/15\n",
      "6/6 [==============================] - 2s 197ms/step - loss: 2.6700 - accuracy: 0.0761 - val_loss: 2.6423 - val_accuracy: 0.1000\n",
      "Epoch 2/15\n",
      "6/6 [==============================] - 1s 88ms/step - loss: 2.5112 - accuracy: 0.1304 - val_loss: 2.6826 - val_accuracy: 0.1000\n",
      "Epoch 3/15\n",
      "6/6 [==============================] - 1s 109ms/step - loss: 2.2686 - accuracy: 0.3043 - val_loss: 2.4470 - val_accuracy: 0.2000\n",
      "Epoch 4/15\n",
      "6/6 [==============================] - 1s 96ms/step - loss: 1.7655 - accuracy: 0.5543 - val_loss: 1.9217 - val_accuracy: 0.2500\n",
      "Epoch 5/15\n",
      "6/6 [==============================] - 1s 103ms/step - loss: 1.2687 - accuracy: 0.5761 - val_loss: 1.8066 - val_accuracy: 0.3000\n",
      "Epoch 6/15\n",
      "6/6 [==============================] - 1s 127ms/step - loss: 0.9870 - accuracy: 0.6522 - val_loss: 1.5899 - val_accuracy: 0.4000\n",
      "Epoch 7/15\n",
      "6/6 [==============================] - 1s 121ms/step - loss: 0.6530 - accuracy: 0.7826 - val_loss: 1.4540 - val_accuracy: 0.5000\n",
      "Epoch 8/15\n",
      "6/6 [==============================] - 1s 125ms/step - loss: 0.4922 - accuracy: 0.8152 - val_loss: 1.3012 - val_accuracy: 0.6000\n",
      "Epoch 9/15\n",
      "6/6 [==============================] - 0s 84ms/step - loss: 0.2883 - accuracy: 0.9348 - val_loss: 1.2472 - val_accuracy: 0.6000\n",
      "Epoch 10/15\n",
      "6/6 [==============================] - 0s 81ms/step - loss: 0.1464 - accuracy: 0.9783 - val_loss: 1.7491 - val_accuracy: 0.5000\n",
      "Epoch 11/15\n",
      "6/6 [==============================] - 1s 85ms/step - loss: 0.0709 - accuracy: 1.0000 - val_loss: 1.5813 - val_accuracy: 0.5500\n",
      "Epoch 12/15\n",
      "6/6 [==============================] - 0s 82ms/step - loss: 0.0609 - accuracy: 0.9891 - val_loss: 2.1008 - val_accuracy: 0.4500\n",
      "Epoch 13/15\n",
      "6/6 [==============================] - 1s 89ms/step - loss: 0.0770 - accuracy: 0.9783 - val_loss: 2.2855 - val_accuracy: 0.4000\n",
      "Epoch 14/15\n",
      "6/6 [==============================] - 1s 85ms/step - loss: 0.0647 - accuracy: 0.9891 - val_loss: 2.1089 - val_accuracy: 0.6000\n",
      "Epoch 15/15\n",
      "6/6 [==============================] - 1s 84ms/step - loss: 0.0297 - accuracy: 0.9891 - val_loss: 2.0119 - val_accuracy: 0.6000\n"
     ]
    },
    {
     "data": {
      "text/plain": [
       "<keras.callbacks.History at 0x2b31dfd60e0>"
      ]
     },
     "execution_count": 77,
     "metadata": {},
     "output_type": "execute_result"
    }
   ],
   "source": [
    "model.fit(\n",
    "  train_ds,\n",
    "  epochs=15,\n",
    "  validation_data=val_ds,\n",
    "  callbacks=[model_checkpoint_callback, epoch_tracker]\n",
    ")"
   ]
  },
  {
   "cell_type": "code",
   "execution_count": 78,
   "metadata": {},
   "outputs": [],
   "source": [
    "model.load_weights(checkpoint_filepath)"
   ]
  },
  {
   "cell_type": "code",
   "execution_count": 79,
   "metadata": {},
   "outputs": [
    {
     "name": "stdout",
     "output_type": "stream",
     "text": [
      "1/1 [==============================] - 0s 94ms/step\n",
      "Test accuracy: 0.6666667\n"
     ]
    }
   ],
   "source": [
    "accuracy = tf.keras.metrics.Accuracy()\n",
    "\n",
    "for x_batch, y_batch in test_ds:\n",
    "    probabilites = model.predict(x_batch)\n",
    "    predictions = np.argmax(probabilites, axis=-1)\n",
    "\n",
    "    \n",
    "    accuracy.update_state(y_batch, predictions)\n",
    "\n",
    "final_accuracy = accuracy.result().numpy()\n",
    "print(\"Test accuracy:\", final_accuracy)"
   ]
  },
  {
   "cell_type": "markdown",
   "metadata": {},
   "source": [
    "#### Pruned model"
   ]
  },
  {
   "cell_type": "code",
   "execution_count": 138,
   "metadata": {},
   "outputs": [],
   "source": [
    "dropout_value = 0.3"
   ]
  },
  {
   "cell_type": "code",
   "execution_count": 139,
   "metadata": {},
   "outputs": [
    {
     "name": "stdout",
     "output_type": "stream",
     "text": [
      "Epoch 1/15\n"
     ]
    },
    {
     "name": "stdout",
     "output_type": "stream",
     "text": [
      "6/6 [==============================] - 2s 149ms/step - loss: 2.6861 - accuracy: 0.0978 - val_loss: 2.6504 - val_accuracy: 0.0000e+00\n",
      "Epoch 2/15\n",
      "6/6 [==============================] - 1s 118ms/step - loss: 2.5874 - accuracy: 0.1304 - val_loss: 2.6497 - val_accuracy: 0.1000\n",
      "Epoch 3/15\n",
      "6/6 [==============================] - 1s 103ms/step - loss: 2.4773 - accuracy: 0.1522 - val_loss: 2.6296 - val_accuracy: 0.1000\n",
      "Epoch 4/15\n",
      "6/6 [==============================] - 1s 106ms/step - loss: 2.3133 - accuracy: 0.2391 - val_loss: 2.4259 - val_accuracy: 0.1500\n",
      "Epoch 5/15\n",
      "6/6 [==============================] - 1s 115ms/step - loss: 2.0637 - accuracy: 0.3370 - val_loss: 2.1066 - val_accuracy: 0.2500\n",
      "Epoch 6/15\n",
      "6/6 [==============================] - 1s 115ms/step - loss: 1.7769 - accuracy: 0.4130 - val_loss: 2.0511 - val_accuracy: 0.2500\n",
      "Epoch 7/15\n",
      "6/6 [==============================] - 1s 123ms/step - loss: 1.4750 - accuracy: 0.5217 - val_loss: 1.4943 - val_accuracy: 0.3500\n",
      "Epoch 8/15\n",
      "6/6 [==============================] - 0s 82ms/step - loss: 1.1302 - accuracy: 0.5870 - val_loss: 1.4952 - val_accuracy: 0.5500\n",
      "Epoch 9/15\n",
      "6/6 [==============================] - 1s 86ms/step - loss: 1.0345 - accuracy: 0.6087 - val_loss: 1.4950 - val_accuracy: 0.5000\n",
      "Epoch 10/15\n",
      "6/6 [==============================] - 1s 158ms/step - loss: 0.7460 - accuracy: 0.7717 - val_loss: 1.3327 - val_accuracy: 0.5000\n",
      "Epoch 11/15\n",
      "6/6 [==============================] - 1s 95ms/step - loss: 0.6574 - accuracy: 0.7609 - val_loss: 1.1293 - val_accuracy: 0.7000\n",
      "Epoch 12/15\n",
      "6/6 [==============================] - 1s 102ms/step - loss: 0.5077 - accuracy: 0.8478 - val_loss: 1.6126 - val_accuracy: 0.6000\n",
      "Epoch 13/15\n",
      "6/6 [==============================] - 1s 95ms/step - loss: 0.4131 - accuracy: 0.8587 - val_loss: 0.9590 - val_accuracy: 0.7000\n",
      "Epoch 14/15\n",
      "6/6 [==============================] - 0s 83ms/step - loss: 0.3262 - accuracy: 0.8804 - val_loss: 1.0150 - val_accuracy: 0.7000\n",
      "Epoch 15/15\n",
      "6/6 [==============================] - 1s 84ms/step - loss: 0.2753 - accuracy: 0.9348 - val_loss: 1.1514 - val_accuracy: 0.7000\n"
     ]
    },
    {
     "data": {
      "text/plain": [
       "<keras.callbacks.History at 0x2b3320337f0>"
      ]
     },
     "execution_count": 139,
     "metadata": {},
     "output_type": "execute_result"
    }
   ],
   "source": [
    "model = tf.keras.Sequential([\n",
    "  tf.keras.layers.Rescaling(1./255),\n",
    "\n",
    "  # Convolutional Layers\n",
    "  tf.keras.layers.Conv2D(32, 3, activation='relu'),\n",
    "  tf.keras.layers.MaxPooling2D(),\n",
    "  tf.keras.layers.Conv2D(32, 3, activation='relu'),\n",
    "  tf.keras.layers.MaxPooling2D(),\n",
    "  tf.keras.layers.Conv2D(32, 3, activation='relu'),\n",
    "  tf.keras.layers.MaxPooling2D(),\n",
    "\n",
    "  tf.keras.layers.Flatten(),\n",
    "\n",
    "  # Fully Connected Layers with Dropout\n",
    "  tf.keras.layers.Dense(128, activation='relu'),\n",
    "  tf.keras.layers.Dropout(dropout_value),\n",
    "\n",
    "  tf.keras.layers.Dense(num_classes, activation='softmax')\n",
    "])\n",
    "\n",
    "checkpoint_filepath = '/temp/ckpt/checkpoint.model.keras'\n",
    "model_checkpoint_callback = ModelCheckpoint(\n",
    "    filepath=checkpoint_filepath,\n",
    "    monitor='val_loss',\n",
    "    mode='min',\n",
    "    save_best_only=True)\n",
    "\n",
    "epoch_tracker = BestEpochTracker()\n",
    "\n",
    "model.compile(\n",
    "  optimizer='adam',\n",
    "  loss=tf.losses.SparseCategoricalCrossentropy(from_logits=False),\n",
    "  metrics=['accuracy'])\n",
    "\n",
    "model.fit(\n",
    "  train_ds,\n",
    "  epochs=15,\n",
    "  validation_data=val_ds,\n",
    "  callbacks=[model_checkpoint_callback, epoch_tracker]\n",
    ")"
   ]
  },
  {
   "cell_type": "code",
   "execution_count": 140,
   "metadata": {},
   "outputs": [],
   "source": [
    "model.load_weights(checkpoint_filepath)"
   ]
  },
  {
   "cell_type": "code",
   "execution_count": 141,
   "metadata": {},
   "outputs": [
    {
     "name": "stdout",
     "output_type": "stream",
     "text": [
      "1/1 [==============================] - 3s 3s/step\n",
      "Test accuracy: 0.73333335\n"
     ]
    }
   ],
   "source": [
    "accuracy = tf.keras.metrics.Accuracy()\n",
    "\n",
    "for x_batch, y_batch in test_ds:\n",
    "    probabilites = model.predict(x_batch)\n",
    "    predictions = np.argmax(probabilites, axis=-1)\n",
    "\n",
    "    \n",
    "    accuracy.update_state(y_batch, predictions)\n",
    "\n",
    "final_accuracy = accuracy.result().numpy()\n",
    "print(\"Test accuracy:\", final_accuracy)"
   ]
  },
  {
   "cell_type": "code",
   "execution_count": 142,
   "metadata": {},
   "outputs": [],
   "source": [
    "ds = train_ds.concatenate(val_ds)"
   ]
  },
  {
   "cell_type": "code",
   "execution_count": 143,
   "metadata": {},
   "outputs": [],
   "source": [
    "AUTOTUNE = tf.data.AUTOTUNE\n",
    "\n",
    "ds = ds.cache().prefetch(buffer_size=AUTOTUNE)"
   ]
  },
  {
   "cell_type": "code",
   "execution_count": 144,
   "metadata": {},
   "outputs": [],
   "source": [
    "num_classes = len(left_class_names)"
   ]
  },
  {
   "cell_type": "code",
   "execution_count": 83,
   "metadata": {},
   "outputs": [],
   "source": [
    "left_model = tf.keras.Sequential([\n",
    "  tf.keras.layers.Rescaling(1./255),\n",
    "  tf.keras.layers.Conv2D(32, 3, activation='relu'),\n",
    "  tf.keras.layers.MaxPooling2D(),\n",
    "  tf.keras.layers.Conv2D(32, 3, activation='relu'),\n",
    "  tf.keras.layers.MaxPooling2D(),\n",
    "  tf.keras.layers.Conv2D(32, 3, activation='relu'),\n",
    "  tf.keras.layers.MaxPooling2D(),\n",
    "  tf.keras.layers.Flatten(),\n",
    "  tf.keras.layers.Dense(128, activation='relu'),\n",
    "  tf.keras.layers.Dense(num_classes, activation='softmax')\n",
    "])"
   ]
  },
  {
   "cell_type": "code",
   "execution_count": 84,
   "metadata": {},
   "outputs": [],
   "source": [
    "left_model.compile(\n",
    "  optimizer='adam',\n",
    "  loss=tf.losses.SparseCategoricalCrossentropy(from_logits=False),\n",
    "  metrics=['accuracy'])"
   ]
  },
  {
   "cell_type": "code",
   "execution_count": 85,
   "metadata": {},
   "outputs": [
    {
     "name": "stdout",
     "output_type": "stream",
     "text": [
      "Epoch 1/9\n"
     ]
    },
    {
     "name": "stdout",
     "output_type": "stream",
     "text": [
      "8/8 [==============================] - 2s 67ms/step - loss: 2.6373 - accuracy: 0.0982\n",
      "Epoch 2/9\n",
      "8/8 [==============================] - 1s 66ms/step - loss: 2.4672 - accuracy: 0.2232\n",
      "Epoch 3/9\n",
      "8/8 [==============================] - 1s 74ms/step - loss: 1.9712 - accuracy: 0.3661\n",
      "Epoch 4/9\n",
      "8/8 [==============================] - 1s 67ms/step - loss: 1.4215 - accuracy: 0.4911\n",
      "Epoch 5/9\n",
      "8/8 [==============================] - 1s 69ms/step - loss: 1.1843 - accuracy: 0.6071\n",
      "Epoch 6/9\n",
      "8/8 [==============================] - 1s 69ms/step - loss: 0.8354 - accuracy: 0.7232\n",
      "Epoch 7/9\n",
      "8/8 [==============================] - 1s 69ms/step - loss: 0.6384 - accuracy: 0.7679\n",
      "Epoch 8/9\n",
      "8/8 [==============================] - 1s 70ms/step - loss: 0.5806 - accuracy: 0.7857\n",
      "Epoch 9/9\n",
      "8/8 [==============================] - 1s 69ms/step - loss: 0.3652 - accuracy: 0.8571\n"
     ]
    },
    {
     "data": {
      "text/plain": [
       "<keras.callbacks.History at 0x2b31fa0f8b0>"
      ]
     },
     "execution_count": 85,
     "metadata": {},
     "output_type": "execute_result"
    }
   ],
   "source": [
    "left_model.fit(\n",
    "  ds,\n",
    "  epochs=epoch_tracker.best_epoch\n",
    ")"
   ]
  },
  {
   "cell_type": "code",
   "execution_count": 145,
   "metadata": {},
   "outputs": [],
   "source": [
    "left_pruned_model = tf.keras.Sequential([\n",
    "  tf.keras.layers.Rescaling(1./255),\n",
    "  tf.keras.layers.Conv2D(32, 3, activation='relu'),\n",
    "  tf.keras.layers.MaxPooling2D(),\n",
    "  tf.keras.layers.Conv2D(32, 3, activation='relu'),\n",
    "  tf.keras.layers.MaxPooling2D(),\n",
    "  tf.keras.layers.Conv2D(32, 3, activation='relu'),\n",
    "  tf.keras.layers.MaxPooling2D(),\n",
    "  tf.keras.layers.Flatten(),\n",
    "  # Fully Connected Layers with Dropout\n",
    "  tf.keras.layers.Dense(128, activation='relu'),\n",
    "  tf.keras.layers.Dropout(dropout_value),\n",
    "  tf.keras.layers.Dense(num_classes, activation='softmax')\n",
    "])"
   ]
  },
  {
   "cell_type": "code",
   "execution_count": 146,
   "metadata": {},
   "outputs": [],
   "source": [
    "left_pruned_model.compile(\n",
    "  optimizer='adam',\n",
    "  loss=tf.losses.SparseCategoricalCrossentropy(from_logits=False),\n",
    "  metrics=['accuracy'])"
   ]
  },
  {
   "cell_type": "code",
   "execution_count": 147,
   "metadata": {},
   "outputs": [
    {
     "name": "stdout",
     "output_type": "stream",
     "text": [
      "Epoch 1/13\n",
      "8/8 [==============================] - 1s 69ms/step - loss: 2.6449 - accuracy: 0.1250\n",
      "Epoch 2/13\n",
      "8/8 [==============================] - 1s 71ms/step - loss: 2.5224 - accuracy: 0.1607\n",
      "Epoch 3/13\n",
      "8/8 [==============================] - 1s 68ms/step - loss: 2.2386 - accuracy: 0.2679\n",
      "Epoch 4/13\n",
      "8/8 [==============================] - 1s 70ms/step - loss: 2.0071 - accuracy: 0.3125\n",
      "Epoch 5/13\n",
      "8/8 [==============================] - 1s 71ms/step - loss: 1.7500 - accuracy: 0.4018\n",
      "Epoch 6/13\n",
      "8/8 [==============================] - 1s 70ms/step - loss: 1.3707 - accuracy: 0.5357\n",
      "Epoch 7/13\n",
      "8/8 [==============================] - 1s 69ms/step - loss: 1.2554 - accuracy: 0.6161\n",
      "Epoch 8/13\n",
      "8/8 [==============================] - 1s 69ms/step - loss: 1.0754 - accuracy: 0.6429\n",
      "Epoch 9/13\n",
      "8/8 [==============================] - 1s 72ms/step - loss: 0.7881 - accuracy: 0.7768\n",
      "Epoch 10/13\n",
      "8/8 [==============================] - 1s 69ms/step - loss: 0.7833 - accuracy: 0.7500\n",
      "Epoch 11/13\n",
      "8/8 [==============================] - 1s 70ms/step - loss: 0.6517 - accuracy: 0.7768\n",
      "Epoch 12/13\n",
      "8/8 [==============================] - 1s 79ms/step - loss: 0.5812 - accuracy: 0.8125\n",
      "Epoch 13/13\n",
      "8/8 [==============================] - 1s 71ms/step - loss: 0.4436 - accuracy: 0.8571\n"
     ]
    },
    {
     "data": {
      "text/plain": [
       "<keras.callbacks.History at 0x2b31c33f220>"
      ]
     },
     "execution_count": 147,
     "metadata": {},
     "output_type": "execute_result"
    }
   ],
   "source": [
    "left_pruned_model.fit(\n",
    "  ds,\n",
    "  epochs=epoch_tracker.best_epoch\n",
    ")"
   ]
  },
  {
   "cell_type": "code",
   "execution_count": null,
   "metadata": {},
   "outputs": [],
   "source": []
  },
  {
   "cell_type": "code",
   "execution_count": null,
   "metadata": {},
   "outputs": [],
   "source": []
  },
  {
   "cell_type": "code",
   "execution_count": null,
   "metadata": {},
   "outputs": [
    {
     "data": {
      "text/plain": [
       "<tensorflow.python.checkpoint.checkpoint.CheckpointLoadStatus at 0x2b30f080040>"
      ]
     },
     "execution_count": 89,
     "metadata": {},
     "output_type": "execute_result"
    }
   ],
   "source": [
    "model_path = \"./model_checkpoint/left_model_reduced\"\n",
    "# model_path = \"./model_checkpoint/left_model\"\n",
    "# left_model.save_weights(model_path)\n",
    "left_model.load_weights(model_path)"
   ]
  },
  {
   "cell_type": "markdown",
   "metadata": {},
   "source": [
    "### Testing"
   ]
  },
  {
   "cell_type": "code",
   "execution_count": 90,
   "metadata": {},
   "outputs": [
    {
     "data": {
      "text/plain": [
       "1"
      ]
     },
     "execution_count": 90,
     "metadata": {},
     "output_type": "execute_result"
    }
   ],
   "source": [
    "len(test_ds)"
   ]
  },
  {
   "cell_type": "code",
   "execution_count": 91,
   "metadata": {},
   "outputs": [
    {
     "data": {
      "text/plain": [
       "['abitare',\n",
       " 'acqua',\n",
       " 'affitto',\n",
       " 'banca',\n",
       " 'caldo',\n",
       " 'casa',\n",
       " 'cibo',\n",
       " 'data',\n",
       " 'freddo',\n",
       " 'idle',\n",
       " 'interprete',\n",
       " 'inviare',\n",
       " 'lingua',\n",
       " 'litro']"
      ]
     },
     "execution_count": 91,
     "metadata": {},
     "output_type": "execute_result"
    }
   ],
   "source": [
    "left_class_names"
   ]
  },
  {
   "cell_type": "code",
   "execution_count": 92,
   "metadata": {},
   "outputs": [
    {
     "name": "stdout",
     "output_type": "stream",
     "text": [
      "1/1 [==============================] - 0s 97ms/step\n",
      "Test accuracy: 0.76666665\n"
     ]
    }
   ],
   "source": [
    "accuracy = tf.keras.metrics.Accuracy()\n",
    "\n",
    "for x_batch, y_batch in test_ds:\n",
    "    probabilites = left_model.predict(x_batch)\n",
    "    predictions = np.argmax(probabilites, axis=-1)\n",
    "\n",
    "    \n",
    "    accuracy.update_state(y_batch, predictions)\n",
    "\n",
    "final_accuracy = accuracy.result().numpy()\n",
    "print(\"Test accuracy:\", final_accuracy)"
   ]
  },
  {
   "cell_type": "code",
   "execution_count": 148,
   "metadata": {},
   "outputs": [
    {
     "name": "stdout",
     "output_type": "stream",
     "text": [
      "1/1 [==============================] - 0s 115ms/step\n",
      "Test accuracy: 0.7\n"
     ]
    }
   ],
   "source": [
    "accuracy = tf.keras.metrics.Accuracy()\n",
    "\n",
    "for x_batch, y_batch in test_ds:\n",
    "    probabilites = left_pruned_model.predict(x_batch)\n",
    "    predictions = np.argmax(probabilites, axis=-1)\n",
    "\n",
    "    \n",
    "    accuracy.update_state(y_batch, predictions)\n",
    "\n",
    "final_accuracy = accuracy.result().numpy()\n",
    "print(\"Test accuracy:\", final_accuracy)"
   ]
  },
  {
   "cell_type": "markdown",
   "metadata": {},
   "source": [
    "## Right model"
   ]
  },
  {
   "cell_type": "markdown",
   "metadata": {},
   "source": [
    "### Dataset"
   ]
  },
  {
   "cell_type": "code",
   "execution_count": 112,
   "metadata": {},
   "outputs": [],
   "source": [
    "# train_folder_path = pathlib.Path('D:/Documentos/Polito/Thesis/Datasets/A3LIS-147_italian/trimmed-life/hei-videos-train-seed59-v1/right modified/')\n",
    "# test_folder_path = pathlib.Path('D:/Documentos/Polito/Thesis/Datasets/A3LIS-147_italian/trimmed-life/hei-videos-test-seed59-v1/right modified/')\n",
    "train_folder_path = pathlib.Path('D:/Documentos/Polito/Thesis/Datasets/A3LIS-147_italian/trimmed-life/hei-videos-train-seed59-v1/reduced/right modified/')\n",
    "test_folder_path = pathlib.Path('D:/Documentos/Polito/Thesis/Datasets/A3LIS-147_italian/trimmed-life/hei-videos-test-seed59-v1/reduced/right modified/')"
   ]
  },
  {
   "cell_type": "code",
   "execution_count": 113,
   "metadata": {},
   "outputs": [],
   "source": [
    "train_batch_size = 16\n",
    "img_height = 100\n",
    "img_width = 100"
   ]
  },
  {
   "cell_type": "code",
   "execution_count": 114,
   "metadata": {},
   "outputs": [
    {
     "name": "stdout",
     "output_type": "stream",
     "text": [
      "Found 126 files belonging to 10 classes.\n",
      "Using 104 files for training.\n",
      "Using 22 files for validation.\n"
     ]
    }
   ],
   "source": [
    "train_ds, val_ds = tf.keras.utils.image_dataset_from_directory(\n",
    "  train_folder_path,\n",
    "  validation_split=0.18,\n",
    "  subset=\"both\",\n",
    "  seed=123,\n",
    "  image_size=(img_height, img_width),\n",
    "  batch_size=train_batch_size,\n",
    "  shuffle=True)"
   ]
  },
  {
   "cell_type": "code",
   "execution_count": 115,
   "metadata": {},
   "outputs": [
    {
     "name": "stdout",
     "output_type": "stream",
     "text": [
      "Found 31 files belonging to 10 classes.\n"
     ]
    }
   ],
   "source": [
    "test_ds = tf.keras.utils.image_dataset_from_directory(\n",
    "  test_folder_path,\n",
    "  image_size=(img_height, img_width),\n",
    "  batch_size=100)"
   ]
  },
  {
   "cell_type": "code",
   "execution_count": 116,
   "metadata": {},
   "outputs": [],
   "source": [
    "right_class_names = train_ds.class_names"
   ]
  },
  {
   "cell_type": "code",
   "execution_count": 117,
   "metadata": {},
   "outputs": [
    {
     "data": {
      "image/png": "[encoded data removed]",
      "text/plain": [
       "<Figure size 600x600 with 4 Axes>"
      ]
     },
     "metadata": {},
     "output_type": "display_data"
    }
   ],
   "source": [
    "import matplotlib.pyplot as plt\n",
    "\n",
    "plt.figure(figsize=(6, 6))\n",
    "for images, labels in train_ds.take(1):\n",
    "  for i in range(4):\n",
    "    ax = plt.subplot(2, 2, i + 1)\n",
    "    plt.imshow(images[i].numpy().astype(\"uint8\"))\n",
    "    plt.title(right_class_names[labels[i]])\n",
    "    plt.axis(\"off\")"
   ]
  },
  {
   "cell_type": "code",
   "execution_count": 118,
   "metadata": {},
   "outputs": [],
   "source": [
    "AUTOTUNE = tf.data.AUTOTUNE\n",
    "\n",
    "train_ds = train_ds.cache().prefetch(buffer_size=AUTOTUNE)\n",
    "val_ds = val_ds.cache().prefetch(buffer_size=AUTOTUNE)"
   ]
  },
  {
   "cell_type": "markdown",
   "metadata": {},
   "source": [
    "### Model training"
   ]
  },
  {
   "cell_type": "code",
   "execution_count": 119,
   "metadata": {},
   "outputs": [],
   "source": [
    "num_classes = len(right_class_names)"
   ]
  },
  {
   "cell_type": "code",
   "execution_count": 85,
   "metadata": {},
   "outputs": [],
   "source": [
    "model = tf.keras.Sequential([\n",
    "  tf.keras.layers.Rescaling(1./255),\n",
    "  tf.keras.layers.Conv2D(32, 3, activation='relu'),\n",
    "  tf.keras.layers.MaxPooling2D(),\n",
    "  tf.keras.layers.Conv2D(32, 3, activation='relu'),\n",
    "  tf.keras.layers.MaxPooling2D(),\n",
    "  tf.keras.layers.Conv2D(32, 3, activation='relu'),\n",
    "  tf.keras.layers.MaxPooling2D(),\n",
    "  tf.keras.layers.Flatten(),\n",
    "  tf.keras.layers.Dense(128, activation='relu'),\n",
    "  tf.keras.layers.Dense(num_classes, activation='softmax')\n",
    "])"
   ]
  },
  {
   "cell_type": "code",
   "execution_count": 86,
   "metadata": {},
   "outputs": [],
   "source": [
    "model.compile(\n",
    "  optimizer='adam',\n",
    "  loss=tf.losses.SparseCategoricalCrossentropy(from_logits=True),\n",
    "  metrics=['accuracy'])"
   ]
  },
  {
   "cell_type": "code",
   "execution_count": 87,
   "metadata": {},
   "outputs": [],
   "source": [
    "checkpoint_filepath = '/temp/ckpt/checkpoint.model.keras'\n",
    "model_checkpoint_callback = ModelCheckpoint(\n",
    "    filepath=checkpoint_filepath,\n",
    "    monitor='val_accuracy',\n",
    "    mode='max',\n",
    "    save_best_only=True)\n",
    "\n",
    "epoch_tracker = BestEpochTracker()"
   ]
  },
  {
   "cell_type": "code",
   "execution_count": 88,
   "metadata": {},
   "outputs": [
    {
     "name": "stdout",
     "output_type": "stream",
     "text": [
      "Epoch 1/15\n"
     ]
    },
    {
     "name": "stderr",
     "output_type": "stream",
     "text": [
      "d:\\Documentos\\Polito\\Thesis\\Code\\sign-language-recognition\\thesis-venv\\lib\\site-packages\\keras\\backend.py:5612: UserWarning: \"`sparse_categorical_crossentropy` received `from_logits=True`, but the `output` argument was produced by a Softmax activation and thus does not represent logits. Was this intended?\n",
      "  output, from_logits = _get_logits(\n"
     ]
    },
    {
     "name": "stdout",
     "output_type": "stream",
     "text": [
      "7/7 [==============================] - 2s 128ms/step - loss: 1.9936 - accuracy: 0.4135 - val_loss: 1.5694 - val_accuracy: 0.5909\n",
      "Epoch 2/15\n",
      "7/7 [==============================] - 1s 78ms/step - loss: 1.6497 - accuracy: 0.4615 - val_loss: 1.2857 - val_accuracy: 0.5909\n",
      "Epoch 3/15\n",
      "7/7 [==============================] - 1s 99ms/step - loss: 1.3976 - accuracy: 0.5000 - val_loss: 1.1073 - val_accuracy: 0.6364\n",
      "Epoch 4/15\n",
      "7/7 [==============================] - 1s 95ms/step - loss: 1.1565 - accuracy: 0.5962 - val_loss: 0.9059 - val_accuracy: 0.6818\n",
      "Epoch 5/15\n",
      "7/7 [==============================] - 1s 86ms/step - loss: 0.8679 - accuracy: 0.7308 - val_loss: 0.6857 - val_accuracy: 0.7273\n",
      "Epoch 6/15\n",
      "7/7 [==============================] - 1s 113ms/step - loss: 0.5762 - accuracy: 0.8654 - val_loss: 0.5360 - val_accuracy: 0.8182\n",
      "Epoch 7/15\n",
      "7/7 [==============================] - 1s 79ms/step - loss: 0.4193 - accuracy: 0.8846 - val_loss: 0.5840 - val_accuracy: 0.8182\n",
      "Epoch 8/15\n",
      "7/7 [==============================] - 1s 77ms/step - loss: 0.2641 - accuracy: 0.9327 - val_loss: 0.6073 - val_accuracy: 0.8182\n",
      "Epoch 9/15\n",
      "7/7 [==============================] - 1s 122ms/step - loss: 0.1674 - accuracy: 0.9519 - val_loss: 0.6876 - val_accuracy: 0.9091\n",
      "Epoch 10/15\n",
      "7/7 [==============================] - 1s 78ms/step - loss: 0.2436 - accuracy: 0.9038 - val_loss: 0.9774 - val_accuracy: 0.7727\n",
      "Epoch 11/15\n",
      "7/7 [==============================] - 1s 78ms/step - loss: 0.2068 - accuracy: 0.9135 - val_loss: 0.6960 - val_accuracy: 0.8182\n",
      "Epoch 12/15\n",
      "7/7 [==============================] - 1s 81ms/step - loss: 0.0748 - accuracy: 0.9904 - val_loss: 0.7777 - val_accuracy: 0.8636\n",
      "Epoch 13/15\n",
      "7/7 [==============================] - 1s 78ms/step - loss: 0.0668 - accuracy: 0.9904 - val_loss: 0.6926 - val_accuracy: 0.8182\n",
      "Epoch 14/15\n",
      "7/7 [==============================] - 1s 86ms/step - loss: 0.0601 - accuracy: 0.9904 - val_loss: 0.6065 - val_accuracy: 0.8182\n",
      "Epoch 15/15\n",
      "7/7 [==============================] - 1s 81ms/step - loss: 0.1031 - accuracy: 0.9712 - val_loss: 0.9779 - val_accuracy: 0.8182\n"
     ]
    },
    {
     "data": {
      "text/plain": [
       "<keras.callbacks.History at 0x12a090a0580>"
      ]
     },
     "execution_count": 88,
     "metadata": {},
     "output_type": "execute_result"
    }
   ],
   "source": [
    "model.fit(\n",
    "  train_ds,\n",
    "  epochs=15,\n",
    "  validation_data=val_ds,\n",
    "  callbacks=[model_checkpoint_callback, epoch_tracker]\n",
    ")"
   ]
  },
  {
   "cell_type": "code",
   "execution_count": 89,
   "metadata": {},
   "outputs": [],
   "source": [
    "model.load_weights(checkpoint_filepath)"
   ]
  },
  {
   "cell_type": "code",
   "execution_count": 90,
   "metadata": {},
   "outputs": [
    {
     "name": "stdout",
     "output_type": "stream",
     "text": [
      "1/1 [==============================] - 0s 89ms/step\n",
      "Test accuracy: 0.7741935\n"
     ]
    }
   ],
   "source": [
    "accuracy = tf.keras.metrics.Accuracy()\n",
    "\n",
    "for x_batch, y_batch in test_ds:\n",
    "    probabilites = model.predict(x_batch)\n",
    "    predictions = np.argmax(probabilites, axis=-1)\n",
    "\n",
    "    \n",
    "    accuracy.update_state(y_batch, predictions)\n",
    "\n",
    "final_accuracy = accuracy.result().numpy()\n",
    "print(\"Test accuracy:\", final_accuracy)"
   ]
  },
  {
   "cell_type": "code",
   "execution_count": 91,
   "metadata": {},
   "outputs": [],
   "source": [
    "ds = train_ds.concatenate(val_ds)"
   ]
  },
  {
   "cell_type": "code",
   "execution_count": 92,
   "metadata": {},
   "outputs": [],
   "source": [
    "AUTOTUNE = tf.data.AUTOTUNE\n",
    "\n",
    "ds = ds.cache().prefetch(buffer_size=AUTOTUNE)"
   ]
  },
  {
   "cell_type": "code",
   "execution_count": 93,
   "metadata": {},
   "outputs": [],
   "source": [
    "num_classes = len(right_class_names)"
   ]
  },
  {
   "cell_type": "code",
   "execution_count": 120,
   "metadata": {},
   "outputs": [],
   "source": [
    "right_model = tf.keras.Sequential([\n",
    "  tf.keras.layers.Rescaling(1./255),\n",
    "  tf.keras.layers.Conv2D(32, 3, activation='relu'),\n",
    "  tf.keras.layers.MaxPooling2D(),\n",
    "  tf.keras.layers.Conv2D(32, 3, activation='relu'),\n",
    "  tf.keras.layers.MaxPooling2D(),\n",
    "  tf.keras.layers.Conv2D(32, 3, activation='relu'),\n",
    "  tf.keras.layers.MaxPooling2D(),\n",
    "  tf.keras.layers.Flatten(),\n",
    "  tf.keras.layers.Dense(128, activation='relu'),\n",
    "  tf.keras.layers.Dense(num_classes, activation='softmax')\n",
    "])"
   ]
  },
  {
   "cell_type": "code",
   "execution_count": 95,
   "metadata": {},
   "outputs": [],
   "source": [
    "right_model.compile(\n",
    "  optimizer='adam',\n",
    "  loss=tf.losses.SparseCategoricalCrossentropy(from_logits=True),\n",
    "  metrics=['accuracy'])"
   ]
  },
  {
   "cell_type": "code",
   "execution_count": 96,
   "metadata": {},
   "outputs": [
    {
     "name": "stdout",
     "output_type": "stream",
     "text": [
      "Epoch 1/6\n"
     ]
    },
    {
     "name": "stdout",
     "output_type": "stream",
     "text": [
      "9/9 [==============================] - 2s 69ms/step - loss: 1.9457 - accuracy: 0.4206\n",
      "Epoch 2/6\n",
      "9/9 [==============================] - 1s 71ms/step - loss: 1.4947 - accuracy: 0.4841\n",
      "Epoch 3/6\n",
      "9/9 [==============================] - 1s 67ms/step - loss: 1.2027 - accuracy: 0.5079\n",
      "Epoch 4/6\n",
      "9/9 [==============================] - 1s 70ms/step - loss: 0.9200 - accuracy: 0.6825\n",
      "Epoch 5/6\n",
      "9/9 [==============================] - 1s 78ms/step - loss: 0.6709 - accuracy: 0.7302\n",
      "Epoch 6/6\n",
      "9/9 [==============================] - 1s 77ms/step - loss: 0.4521 - accuracy: 0.8889\n"
     ]
    },
    {
     "data": {
      "text/plain": [
       "<keras.callbacks.History at 0x12a05c15ba0>"
      ]
     },
     "execution_count": 96,
     "metadata": {},
     "output_type": "execute_result"
    }
   ],
   "source": [
    "right_model.fit(\n",
    "  ds,\n",
    "  epochs=epoch_tracker.best_epoch\n",
    ")"
   ]
  },
  {
   "cell_type": "code",
   "execution_count": 121,
   "metadata": {},
   "outputs": [
    {
     "data": {
      "text/plain": [
       "<tensorflow.python.checkpoint.checkpoint.CheckpointLoadStatus at 0x1a62b1944f0>"
      ]
     },
     "execution_count": 121,
     "metadata": {},
     "output_type": "execute_result"
    }
   ],
   "source": [
    "model_path = \"./model_checkpoint/right_model_reduced\"\n",
    "# model_path = \"./model_checkpoint/right_model\"\n",
    "# right_model.save_weights(model_path)\n",
    "right_model.load_weights(model_path)"
   ]
  },
  {
   "cell_type": "markdown",
   "metadata": {},
   "source": [
    "### Testing"
   ]
  },
  {
   "cell_type": "code",
   "execution_count": 122,
   "metadata": {},
   "outputs": [
    {
     "data": {
      "text/plain": [
       "1"
      ]
     },
     "execution_count": 122,
     "metadata": {},
     "output_type": "execute_result"
    }
   ],
   "source": [
    "len(test_ds)"
   ]
  },
  {
   "cell_type": "code",
   "execution_count": 123,
   "metadata": {},
   "outputs": [
    {
     "data": {
      "text/plain": [
       "['abitare',\n",
       " 'banca',\n",
       " 'caldo',\n",
       " 'casa',\n",
       " 'data',\n",
       " 'freddo',\n",
       " 'idle',\n",
       " 'interprete',\n",
       " 'inviare',\n",
       " 'litro']"
      ]
     },
     "execution_count": 123,
     "metadata": {},
     "output_type": "execute_result"
    }
   ],
   "source": [
    "right_class_names"
   ]
  },
  {
   "cell_type": "code",
   "execution_count": 124,
   "metadata": {},
   "outputs": [
    {
     "name": "stdout",
     "output_type": "stream",
     "text": [
      "1/1 [==============================] - 0s 445ms/step\n",
      "Test accuracy: 0.8064516\n"
     ]
    }
   ],
   "source": [
    "accuracy = tf.keras.metrics.Accuracy()\n",
    "\n",
    "for x_batch, y_batch in test_ds:\n",
    "    probabilites = right_model.predict(x_batch)\n",
    "    predictions = np.argmax(probabilites, axis=-1)\n",
    "\n",
    "    \n",
    "    accuracy.update_state(y_batch, predictions)\n",
    "\n",
    "final_accuracy = accuracy.result().numpy()\n",
    "print(\"Test accuracy:\", final_accuracy)"
   ]
  },
  {
   "cell_type": "markdown",
   "metadata": {},
   "source": [
    "## Combined Inference"
   ]
  },
  {
   "cell_type": "markdown",
   "metadata": {},
   "source": [
    "### Test dataset"
   ]
  },
  {
   "cell_type": "code",
   "execution_count": 126,
   "metadata": {},
   "outputs": [],
   "source": [
    "# Function to extract file paths, prefixes, and labels\n",
    "def get_image_prefixes_and_labels(folder_path):\n",
    "    image_data = []\n",
    "    for label_folder in folder_path.iterdir():\n",
    "        if label_folder.is_dir():\n",
    "            label = label_folder.name  # Folder name as the label\n",
    "            for image_file in label_folder.iterdir():\n",
    "                if image_file.is_file():\n",
    "                    file_name = \"_\".join(image_file.stem.split(\"_\")[:-1])\n",
    "                    image_data.append((file_name, str(image_file), label))\n",
    "    return image_data\n",
    "\n",
    "# Function to preprocess images\n",
    "def preprocess_image(image_path):\n",
    "    if image_path is None:\n",
    "        # Placeholder for missing images (e.g., black image or zeros)\n",
    "        return tf.zeros((img_height, img_width, 3), dtype=tf.int32)\n",
    "    image = tf.io.read_file(image_path)\n",
    "    image = tf.image.decode_image(image, channels=3)\n",
    "    image = tf.image.resize(image, [img_height, img_width])\n",
    "    image = tf.cast(image, tf.int32)\n",
    "    return image\n",
    "\n",
    "# Function to create a tf.data.Dataset\n",
    "def create_dataset(data):\n",
    "    def generator():\n",
    "        for left_path, right_path, label in data:\n",
    "            yield (preprocess_image(left_path), preprocess_image(right_path)), label_to_index[label]\n",
    "    \n",
    "    return tf.data.Dataset.from_generator(\n",
    "        generator,\n",
    "        output_signature=(\n",
    "            (\n",
    "                tf.TensorSpec(shape=(img_height, img_width, 3), dtype=tf.int32),\n",
    "                tf.TensorSpec(shape=(img_height, img_width, 3), dtype=tf.int32),\n",
    "            ),\n",
    "            tf.TensorSpec(shape=(), dtype=tf.int32),  # Alterado para int32\n",
    "        )\n",
    "    )"
   ]
  },
  {
   "cell_type": "code",
   "execution_count": 127,
   "metadata": {},
   "outputs": [],
   "source": [
    "# Paths to the left and right hand folders\n",
    "# left_hand_folder = pathlib.Path('D:/Documentos/Polito/Thesis/Datasets/A3LIS-147_italian/trimmed-life/hei-videos-test-seed59-v1/left/')\n",
    "# right_hand_folder = pathlib.Path('D:/Documentos/Polito/Thesis/Datasets/A3LIS-147_italian/trimmed-life/hei-videos-test-seed59-v1/right/')\n",
    "left_hand_folder = pathlib.Path('D:/Documentos/Polito/Thesis/Datasets/A3LIS-147_italian/trimmed-life/hei-videos-test-seed59-v1/reduced/left/')\n",
    "right_hand_folder = pathlib.Path('D:/Documentos/Polito/Thesis/Datasets/A3LIS-147_italian/trimmed-life/hei-videos-test-seed59-v1/reduced/right/')\n",
    "\n",
    "# Image size and batch size\n",
    "img_height, img_width = 100, 100  # Adjust as needed\n",
    "batch_size = 2\n",
    "\n",
    "# Get image paths, prefixes, and labels\n",
    "left_images = get_image_prefixes_and_labels(left_hand_folder)\n",
    "right_images = get_image_prefixes_and_labels(right_hand_folder)\n",
    "\n",
    "# Create dictionaries to map prefixes to file paths and labels\n",
    "left_dict = {prefix: (path, label) for prefix, path, label in left_images}\n",
    "right_dict = {prefix: (path, label) for prefix, path, label in right_images}\n",
    "\n",
    "# Match prefixes and align datasets with labels\n",
    "aligned_data = []\n",
    "for prefix in set(left_dict.keys()).union(right_dict.keys()):\n",
    "    left_info = left_dict.get(prefix, (None, None))  # (path, label) or (None, None)\n",
    "    right_info = right_dict.get(prefix, (None, None))\n",
    "    aligned_data.append((left_info[0], right_info[0], left_info[1] or right_info[1]))\n",
    "\n",
    "# Obter classes únicas\n",
    "unique_labels = sorted(set(label for _, _, label in aligned_data))\n",
    "label_to_index = {label: index for index, label in enumerate(unique_labels)}\n",
    "\n",
    "test_data = aligned_data"
   ]
  },
  {
   "cell_type": "code",
   "execution_count": 128,
   "metadata": {},
   "outputs": [],
   "source": [
    "test_ds = create_dataset(test_data).batch(batch_size).prefetch(tf.data.AUTOTUNE)"
   ]
  },
  {
   "cell_type": "code",
   "execution_count": 32,
   "metadata": {},
   "outputs": [],
   "source": [
    "def plot_images_with_labels(dataset, num_samples=5):\n",
    "    for i, ((left_images, right_images), labels) in enumerate(dataset.take(num_samples)):\n",
    "        batch_size = left_images.shape[0]\n",
    "        for j in range(batch_size):\n",
    "            plt.figure(figsize=(8, 4))\n",
    "            \n",
    "            # Left image\n",
    "            plt.subplot(1, 2, 1)\n",
    "            plt.imshow(left_images[j].numpy())\n",
    "            plt.title(f\"Left Image - Label: {labels[j].numpy()}\")\n",
    "            plt.axis('off')\n",
    "            \n",
    "            # Right image\n",
    "            plt.subplot(1, 2, 2)\n",
    "            plt.imshow(right_images[j].numpy())\n",
    "            plt.title(f\"Right Image - Label: {labels[j].numpy()}\")\n",
    "            plt.axis('off')\n",
    "            \n",
    "            plt.tight_layout()\n",
    "            plt.show()\n",
    "            \n",
    "        # Break after showing `num_samples` examples\n",
    "        if i + 1 >= num_samples:\n",
    "            break\n"
   ]
  },
  {
   "cell_type": "code",
   "execution_count": 33,
   "metadata": {},
   "outputs": [
    {
     "data": {
      "image/png": "[encoded data removed]",
      "text/plain": [
       "<Figure size 800x400 with 2 Axes>"
      ]
     },
     "metadata": {},
     "output_type": "display_data"
    },
    {
     "data": {
      "image/png": "[encoded data removed]",
      "text/plain": [
       "<Figure size 800x400 with 2 Axes>"
      ]
     },
     "metadata": {},
     "output_type": "display_data"
    }
   ],
   "source": [
    "# Plot images with labels from the test dataset\n",
    "plot_images_with_labels(test_ds, num_samples=1)"
   ]
  },
  {
   "cell_type": "markdown",
   "metadata": {},
   "source": [
    "### Combined model"
   ]
  },
  {
   "cell_type": "code",
   "execution_count": 129,
   "metadata": {},
   "outputs": [],
   "source": [
    "def average_model_predictions(model1, model2, test_ds, model1_class_names, model2_class_names, weight1=1, weight2=1, extra_weight2=4, top_for_extra=3):\n",
    "    \"\"\"\n",
    "    Generates predictions from two models and averages their outputs, taking into account shared and non-shared labels.\n",
    "    \n",
    "    Parameters:\n",
    "    - model1: The first trained model.\n",
    "    - model2: The second trained model.\n",
    "    - test_ds: A tf.data.Dataset containing test data. Each element should be a tuple (inputs, labels).\n",
    "    - model1_class_names: List of class names for model1 (labels correspond to indices in this list).\n",
    "    - model2_class_names: List of class names for model2.\n",
    "    \n",
    "    Returns:\n",
    "    - Averaged predictions for all labels (shape: batch_size x len(model1_class_names)).\n",
    "    - True labels for all model1 classes (shape: batch_size,).\n",
    "    \"\"\"\n",
    "    # Find shared labels and their indices\n",
    "    shared_labels = [label for label in model1_class_names if label in model2_class_names]\n",
    "    shared_indices_model1 = [model1_class_names.index(label) for label in shared_labels]\n",
    "    shared_indices_model2 = [model2_class_names.index(label) for label in shared_labels]\n",
    "    \n",
    "    predictions = []\n",
    "    predictions1 = []\n",
    "    predictions2 = []\n",
    "    true_labels = []\n",
    "    pred2_size = len(model2_class_names)\n",
    "    \n",
    "    for inputs, labels in test_ds:\n",
    "        \n",
    "        inputs1, inputs2 = inputs\n",
    "        \n",
    "        # Model predictions\n",
    "        outputs1 = model1.predict(inputs1, verbose=0)  # Shape: (batch_size, len(model1_class_names))\n",
    "        outputs2 = model2.predict(inputs2, verbose=0)  # Shape: (batch_size, len(model2_class_names))\n",
    "        \n",
    "        predictions1.append(outputs1)\n",
    "        predictions2.append(outputs2)\n",
    "\n",
    "        preds1 = outputs1.copy()\n",
    "        preds2 = outputs2.copy()\n",
    "        \n",
    "        for i in range(len(inputs2)):\n",
    "            if np.sum(inputs2[i]) == 0 or np.argmax(preds2[i]) == model2_class_names.index('idle'):\n",
    "                preds2[i] = np.zeros_like(pred2_size)\n",
    "            if model2_class_names[np.argmax(preds2[i])] in [model1_class_names[i] for i in np.argpartition(preds1[i], -top_for_extra)[-top_for_extra:]]:\n",
    "                preds2[i] = extra_weight2 * preds2[i]\n",
    "        \n",
    "        # Create averaged predictions array\n",
    "        averaged_preds = np.zeros_like(preds1)\n",
    "        \n",
    "        # Add model1 predictions\n",
    "        averaged_preds += weight1 * preds1\n",
    "        \n",
    "        # Add model2 predictions for shared labels\n",
    "        preds2_shared = tf.gather(preds2, indices=shared_indices_model2, axis=-1).numpy()\n",
    "        averaged_preds[:, shared_indices_model1] += weight2 * preds2_shared\n",
    "        \n",
    "        for i in range(len(averaged_preds)):\n",
    "            averaged_preds[i] = averaged_preds[i] / np.sum(averaged_preds[i])\n",
    "        \n",
    "        # Collect results\n",
    "        predictions.append(averaged_preds)\n",
    "        true_labels.append(labels.numpy())  # Labels are indices\n",
    "    \n",
    "    # Stack predictions and true labels\n",
    "    predictions = np.vstack(predictions)\n",
    "    predictions1 = np.vstack(predictions1)\n",
    "    predictions2 = np.vstack(predictions2)\n",
    "    true_labels = np.concatenate(true_labels)  # Final shape: (total_samples,)\n",
    "    \n",
    "    return predictions, true_labels, predictions1, predictions2"
   ]
  },
  {
   "cell_type": "code",
   "execution_count": 132,
   "metadata": {},
   "outputs": [
    {
     "name": "stdout",
     "output_type": "stream",
     "text": [
      "Averaged Predictions Shape: (30, 14)\n",
      "Inference Accuracy: 0.9\n"
     ]
    }
   ],
   "source": [
    "averaged_preds, true_labels, p1, p2 = average_model_predictions(left_model, right_model, test_ds, left_class_names, right_class_names, extra_weight2=4, top_for_extra=3)\n",
    "\n",
    "# Check the averaged predictions\n",
    "print(\"Averaged Predictions Shape:\", averaged_preds.shape)\n",
    "\n",
    "# Evaluate accuracy (optional, if true labels are available)\n",
    "predicted_classes = np.argmax(averaged_preds, axis=1)\n",
    "accuracy = np.mean(predicted_classes == true_labels)\n",
    "print(\"Inference Accuracy:\", accuracy)"
   ]
  },
  {
   "cell_type": "code",
   "execution_count": 133,
   "metadata": {},
   "outputs": [
    {
     "name": "stdout",
     "output_type": "stream",
     "text": [
      "Inference Accuracy: 0.7666666666666667\n"
     ]
    }
   ],
   "source": [
    "predicte1d_classes = np.argmax(p1, axis=1)\n",
    "accuracy = np.mean(predicte1d_classes == true_labels)\n",
    "print(\"Inference Accuracy:\", accuracy)"
   ]
  },
  {
   "cell_type": "code",
   "execution_count": 134,
   "metadata": {},
   "outputs": [],
   "source": [
    "test_array = list(zip(p1, p2, averaged_preds, true_labels))"
   ]
  },
  {
   "cell_type": "code",
   "execution_count": 135,
   "metadata": {},
   "outputs": [
    {
     "name": "stdout",
     "output_type": "stream",
     "text": [
      "Sample 1:\n",
      "  True Label: data\n",
      "  Prediction: data\n",
      "  Model 1 (left) Predictions:\n",
      "    inviare: 50.0%\n",
      "    interprete: 18.9%\n",
      "    litro: 14.1%\n",
      "  Model 2 (right) Predictions:\n",
      "    data: 86.8%\n",
      "    caldo: 7.2%\n",
      "    casa: 4.4%\n",
      "  Averaged Predictions:\n",
      "    data: 44.4%\n",
      "    inviare: 25.1%\n",
      "    interprete: 9.5%\n",
      "\n",
      "--------------------------------------------------\n",
      "\n",
      "Sample 2:\n",
      "  True Label: caldo\n",
      "  Prediction: caldo\n",
      "  Model 1 (left) Predictions:\n",
      "    cibo: 84.3%\n",
      "    caldo: 15.7%\n",
      "    acqua: 0.0%\n",
      "  Model 2 (right) Predictions:\n",
      "    caldo: 61.4%\n",
      "    data: 31.9%\n",
      "    casa: 3.8%\n",
      "  Averaged Predictions:\n",
      "    caldo: 52.3%\n",
      "    data: 25.5%\n",
      "    cibo: 16.9%\n",
      "\n",
      "--------------------------------------------------\n",
      "\n",
      "Sample 3:\n",
      "  True Label: casa\n",
      "  Prediction: casa\n",
      "  Model 1 (left) Predictions:\n",
      "    casa: 92.3%\n",
      "    acqua: 7.4%\n",
      "    cibo: 0.2%\n",
      "  Model 2 (right) Predictions:\n",
      "    caldo: 39.4%\n",
      "    data: 30.8%\n",
      "    casa: 23.0%\n",
      "  Averaged Predictions:\n",
      "    casa: 57.6%\n",
      "    caldo: 19.7%\n",
      "    data: 15.4%\n",
      "\n",
      "--------------------------------------------------\n",
      "\n",
      "Sample 4:\n",
      "  True Label: acqua\n",
      "  Prediction: acqua\n",
      "  Model 1 (left) Predictions:\n",
      "    acqua: 50.2%\n",
      "    caldo: 25.2%\n",
      "    cibo: 24.2%\n",
      "  Model 2 (right) Predictions:\n",
      "    idle: 100.0%\n",
      "    interprete: 0.0%\n",
      "    litro: 0.0%\n",
      "  Averaged Predictions:\n",
      "    acqua: 50.2%\n",
      "    caldo: 25.2%\n",
      "    cibo: 24.2%\n",
      "\n",
      "--------------------------------------------------\n",
      "\n",
      "Sample 5:\n",
      "  True Label: banca\n",
      "  Prediction: banca\n",
      "  Model 1 (left) Predictions:\n",
      "    banca: 99.3%\n",
      "    caldo: 0.5%\n",
      "    acqua: 0.1%\n",
      "  Model 2 (right) Predictions:\n",
      "    banca: 29.3%\n",
      "    casa: 22.7%\n",
      "    caldo: 17.4%\n",
      "  Averaged Predictions:\n",
      "    banca: 43.3%\n",
      "    casa: 18.2%\n",
      "    caldo: 14.0%\n",
      "\n",
      "--------------------------------------------------\n",
      "\n",
      "Sample 6:\n",
      "  True Label: casa\n",
      "  Prediction: casa\n",
      "  Model 1 (left) Predictions:\n",
      "    casa: 94.9%\n",
      "    caldo: 2.9%\n",
      "    acqua: 2.0%\n",
      "  Model 2 (right) Predictions:\n",
      "    casa: 78.6%\n",
      "    data: 8.0%\n",
      "    caldo: 4.6%\n",
      "  Averaged Predictions:\n",
      "    casa: 81.8%\n",
      "    data: 6.4%\n",
      "    caldo: 4.3%\n",
      "\n",
      "--------------------------------------------------\n",
      "\n",
      "Sample 7:\n",
      "  True Label: cibo\n",
      "  Prediction: cibo\n",
      "  Model 1 (left) Predictions:\n",
      "    cibo: 92.2%\n",
      "    acqua: 4.0%\n",
      "    caldo: 3.7%\n",
      "  Model 2 (right) Predictions:\n",
      "    banca: 60.3%\n",
      "    litro: 11.9%\n",
      "    inviare: 9.5%\n",
      "  Averaged Predictions:\n",
      "    cibo: 46.1%\n",
      "    banca: 30.1%\n",
      "    litro: 5.9%\n",
      "\n",
      "--------------------------------------------------\n",
      "\n",
      "Sample 8:\n",
      "  True Label: litro\n",
      "  Prediction: litro\n",
      "  Model 1 (left) Predictions:\n",
      "    litro: 64.1%\n",
      "    affitto: 22.5%\n",
      "    inviare: 8.1%\n",
      "  Model 2 (right) Predictions:\n",
      "    banca: 31.0%\n",
      "    inviare: 28.8%\n",
      "    litro: 15.0%\n",
      "  Averaged Predictions:\n",
      "    litro: 39.5%\n",
      "    inviare: 18.4%\n",
      "    banca: 15.6%\n",
      "\n",
      "--------------------------------------------------\n",
      "\n",
      "Sample 9:\n",
      "  True Label: interprete\n",
      "  Prediction: interprete\n",
      "  Model 1 (left) Predictions:\n",
      "    interprete: 61.5%\n",
      "    inviare: 16.9%\n",
      "    abitare: 15.5%\n",
      "  Model 2 (right) Predictions:\n",
      "    interprete: 95.2%\n",
      "    inviare: 1.9%\n",
      "    idle: 1.8%\n",
      "  Averaged Predictions:\n",
      "    interprete: 88.5%\n",
      "    inviare: 4.9%\n",
      "    abitare: 3.2%\n",
      "\n",
      "--------------------------------------------------\n",
      "\n",
      "Sample 10:\n",
      "  True Label: affitto\n",
      "  Prediction: inviare\n",
      "  Model 1 (left) Predictions:\n",
      "    inviare: 72.6%\n",
      "    litro: 12.0%\n",
      "    affitto: 8.0%\n",
      "  Model 2 (right) Predictions:\n",
      "    idle: 99.5%\n",
      "    interprete: 0.2%\n",
      "    banca: 0.1%\n",
      "  Averaged Predictions:\n",
      "    inviare: 72.6%\n",
      "    litro: 12.0%\n",
      "    affitto: 8.0%\n",
      "\n",
      "--------------------------------------------------\n",
      "\n",
      "Sample 11:\n",
      "  True Label: idle\n",
      "  Prediction: idle\n",
      "  Model 1 (left) Predictions:\n",
      "    idle: 80.0%\n",
      "    acqua: 17.1%\n",
      "    cibo: 2.1%\n",
      "  Model 2 (right) Predictions:\n",
      "    idle: 48.6%\n",
      "    interprete: 40.0%\n",
      "    banca: 6.8%\n",
      "  Averaged Predictions:\n",
      "    idle: 80.0%\n",
      "    acqua: 17.1%\n",
      "    cibo: 2.1%\n",
      "\n",
      "--------------------------------------------------\n",
      "\n",
      "Sample 12:\n",
      "  True Label: affitto\n",
      "  Prediction: affitto\n",
      "  Model 1 (left) Predictions:\n",
      "    affitto: 94.9%\n",
      "    freddo: 3.4%\n",
      "    lingua: 1.2%\n",
      "  Model 2 (right) Predictions:\n",
      "    idle: 99.9%\n",
      "    litro: 0.0%\n",
      "    interprete: 0.0%\n",
      "  Averaged Predictions:\n",
      "    affitto: 94.9%\n",
      "    freddo: 3.4%\n",
      "    lingua: 1.2%\n",
      "\n",
      "--------------------------------------------------\n",
      "\n",
      "Sample 13:\n",
      "  True Label: caldo\n",
      "  Prediction: caldo\n",
      "  Model 1 (left) Predictions:\n",
      "    caldo: 89.9%\n",
      "    cibo: 9.8%\n",
      "    acqua: 0.2%\n",
      "  Model 2 (right) Predictions:\n",
      "    idle: 100.0%\n",
      "    abitare: 0.0%\n",
      "    litro: 0.0%\n",
      "  Averaged Predictions:\n",
      "    caldo: 89.9%\n",
      "    cibo: 9.8%\n",
      "    acqua: 0.2%\n",
      "\n",
      "--------------------------------------------------\n",
      "\n",
      "Sample 14:\n",
      "  True Label: idle\n",
      "  Prediction: idle\n",
      "  Model 1 (left) Predictions:\n",
      "    idle: 100.0%\n",
      "    acqua: 0.0%\n",
      "    cibo: 0.0%\n",
      "  Model 2 (right) Predictions:\n",
      "    interprete: 83.1%\n",
      "    inviare: 6.4%\n",
      "    idle: 5.0%\n",
      "  Averaged Predictions:\n",
      "    idle: 52.5%\n",
      "    interprete: 41.6%\n",
      "    inviare: 3.2%\n",
      "\n",
      "--------------------------------------------------\n",
      "\n",
      "Sample 15:\n",
      "  True Label: cibo\n",
      "  Prediction: cibo\n",
      "  Model 1 (left) Predictions:\n",
      "    cibo: 95.2%\n",
      "    caldo: 3.9%\n",
      "    acqua: 0.8%\n",
      "  Model 2 (right) Predictions:\n",
      "    idle: 99.8%\n",
      "    banca: 0.1%\n",
      "    abitare: 0.1%\n",
      "  Averaged Predictions:\n",
      "    cibo: 95.2%\n",
      "    caldo: 3.9%\n",
      "    acqua: 0.8%\n",
      "\n",
      "--------------------------------------------------\n",
      "\n",
      "Sample 16:\n",
      "  True Label: acqua\n",
      "  Prediction: cibo\n",
      "  Model 1 (left) Predictions:\n",
      "    cibo: 94.5%\n",
      "    caldo: 3.7%\n",
      "    acqua: 1.5%\n",
      "  Model 2 (right) Predictions:\n",
      "    idle: 51.0%\n",
      "    banca: 25.9%\n",
      "    inviare: 15.9%\n",
      "  Averaged Predictions:\n",
      "    cibo: 94.5%\n",
      "    caldo: 3.7%\n",
      "    acqua: 1.5%\n",
      "\n",
      "--------------------------------------------------\n",
      "\n",
      "Sample 17:\n",
      "  True Label: freddo\n",
      "  Prediction: freddo\n",
      "  Model 1 (left) Predictions:\n",
      "    freddo: 87.0%\n",
      "    litro: 7.6%\n",
      "    data: 1.7%\n",
      "  Model 2 (right) Predictions:\n",
      "    inviare: 51.1%\n",
      "    litro: 15.6%\n",
      "    banca: 13.9%\n",
      "  Averaged Predictions:\n",
      "    freddo: 43.9%\n",
      "    inviare: 25.7%\n",
      "    litro: 11.6%\n",
      "\n",
      "--------------------------------------------------\n",
      "\n",
      "Sample 18:\n",
      "  True Label: data\n",
      "  Prediction: data\n",
      "  Model 1 (left) Predictions:\n",
      "    data: 69.1%\n",
      "    cibo: 16.8%\n",
      "    acqua: 6.8%\n",
      "  Model 2 (right) Predictions:\n",
      "    data: 95.8%\n",
      "    caldo: 1.9%\n",
      "    casa: 1.5%\n",
      "  Averaged Predictions:\n",
      "    data: 90.5%\n",
      "    cibo: 3.4%\n",
      "    caldo: 2.2%\n",
      "\n",
      "--------------------------------------------------\n",
      "\n",
      "Sample 19:\n",
      "  True Label: idle\n",
      "  Prediction: idle\n",
      "  Model 1 (left) Predictions:\n",
      "    idle: 99.9%\n",
      "    acqua: 0.0%\n",
      "    interprete: 0.0%\n",
      "  Model 2 (right) Predictions:\n",
      "    idle: 23.1%\n",
      "    casa: 20.5%\n",
      "    freddo: 14.5%\n",
      "  Averaged Predictions:\n",
      "    idle: 99.9%\n",
      "    acqua: 0.0%\n",
      "    interprete: 0.0%\n",
      "\n",
      "--------------------------------------------------\n",
      "\n",
      "Sample 20:\n",
      "  True Label: inviare\n",
      "  Prediction: inviare\n",
      "  Model 1 (left) Predictions:\n",
      "    banca: 67.6%\n",
      "    inviare: 22.1%\n",
      "    litro: 6.1%\n",
      "  Model 2 (right) Predictions:\n",
      "    inviare: 48.9%\n",
      "    banca: 34.2%\n",
      "    litro: 8.1%\n",
      "  Averaged Predictions:\n",
      "    inviare: 43.5%\n",
      "    banca: 40.9%\n",
      "    litro: 7.7%\n",
      "\n",
      "--------------------------------------------------\n",
      "\n",
      "Sample 21:\n",
      "  True Label: abitare\n",
      "  Prediction: abitare\n",
      "  Model 1 (left) Predictions:\n",
      "    abitare: 48.7%\n",
      "    inviare: 42.1%\n",
      "    affitto: 6.7%\n",
      "  Model 2 (right) Predictions:\n",
      "    abitare: 78.8%\n",
      "    inviare: 6.3%\n",
      "    interprete: 6.1%\n",
      "  Averaged Predictions:\n",
      "    abitare: 72.8%\n",
      "    inviare: 13.5%\n",
      "    interprete: 5.0%\n",
      "\n",
      "--------------------------------------------------\n",
      "\n",
      "Sample 22:\n",
      "  True Label: litro\n",
      "  Prediction: inviare\n",
      "  Model 1 (left) Predictions:\n",
      "    interprete: 70.3%\n",
      "    litro: 16.7%\n",
      "    inviare: 8.7%\n",
      "  Model 2 (right) Predictions:\n",
      "    inviare: 51.6%\n",
      "    litro: 16.6%\n",
      "    banca: 15.8%\n",
      "  Averaged Predictions:\n",
      "    inviare: 43.0%\n",
      "    interprete: 23.7%\n",
      "    litro: 16.6%\n",
      "\n",
      "--------------------------------------------------\n",
      "\n",
      "Sample 23:\n",
      "  True Label: freddo\n",
      "  Prediction: freddo\n",
      "  Model 1 (left) Predictions:\n",
      "    freddo: 100.0%\n",
      "    data: 0.0%\n",
      "    affitto: 0.0%\n",
      "  Model 2 (right) Predictions:\n",
      "    freddo: 73.5%\n",
      "    caldo: 9.2%\n",
      "    casa: 7.9%\n",
      "  Averaged Predictions:\n",
      "    freddo: 78.8%\n",
      "    caldo: 7.4%\n",
      "    casa: 6.3%\n",
      "\n",
      "--------------------------------------------------\n",
      "\n",
      "Sample 24:\n",
      "  True Label: lingua\n",
      "  Prediction: lingua\n",
      "  Model 1 (left) Predictions:\n",
      "    lingua: 83.4%\n",
      "    banca: 16.0%\n",
      "    litro: 0.3%\n",
      "  Model 2 (right) Predictions:\n",
      "    idle: 100.0%\n",
      "    interprete: 0.0%\n",
      "    litro: 0.0%\n",
      "  Averaged Predictions:\n",
      "    lingua: 83.4%\n",
      "    banca: 16.0%\n",
      "    litro: 0.3%\n",
      "\n",
      "--------------------------------------------------\n",
      "\n",
      "Sample 25:\n",
      "  True Label: idle\n",
      "  Prediction: idle\n",
      "  Model 1 (left) Predictions:\n",
      "    idle: 99.9%\n",
      "    acqua: 0.1%\n",
      "    interprete: 0.0%\n",
      "  Model 2 (right) Predictions:\n",
      "    idle: 23.1%\n",
      "    casa: 20.5%\n",
      "    freddo: 14.5%\n",
      "  Averaged Predictions:\n",
      "    idle: 99.9%\n",
      "    acqua: 0.1%\n",
      "    interprete: 0.0%\n",
      "\n",
      "--------------------------------------------------\n",
      "\n",
      "Sample 26:\n",
      "  True Label: inviare\n",
      "  Prediction: inviare\n",
      "  Model 1 (left) Predictions:\n",
      "    lingua: 73.2%\n",
      "    banca: 19.9%\n",
      "    inviare: 4.3%\n",
      "  Model 2 (right) Predictions:\n",
      "    inviare: 44.5%\n",
      "    litro: 30.0%\n",
      "    banca: 19.4%\n",
      "  Averaged Predictions:\n",
      "    inviare: 36.5%\n",
      "    litro: 24.2%\n",
      "    banca: 19.5%\n",
      "\n",
      "--------------------------------------------------\n",
      "\n",
      "Sample 27:\n",
      "  True Label: lingua\n",
      "  Prediction: lingua\n",
      "  Model 1 (left) Predictions:\n",
      "    lingua: 93.9%\n",
      "    caldo: 3.7%\n",
      "    freddo: 1.0%\n",
      "  Model 2 (right) Predictions:\n",
      "    idle: 94.4%\n",
      "    interprete: 1.7%\n",
      "    banca: 1.4%\n",
      "  Averaged Predictions:\n",
      "    lingua: 93.9%\n",
      "    caldo: 3.7%\n",
      "    freddo: 1.0%\n",
      "\n",
      "--------------------------------------------------\n",
      "\n",
      "Sample 28:\n",
      "  True Label: banca\n",
      "  Prediction: banca\n",
      "  Model 1 (left) Predictions:\n",
      "    banca: 84.3%\n",
      "    caldo: 12.6%\n",
      "    acqua: 2.0%\n",
      "  Model 2 (right) Predictions:\n",
      "    banca: 41.3%\n",
      "    inviare: 29.1%\n",
      "    litro: 20.3%\n",
      "  Averaged Predictions:\n",
      "    banca: 49.9%\n",
      "    inviare: 23.3%\n",
      "    litro: 16.4%\n",
      "\n",
      "--------------------------------------------------\n",
      "\n",
      "Sample 29:\n",
      "  True Label: interprete\n",
      "  Prediction: interprete\n",
      "  Model 1 (left) Predictions:\n",
      "    interprete: 51.1%\n",
      "    idle: 25.2%\n",
      "    acqua: 23.0%\n",
      "  Model 2 (right) Predictions:\n",
      "    interprete: 94.1%\n",
      "    inviare: 4.2%\n",
      "    data: 0.7%\n",
      "  Averaged Predictions:\n",
      "    interprete: 85.5%\n",
      "    idle: 5.2%\n",
      "    acqua: 4.6%\n",
      "\n",
      "--------------------------------------------------\n",
      "\n",
      "Sample 30:\n",
      "  True Label: abitare\n",
      "  Prediction: abitare\n",
      "  Model 1 (left) Predictions:\n",
      "    abitare: 69.0%\n",
      "    affitto: 29.1%\n",
      "    interprete: 1.0%\n",
      "  Model 2 (right) Predictions:\n",
      "    abitare: 87.7%\n",
      "    inviare: 2.9%\n",
      "    litro: 2.3%\n",
      "  Averaged Predictions:\n",
      "    abitare: 84.0%\n",
      "    affitto: 5.8%\n",
      "    inviare: 2.5%\n",
      "\n",
      "--------------------------------------------------\n",
      "\n"
     ]
    }
   ],
   "source": [
    "for i, (pred1, pred2, avg_pred, true_label_idx) in enumerate(test_array):\n",
    "    # Ensure predictions are arrays\n",
    "    pred1 = np.array(pred1) if np.isscalar(pred1) else pred1\n",
    "    pred2 = np.array(pred2) if np.isscalar(pred2) else pred2\n",
    "    avg_pred = np.array(avg_pred) if np.isscalar(avg_pred) else avg_pred\n",
    "\n",
    "    # Get the top 3 indices and probabilities for model1 predictions\n",
    "    top3_idx_p1 = np.argsort(pred1)[-3:][::-1]  # Indices of top 3 probabilities (descending order)\n",
    "    top3_prob_p1 = pred1[top3_idx_p1]\n",
    "    \n",
    "    # Get the top 3 indices and probabilities for model2 predictions\n",
    "    top3_idx_p2 = np.argsort(pred2)[-3:][::-1]\n",
    "    top3_prob_p2 = pred2[top3_idx_p2]\n",
    "    \n",
    "    # Get the top 3 indices and probabilities for averaged predictions\n",
    "    top3_idx_avg = np.argsort(avg_pred)[-3:][::-1]\n",
    "    top3_prob_avg = avg_pred[top3_idx_avg]\n",
    "    \n",
    "    # Get the true label name\n",
    "    true_label_name = left_class_names[true_label_idx]\n",
    "    prediction_label = left_class_names[np.argmax(avg_pred)]\n",
    "    \n",
    "    # Display the results\n",
    "    print(f\"Sample {i + 1}:\")\n",
    "    print(\"  True Label:\", true_label_name)\n",
    "    print(\"  Prediction:\", prediction_label)\n",
    "    \n",
    "    print(\"  Model 1 (left) Predictions:\")\n",
    "    for idx, prob in zip(top3_idx_p1, top3_prob_p1):\n",
    "        print(f\"    {left_class_names[idx]}: {prob * 100:.1f}%\")\n",
    "    \n",
    "    print(\"  Model 2 (right) Predictions:\")\n",
    "    for idx, prob in zip(top3_idx_p2, top3_prob_p2):\n",
    "        if idx < len(right_class_names):\n",
    "            print(f\"    {right_class_names[idx]}: {prob * 100:.1f}%\")\n",
    "        else:\n",
    "            print(f\"    Unknown: {prob * 100:.1f}%\")\n",
    "    \n",
    "    print(\"  Averaged Predictions:\")\n",
    "    for idx, prob in zip(top3_idx_avg, top3_prob_avg):\n",
    "        print(f\"    {left_class_names[idx]}: {prob * 100:.1f}%\")\n",
    "    \n",
    "    print(\"\\n\" + \"-\" * 50 + \"\\n\")\n"
   ]
  },
  {
   "cell_type": "code",
   "execution_count": null,
   "metadata": {},
   "outputs": [],
   "source": []
  },
  {
   "cell_type": "code",
   "execution_count": null,
   "metadata": {},
   "outputs": [],
   "source": []
  },
  {
   "cell_type": "code",
   "execution_count": null,
   "metadata": {},
   "outputs": [],
   "source": []
  },
  {
   "cell_type": "markdown",
   "metadata": {},
   "source": [
    "# Real time test"
   ]
  },
  {
   "cell_type": "code",
   "execution_count": 15,
   "metadata": {},
   "outputs": [],
   "source": [
    "import cv2\n",
    "import sys\n",
    "sys.path.insert(1, './hand-tracking')\n",
    "import handtracker"
   ]
  },
  {
   "cell_type": "code",
   "execution_count": 21,
   "metadata": {},
   "outputs": [
    {
     "name": "stdout",
     "output_type": "stream",
     "text": [
      "Check\n",
      "Prediction: andata\n",
      "Check\n",
      "Prediction: andata\n",
      "Check\n",
      "Prediction: andata\n",
      "Check\n",
      "Prediction: allegare\n",
      "Check\n",
      "Prediction: allegare\n",
      "Check\n",
      "Prediction: allegare\n",
      "Check\n",
      "Prediction: allegare\n",
      "Check\n",
      "Prediction: allegare\n",
      "Check\n",
      "Prediction: allegare\n",
      "Check\n",
      "Prediction: allegare\n",
      "Check\n",
      "Prediction: amministrazione\n",
      "Check\n",
      "Prediction: allegare\n",
      "Check\n",
      "Prediction: allegare\n",
      "Check\n",
      "Prediction: allegare\n",
      "Check\n",
      "Prediction: allegare\n"
     ]
    },
    {
     "ename": "KeyboardInterrupt",
     "evalue": "",
     "output_type": "error",
     "traceback": [
      "\u001b[1;31m---------------------------------------------------------------------------\u001b[0m",
      "\u001b[1;31mKeyboardInterrupt\u001b[0m                         Traceback (most recent call last)",
      "\u001b[1;32md:\\Documentos\\Polito\\Thesis\\Code\\sign-language-recognition\\modeling.ipynb Cell 29\u001b[0m line \u001b[0;36m7\n\u001b[0;32m      <a href='vscode-notebook-cell:/d%3A/Documentos/Polito/Thesis/Code/sign-language-recognition/modeling.ipynb#X40sZmlsZQ%3D%3D?line=3'>4</a>\u001b[0m normalization_layer \u001b[39m=\u001b[39m tf\u001b[39m.\u001b[39mkeras\u001b[39m.\u001b[39mlayers\u001b[39m.\u001b[39mRescaling(\u001b[39m1.\u001b[39m\u001b[39m/\u001b[39m\u001b[39m255\u001b[39m)\n\u001b[0;32m      <a href='vscode-notebook-cell:/d%3A/Documentos/Polito/Thesis/Code/sign-language-recognition/modeling.ipynb#X40sZmlsZQ%3D%3D?line=5'>6</a>\u001b[0m \u001b[39mwhile\u001b[39;00m success \u001b[39m==\u001b[39m \u001b[39mTrue\u001b[39;00m:\n\u001b[1;32m----> <a href='vscode-notebook-cell:/d%3A/Documentos/Polito/Thesis/Code/sign-language-recognition/modeling.ipynb#X40sZmlsZQ%3D%3D?line=6'>7</a>\u001b[0m     success, image \u001b[39m=\u001b[39m cap\u001b[39m.\u001b[39;49mread()\n\u001b[0;32m      <a href='vscode-notebook-cell:/d%3A/Documentos/Polito/Thesis/Code/sign-language-recognition/modeling.ipynb#X40sZmlsZQ%3D%3D?line=7'>8</a>\u001b[0m     \u001b[39mif\u001b[39;00m success:\n\u001b[0;32m      <a href='vscode-notebook-cell:/d%3A/Documentos/Polito/Thesis/Code/sign-language-recognition/modeling.ipynb#X40sZmlsZQ%3D%3D?line=8'>9</a>\u001b[0m         tracker\u001b[39m.\u001b[39mtracking(image, subpixel_layout\u001b[39m=\u001b[39m\u001b[39m'\u001b[39m\u001b[39mBGR\u001b[39m\u001b[39m'\u001b[39m)         \n",
      "\u001b[1;31mKeyboardInterrupt\u001b[0m: "
     ]
    }
   ],
   "source": [
    "cap = cv2.VideoCapture(0)\n",
    "tracker = handtracker.HandTracker(hei_frame_step=2, hei_max_duration=2, hei_overlap=0)\n",
    "success = True\n",
    "normalization_layer = tf.keras.layers.Rescaling(1./255)\n",
    "\n",
    "while success == True:\n",
    "    success, image = cap.read()\n",
    "    if success:\n",
    "        tracker.tracking(image, subpixel_layout='BGR')         \n",
    "\n",
    "        hei_left, hei_right = tracker.image_averaging(save=False)\n",
    "        if len(hei_left) > 0:\n",
    "            print(\"Check\")\n",
    "            hei_left = tf.image.resize(hei_left, [104,104])\n",
    "            hei_left = np.expand_dims(hei_left, axis=0)\n",
    "            print(f'Prediction: {class_names[int(np.argmax(model.predict(hei_left, verbose=0)))]}')"
   ]
  },
  {
   "cell_type": "code",
   "execution_count": 22,
   "metadata": {},
   "outputs": [],
   "source": [
    "cap.release()"
   ]
  },
  {
   "cell_type": "code",
   "execution_count": 26,
   "metadata": {},
   "outputs": [
    {
     "data": {
      "text/plain": [
       "['abbonamento',\n",
       " 'abitare',\n",
       " 'acqua',\n",
       " 'affitto',\n",
       " 'allegare',\n",
       " 'allergia',\n",
       " 'ambulanza',\n",
       " 'amministrazione',\n",
       " 'ancona',\n",
       " 'andata']"
      ]
     },
     "execution_count": 26,
     "metadata": {},
     "output_type": "execute_result"
    }
   ],
   "source": [
    "class_names"
   ]
  },
  {
   "cell_type": "code",
   "execution_count": null,
   "metadata": {},
   "outputs": [],
   "source": []
  }
 ],
 "metadata": {
  "kernelspec": {
   "display_name": "thesis-venv",
   "language": "python",
   "name": "python3"
  },
  "language_info": {
   "codemirror_mode": {
    "name": "ipython",
    "version": 3
   },
   "file_extension": ".py",
   "mimetype": "text/x-python",
   "name": "python",
   "nbconvert_exporter": "python",
   "pygments_lexer": "ipython3",
   "version": "3.10.7"
  },
  "orig_nbformat": 4
 },
 "nbformat": 4,
 "nbformat_minor": 2
}
